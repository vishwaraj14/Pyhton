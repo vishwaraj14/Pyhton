{
  "nbformat": 4,
  "nbformat_minor": 0,
  "metadata": {
    "colab": {
      "provenance": [],
      "authorship_tag": "ABX9TyO3mqt17vjMiJd85FYApk1M",
      "include_colab_link": true
    },
    "kernelspec": {
      "name": "python3",
      "display_name": "Python 3"
    },
    "language_info": {
      "name": "python"
    }
  },
  "cells": [
    {
      "cell_type": "markdown",
      "metadata": {
        "id": "view-in-github",
        "colab_type": "text"
      },
      "source": [
        "<a href=\"https://colab.research.google.com/github/vishwaraj14/Pyhton/blob/main/airlinesdata.ipynb\" target=\"_parent\"><img src=\"https://colab.research.google.com/assets/colab-badge.svg\" alt=\"Open In Colab\"/></a>"
      ]
    },
    {
      "cell_type": "code",
      "execution_count": 1,
      "metadata": {
        "id": "Z04x_ezrbE70"
      },
      "outputs": [],
      "source": [
        "from pyspark.sql.types import StructType, StringType, IntegerType, DoubleType, LongType"
      ]
    },
    {
      "cell_type": "code",
      "source": [
        "from pyspark.sql import SparkSession"
      ],
      "metadata": {
        "id": "170UMavObJ6h"
      },
      "execution_count": 2,
      "outputs": []
    },
    {
      "cell_type": "code",
      "source": [
        "spark = SparkSession.builder.appName('airlines data').getOrCreate()"
      ],
      "metadata": {
        "id": "jyrpmXk2bMAf"
      },
      "execution_count": 3,
      "outputs": []
    },
    {
      "cell_type": "markdown",
      "source": [
        "best pratice header true - inferschema true  but if you want customization define your column"
      ],
      "metadata": {
        "id": "CYw845dZctIW"
      }
    },
    {
      "cell_type": "code",
      "source": [
        "airlines_DF = spark.read.format(\"csv\").option(\"header\", \"True\").option(\"inferSchema\", \"True\").load(\"/content/airlines.csv\")"
      ],
      "metadata": {
        "id": "UtcTVanVbVlH"
      },
      "execution_count": 7,
      "outputs": []
    },
    {
      "cell_type": "code",
      "source": [
        "airlines_DF.printSchema()"
      ],
      "metadata": {
        "colab": {
          "base_uri": "https://localhost:8080/"
        },
        "id": "LS8YaQ4GbYJU",
        "outputId": "b462da2b-11b4-4436-8abf-2559f208a40f"
      },
      "execution_count": 8,
      "outputs": [
        {
          "output_type": "stream",
          "name": "stdout",
          "text": [
            "root\n",
            " |-- Year: integer (nullable = true)\n",
            " |-- Quarter: integer (nullable = true)\n",
            " |-- Avg_rev_per_seat: double (nullable = true)\n",
            " |-- booked_seats: integer (nullable = true)\n",
            "\n"
          ]
        }
      ]
    },
    {
      "cell_type": "code",
      "source": [
        "airlines_DF.show()"
      ],
      "metadata": {
        "colab": {
          "base_uri": "https://localhost:8080/"
        },
        "id": "Vx5-284hbor0",
        "outputId": "79e58361-26d2-4f99-e1f4-7bc10b02ab7f"
      },
      "execution_count": 9,
      "outputs": [
        {
          "output_type": "stream",
          "name": "stdout",
          "text": [
            "+----+-------+----------------+------------+\n",
            "|Year|Quarter|Avg_rev_per_seat|booked_seats|\n",
            "+----+-------+----------------+------------+\n",
            "|1995|      1|           296.9|       46561|\n",
            "|1995|      2|           296.8|       37443|\n",
            "|1995|      3|          287.51|       34128|\n",
            "|1995|      4|          287.78|       30388|\n",
            "|1996|      1|          283.97|       47808|\n",
            "|1996|      2|          275.78|       43020|\n",
            "|1996|      3|          269.49|       38952|\n",
            "|1996|      4|          278.33|       37443|\n",
            "|1997|      1|           283.4|       35067|\n",
            "|1997|      2|          289.44|       46565|\n",
            "|1997|      3|          282.27|       38886|\n",
            "|1997|      4|          293.51|       37454|\n",
            "|1998|      1|          304.74|       31315|\n",
            "|1998|      2|          300.97|       30852|\n",
            "|1998|      3|          315.25|       38118|\n",
            "|1998|      4|          316.18|       35393|\n",
            "|1999|      1|          331.74|       47453|\n",
            "|1999|      2|          329.34|       38243|\n",
            "|1999|      3|          317.22|       33048|\n",
            "|1999|      4|          317.93|       31256|\n",
            "+----+-------+----------------+------------+\n",
            "only showing top 20 rows\n",
            "\n"
          ]
        }
      ]
    },
    {
      "cell_type": "code",
      "source": [
        "airlines_DF.registerTempTable(\"airlines\")"
      ],
      "metadata": {
        "colab": {
          "base_uri": "https://localhost:8080/"
        },
        "id": "Nc4pDeNjdkHQ",
        "outputId": "43c2f4be-2bf4-4689-8005-af247deda703"
      },
      "execution_count": 10,
      "outputs": [
        {
          "output_type": "stream",
          "name": "stderr",
          "text": [
            "/usr/local/lib/python3.10/dist-packages/pyspark/sql/dataframe.py:329: FutureWarning: Deprecated in 2.0, use createOrReplaceTempView instead.\n",
            "  warnings.warn(\"Deprecated in 2.0, use createOrReplaceTempView instead.\", FutureWarning)\n"
          ]
        }
      ]
    },
    {
      "cell_type": "code",
      "source": [
        "# YrWiseRev =spark.sql(\"select year ,sum(Avg_rev_per_seat*booked_seats) as total from airlines group by year order by total\")"
      ],
      "metadata": {
        "id": "2Qn-VBoKcAA4"
      },
      "execution_count": 27,
      "outputs": []
    },
    {
      "cell_type": "code",
      "source": [
        "YrWiseRev =spark.sql(\"select year ,round(sum(Avg_rev_per_seat*booked_seats)/1000000,2) as total_amt_in_millions from airlines group by year order by total_amt_in_millions desc\")"
      ],
      "metadata": {
        "id": "9mbiLgPgg73l"
      },
      "execution_count": null,
      "outputs": []
    },
    {
      "cell_type": "code",
      "source": [
        "YrWiseRev.show()"
      ],
      "metadata": {
        "colab": {
          "base_uri": "https://localhost:8080/"
        },
        "id": "k0HyHXgder8p",
        "outputId": "24532cd5-2a38-4a57-c92b-8bb485f3fb81"
      },
      "execution_count": 28,
      "outputs": [
        {
          "output_type": "stream",
          "name": "stdout",
          "text": [
            "+----+---------------------+\n",
            "|year|total_amt_in_millions|\n",
            "+----+---------------------+\n",
            "|2013|                66.36|\n",
            "|2014|                62.62|\n",
            "|2015|                62.38|\n",
            "|2012|                 62.2|\n",
            "|2008|                57.65|\n",
            "|2007|                57.31|\n",
            "|2001|                55.53|\n",
            "|2010|                54.86|\n",
            "|2000|                52.34|\n",
            "|2011|                51.89|\n",
            "|2004|                50.63|\n",
            "|2006|                50.44|\n",
            "|2003|                49.27|\n",
            "|1999|                48.76|\n",
            "|2002|                 47.5|\n",
            "|2009|                46.75|\n",
            "|2005|                46.38|\n",
            "|1996|                46.36|\n",
            "|1997|                45.39|\n",
            "|1995|                43.49|\n",
            "+----+---------------------+\n",
            "only showing top 20 rows\n",
            "\n"
          ]
        }
      ]
    },
    {
      "cell_type": "code",
      "source": [
        "YrWisepasenger =spark.sql(\"select year ,sum(booked_seats) as total from airlines group by year order by total desc\")"
      ],
      "metadata": {
        "id": "-d6N2W-Hf9Ya"
      },
      "execution_count": 30,
      "outputs": []
    },
    {
      "cell_type": "code",
      "source": [
        "YrWisepasenger.show(5)"
      ],
      "metadata": {
        "colab": {
          "base_uri": "https://localhost:8080/"
        },
        "id": "idBFQXwqhol6",
        "outputId": "4c4d96f9-17cb-4fff-cd59-d7b653db9149"
      },
      "execution_count": 31,
      "outputs": [
        {
          "output_type": "stream",
          "name": "stdout",
          "text": [
            "+----+------+\n",
            "|year| total|\n",
            "+----+------+\n",
            "|2007|176299|\n",
            "|2013|173676|\n",
            "|2001|173598|\n",
            "|1996|167223|\n",
            "|2008|166897|\n",
            "+----+------+\n",
            "only showing top 5 rows\n",
            "\n"
          ]
        }
      ]
    },
    {
      "cell_type": "code",
      "source": [],
      "metadata": {
        "id": "NMoRz8j2hwcF"
      },
      "execution_count": null,
      "outputs": []
    }
  ]
}