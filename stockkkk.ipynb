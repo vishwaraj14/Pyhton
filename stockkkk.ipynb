{
  "nbformat": 4,
  "nbformat_minor": 0,
  "metadata": {
    "colab": {
      "provenance": [],
      "include_colab_link": true
    },
    "kernelspec": {
      "name": "python3",
      "display_name": "Python 3"
    },
    "language_info": {
      "name": "python"
    }
  },
  "cells": [
    {
      "cell_type": "markdown",
      "metadata": {
        "id": "view-in-github",
        "colab_type": "text"
      },
      "source": [
        "<a href=\"https://colab.research.google.com/github/vishwaraj14/Pyhton/blob/main/stockkkk.ipynb\" target=\"_parent\"><img src=\"https://colab.research.google.com/assets/colab-badge.svg\" alt=\"Open In Colab\"/></a>"
      ]
    },
    {
      "cell_type": "code",
      "execution_count": null,
      "metadata": {
        "colab": {
          "base_uri": "https://localhost:8080/"
        },
        "id": "onYWj7oZkmBA",
        "outputId": "bddcc18b-9ebb-4b30-f0f6-b397ddbddee5"
      },
      "outputs": [
        {
          "output_type": "stream",
          "name": "stdout",
          "text": [
            "Requirement already satisfied: spark in /usr/local/lib/python3.10/dist-packages (0.2.1)\n"
          ]
        }
      ],
      "source": [
        "pip install spark"
      ]
    },
    {
      "cell_type": "code",
      "source": [
        "from pyspark.sql import SparkSession\n",
        "\n",
        "# Initialize Spark session\n",
        "spark = SparkSession.builder \\\n",
        "    .appName(\"HCLStockAnalysis\") \\\n",
        "    .getOrCreate()\n"
      ],
      "metadata": {
        "id": "dOr8PUr-k0iJ"
      },
      "execution_count": null,
      "outputs": []
    },
    {
      "cell_type": "code",
      "source": [
        "from pyspark.sql.types import *\n"
      ],
      "metadata": {
        "id": "icNU11oUm8Mr"
      },
      "execution_count": null,
      "outputs": []
    },
    {
      "cell_type": "code",
      "source": [
        "from pyspark.sql.functions import *"
      ],
      "metadata": {
        "id": "3smNWDZ2qCGB"
      },
      "execution_count": null,
      "outputs": []
    },
    {
      "cell_type": "code",
      "source": [
        "hcl_schema = StructType().add(\"Date\",DateType()).add(\"Adjusted Close\",DoubleType()).add(\"Close\",DoubleType())\\\n",
        ".add(\"High\",DoubleType()).add(\"Low\",DoubleType()).add(\"Open\",DoubleType()).add(\"Volume\",LongType())\n"
      ],
      "metadata": {
        "id": "0FHKEcRulDSR"
      },
      "execution_count": null,
      "outputs": []
    },
    {
      "cell_type": "code",
      "source": [
        "df = spark.read.format(\"csv\") \\\n",
        "    .option(\"header\", \"True\") \\\n",
        "    .schema(hcl_schema) \\\n",
        "    .load(\"/content/sample_data/HCLTECH - HCLTECH.csv\")\n"
      ],
      "metadata": {
        "id": "wr7d1HzLl0ro"
      },
      "execution_count": null,
      "outputs": []
    },
    {
      "cell_type": "code",
      "source": [
        "df.show()"
      ],
      "metadata": {
        "colab": {
          "base_uri": "https://localhost:8080/"
        },
        "id": "WGiPamzYpUI3",
        "outputId": "8569bad4-559e-4c58-ac7c-05cdeb544bd2"
      },
      "execution_count": null,
      "outputs": [
        {
          "output_type": "stream",
          "name": "stdout",
          "text": [
            "+----------+--------------+-----------+-----------+-----------+-----------+--------+\n",
            "|      Date|Adjusted Close|      Close|       High|        Low|       Open|  Volume|\n",
            "+----------+--------------+-----------+-----------+-----------+-----------+--------+\n",
            "|      NULL|          NULL|       NULL|       NULL|       NULL|       NULL|    NULL|\n",
            "|      NULL|          NULL|       NULL|       NULL|       NULL|       NULL|    NULL|\n",
            "|2002-08-12|     13.796875|23.76250076|23.98749924|     22.625|22.71249962|11239400|\n",
            "|2002-08-13|   13.54285812|23.32500076|      24.25|23.14999962|      24.25| 3756368|\n",
            "|2002-08-14|   13.35778618|23.00625038|23.23749924|22.76874924|23.23749924| 3964016|\n",
            "|2002-08-15|   13.35778618|23.00625038|23.00625038|23.00625038|23.00625038|       0|\n",
            "|2002-08-16|   13.70615864|23.60625076|      23.75|      23.25|     23.625| 4848904|\n",
            "|2002-08-19|   14.15613556|24.38125038|24.54999924|23.91250038|       24.0| 8905448|\n",
            "|2002-08-20|   15.18309307|26.14999962|26.48125076|24.50625038|     24.625|18255464|\n",
            "|2002-08-21|   14.64966106|25.23125076|     26.875|25.02499962|26.23749924|18690008|\n",
            "|2002-08-22|   14.30128384|24.63125038|25.73125076|24.41875076|     25.375| 9790960|\n",
            "|2002-08-23|   14.38475227|24.77499962|25.27499962|24.17499924|      24.75|12814424|\n",
            "|2002-08-26|     14.616992|25.17499924|25.42499924|    24.4375|    24.8125| 8253944|\n",
            "|2002-08-27|   13.80050373|23.76874924|25.74374962|23.63125038|25.47500038|13764544|\n",
            "|2002-08-28|   14.25048065|24.54375076|24.85000038|23.19375038|     23.375|18886336|\n",
            "|2002-08-29|   14.60610771|   25.15625|25.48749924|    24.1875|24.38750076|17584928|\n",
            "|2002-08-30|   14.76941013|    25.4375|      25.75|   24.03125|    25.3125|28226144|\n",
            "|2002-09-02|   15.78547859|    27.1875|28.02499962|   25.65625|25.75625038|39154536|\n",
            "|2002-09-03|   15.46615028|26.63750076|27.22500038|   26.03125|27.22500038|15785200|\n",
            "|2002-09-04|   15.33550835|26.41250038|26.71249962|25.31875038|       26.0|25434152|\n",
            "+----------+--------------+-----------+-----------+-----------+-----------+--------+\n",
            "only showing top 20 rows\n",
            "\n"
          ]
        }
      ]
    },
    {
      "cell_type": "code",
      "source": [
        "df.count()"
      ],
      "metadata": {
        "colab": {
          "base_uri": "https://localhost:8080/"
        },
        "id": "KD76lvRc0eHx",
        "outputId": "c9d3ba12-b5c6-4f9a-e3f0-5ecc30aa0849"
      },
      "execution_count": null,
      "outputs": [
        {
          "output_type": "execute_result",
          "data": {
            "text/plain": [
              "5531"
            ]
          },
          "metadata": {},
          "execution_count": 26
        }
      ]
    },
    {
      "cell_type": "code",
      "source": [
        "newdf = df.subtract(df.limit(2))"
      ],
      "metadata": {
        "id": "lSOTQ2QElDUz"
      },
      "execution_count": null,
      "outputs": []
    },
    {
      "cell_type": "code",
      "source": [
        "newdf.show()"
      ],
      "metadata": {
        "colab": {
          "base_uri": "https://localhost:8080/"
        },
        "id": "AoJ8uxzNnXE3",
        "outputId": "8563f089-ee9e-4728-e102-bd0aa647caf6"
      },
      "execution_count": null,
      "outputs": [
        {
          "output_type": "stream",
          "name": "stdout",
          "text": [
            "+----------+--------------+-----------+-----------+-----------+-----------+--------+\n",
            "|      Date|Adjusted Close|      Close|       High|        Low|       Open|  Volume|\n",
            "+----------+--------------+-----------+-----------+-----------+-----------+--------+\n",
            "|2003-05-30|    9.02590847|15.43124962|15.76875019|15.36250019|15.63749981| 6444512|\n",
            "|2004-02-13|   22.53220749|37.67499924|      37.75|36.45000076|      36.75| 6696864|\n",
            "|2006-05-04|    47.4326973|      73.75|       74.0|     72.125|      73.75| 2499264|\n",
            "|2006-09-05|   46.97926712|73.04499817|     73.625|72.86250305|     73.625| 1553288|\n",
            "|2007-02-02|   53.61912537|81.78749847|       82.5|80.56999969|82.26249695| 1113184|\n",
            "|2007-02-15|   55.31221771|84.37000275|     85.625|81.13249969|       83.0| 5097728|\n",
            "|2008-02-21|   48.15816116|71.44999695|72.44999695|      68.25|       70.0| 3734572|\n",
            "|2008-05-02|   50.42791748|74.26249695|74.86250305|72.11250305|      72.25| 3275484|\n",
            "|2008-10-15|   26.92432213|39.65000153|40.95000076|       38.5|      40.75| 5131700|\n",
            "|2009-03-04|   16.97467041|23.76250076|     24.125|23.52499962|     23.875| 2649340|\n",
            "|2009-05-04|   27.76364517|    38.5625|40.45000076|32.63750076|32.63750076|13716812|\n",
            "|2009-12-01|    61.5031929|85.15000153|86.22499847|84.30000305|84.98750305| 2792668|\n",
            "|2010-11-30|   73.95824432|   100.9375|      101.5|     96.875|       97.0| 2527028|\n",
            "|2011-05-10|   92.88537598|125.7750015|127.1750031|124.1999969|125.6125031| 1853720|\n",
            "|2012-06-20|    91.0991745|   121.6875|122.4250031|117.7750015|117.7750015| 5473216|\n",
            "|2013-04-16|   144.1291962|190.6999969|192.6125031|189.4250031|189.9750061| 7339540|\n",
            "|2013-06-27|   150.6982269|198.8500061|      200.0|193.1499939|193.7375031| 7696940|\n",
            "|2014-01-09|   245.2134552|   321.3125|322.6124878|310.7749939|    312.625| 3250300|\n",
            "|2015-05-21|   379.9912415|    485.125|486.9750061|      480.0|481.9750061| 2092768|\n",
            "|2015-10-01|   337.4407043|428.5249939|457.3999939|417.4249878|      445.0|26766424|\n",
            "+----------+--------------+-----------+-----------+-----------+-----------+--------+\n",
            "only showing top 20 rows\n",
            "\n"
          ]
        }
      ]
    },
    {
      "cell_type": "code",
      "source": [
        "newdf.printSchema()"
      ],
      "metadata": {
        "colab": {
          "base_uri": "https://localhost:8080/"
        },
        "id": "0VrX74YElDXN",
        "outputId": "3926c728-a721-44ee-c20c-a0c42e08ec22"
      },
      "execution_count": null,
      "outputs": [
        {
          "output_type": "stream",
          "name": "stdout",
          "text": [
            "root\n",
            " |-- Date: date (nullable = true)\n",
            " |-- Adjusted Close: double (nullable = true)\n",
            " |-- Close: double (nullable = true)\n",
            " |-- High: double (nullable = true)\n",
            " |-- Low: double (nullable = true)\n",
            " |-- Open: double (nullable = true)\n",
            " |-- Volume: long (nullable = true)\n",
            "\n"
          ]
        }
      ]
    },
    {
      "cell_type": "code",
      "source": [
        "newdf.createOrReplaceTempView(\"hcl_stock\")\n"
      ],
      "metadata": {
        "id": "OjezcgEzlDZs"
      },
      "execution_count": null,
      "outputs": []
    },
    {
      "cell_type": "code",
      "source": [
        "spark.catalog.listTables()\n"
      ],
      "metadata": {
        "colab": {
          "base_uri": "https://localhost:8080/"
        },
        "id": "6b3tesSKtUF4",
        "outputId": "df094f6f-805e-4b53-ab78-46aee157e708"
      },
      "execution_count": null,
      "outputs": [
        {
          "output_type": "execute_result",
          "data": {
            "text/plain": [
              "[Table(name='hcl_stock', catalog=None, namespace=[], description=None, tableType='TEMPORARY', isTemporary=True)]"
            ]
          },
          "metadata": {},
          "execution_count": 31
        }
      ]
    },
    {
      "cell_type": "code",
      "source": [
        "spark.sql(\"\"\"\n",
        "    SELECT\n",
        "        SUM(CASE WHEN Date IS NULL THEN 1 ELSE 0 END) AS Date_NullCount,\n",
        "        SUM(CASE WHEN Open IS NULL THEN 1 ELSE 0 END) AS Open_NullCount,\n",
        "        SUM(CASE WHEN High IS NULL THEN 1 ELSE 0 END) AS High_NullCount,\n",
        "        SUM(CASE WHEN Low IS NULL THEN 1 ELSE 0 END) AS Low_NullCount,\n",
        "        SUM(CASE WHEN Close IS NULL THEN 1 ELSE 0 END) AS Close_NullCount,\n",
        "        SUM(CASE WHEN Volume IS NULL THEN 1 ELSE 0 END) AS Volume_NullCount\n",
        "    FROM hcl_stock\n",
        "\"\"\").show()\n"
      ],
      "metadata": {
        "colab": {
          "base_uri": "https://localhost:8080/"
        },
        "id": "a_qtf16XlDcI",
        "outputId": "1eb47b04-2690-4549-d03f-6576ad978a6c"
      },
      "execution_count": null,
      "outputs": [
        {
          "output_type": "stream",
          "name": "stdout",
          "text": [
            "+--------------+--------------+--------------+-------------+---------------+----------------+\n",
            "|Date_NullCount|Open_NullCount|High_NullCount|Low_NullCount|Close_NullCount|Volume_NullCount|\n",
            "+--------------+--------------+--------------+-------------+---------------+----------------+\n",
            "|             0|             0|             0|            0|              0|               0|\n",
            "+--------------+--------------+--------------+-------------+---------------+----------------+\n",
            "\n"
          ]
        }
      ]
    },
    {
      "cell_type": "code",
      "source": [
        "spark.sql(\"\"\"\n",
        "    SELECT\n",
        "        MIN(Close) AS Min_Close,\n",
        "        MAX(Close) AS Max_Close,\n",
        "        AVG(Close) AS Avg_Close,\n",
        "        STDDEV(Close) AS StdDev_Close\n",
        "    FROM hcl_stock\n",
        "\"\"\").show()\n"
      ],
      "metadata": {
        "colab": {
          "base_uri": "https://localhost:8080/"
        },
        "id": "GjogOlbrlDeY",
        "outputId": "bba59c44-3f6a-4d8b-fd75-59739cd965d4"
      },
      "execution_count": null,
      "outputs": [
        {
          "output_type": "stream",
          "name": "stdout",
          "text": [
            "+-----------+-----------+-----------------+-----------------+\n",
            "|  Min_Close|  Max_Close|        Avg_Close|     StdDev_Close|\n",
            "+-----------+-----------+-----------------+-----------------+\n",
            "|14.86250019|1872.849976|400.8948375123735|427.9098794977626|\n",
            "+-----------+-----------+-----------------+-----------------+\n",
            "\n"
          ]
        }
      ]
    },
    {
      "cell_type": "code",
      "source": [
        "duplicate_count = newdf.count() - newdf.dropDuplicates().count()\n",
        "print(f\"Number of duplicate rows: {duplicate_count}\")\n"
      ],
      "metadata": {
        "colab": {
          "base_uri": "https://localhost:8080/"
        },
        "id": "L7QmbsQKlDg5",
        "outputId": "b0b0ff83-60ce-43db-e698-3857b3089b87"
      },
      "execution_count": null,
      "outputs": [
        {
          "output_type": "stream",
          "name": "stdout",
          "text": [
            "Number of duplicate rows: 0\n"
          ]
        }
      ]
    },
    {
      "cell_type": "code",
      "source": [
        "date_check_df = spark.sql(\"\"\"\n",
        "    SELECT Date\n",
        "    FROM hcl_stock\n",
        "    ORDER BY Date\n",
        "\"\"\")\n",
        "date_check_df.show(10)  # Display first 10 dates to inspect\n"
      ],
      "metadata": {
        "colab": {
          "base_uri": "https://localhost:8080/"
        },
        "id": "XW7tE5tDlDke",
        "outputId": "3be228ef-90c7-40f6-803c-575014c82c2f"
      },
      "execution_count": null,
      "outputs": [
        {
          "output_type": "stream",
          "name": "stdout",
          "text": [
            "+----------+\n",
            "|      Date|\n",
            "+----------+\n",
            "|2002-08-12|\n",
            "|2002-08-13|\n",
            "|2002-08-14|\n",
            "|2002-08-15|\n",
            "|2002-08-16|\n",
            "|2002-08-19|\n",
            "|2002-08-20|\n",
            "|2002-08-21|\n",
            "|2002-08-22|\n",
            "|2002-08-23|\n",
            "+----------+\n",
            "only showing top 10 rows\n",
            "\n"
          ]
        }
      ]
    },
    {
      "cell_type": "code",
      "source": [
        "\n",
        "date_check_df = spark.sql(\"\"\"\n",
        "    SELECT Date\n",
        "    FROM hcl_stock\n",
        "    ORDER BY Date\n",
        "\"\"\")\n",
        "date_check_df.show(10)\n"
      ],
      "metadata": {
        "colab": {
          "base_uri": "https://localhost:8080/"
        },
        "id": "uoFOt1W1xyiO",
        "outputId": "c78619d6-1713-4406-f0df-161c09101e09"
      },
      "execution_count": null,
      "outputs": [
        {
          "output_type": "stream",
          "name": "stdout",
          "text": [
            "+----------+\n",
            "|      Date|\n",
            "+----------+\n",
            "|2002-08-12|\n",
            "|2002-08-13|\n",
            "|2002-08-14|\n",
            "|2002-08-15|\n",
            "|2002-08-16|\n",
            "|2002-08-19|\n",
            "|2002-08-20|\n",
            "|2002-08-21|\n",
            "|2002-08-22|\n",
            "|2002-08-23|\n",
            "+----------+\n",
            "only showing top 10 rows\n",
            "\n"
          ]
        }
      ]
    },
    {
      "cell_type": "code",
      "source": [
        "newdf.dropna"
      ],
      "metadata": {
        "colab": {
          "base_uri": "https://localhost:8080/",
          "height": 203
        },
        "id": "Vt6H2IPWx8zX",
        "outputId": "963103a2-b775-451e-98c9-3c986fbe6796"
      },
      "execution_count": null,
      "outputs": [
        {
          "output_type": "execute_result",
          "data": {
            "text/plain": [
              "<bound method DataFrame.dropna of DataFrame[Date: date, Adjusted Close: double, Close: double, High: double, Low: double, Open: double, Volume: bigint]>"
            ],
            "text/html": [
              "<div style=\"max-width:800px; border: 1px solid var(--colab-border-color);\"><style>\n",
              "      pre.function-repr-contents {\n",
              "        overflow-x: auto;\n",
              "        padding: 8px 12px;\n",
              "        max-height: 500px;\n",
              "      }\n",
              "\n",
              "      pre.function-repr-contents.function-repr-contents-collapsed {\n",
              "        cursor: pointer;\n",
              "        max-height: 100px;\n",
              "      }\n",
              "    </style>\n",
              "    <pre style=\"white-space: initial; background:\n",
              "         var(--colab-secondary-surface-color); padding: 8px 12px;\n",
              "         border-bottom: 1px solid var(--colab-border-color);\"><b>pyspark.sql.dataframe.DataFrame.dropna</b><br/>def dropna(how: str=&#x27;any&#x27;, thresh: Optional[int]=None, subset: Optional[Union[str, Tuple[str, ...], List[str]]]=None) -&gt; &#x27;DataFrame&#x27;</pre><pre class=\"function-repr-contents function-repr-contents-collapsed\" style=\"\"><a class=\"filepath\" style=\"display:none\" href=\"#\">/usr/local/lib/python3.10/dist-packages/pyspark/sql/dataframe.py</a>Returns a new :class:`DataFrame` omitting rows with null values.\n",
              ":func:`DataFrame.dropna` and :func:`DataFrameNaFunctions.drop` are aliases of each other.\n",
              "\n",
              ".. versionadded:: 1.3.1\n",
              "\n",
              ".. versionchanged:: 3.4.0\n",
              "    Supports Spark Connect.\n",
              "\n",
              "Parameters\n",
              "----------\n",
              "how : str, optional\n",
              "    &#x27;any&#x27; or &#x27;all&#x27;.\n",
              "    If &#x27;any&#x27;, drop a row if it contains any nulls.\n",
              "    If &#x27;all&#x27;, drop a row only if all its values are null.\n",
              "thresh: int, optional\n",
              "    default None\n",
              "    If specified, drop rows that have less than `thresh` non-null values.\n",
              "    This overwrites the `how` parameter.\n",
              "subset : str, tuple or list, optional\n",
              "    optional list of column names to consider.\n",
              "\n",
              "Returns\n",
              "-------\n",
              ":class:`DataFrame`\n",
              "    DataFrame with null only rows excluded.\n",
              "\n",
              "Examples\n",
              "--------\n",
              "&gt;&gt;&gt; from pyspark.sql import Row\n",
              "&gt;&gt;&gt; df = spark.createDataFrame([\n",
              "...     Row(age=10, height=80, name=&quot;Alice&quot;),\n",
              "...     Row(age=5, height=None, name=&quot;Bob&quot;),\n",
              "...     Row(age=None, height=None, name=&quot;Tom&quot;),\n",
              "...     Row(age=None, height=None, name=None),\n",
              "... ])\n",
              "&gt;&gt;&gt; df.na.drop().show()\n",
              "+---+------+-----+\n",
              "|age|height| name|\n",
              "+---+------+-----+\n",
              "| 10|    80|Alice|\n",
              "+---+------+-----+</pre>\n",
              "      <script>\n",
              "      if (google.colab.kernel.accessAllowed && google.colab.files && google.colab.files.view) {\n",
              "        for (const element of document.querySelectorAll('.filepath')) {\n",
              "          element.style.display = 'block'\n",
              "          element.onclick = (event) => {\n",
              "            event.preventDefault();\n",
              "            event.stopPropagation();\n",
              "            google.colab.files.view(element.textContent, 4284);\n",
              "          };\n",
              "        }\n",
              "      }\n",
              "      for (const element of document.querySelectorAll('.function-repr-contents')) {\n",
              "        element.onclick = (event) => {\n",
              "          event.preventDefault();\n",
              "          event.stopPropagation();\n",
              "          element.classList.toggle('function-repr-contents-collapsed');\n",
              "        };\n",
              "      }\n",
              "      </script>\n",
              "      </div>"
            ]
          },
          "metadata": {},
          "execution_count": 37
        }
      ]
    },
    {
      "cell_type": "code",
      "source": [
        "# Phase 2 - Data Cleaning and Preparation\n",
        "# adding new columns - moving average and daily return\n",
        "\n"
      ],
      "metadata": {
        "id": "kOyloNqRx82G"
      },
      "execution_count": null,
      "outputs": []
    },
    {
      "cell_type": "code",
      "source": [
        "from pyspark.sql import Window"
      ],
      "metadata": {
        "id": "IpyQMSfTqYZq"
      },
      "execution_count": null,
      "outputs": []
    },
    {
      "cell_type": "code",
      "source": [
        "# Create a window to calculate the previous day's Close price\n",
        "window_spec = Window.orderBy(\"Date\")\n",
        "type(window_spec)"
      ],
      "metadata": {
        "colab": {
          "base_uri": "https://localhost:8080/",
          "height": 186
        },
        "id": "n0tMUGUIx84d",
        "outputId": "856b9ac0-0cca-4585-f2a0-a6e35fe977f8"
      },
      "execution_count": null,
      "outputs": [
        {
          "output_type": "execute_result",
          "data": {
            "text/plain": [
              "pyspark.sql.window.WindowSpec"
            ],
            "text/html": [
              "<div style=\"max-width:800px; border: 1px solid var(--colab-border-color);\"><style>\n",
              "      pre.function-repr-contents {\n",
              "        overflow-x: auto;\n",
              "        padding: 8px 12px;\n",
              "        max-height: 500px;\n",
              "      }\n",
              "\n",
              "      pre.function-repr-contents.function-repr-contents-collapsed {\n",
              "        cursor: pointer;\n",
              "        max-height: 100px;\n",
              "      }\n",
              "    </style>\n",
              "    <pre style=\"white-space: initial; background:\n",
              "         var(--colab-secondary-surface-color); padding: 8px 12px;\n",
              "         border-bottom: 1px solid var(--colab-border-color);\"><b>pyspark.sql.window.WindowSpec</b><br/>def __init__(jspec: JavaObject) -&gt; None</pre><pre class=\"function-repr-contents function-repr-contents-collapsed\" style=\"\"><a class=\"filepath\" style=\"display:none\" href=\"#\">/usr/local/lib/python3.10/dist-packages/pyspark/sql/window.py</a>A window specification that defines the partitioning, ordering,\n",
              "and frame boundaries.\n",
              "\n",
              "Use the static methods in :class:`Window` to create a :class:`WindowSpec`.\n",
              "\n",
              ".. versionadded:: 1.4.0\n",
              "\n",
              ".. versionchanged:: 3.4.0\n",
              "    Supports Spark Connect.</pre>\n",
              "      <script>\n",
              "      if (google.colab.kernel.accessAllowed && google.colab.files && google.colab.files.view) {\n",
              "        for (const element of document.querySelectorAll('.filepath')) {\n",
              "          element.style.display = 'block'\n",
              "          element.onclick = (event) => {\n",
              "            event.preventDefault();\n",
              "            event.stopPropagation();\n",
              "            google.colab.files.view(element.textContent, 365);\n",
              "          };\n",
              "        }\n",
              "      }\n",
              "      for (const element of document.querySelectorAll('.function-repr-contents')) {\n",
              "        element.onclick = (event) => {\n",
              "          event.preventDefault();\n",
              "          event.stopPropagation();\n",
              "          element.classList.toggle('function-repr-contents-collapsed');\n",
              "        };\n",
              "      }\n",
              "      </script>\n",
              "      </div>"
            ]
          },
          "metadata": {},
          "execution_count": 40
        }
      ]
    },
    {
      "cell_type": "code",
      "source": [
        " #Calculate daily returns as a percentage change from the previous day\n",
        "df_cleaned = newdf.withColumn(\"Prev_Close\", lag(\"Close\").over(window_spec))"
      ],
      "metadata": {
        "id": "ohFWoHgcx864"
      },
      "execution_count": null,
      "outputs": []
    },
    {
      "cell_type": "code",
      "source": [
        "df_cleaned = df_cleaned.withColumn(\"Daily_Return\", ((col(\"Close\") - col(\"Prev_Close\")) / col(\"Prev_Close\")) * 100)"
      ],
      "metadata": {
        "id": "ErMG2a81s0v1"
      },
      "execution_count": null,
      "outputs": []
    },
    {
      "cell_type": "code",
      "source": [
        "df_cleaned.show(5)"
      ],
      "metadata": {
        "colab": {
          "base_uri": "https://localhost:8080/"
        },
        "id": "pLf6MD3a6mQq",
        "outputId": "6199754d-a077-4178-d0a2-48c9a5170da5"
      },
      "execution_count": null,
      "outputs": [
        {
          "output_type": "stream",
          "name": "stdout",
          "text": [
            "+----------+--------------+-----------+-----------+-----------+-----------+--------+-----------+-------------------+\n",
            "|      Date|Adjusted Close|      Close|       High|        Low|       Open|  Volume| Prev_Close|       Daily_Return|\n",
            "+----------+--------------+-----------+-----------+-----------+-----------+--------+-----------+-------------------+\n",
            "|2002-08-12|     13.796875|23.76250076|23.98749924|     22.625|22.71249962|11239400|       NULL|               NULL|\n",
            "|2002-08-13|   13.54285812|23.32500076|      24.25|23.14999962|      24.25| 3756368|23.76250076|-1.8411361851966963|\n",
            "|2002-08-14|   13.35778618|23.00625038|23.23749924|22.76874924|23.23749924| 3964016|23.32500076|-1.3665610701570705|\n",
            "|2002-08-15|   13.35778618|23.00625038|23.00625038|23.00625038|23.00625038|       0|23.00625038|                0.0|\n",
            "|2002-08-16|   13.70615864|23.60625076|      23.75|      23.25|     23.625| 4848904|23.00625038|  2.607988568713477|\n",
            "+----------+--------------+-----------+-----------+-----------+-----------+--------+-----------+-------------------+\n",
            "only showing top 5 rows\n",
            "\n"
          ]
        }
      ]
    },
    {
      "cell_type": "code",
      "source": [
        "df_cleaned.orderBy(\"Date\",ascending=False).show(5)"
      ],
      "metadata": {
        "id": "M0EZJg8jx89I",
        "colab": {
          "base_uri": "https://localhost:8080/"
        },
        "outputId": "24b88953-0c82-445e-ce5e-c75f01d3ee2a"
      },
      "execution_count": null,
      "outputs": [
        {
          "output_type": "stream",
          "name": "stdout",
          "text": [
            "+----------+--------------+-----------+-----------+-----------+-----------+-------+-----------+--------------------+\n",
            "|      Date|Adjusted Close|      Close|       High|        Low|       Open| Volume| Prev_Close|        Daily_Return|\n",
            "+----------+--------------+-----------+-----------+-----------+-----------+-------+-----------+--------------------+\n",
            "|2024-11-13|       1864.75|    1864.75|1879.599976|1859.099976|     1866.0|1253920|1872.849976|-0.43249465273773585|\n",
            "|2024-11-12|   1872.849976|1872.849976|1892.949951|1864.449951|     1891.0|2711052|1867.300049|  0.2972166686854741|\n",
            "|2024-11-11|   1867.300049|1867.300049|     1874.0|     1834.0|1846.699951|1679869|     1837.5|  1.6217713741496567|\n",
            "|2024-11-08|        1837.5|     1837.5|1854.150024|1828.050049|1838.949951|1521324|1831.949951| 0.30295854954827556|\n",
            "|2024-11-07|   1831.949951|1831.949951|1862.550049|1814.199951|1850.050049|2173869|1838.400024|-0.35085253023255913|\n",
            "+----------+--------------+-----------+-----------+-----------+-----------+-------+-----------+--------------------+\n",
            "only showing top 5 rows\n",
            "\n"
          ]
        }
      ]
    },
    {
      "cell_type": "code",
      "source": [
        "# Calculate 50-day moving averages for 'Close' prices\n",
        "window_50 = Window.orderBy(col(\"Date\").desc()).rowsBetween(-49, 0)\n",
        "df_cleaned = df_cleaned.withColumn(\"SMA_50\", avg(\"Close\").over(window_50))"
      ],
      "metadata": {
        "id": "bPMJ_kDIx8_f"
      },
      "execution_count": null,
      "outputs": []
    },
    {
      "cell_type": "code",
      "source": [
        "df_cleaned.show(5)"
      ],
      "metadata": {
        "id": "JI1lUy_hx9CN",
        "colab": {
          "base_uri": "https://localhost:8080/"
        },
        "outputId": "86e71bb1-e394-4c4a-c1e9-308e702e53e0"
      },
      "execution_count": null,
      "outputs": [
        {
          "output_type": "stream",
          "name": "stdout",
          "text": [
            "+----------+--------------+-----------+-----------+-----------+-----------+--------+-----------------+------------------+\n",
            "|      Date|Adjusted Close|      Close|       High|        Low|       Open|  Volume|     Daily_Return|            SMA_50|\n",
            "+----------+--------------+-----------+-----------+-----------+-----------+--------+-----------------+------------------+\n",
            "|2002-08-12|     13.796875|23.76250076|23.98749924|     22.625|22.71249962|11239400|72.23103608607023|       23.76250076|\n",
            "|2002-08-13|   13.54285812|23.32500076|      24.25|23.14999962|      24.25| 3756368|72.23100584324811|       23.54375076|\n",
            "|2002-08-14|   13.35778618|23.00625038|23.23749924|22.76874924|23.23749924| 3964016| 72.2310124595811|23.364583966666668|\n",
            "|2002-08-15|   13.35778618|23.00625038|23.00625038|23.00625038|23.00625038|       0| 72.2310124595811|       23.27500057|\n",
            "|2002-08-16|   13.70615864|23.60625076|      23.75|      23.25|     23.625| 4848904|72.23097572435512|23.341250608000003|\n",
            "+----------+--------------+-----------+-----------+-----------+-----------+--------+-----------------+------------------+\n",
            "only showing top 5 rows\n",
            "\n"
          ]
        }
      ]
    },
    {
      "cell_type": "code",
      "source": [
        "# Calculate 200-day moving averages for 'Close' prices\n",
        "window_200 = Window.orderBy(col(\"Date\").desc()).rowsBetween(-199, 0)\n",
        "df_cleaned = df_cleaned.withColumn(\"SMA_200\", avg(\"Close\").over(window_200))"
      ],
      "metadata": {
        "id": "JMaP519Vx9Eb"
      },
      "execution_count": null,
      "outputs": []
    },
    {
      "cell_type": "code",
      "source": [
        "df_cleaned.show(5)"
      ],
      "metadata": {
        "colab": {
          "base_uri": "https://localhost:8080/"
        },
        "id": "mwBLxuenx_4U",
        "outputId": "286f5238-dd7b-42fe-843c-797840bed4fb"
      },
      "execution_count": null,
      "outputs": [
        {
          "output_type": "stream",
          "name": "stdout",
          "text": [
            "+----------+--------------+-----------+-----------+-----------+-----------+-------+------------+------------------+------------------+\n",
            "|      Date|Adjusted Close|      Close|       High|        Low|       Open| Volume|Daily_Return|            SMA_50|           SMA_200|\n",
            "+----------+--------------+-----------+-----------+-----------+-----------+-------+------------+------------------+------------------+\n",
            "|2024-11-13|       1864.75|    1864.75|1879.599976|1859.099976|     1866.0|1253920|         0.0|1810.2370020000003|           1864.75|\n",
            "|2024-11-12|   1872.849976|1872.849976|1892.949951|1864.449951|     1891.0|2711052|         0.0|1808.7510010199999|       1868.799988|\n",
            "|2024-11-11|   1867.300049|1867.300049|     1874.0|     1834.0|1846.699951|1679869|         0.0|1807.4270019800001|1868.3000083333334|\n",
            "|2024-11-08|        1837.5|     1837.5|1854.150024|1828.050049|1838.949951|1521324|         0.0|       1805.146001|     1860.60000625|\n",
            "|2024-11-07|   1831.949951|1831.949951|1862.550049|1814.199951|1850.050049|2173869|         0.0|1803.4330005200004|      1854.8699952|\n",
            "+----------+--------------+-----------+-----------+-----------+-----------+-------+------------+------------------+------------------+\n",
            "only showing top 5 rows\n",
            "\n"
          ]
        }
      ]
    },
    {
      "cell_type": "code",
      "source": [
        "df_cleaned.describe([\"Open\", \"High\", \"Low\", \"Close\", \"Volume\", \"Daily_Return\"]).show()"
      ],
      "metadata": {
        "colab": {
          "base_uri": "https://localhost:8080/"
        },
        "id": "-9QID8CfyXTk",
        "outputId": "7a2f0d6a-ef88-42eb-a9a6-fcc86a901370"
      },
      "execution_count": null,
      "outputs": [
        {
          "output_type": "stream",
          "name": "stdout",
          "text": [
            "+-------+------------------+-----------------+------------------+-----------------+-----------------+------------------+\n",
            "|summary|              Open|             High|               Low|            Close|           Volume|      Daily_Return|\n",
            "+-------+------------------+-----------------+------------------+-----------------+-----------------+------------------+\n",
            "|  count|              5529|             5529|              5529|             5529|             5529|              5529|\n",
            "|   mean| 401.0559657028477|405.9276065125634|395.93029846622863|400.8948375123735|4861474.167842286|33.855501195496224|\n",
            "| stddev|428.04168175116223| 432.448034674308|423.49518200263105|427.9098794977626|4981283.850281568| 19.51758135929127|\n",
            "|    min|       14.94375038|            15.25|       14.69999981|      14.86250019|                0|               0.0|\n",
            "|    max|            1891.0|      1892.949951|       1864.449951|      1872.849976|        125442440| 72.23107836098873|\n",
            "+-------+------------------+-----------------+------------------+-----------------+-----------------+------------------+\n",
            "\n"
          ]
        }
      ]
    },
    {
      "cell_type": "code",
      "source": [
        "# Register DataFrame as a temporary SQL view\n",
        "df_cleaned.createOrReplaceTempView(\"HCL_stock_cleaned\")"
      ],
      "metadata": {
        "id": "THT17j3t3AKh"
      },
      "execution_count": null,
      "outputs": []
    },
    {
      "cell_type": "code",
      "source": [
        "# SQL query to calculate summary statistics for the 'Close' and 'Volume' columns\n",
        "spark.sql(\"\"\"\n",
        "    SELECT\n",
        "        MIN(Close) AS Min_Close,\n",
        "        MAX(Close) AS Max_Close,\n",
        "        AVG(Close) AS Avg_Close,\n",
        "        STDDEV(Close) AS StdDev_Close,\n",
        "        MIN(Volume) AS Min_Volume,\n",
        "        MAX(Volume) AS Max_Volume,\n",
        "        AVG(Volume) AS Avg_Volume,\n",
        "        STDDEV(Volume) AS StdDev_Volume\n",
        "    FROM HCL_stock_cleaned\n",
        "\"\"\").show()"
      ],
      "metadata": {
        "colab": {
          "base_uri": "https://localhost:8080/"
        },
        "id": "8Un87lPF3kxu",
        "outputId": "b2caa690-da6a-4514-d656-535c1751a7ef"
      },
      "execution_count": null,
      "outputs": [
        {
          "output_type": "stream",
          "name": "stdout",
          "text": [
            "+-----------+-----------+-----------------+-----------------+----------+----------+-----------------+-----------------+\n",
            "|  Min_Close|  Max_Close|        Avg_Close|     StdDev_Close|Min_Volume|Max_Volume|       Avg_Volume|    StdDev_Volume|\n",
            "+-----------+-----------+-----------------+-----------------+----------+----------+-----------------+-----------------+\n",
            "|14.86250019|1872.849976|400.8948375123735|427.9098794977626|         0| 125442440|4861474.167842286|4981283.850281568|\n",
            "+-----------+-----------+-----------------+-----------------+----------+----------+-----------------+-----------------+\n",
            "\n"
          ]
        }
      ]
    },
    {
      "cell_type": "code",
      "source": [
        "# Summary of daily returns\n",
        "spark.sql(\"\"\"\n",
        "    SELECT\n",
        "        AVG(Daily_Return) AS Avg_Daily_Return,\n",
        "        STDDEV(Daily_Return) AS Daily_Return_StdDev,\n",
        "        MIN(Daily_Return) AS Min_Daily_Return,\n",
        "        MAX(Daily_Return) AS Max_Daily_Return\n",
        "    FROM apollo_stock_cleaned\n",
        "\"\"\").show()"
      ],
      "metadata": {
        "id": "XvsXDrqQ4Uf2"
      },
      "execution_count": null,
      "outputs": []
    },
    {
      "cell_type": "code",
      "source": [
        "# a) Correlation between Close Price and Volume\n",
        "\n",
        "close_volume_corr = df_cleaned.stat.corr(\"Close\", \"Volume\")\n",
        "print(f\"Correlation between Close and Volume: {close_volume_corr}\")\n",
        "\n"
      ],
      "metadata": {
        "id": "8NmCDDk18Fak",
        "colab": {
          "base_uri": "https://localhost:8080/"
        },
        "outputId": "4c036227-0ce2-4882-d3ec-b4a8244978cb"
      },
      "execution_count": null,
      "outputs": [
        {
          "output_type": "stream",
          "name": "stdout",
          "text": [
            "Correlation between Close and Volume: -0.1511055358098198\n"
          ]
        }
      ]
    },
    {
      "cell_type": "code",
      "source": [
        "# SQL query for correlation matrix between key stock metrics\n",
        "spark.sql(\"\"\"\n",
        "    SELECT\n",
        "        corr(Open, Close) AS Open_Close_Correlation,\n",
        "        corr(High, Close) AS High_Close_Correlation,\n",
        "        corr(Low, Close) AS Low_Close_Correlation,\n",
        "        corr(Volume, Close) AS Volume_Close_Correlation\n",
        "    FROM hcl_stock_cleaned\n",
        "\"\"\").show()\n"
      ],
      "metadata": {
        "colab": {
          "base_uri": "https://localhost:8080/"
        },
        "id": "jBTzGou68kJu",
        "outputId": "d0b60bc6-ba75-4a79-cc0c-ac8822c478d8"
      },
      "execution_count": null,
      "outputs": [
        {
          "output_type": "stream",
          "name": "stdout",
          "text": [
            "+----------------------+----------------------+---------------------+------------------------+\n",
            "|Open_Close_Correlation|High_Close_Correlation|Low_Close_Correlation|Volume_Close_Correlation|\n",
            "+----------------------+----------------------+---------------------+------------------------+\n",
            "|    0.9998063302663437|    0.9999216628438844|   0.9999146752989329|    -0.15110553580981984|\n",
            "+----------------------+----------------------+---------------------+------------------------+\n",
            "\n"
          ]
        }
      ]
    },
    {
      "cell_type": "code",
      "source": [
        "# Using SQL, you can calculate averages over different timeframes and compare them.\n",
        "\n",
        "spark.sql(\"\"\"\n",
        "    SELECT\n",
        "        Date,\n",
        "        Close,\n",
        "        SMA_50,\n",
        "        SMA_200,\n",
        "        CASE WHEN SMA_50 > SMA_200 THEN 'Uptrend' ELSE 'Downtrend' END AS Trend\n",
        "    FROM HCL_stock_cleaned\n",
        "    ORDER BY Date\n",
        "\"\"\").show(5)\n"
      ],
      "metadata": {
        "colab": {
          "base_uri": "https://localhost:8080/"
        },
        "id": "oaDjWtxG9X3m",
        "outputId": "daf985e6-72f7-490b-8e30-5f286613c6d4"
      },
      "execution_count": null,
      "outputs": [
        {
          "output_type": "stream",
          "name": "stdout",
          "text": [
            "+----------+-----------+------------------+------------------+-------+\n",
            "|      Date|      Close|            SMA_50|           SMA_200|  Trend|\n",
            "+----------+-----------+------------------+------------------+-------+\n",
            "|2002-08-12|23.76250076|       23.76250076|21.945000085499995|Uptrend|\n",
            "|2002-08-13|23.32500076|       23.54375076|21.913218831699997|Uptrend|\n",
            "|2002-08-14|23.00625038|23.364583966666668|21.882375077899997|Uptrend|\n",
            "|2002-08-15|23.00625038|       23.27500057|21.847812575999995|Uptrend|\n",
            "|2002-08-16|23.60625076|23.341250608000003|21.809687575999998|Uptrend|\n",
            "+----------+-----------+------------------+------------------+-------+\n",
            "only showing top 5 rows\n",
            "\n"
          ]
        }
      ]
    },
    {
      "cell_type": "code",
      "source": [
        "# SQL query to find days with the highest volume and corresponding price changes\n",
        "spark.sql(\"\"\"\n",
        "    SELECT\n",
        "        Date,\n",
        "        Volume,\n",
        "        Close,\n",
        "        Daily_Return\n",
        "    FROM HCL_stock_cleaned\n",
        "    ORDER BY Volume DESC\n",
        "    LIMIT 10\n",
        "\"\"\").show()\n",
        "'''\n",
        "This query highlights the days with the highest trading volumes and their corresponding daily returns.\n",
        "Spikes in volume often accompany big price moves, either up or down.\n",
        "\n",
        "'''"
      ],
      "metadata": {
        "colab": {
          "base_uri": "https://localhost:8080/",
          "height": 296
        },
        "id": "OiX9bNLn-2Mp",
        "outputId": "2ed88f3b-ec40-4f05-a075-70ba3332723d"
      },
      "execution_count": null,
      "outputs": [
        {
          "output_type": "stream",
          "name": "stdout",
          "text": [
            "+----------+---------+-----------+-----------------+\n",
            "|      Date|   Volume|      Close|     Daily_Return|\n",
            "+----------+---------+-----------+-----------------+\n",
            "|2002-10-22|125442440|21.88750076|70.96613747120631|\n",
            "|2002-10-23| 90007952|20.88750076|70.96610011442965|\n",
            "|2007-11-08| 80309532|75.16249847|50.62695877412911|\n",
            "|2003-09-15| 62881504|   20.34375|70.96612279268943|\n",
            "|2002-10-24| 59089792|20.26250076|70.96613519205633|\n",
            "|2002-10-25| 49617192|20.43124962|70.96610373267671|\n",
            "|2003-04-28| 49334920|     17.375|70.96610404767235|\n",
            "|2012-11-30| 41511124|    164.125|32.68796762428142|\n",
            "|2003-09-16| 41195184|20.41875076|70.96607848086023|\n",
            "|2002-11-11| 40565424|20.66250038|70.96611200186098|\n",
            "+----------+---------+-----------+-----------------+\n",
            "\n"
          ]
        },
        {
          "output_type": "execute_result",
          "data": {
            "text/plain": [
              "'\\nThis query highlights the days with the highest trading volumes and their corresponding daily returns. \\nSpikes in volume often accompany big price moves, either up or down.\\n\\n'"
            ],
            "application/vnd.google.colaboratory.intrinsic+json": {
              "type": "string"
            }
          },
          "metadata": {},
          "execution_count": 91
        }
      ]
    },
    {
      "cell_type": "code",
      "source": [
        "# Calculate average close price and volume by month using SQL\n",
        "spark.sql(\"\"\"\n",
        "    SELECT\n",
        "        MONTH(Date) AS Month,\n",
        "        AVG(Close) AS Avg_Monthly_Close,\n",
        "        AVG(Volume) AS Avg_Monthly_Volume\n",
        "    FROM HCl_stock_cleaned\n",
        "    GROUP BY MONTH(Date)\n",
        "    ORDER BY Month\n",
        "\"\"\").show()\n"
      ],
      "metadata": {
        "colab": {
          "base_uri": "https://localhost:8080/"
        },
        "id": "UI4bhu1ABS4F",
        "outputId": "d3f2d2be-b67b-4318-faef-47ad9415ef23"
      },
      "execution_count": null,
      "outputs": [
        {
          "output_type": "stream",
          "name": "stdout",
          "text": [
            "+-----+------------------+------------------+\n",
            "|Month| Avg_Monthly_Close|Avg_Monthly_Volume|\n",
            "+-----+------------------+------------------+\n",
            "|    1| 398.8136037630601| 4939977.605603448|\n",
            "|    2|   413.13357465947| 4074476.714285714|\n",
            "|    3| 395.1653724621459| 4719559.827433628|\n",
            "|    4|390.08532759115815| 5631843.886524823|\n",
            "|    5|381.05871072646653|4621296.5845824415|\n",
            "|    6| 385.8077827727351| 4091963.032051282|\n",
            "|    7| 397.6156457494814| 4212827.419087137|\n",
            "|    8|406.68609987876533| 4314228.958158996|\n",
            "|    9|426.91342427162135| 5448834.947368421|\n",
            "|   10| 433.6690400457942| 6634669.527896996|\n",
            "|   11|399.19234470226115|  4913967.33481153|\n",
            "|   12| 381.8948342055435|4778223.5287846485|\n",
            "+-----+------------------+------------------+\n",
            "\n"
          ]
        }
      ]
    }
  ]
}