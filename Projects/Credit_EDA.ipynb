{
 "cells": [
  {
   "cell_type": "code",
   "execution_count": 1,
   "id": "9352ef64-68cd-43aa-8447-da33d0acc5ca",
   "metadata": {},
   "outputs": [],
   "source": [
    "import numpy as np\n",
    "import pandas as pd\n",
    "import matplotlib.pyplot as plt\n",
    "import seaborn as sns"
   ]
  },
  {
   "cell_type": "code",
   "execution_count": 2,
   "id": "d04c0204-1095-4601-a5c6-5617cae1c68c",
   "metadata": {},
   "outputs": [
    {
     "data": {
      "text/html": [
       "<div>\n",
       "<style scoped>\n",
       "    .dataframe tbody tr th:only-of-type {\n",
       "        vertical-align: middle;\n",
       "    }\n",
       "\n",
       "    .dataframe tbody tr th {\n",
       "        vertical-align: top;\n",
       "    }\n",
       "\n",
       "    .dataframe thead th {\n",
       "        text-align: right;\n",
       "    }\n",
       "</style>\n",
       "<table border=\"1\" class=\"dataframe\">\n",
       "  <thead>\n",
       "    <tr style=\"text-align: right;\">\n",
       "      <th></th>\n",
       "      <th>SK_ID_CURR</th>\n",
       "      <th>TARGET</th>\n",
       "      <th>NAME_CONTRACT_TYPE</th>\n",
       "      <th>CODE_GENDER</th>\n",
       "      <th>FLAG_OWN_CAR</th>\n",
       "      <th>FLAG_OWN_REALTY</th>\n",
       "      <th>CNT_CHILDREN</th>\n",
       "      <th>AMT_INCOME_TOTAL</th>\n",
       "      <th>AMT_CREDIT</th>\n",
       "      <th>AMT_ANNUITY</th>\n",
       "      <th>...</th>\n",
       "      <th>FLAG_DOCUMENT_18</th>\n",
       "      <th>FLAG_DOCUMENT_19</th>\n",
       "      <th>FLAG_DOCUMENT_20</th>\n",
       "      <th>FLAG_DOCUMENT_21</th>\n",
       "      <th>AMT_REQ_CREDIT_BUREAU_HOUR</th>\n",
       "      <th>AMT_REQ_CREDIT_BUREAU_DAY</th>\n",
       "      <th>AMT_REQ_CREDIT_BUREAU_WEEK</th>\n",
       "      <th>AMT_REQ_CREDIT_BUREAU_MON</th>\n",
       "      <th>AMT_REQ_CREDIT_BUREAU_QRT</th>\n",
       "      <th>AMT_REQ_CREDIT_BUREAU_YEAR</th>\n",
       "    </tr>\n",
       "  </thead>\n",
       "  <tbody>\n",
       "    <tr>\n",
       "      <th>0</th>\n",
       "      <td>100002</td>\n",
       "      <td>1</td>\n",
       "      <td>Cash loans</td>\n",
       "      <td>M</td>\n",
       "      <td>N</td>\n",
       "      <td>Y</td>\n",
       "      <td>0</td>\n",
       "      <td>202500.0</td>\n",
       "      <td>406597.5</td>\n",
       "      <td>24700.5</td>\n",
       "      <td>...</td>\n",
       "      <td>0</td>\n",
       "      <td>0</td>\n",
       "      <td>0</td>\n",
       "      <td>0</td>\n",
       "      <td>0.0</td>\n",
       "      <td>0.0</td>\n",
       "      <td>0.0</td>\n",
       "      <td>0.0</td>\n",
       "      <td>0.0</td>\n",
       "      <td>1.0</td>\n",
       "    </tr>\n",
       "    <tr>\n",
       "      <th>1</th>\n",
       "      <td>100003</td>\n",
       "      <td>0</td>\n",
       "      <td>Cash loans</td>\n",
       "      <td>F</td>\n",
       "      <td>N</td>\n",
       "      <td>N</td>\n",
       "      <td>0</td>\n",
       "      <td>270000.0</td>\n",
       "      <td>1293502.5</td>\n",
       "      <td>35698.5</td>\n",
       "      <td>...</td>\n",
       "      <td>0</td>\n",
       "      <td>0</td>\n",
       "      <td>0</td>\n",
       "      <td>0</td>\n",
       "      <td>0.0</td>\n",
       "      <td>0.0</td>\n",
       "      <td>0.0</td>\n",
       "      <td>0.0</td>\n",
       "      <td>0.0</td>\n",
       "      <td>0.0</td>\n",
       "    </tr>\n",
       "    <tr>\n",
       "      <th>2</th>\n",
       "      <td>100004</td>\n",
       "      <td>0</td>\n",
       "      <td>Revolving loans</td>\n",
       "      <td>M</td>\n",
       "      <td>Y</td>\n",
       "      <td>Y</td>\n",
       "      <td>0</td>\n",
       "      <td>67500.0</td>\n",
       "      <td>135000.0</td>\n",
       "      <td>6750.0</td>\n",
       "      <td>...</td>\n",
       "      <td>0</td>\n",
       "      <td>0</td>\n",
       "      <td>0</td>\n",
       "      <td>0</td>\n",
       "      <td>0.0</td>\n",
       "      <td>0.0</td>\n",
       "      <td>0.0</td>\n",
       "      <td>0.0</td>\n",
       "      <td>0.0</td>\n",
       "      <td>0.0</td>\n",
       "    </tr>\n",
       "    <tr>\n",
       "      <th>3</th>\n",
       "      <td>100006</td>\n",
       "      <td>0</td>\n",
       "      <td>Cash loans</td>\n",
       "      <td>F</td>\n",
       "      <td>N</td>\n",
       "      <td>Y</td>\n",
       "      <td>0</td>\n",
       "      <td>135000.0</td>\n",
       "      <td>312682.5</td>\n",
       "      <td>29686.5</td>\n",
       "      <td>...</td>\n",
       "      <td>0</td>\n",
       "      <td>0</td>\n",
       "      <td>0</td>\n",
       "      <td>0</td>\n",
       "      <td>NaN</td>\n",
       "      <td>NaN</td>\n",
       "      <td>NaN</td>\n",
       "      <td>NaN</td>\n",
       "      <td>NaN</td>\n",
       "      <td>NaN</td>\n",
       "    </tr>\n",
       "    <tr>\n",
       "      <th>4</th>\n",
       "      <td>100007</td>\n",
       "      <td>0</td>\n",
       "      <td>Cash loans</td>\n",
       "      <td>M</td>\n",
       "      <td>N</td>\n",
       "      <td>Y</td>\n",
       "      <td>0</td>\n",
       "      <td>121500.0</td>\n",
       "      <td>513000.0</td>\n",
       "      <td>21865.5</td>\n",
       "      <td>...</td>\n",
       "      <td>0</td>\n",
       "      <td>0</td>\n",
       "      <td>0</td>\n",
       "      <td>0</td>\n",
       "      <td>0.0</td>\n",
       "      <td>0.0</td>\n",
       "      <td>0.0</td>\n",
       "      <td>0.0</td>\n",
       "      <td>0.0</td>\n",
       "      <td>0.0</td>\n",
       "    </tr>\n",
       "  </tbody>\n",
       "</table>\n",
       "<p>5 rows × 122 columns</p>\n",
       "</div>"
      ],
      "text/plain": [
       "   SK_ID_CURR  TARGET NAME_CONTRACT_TYPE CODE_GENDER FLAG_OWN_CAR  \\\n",
       "0      100002       1         Cash loans           M            N   \n",
       "1      100003       0         Cash loans           F            N   \n",
       "2      100004       0    Revolving loans           M            Y   \n",
       "3      100006       0         Cash loans           F            N   \n",
       "4      100007       0         Cash loans           M            N   \n",
       "\n",
       "  FLAG_OWN_REALTY  CNT_CHILDREN  AMT_INCOME_TOTAL  AMT_CREDIT  AMT_ANNUITY  \\\n",
       "0               Y             0          202500.0    406597.5      24700.5   \n",
       "1               N             0          270000.0   1293502.5      35698.5   \n",
       "2               Y             0           67500.0    135000.0       6750.0   \n",
       "3               Y             0          135000.0    312682.5      29686.5   \n",
       "4               Y             0          121500.0    513000.0      21865.5   \n",
       "\n",
       "   ...  FLAG_DOCUMENT_18 FLAG_DOCUMENT_19 FLAG_DOCUMENT_20 FLAG_DOCUMENT_21  \\\n",
       "0  ...                 0                0                0                0   \n",
       "1  ...                 0                0                0                0   \n",
       "2  ...                 0                0                0                0   \n",
       "3  ...                 0                0                0                0   \n",
       "4  ...                 0                0                0                0   \n",
       "\n",
       "  AMT_REQ_CREDIT_BUREAU_HOUR AMT_REQ_CREDIT_BUREAU_DAY  \\\n",
       "0                        0.0                       0.0   \n",
       "1                        0.0                       0.0   \n",
       "2                        0.0                       0.0   \n",
       "3                        NaN                       NaN   \n",
       "4                        0.0                       0.0   \n",
       "\n",
       "   AMT_REQ_CREDIT_BUREAU_WEEK  AMT_REQ_CREDIT_BUREAU_MON  \\\n",
       "0                         0.0                        0.0   \n",
       "1                         0.0                        0.0   \n",
       "2                         0.0                        0.0   \n",
       "3                         NaN                        NaN   \n",
       "4                         0.0                        0.0   \n",
       "\n",
       "   AMT_REQ_CREDIT_BUREAU_QRT  AMT_REQ_CREDIT_BUREAU_YEAR  \n",
       "0                        0.0                         1.0  \n",
       "1                        0.0                         0.0  \n",
       "2                        0.0                         0.0  \n",
       "3                        NaN                         NaN  \n",
       "4                        0.0                         0.0  \n",
       "\n",
       "[5 rows x 122 columns]"
      ]
     },
     "execution_count": 2,
     "metadata": {},
     "output_type": "execute_result"
    }
   ],
   "source": [
    "appdf = pd.read_csv(r\"application_data.csv\")\n",
    "appdf.head()"
   ]
  },
  {
   "cell_type": "code",
   "execution_count": 3,
   "id": "100b5292-308a-405f-b55b-4d85c0ad56f5",
   "metadata": {},
   "outputs": [],
   "source": [
    "apli=appdf.copy()"
   ]
  },
  {
   "cell_type": "code",
   "execution_count": 4,
   "id": "f859b65d-fa3a-4c61-8b80-e8bef2bada46",
   "metadata": {},
   "outputs": [
    {
     "data": {
      "text/html": [
       "<div>\n",
       "<style scoped>\n",
       "    .dataframe tbody tr th:only-of-type {\n",
       "        vertical-align: middle;\n",
       "    }\n",
       "\n",
       "    .dataframe tbody tr th {\n",
       "        vertical-align: top;\n",
       "    }\n",
       "\n",
       "    .dataframe thead th {\n",
       "        text-align: right;\n",
       "    }\n",
       "</style>\n",
       "<table border=\"1\" class=\"dataframe\">\n",
       "  <thead>\n",
       "    <tr style=\"text-align: right;\">\n",
       "      <th></th>\n",
       "      <th>SK_ID_CURR</th>\n",
       "      <th>TARGET</th>\n",
       "      <th>NAME_CONTRACT_TYPE</th>\n",
       "      <th>CODE_GENDER</th>\n",
       "      <th>FLAG_OWN_CAR</th>\n",
       "      <th>FLAG_OWN_REALTY</th>\n",
       "      <th>CNT_CHILDREN</th>\n",
       "      <th>AMT_INCOME_TOTAL</th>\n",
       "      <th>AMT_CREDIT</th>\n",
       "      <th>AMT_ANNUITY</th>\n",
       "      <th>...</th>\n",
       "      <th>FLAG_DOCUMENT_18</th>\n",
       "      <th>FLAG_DOCUMENT_19</th>\n",
       "      <th>FLAG_DOCUMENT_20</th>\n",
       "      <th>FLAG_DOCUMENT_21</th>\n",
       "      <th>AMT_REQ_CREDIT_BUREAU_HOUR</th>\n",
       "      <th>AMT_REQ_CREDIT_BUREAU_DAY</th>\n",
       "      <th>AMT_REQ_CREDIT_BUREAU_WEEK</th>\n",
       "      <th>AMT_REQ_CREDIT_BUREAU_MON</th>\n",
       "      <th>AMT_REQ_CREDIT_BUREAU_QRT</th>\n",
       "      <th>AMT_REQ_CREDIT_BUREAU_YEAR</th>\n",
       "    </tr>\n",
       "  </thead>\n",
       "  <tbody>\n",
       "    <tr>\n",
       "      <th>0</th>\n",
       "      <td>100002</td>\n",
       "      <td>1</td>\n",
       "      <td>Cash loans</td>\n",
       "      <td>M</td>\n",
       "      <td>N</td>\n",
       "      <td>Y</td>\n",
       "      <td>0</td>\n",
       "      <td>202500.0</td>\n",
       "      <td>406597.5</td>\n",
       "      <td>24700.5</td>\n",
       "      <td>...</td>\n",
       "      <td>0</td>\n",
       "      <td>0</td>\n",
       "      <td>0</td>\n",
       "      <td>0</td>\n",
       "      <td>0.0</td>\n",
       "      <td>0.0</td>\n",
       "      <td>0.0</td>\n",
       "      <td>0.0</td>\n",
       "      <td>0.0</td>\n",
       "      <td>1.0</td>\n",
       "    </tr>\n",
       "    <tr>\n",
       "      <th>1</th>\n",
       "      <td>100003</td>\n",
       "      <td>0</td>\n",
       "      <td>Cash loans</td>\n",
       "      <td>F</td>\n",
       "      <td>N</td>\n",
       "      <td>N</td>\n",
       "      <td>0</td>\n",
       "      <td>270000.0</td>\n",
       "      <td>1293502.5</td>\n",
       "      <td>35698.5</td>\n",
       "      <td>...</td>\n",
       "      <td>0</td>\n",
       "      <td>0</td>\n",
       "      <td>0</td>\n",
       "      <td>0</td>\n",
       "      <td>0.0</td>\n",
       "      <td>0.0</td>\n",
       "      <td>0.0</td>\n",
       "      <td>0.0</td>\n",
       "      <td>0.0</td>\n",
       "      <td>0.0</td>\n",
       "    </tr>\n",
       "    <tr>\n",
       "      <th>2</th>\n",
       "      <td>100004</td>\n",
       "      <td>0</td>\n",
       "      <td>Revolving loans</td>\n",
       "      <td>M</td>\n",
       "      <td>Y</td>\n",
       "      <td>Y</td>\n",
       "      <td>0</td>\n",
       "      <td>67500.0</td>\n",
       "      <td>135000.0</td>\n",
       "      <td>6750.0</td>\n",
       "      <td>...</td>\n",
       "      <td>0</td>\n",
       "      <td>0</td>\n",
       "      <td>0</td>\n",
       "      <td>0</td>\n",
       "      <td>0.0</td>\n",
       "      <td>0.0</td>\n",
       "      <td>0.0</td>\n",
       "      <td>0.0</td>\n",
       "      <td>0.0</td>\n",
       "      <td>0.0</td>\n",
       "    </tr>\n",
       "    <tr>\n",
       "      <th>3</th>\n",
       "      <td>100006</td>\n",
       "      <td>0</td>\n",
       "      <td>Cash loans</td>\n",
       "      <td>F</td>\n",
       "      <td>N</td>\n",
       "      <td>Y</td>\n",
       "      <td>0</td>\n",
       "      <td>135000.0</td>\n",
       "      <td>312682.5</td>\n",
       "      <td>29686.5</td>\n",
       "      <td>...</td>\n",
       "      <td>0</td>\n",
       "      <td>0</td>\n",
       "      <td>0</td>\n",
       "      <td>0</td>\n",
       "      <td>NaN</td>\n",
       "      <td>NaN</td>\n",
       "      <td>NaN</td>\n",
       "      <td>NaN</td>\n",
       "      <td>NaN</td>\n",
       "      <td>NaN</td>\n",
       "    </tr>\n",
       "    <tr>\n",
       "      <th>4</th>\n",
       "      <td>100007</td>\n",
       "      <td>0</td>\n",
       "      <td>Cash loans</td>\n",
       "      <td>M</td>\n",
       "      <td>N</td>\n",
       "      <td>Y</td>\n",
       "      <td>0</td>\n",
       "      <td>121500.0</td>\n",
       "      <td>513000.0</td>\n",
       "      <td>21865.5</td>\n",
       "      <td>...</td>\n",
       "      <td>0</td>\n",
       "      <td>0</td>\n",
       "      <td>0</td>\n",
       "      <td>0</td>\n",
       "      <td>0.0</td>\n",
       "      <td>0.0</td>\n",
       "      <td>0.0</td>\n",
       "      <td>0.0</td>\n",
       "      <td>0.0</td>\n",
       "      <td>0.0</td>\n",
       "    </tr>\n",
       "  </tbody>\n",
       "</table>\n",
       "<p>5 rows × 122 columns</p>\n",
       "</div>"
      ],
      "text/plain": [
       "   SK_ID_CURR  TARGET NAME_CONTRACT_TYPE CODE_GENDER FLAG_OWN_CAR  \\\n",
       "0      100002       1         Cash loans           M            N   \n",
       "1      100003       0         Cash loans           F            N   \n",
       "2      100004       0    Revolving loans           M            Y   \n",
       "3      100006       0         Cash loans           F            N   \n",
       "4      100007       0         Cash loans           M            N   \n",
       "\n",
       "  FLAG_OWN_REALTY  CNT_CHILDREN  AMT_INCOME_TOTAL  AMT_CREDIT  AMT_ANNUITY  \\\n",
       "0               Y             0          202500.0    406597.5      24700.5   \n",
       "1               N             0          270000.0   1293502.5      35698.5   \n",
       "2               Y             0           67500.0    135000.0       6750.0   \n",
       "3               Y             0          135000.0    312682.5      29686.5   \n",
       "4               Y             0          121500.0    513000.0      21865.5   \n",
       "\n",
       "   ...  FLAG_DOCUMENT_18 FLAG_DOCUMENT_19 FLAG_DOCUMENT_20 FLAG_DOCUMENT_21  \\\n",
       "0  ...                 0                0                0                0   \n",
       "1  ...                 0                0                0                0   \n",
       "2  ...                 0                0                0                0   \n",
       "3  ...                 0                0                0                0   \n",
       "4  ...                 0                0                0                0   \n",
       "\n",
       "  AMT_REQ_CREDIT_BUREAU_HOUR AMT_REQ_CREDIT_BUREAU_DAY  \\\n",
       "0                        0.0                       0.0   \n",
       "1                        0.0                       0.0   \n",
       "2                        0.0                       0.0   \n",
       "3                        NaN                       NaN   \n",
       "4                        0.0                       0.0   \n",
       "\n",
       "   AMT_REQ_CREDIT_BUREAU_WEEK  AMT_REQ_CREDIT_BUREAU_MON  \\\n",
       "0                         0.0                        0.0   \n",
       "1                         0.0                        0.0   \n",
       "2                         0.0                        0.0   \n",
       "3                         NaN                        NaN   \n",
       "4                         0.0                        0.0   \n",
       "\n",
       "   AMT_REQ_CREDIT_BUREAU_QRT  AMT_REQ_CREDIT_BUREAU_YEAR  \n",
       "0                        0.0                         1.0  \n",
       "1                        0.0                         0.0  \n",
       "2                        0.0                         0.0  \n",
       "3                        NaN                         NaN  \n",
       "4                        0.0                         0.0  \n",
       "\n",
       "[5 rows x 122 columns]"
      ]
     },
     "execution_count": 4,
     "metadata": {},
     "output_type": "execute_result"
    }
   ],
   "source": [
    "apli.head()"
   ]
  },
  {
   "cell_type": "code",
   "execution_count": 5,
   "id": "272f408d-b147-4a9f-b189-cdee948a67ce",
   "metadata": {},
   "outputs": [
    {
     "data": {
      "text/html": [
       "<div>\n",
       "<style scoped>\n",
       "    .dataframe tbody tr th:only-of-type {\n",
       "        vertical-align: middle;\n",
       "    }\n",
       "\n",
       "    .dataframe tbody tr th {\n",
       "        vertical-align: top;\n",
       "    }\n",
       "\n",
       "    .dataframe thead th {\n",
       "        text-align: right;\n",
       "    }\n",
       "</style>\n",
       "<table border=\"1\" class=\"dataframe\">\n",
       "  <thead>\n",
       "    <tr style=\"text-align: right;\">\n",
       "      <th></th>\n",
       "      <th>SK_ID_CURR</th>\n",
       "      <th>TARGET</th>\n",
       "      <th>CNT_CHILDREN</th>\n",
       "      <th>AMT_INCOME_TOTAL</th>\n",
       "      <th>AMT_CREDIT</th>\n",
       "      <th>AMT_ANNUITY</th>\n",
       "      <th>AMT_GOODS_PRICE</th>\n",
       "      <th>REGION_POPULATION_RELATIVE</th>\n",
       "      <th>DAYS_BIRTH</th>\n",
       "      <th>DAYS_EMPLOYED</th>\n",
       "      <th>...</th>\n",
       "      <th>FLAG_DOCUMENT_18</th>\n",
       "      <th>FLAG_DOCUMENT_19</th>\n",
       "      <th>FLAG_DOCUMENT_20</th>\n",
       "      <th>FLAG_DOCUMENT_21</th>\n",
       "      <th>AMT_REQ_CREDIT_BUREAU_HOUR</th>\n",
       "      <th>AMT_REQ_CREDIT_BUREAU_DAY</th>\n",
       "      <th>AMT_REQ_CREDIT_BUREAU_WEEK</th>\n",
       "      <th>AMT_REQ_CREDIT_BUREAU_MON</th>\n",
       "      <th>AMT_REQ_CREDIT_BUREAU_QRT</th>\n",
       "      <th>AMT_REQ_CREDIT_BUREAU_YEAR</th>\n",
       "    </tr>\n",
       "  </thead>\n",
       "  <tbody>\n",
       "    <tr>\n",
       "      <th>count</th>\n",
       "      <td>307511.000000</td>\n",
       "      <td>307511.000000</td>\n",
       "      <td>307511.000000</td>\n",
       "      <td>3.075110e+05</td>\n",
       "      <td>3.075110e+05</td>\n",
       "      <td>307499.000000</td>\n",
       "      <td>3.072330e+05</td>\n",
       "      <td>307511.000000</td>\n",
       "      <td>307511.000000</td>\n",
       "      <td>307511.000000</td>\n",
       "      <td>...</td>\n",
       "      <td>307511.000000</td>\n",
       "      <td>307511.000000</td>\n",
       "      <td>307511.000000</td>\n",
       "      <td>307511.000000</td>\n",
       "      <td>265992.000000</td>\n",
       "      <td>265992.000000</td>\n",
       "      <td>265992.000000</td>\n",
       "      <td>265992.000000</td>\n",
       "      <td>265992.000000</td>\n",
       "      <td>265992.000000</td>\n",
       "    </tr>\n",
       "    <tr>\n",
       "      <th>mean</th>\n",
       "      <td>278180.518577</td>\n",
       "      <td>0.080729</td>\n",
       "      <td>0.417052</td>\n",
       "      <td>1.687979e+05</td>\n",
       "      <td>5.990260e+05</td>\n",
       "      <td>27108.573909</td>\n",
       "      <td>5.383962e+05</td>\n",
       "      <td>0.020868</td>\n",
       "      <td>-16036.995067</td>\n",
       "      <td>63815.045904</td>\n",
       "      <td>...</td>\n",
       "      <td>0.008130</td>\n",
       "      <td>0.000595</td>\n",
       "      <td>0.000507</td>\n",
       "      <td>0.000335</td>\n",
       "      <td>0.006402</td>\n",
       "      <td>0.007000</td>\n",
       "      <td>0.034362</td>\n",
       "      <td>0.267395</td>\n",
       "      <td>0.265474</td>\n",
       "      <td>1.899974</td>\n",
       "    </tr>\n",
       "    <tr>\n",
       "      <th>std</th>\n",
       "      <td>102790.175348</td>\n",
       "      <td>0.272419</td>\n",
       "      <td>0.722121</td>\n",
       "      <td>2.371231e+05</td>\n",
       "      <td>4.024908e+05</td>\n",
       "      <td>14493.737315</td>\n",
       "      <td>3.694465e+05</td>\n",
       "      <td>0.013831</td>\n",
       "      <td>4363.988632</td>\n",
       "      <td>141275.766519</td>\n",
       "      <td>...</td>\n",
       "      <td>0.089798</td>\n",
       "      <td>0.024387</td>\n",
       "      <td>0.022518</td>\n",
       "      <td>0.018299</td>\n",
       "      <td>0.083849</td>\n",
       "      <td>0.110757</td>\n",
       "      <td>0.204685</td>\n",
       "      <td>0.916002</td>\n",
       "      <td>0.794056</td>\n",
       "      <td>1.869295</td>\n",
       "    </tr>\n",
       "    <tr>\n",
       "      <th>min</th>\n",
       "      <td>100002.000000</td>\n",
       "      <td>0.000000</td>\n",
       "      <td>0.000000</td>\n",
       "      <td>2.565000e+04</td>\n",
       "      <td>4.500000e+04</td>\n",
       "      <td>1615.500000</td>\n",
       "      <td>4.050000e+04</td>\n",
       "      <td>0.000290</td>\n",
       "      <td>-25229.000000</td>\n",
       "      <td>-17912.000000</td>\n",
       "      <td>...</td>\n",
       "      <td>0.000000</td>\n",
       "      <td>0.000000</td>\n",
       "      <td>0.000000</td>\n",
       "      <td>0.000000</td>\n",
       "      <td>0.000000</td>\n",
       "      <td>0.000000</td>\n",
       "      <td>0.000000</td>\n",
       "      <td>0.000000</td>\n",
       "      <td>0.000000</td>\n",
       "      <td>0.000000</td>\n",
       "    </tr>\n",
       "    <tr>\n",
       "      <th>25%</th>\n",
       "      <td>189145.500000</td>\n",
       "      <td>0.000000</td>\n",
       "      <td>0.000000</td>\n",
       "      <td>1.125000e+05</td>\n",
       "      <td>2.700000e+05</td>\n",
       "      <td>16524.000000</td>\n",
       "      <td>2.385000e+05</td>\n",
       "      <td>0.010006</td>\n",
       "      <td>-19682.000000</td>\n",
       "      <td>-2760.000000</td>\n",
       "      <td>...</td>\n",
       "      <td>0.000000</td>\n",
       "      <td>0.000000</td>\n",
       "      <td>0.000000</td>\n",
       "      <td>0.000000</td>\n",
       "      <td>0.000000</td>\n",
       "      <td>0.000000</td>\n",
       "      <td>0.000000</td>\n",
       "      <td>0.000000</td>\n",
       "      <td>0.000000</td>\n",
       "      <td>0.000000</td>\n",
       "    </tr>\n",
       "    <tr>\n",
       "      <th>50%</th>\n",
       "      <td>278202.000000</td>\n",
       "      <td>0.000000</td>\n",
       "      <td>0.000000</td>\n",
       "      <td>1.471500e+05</td>\n",
       "      <td>5.135310e+05</td>\n",
       "      <td>24903.000000</td>\n",
       "      <td>4.500000e+05</td>\n",
       "      <td>0.018850</td>\n",
       "      <td>-15750.000000</td>\n",
       "      <td>-1213.000000</td>\n",
       "      <td>...</td>\n",
       "      <td>0.000000</td>\n",
       "      <td>0.000000</td>\n",
       "      <td>0.000000</td>\n",
       "      <td>0.000000</td>\n",
       "      <td>0.000000</td>\n",
       "      <td>0.000000</td>\n",
       "      <td>0.000000</td>\n",
       "      <td>0.000000</td>\n",
       "      <td>0.000000</td>\n",
       "      <td>1.000000</td>\n",
       "    </tr>\n",
       "    <tr>\n",
       "      <th>75%</th>\n",
       "      <td>367142.500000</td>\n",
       "      <td>0.000000</td>\n",
       "      <td>1.000000</td>\n",
       "      <td>2.025000e+05</td>\n",
       "      <td>8.086500e+05</td>\n",
       "      <td>34596.000000</td>\n",
       "      <td>6.795000e+05</td>\n",
       "      <td>0.028663</td>\n",
       "      <td>-12413.000000</td>\n",
       "      <td>-289.000000</td>\n",
       "      <td>...</td>\n",
       "      <td>0.000000</td>\n",
       "      <td>0.000000</td>\n",
       "      <td>0.000000</td>\n",
       "      <td>0.000000</td>\n",
       "      <td>0.000000</td>\n",
       "      <td>0.000000</td>\n",
       "      <td>0.000000</td>\n",
       "      <td>0.000000</td>\n",
       "      <td>0.000000</td>\n",
       "      <td>3.000000</td>\n",
       "    </tr>\n",
       "    <tr>\n",
       "      <th>max</th>\n",
       "      <td>456255.000000</td>\n",
       "      <td>1.000000</td>\n",
       "      <td>19.000000</td>\n",
       "      <td>1.170000e+08</td>\n",
       "      <td>4.050000e+06</td>\n",
       "      <td>258025.500000</td>\n",
       "      <td>4.050000e+06</td>\n",
       "      <td>0.072508</td>\n",
       "      <td>-7489.000000</td>\n",
       "      <td>365243.000000</td>\n",
       "      <td>...</td>\n",
       "      <td>1.000000</td>\n",
       "      <td>1.000000</td>\n",
       "      <td>1.000000</td>\n",
       "      <td>1.000000</td>\n",
       "      <td>4.000000</td>\n",
       "      <td>9.000000</td>\n",
       "      <td>8.000000</td>\n",
       "      <td>27.000000</td>\n",
       "      <td>261.000000</td>\n",
       "      <td>25.000000</td>\n",
       "    </tr>\n",
       "  </tbody>\n",
       "</table>\n",
       "<p>8 rows × 106 columns</p>\n",
       "</div>"
      ],
      "text/plain": [
       "          SK_ID_CURR         TARGET   CNT_CHILDREN  AMT_INCOME_TOTAL  \\\n",
       "count  307511.000000  307511.000000  307511.000000      3.075110e+05   \n",
       "mean   278180.518577       0.080729       0.417052      1.687979e+05   \n",
       "std    102790.175348       0.272419       0.722121      2.371231e+05   \n",
       "min    100002.000000       0.000000       0.000000      2.565000e+04   \n",
       "25%    189145.500000       0.000000       0.000000      1.125000e+05   \n",
       "50%    278202.000000       0.000000       0.000000      1.471500e+05   \n",
       "75%    367142.500000       0.000000       1.000000      2.025000e+05   \n",
       "max    456255.000000       1.000000      19.000000      1.170000e+08   \n",
       "\n",
       "         AMT_CREDIT    AMT_ANNUITY  AMT_GOODS_PRICE  \\\n",
       "count  3.075110e+05  307499.000000     3.072330e+05   \n",
       "mean   5.990260e+05   27108.573909     5.383962e+05   \n",
       "std    4.024908e+05   14493.737315     3.694465e+05   \n",
       "min    4.500000e+04    1615.500000     4.050000e+04   \n",
       "25%    2.700000e+05   16524.000000     2.385000e+05   \n",
       "50%    5.135310e+05   24903.000000     4.500000e+05   \n",
       "75%    8.086500e+05   34596.000000     6.795000e+05   \n",
       "max    4.050000e+06  258025.500000     4.050000e+06   \n",
       "\n",
       "       REGION_POPULATION_RELATIVE     DAYS_BIRTH  DAYS_EMPLOYED  ...  \\\n",
       "count               307511.000000  307511.000000  307511.000000  ...   \n",
       "mean                     0.020868  -16036.995067   63815.045904  ...   \n",
       "std                      0.013831    4363.988632  141275.766519  ...   \n",
       "min                      0.000290  -25229.000000  -17912.000000  ...   \n",
       "25%                      0.010006  -19682.000000   -2760.000000  ...   \n",
       "50%                      0.018850  -15750.000000   -1213.000000  ...   \n",
       "75%                      0.028663  -12413.000000    -289.000000  ...   \n",
       "max                      0.072508   -7489.000000  365243.000000  ...   \n",
       "\n",
       "       FLAG_DOCUMENT_18  FLAG_DOCUMENT_19  FLAG_DOCUMENT_20  FLAG_DOCUMENT_21  \\\n",
       "count     307511.000000     307511.000000     307511.000000     307511.000000   \n",
       "mean           0.008130          0.000595          0.000507          0.000335   \n",
       "std            0.089798          0.024387          0.022518          0.018299   \n",
       "min            0.000000          0.000000          0.000000          0.000000   \n",
       "25%            0.000000          0.000000          0.000000          0.000000   \n",
       "50%            0.000000          0.000000          0.000000          0.000000   \n",
       "75%            0.000000          0.000000          0.000000          0.000000   \n",
       "max            1.000000          1.000000          1.000000          1.000000   \n",
       "\n",
       "       AMT_REQ_CREDIT_BUREAU_HOUR  AMT_REQ_CREDIT_BUREAU_DAY  \\\n",
       "count               265992.000000              265992.000000   \n",
       "mean                     0.006402                   0.007000   \n",
       "std                      0.083849                   0.110757   \n",
       "min                      0.000000                   0.000000   \n",
       "25%                      0.000000                   0.000000   \n",
       "50%                      0.000000                   0.000000   \n",
       "75%                      0.000000                   0.000000   \n",
       "max                      4.000000                   9.000000   \n",
       "\n",
       "       AMT_REQ_CREDIT_BUREAU_WEEK  AMT_REQ_CREDIT_BUREAU_MON  \\\n",
       "count               265992.000000              265992.000000   \n",
       "mean                     0.034362                   0.267395   \n",
       "std                      0.204685                   0.916002   \n",
       "min                      0.000000                   0.000000   \n",
       "25%                      0.000000                   0.000000   \n",
       "50%                      0.000000                   0.000000   \n",
       "75%                      0.000000                   0.000000   \n",
       "max                      8.000000                  27.000000   \n",
       "\n",
       "       AMT_REQ_CREDIT_BUREAU_QRT  AMT_REQ_CREDIT_BUREAU_YEAR  \n",
       "count              265992.000000               265992.000000  \n",
       "mean                    0.265474                    1.899974  \n",
       "std                     0.794056                    1.869295  \n",
       "min                     0.000000                    0.000000  \n",
       "25%                     0.000000                    0.000000  \n",
       "50%                     0.000000                    1.000000  \n",
       "75%                     0.000000                    3.000000  \n",
       "max                   261.000000                   25.000000  \n",
       "\n",
       "[8 rows x 106 columns]"
      ]
     },
     "execution_count": 5,
     "metadata": {},
     "output_type": "execute_result"
    }
   ],
   "source": [
    "apli.describe()"
   ]
  },
  {
   "cell_type": "code",
   "execution_count": 6,
   "id": "5db2defb-47c2-4d9a-ad05-1effe7b1af75",
   "metadata": {},
   "outputs": [
    {
     "name": "stdout",
     "output_type": "stream",
     "text": [
      "<class 'pandas.core.frame.DataFrame'>\n",
      "RangeIndex: 307511 entries, 0 to 307510\n",
      "Data columns (total 122 columns):\n",
      " #    Column                        Dtype  \n",
      "---   ------                        -----  \n",
      " 0    SK_ID_CURR                    int64  \n",
      " 1    TARGET                        int64  \n",
      " 2    NAME_CONTRACT_TYPE            object \n",
      " 3    CODE_GENDER                   object \n",
      " 4    FLAG_OWN_CAR                  object \n",
      " 5    FLAG_OWN_REALTY               object \n",
      " 6    CNT_CHILDREN                  int64  \n",
      " 7    AMT_INCOME_TOTAL              float64\n",
      " 8    AMT_CREDIT                    float64\n",
      " 9    AMT_ANNUITY                   float64\n",
      " 10   AMT_GOODS_PRICE               float64\n",
      " 11   NAME_TYPE_SUITE               object \n",
      " 12   NAME_INCOME_TYPE              object \n",
      " 13   NAME_EDUCATION_TYPE           object \n",
      " 14   NAME_FAMILY_STATUS            object \n",
      " 15   NAME_HOUSING_TYPE             object \n",
      " 16   REGION_POPULATION_RELATIVE    float64\n",
      " 17   DAYS_BIRTH                    int64  \n",
      " 18   DAYS_EMPLOYED                 int64  \n",
      " 19   DAYS_REGISTRATION             float64\n",
      " 20   DAYS_ID_PUBLISH               int64  \n",
      " 21   OWN_CAR_AGE                   float64\n",
      " 22   FLAG_MOBIL                    int64  \n",
      " 23   FLAG_EMP_PHONE                int64  \n",
      " 24   FLAG_WORK_PHONE               int64  \n",
      " 25   FLAG_CONT_MOBILE              int64  \n",
      " 26   FLAG_PHONE                    int64  \n",
      " 27   FLAG_EMAIL                    int64  \n",
      " 28   OCCUPATION_TYPE               object \n",
      " 29   CNT_FAM_MEMBERS               float64\n",
      " 30   REGION_RATING_CLIENT          int64  \n",
      " 31   REGION_RATING_CLIENT_W_CITY   int64  \n",
      " 32   WEEKDAY_APPR_PROCESS_START    object \n",
      " 33   HOUR_APPR_PROCESS_START       int64  \n",
      " 34   REG_REGION_NOT_LIVE_REGION    int64  \n",
      " 35   REG_REGION_NOT_WORK_REGION    int64  \n",
      " 36   LIVE_REGION_NOT_WORK_REGION   int64  \n",
      " 37   REG_CITY_NOT_LIVE_CITY        int64  \n",
      " 38   REG_CITY_NOT_WORK_CITY        int64  \n",
      " 39   LIVE_CITY_NOT_WORK_CITY       int64  \n",
      " 40   ORGANIZATION_TYPE             object \n",
      " 41   EXT_SOURCE_1                  float64\n",
      " 42   EXT_SOURCE_2                  float64\n",
      " 43   EXT_SOURCE_3                  float64\n",
      " 44   APARTMENTS_AVG                float64\n",
      " 45   BASEMENTAREA_AVG              float64\n",
      " 46   YEARS_BEGINEXPLUATATION_AVG   float64\n",
      " 47   YEARS_BUILD_AVG               float64\n",
      " 48   COMMONAREA_AVG                float64\n",
      " 49   ELEVATORS_AVG                 float64\n",
      " 50   ENTRANCES_AVG                 float64\n",
      " 51   FLOORSMAX_AVG                 float64\n",
      " 52   FLOORSMIN_AVG                 float64\n",
      " 53   LANDAREA_AVG                  float64\n",
      " 54   LIVINGAPARTMENTS_AVG          float64\n",
      " 55   LIVINGAREA_AVG                float64\n",
      " 56   NONLIVINGAPARTMENTS_AVG       float64\n",
      " 57   NONLIVINGAREA_AVG             float64\n",
      " 58   APARTMENTS_MODE               float64\n",
      " 59   BASEMENTAREA_MODE             float64\n",
      " 60   YEARS_BEGINEXPLUATATION_MODE  float64\n",
      " 61   YEARS_BUILD_MODE              float64\n",
      " 62   COMMONAREA_MODE               float64\n",
      " 63   ELEVATORS_MODE                float64\n",
      " 64   ENTRANCES_MODE                float64\n",
      " 65   FLOORSMAX_MODE                float64\n",
      " 66   FLOORSMIN_MODE                float64\n",
      " 67   LANDAREA_MODE                 float64\n",
      " 68   LIVINGAPARTMENTS_MODE         float64\n",
      " 69   LIVINGAREA_MODE               float64\n",
      " 70   NONLIVINGAPARTMENTS_MODE      float64\n",
      " 71   NONLIVINGAREA_MODE            float64\n",
      " 72   APARTMENTS_MEDI               float64\n",
      " 73   BASEMENTAREA_MEDI             float64\n",
      " 74   YEARS_BEGINEXPLUATATION_MEDI  float64\n",
      " 75   YEARS_BUILD_MEDI              float64\n",
      " 76   COMMONAREA_MEDI               float64\n",
      " 77   ELEVATORS_MEDI                float64\n",
      " 78   ENTRANCES_MEDI                float64\n",
      " 79   FLOORSMAX_MEDI                float64\n",
      " 80   FLOORSMIN_MEDI                float64\n",
      " 81   LANDAREA_MEDI                 float64\n",
      " 82   LIVINGAPARTMENTS_MEDI         float64\n",
      " 83   LIVINGAREA_MEDI               float64\n",
      " 84   NONLIVINGAPARTMENTS_MEDI      float64\n",
      " 85   NONLIVINGAREA_MEDI            float64\n",
      " 86   FONDKAPREMONT_MODE            object \n",
      " 87   HOUSETYPE_MODE                object \n",
      " 88   TOTALAREA_MODE                float64\n",
      " 89   WALLSMATERIAL_MODE            object \n",
      " 90   EMERGENCYSTATE_MODE           object \n",
      " 91   OBS_30_CNT_SOCIAL_CIRCLE      float64\n",
      " 92   DEF_30_CNT_SOCIAL_CIRCLE      float64\n",
      " 93   OBS_60_CNT_SOCIAL_CIRCLE      float64\n",
      " 94   DEF_60_CNT_SOCIAL_CIRCLE      float64\n",
      " 95   DAYS_LAST_PHONE_CHANGE        float64\n",
      " 96   FLAG_DOCUMENT_2               int64  \n",
      " 97   FLAG_DOCUMENT_3               int64  \n",
      " 98   FLAG_DOCUMENT_4               int64  \n",
      " 99   FLAG_DOCUMENT_5               int64  \n",
      " 100  FLAG_DOCUMENT_6               int64  \n",
      " 101  FLAG_DOCUMENT_7               int64  \n",
      " 102  FLAG_DOCUMENT_8               int64  \n",
      " 103  FLAG_DOCUMENT_9               int64  \n",
      " 104  FLAG_DOCUMENT_10              int64  \n",
      " 105  FLAG_DOCUMENT_11              int64  \n",
      " 106  FLAG_DOCUMENT_12              int64  \n",
      " 107  FLAG_DOCUMENT_13              int64  \n",
      " 108  FLAG_DOCUMENT_14              int64  \n",
      " 109  FLAG_DOCUMENT_15              int64  \n",
      " 110  FLAG_DOCUMENT_16              int64  \n",
      " 111  FLAG_DOCUMENT_17              int64  \n",
      " 112  FLAG_DOCUMENT_18              int64  \n",
      " 113  FLAG_DOCUMENT_19              int64  \n",
      " 114  FLAG_DOCUMENT_20              int64  \n",
      " 115  FLAG_DOCUMENT_21              int64  \n",
      " 116  AMT_REQ_CREDIT_BUREAU_HOUR    float64\n",
      " 117  AMT_REQ_CREDIT_BUREAU_DAY     float64\n",
      " 118  AMT_REQ_CREDIT_BUREAU_WEEK    float64\n",
      " 119  AMT_REQ_CREDIT_BUREAU_MON     float64\n",
      " 120  AMT_REQ_CREDIT_BUREAU_QRT     float64\n",
      " 121  AMT_REQ_CREDIT_BUREAU_YEAR    float64\n",
      "dtypes: float64(65), int64(41), object(16)\n",
      "memory usage: 286.2+ MB\n"
     ]
    }
   ],
   "source": [
    "apli.info('all')"
   ]
  },
  {
   "cell_type": "code",
   "execution_count": null,
   "id": "56f17631-dfe0-4185-a668-4703286400b3",
   "metadata": {},
   "outputs": [],
   "source": []
  },
  {
   "cell_type": "code",
   "execution_count": null,
   "id": "1722361d-edaf-42ce-8a3a-92ac8c07c28a",
   "metadata": {},
   "outputs": [],
   "source": []
  },
  {
   "cell_type": "code",
   "execution_count": null,
   "id": "7c138aed-068a-4143-9836-6099a8e0aa79",
   "metadata": {},
   "outputs": [],
   "source": []
  },
  {
   "cell_type": "code",
   "execution_count": 10,
   "id": "dbf2c304-e3a7-4b5a-89d2-fd72a03dc1e2",
   "metadata": {},
   "outputs": [
    {
     "name": "stdout",
     "output_type": "stream",
     "text": [
      "Original data features:  ['SK_ID_CURR', 'TARGET', 'NAME_CONTRACT_TYPE', 'CODE_GENDER', 'FLAG_OWN_CAR', 'FLAG_OWN_REALTY', 'CNT_CHILDREN', 'AMT_INCOME_TOTAL', 'AMT_CREDIT', 'AMT_ANNUITY', 'AMT_GOODS_PRICE', 'NAME_TYPE_SUITE', 'NAME_INCOME_TYPE', 'NAME_EDUCATION_TYPE', 'NAME_FAMILY_STATUS', 'NAME_HOUSING_TYPE', 'REGION_POPULATION_RELATIVE', 'DAYS_BIRTH', 'DAYS_EMPLOYED', 'DAYS_REGISTRATION', 'DAYS_ID_PUBLISH', 'OWN_CAR_AGE', 'FLAG_MOBIL', 'FLAG_EMP_PHONE', 'FLAG_WORK_PHONE', 'FLAG_CONT_MOBILE', 'FLAG_PHONE', 'FLAG_EMAIL', 'OCCUPATION_TYPE', 'CNT_FAM_MEMBERS', 'REGION_RATING_CLIENT', 'REGION_RATING_CLIENT_W_CITY', 'WEEKDAY_APPR_PROCESS_START', 'HOUR_APPR_PROCESS_START', 'REG_REGION_NOT_LIVE_REGION', 'REG_REGION_NOT_WORK_REGION', 'LIVE_REGION_NOT_WORK_REGION', 'REG_CITY_NOT_LIVE_CITY', 'REG_CITY_NOT_WORK_CITY', 'LIVE_CITY_NOT_WORK_CITY', 'ORGANIZATION_TYPE', 'EXT_SOURCE_1', 'EXT_SOURCE_2', 'EXT_SOURCE_3', 'APARTMENTS_AVG', 'BASEMENTAREA_AVG', 'YEARS_BEGINEXPLUATATION_AVG', 'YEARS_BUILD_AVG', 'COMMONAREA_AVG', 'ELEVATORS_AVG', 'ENTRANCES_AVG', 'FLOORSMAX_AVG', 'FLOORSMIN_AVG', 'LANDAREA_AVG', 'LIVINGAPARTMENTS_AVG', 'LIVINGAREA_AVG', 'NONLIVINGAPARTMENTS_AVG', 'NONLIVINGAREA_AVG', 'APARTMENTS_MODE', 'BASEMENTAREA_MODE', 'YEARS_BEGINEXPLUATATION_MODE', 'YEARS_BUILD_MODE', 'COMMONAREA_MODE', 'ELEVATORS_MODE', 'ENTRANCES_MODE', 'FLOORSMAX_MODE', 'FLOORSMIN_MODE', 'LANDAREA_MODE', 'LIVINGAPARTMENTS_MODE', 'LIVINGAREA_MODE', 'NONLIVINGAPARTMENTS_MODE', 'NONLIVINGAREA_MODE', 'APARTMENTS_MEDI', 'BASEMENTAREA_MEDI', 'YEARS_BEGINEXPLUATATION_MEDI', 'YEARS_BUILD_MEDI', 'COMMONAREA_MEDI', 'ELEVATORS_MEDI', 'ENTRANCES_MEDI', 'FLOORSMAX_MEDI', 'FLOORSMIN_MEDI', 'LANDAREA_MEDI', 'LIVINGAPARTMENTS_MEDI', 'LIVINGAREA_MEDI', 'NONLIVINGAPARTMENTS_MEDI', 'NONLIVINGAREA_MEDI', 'FONDKAPREMONT_MODE', 'HOUSETYPE_MODE', 'TOTALAREA_MODE', 'WALLSMATERIAL_MODE', 'EMERGENCYSTATE_MODE', 'OBS_30_CNT_SOCIAL_CIRCLE', 'DEF_30_CNT_SOCIAL_CIRCLE', 'OBS_60_CNT_SOCIAL_CIRCLE', 'DEF_60_CNT_SOCIAL_CIRCLE', 'DAYS_LAST_PHONE_CHANGE', 'FLAG_DOCUMENT_2', 'FLAG_DOCUMENT_3', 'FLAG_DOCUMENT_4', 'FLAG_DOCUMENT_5', 'FLAG_DOCUMENT_6', 'FLAG_DOCUMENT_7', 'FLAG_DOCUMENT_8', 'FLAG_DOCUMENT_9', 'FLAG_DOCUMENT_10', 'FLAG_DOCUMENT_11', 'FLAG_DOCUMENT_12', 'FLAG_DOCUMENT_13', 'FLAG_DOCUMENT_14', 'FLAG_DOCUMENT_15', 'FLAG_DOCUMENT_16', 'FLAG_DOCUMENT_17', 'FLAG_DOCUMENT_18', 'FLAG_DOCUMENT_19', 'FLAG_DOCUMENT_20', 'FLAG_DOCUMENT_21', 'AMT_REQ_CREDIT_BUREAU_HOUR', 'AMT_REQ_CREDIT_BUREAU_DAY', 'AMT_REQ_CREDIT_BUREAU_WEEK', 'AMT_REQ_CREDIT_BUREAU_MON', 'AMT_REQ_CREDIT_BUREAU_QRT', 'AMT_REQ_CREDIT_BUREAU_YEAR']\n"
     ]
    }
   ],
   "source": [
    "print(\"Original data features: \", appdf.columns.tolist())"
   ]
  },
  {
   "cell_type": "code",
   "execution_count": 11,
   "id": "fd014a03-d40f-4680-bdc4-1750e002d90e",
   "metadata": {},
   "outputs": [
    {
     "data": {
      "text/plain": [
       "9152465"
      ]
     },
     "execution_count": 11,
     "metadata": {},
     "output_type": "execute_result"
    }
   ],
   "source": [
    "apli.isnull().values.sum()"
   ]
  },
  {
   "cell_type": "code",
   "execution_count": 12,
   "id": "bda078b7-fd10-46a6-8fe1-7d47f9658b2d",
   "metadata": {},
   "outputs": [
    {
     "data": {
      "text/plain": [
       "Index(['AMT_ANNUITY', 'AMT_GOODS_PRICE', 'NAME_TYPE_SUITE', 'OWN_CAR_AGE',\n",
       "       'OCCUPATION_TYPE', 'CNT_FAM_MEMBERS', 'EXT_SOURCE_1', 'EXT_SOURCE_2',\n",
       "       'EXT_SOURCE_3', 'APARTMENTS_AVG', 'BASEMENTAREA_AVG',\n",
       "       'YEARS_BEGINEXPLUATATION_AVG', 'YEARS_BUILD_AVG', 'COMMONAREA_AVG',\n",
       "       'ELEVATORS_AVG', 'ENTRANCES_AVG', 'FLOORSMAX_AVG', 'FLOORSMIN_AVG',\n",
       "       'LANDAREA_AVG', 'LIVINGAPARTMENTS_AVG', 'LIVINGAREA_AVG',\n",
       "       'NONLIVINGAPARTMENTS_AVG', 'NONLIVINGAREA_AVG', 'APARTMENTS_MODE',\n",
       "       'BASEMENTAREA_MODE', 'YEARS_BEGINEXPLUATATION_MODE', 'YEARS_BUILD_MODE',\n",
       "       'COMMONAREA_MODE', 'ELEVATORS_MODE', 'ENTRANCES_MODE', 'FLOORSMAX_MODE',\n",
       "       'FLOORSMIN_MODE', 'LANDAREA_MODE', 'LIVINGAPARTMENTS_MODE',\n",
       "       'LIVINGAREA_MODE', 'NONLIVINGAPARTMENTS_MODE', 'NONLIVINGAREA_MODE',\n",
       "       'APARTMENTS_MEDI', 'BASEMENTAREA_MEDI', 'YEARS_BEGINEXPLUATATION_MEDI',\n",
       "       'YEARS_BUILD_MEDI', 'COMMONAREA_MEDI', 'ELEVATORS_MEDI',\n",
       "       'ENTRANCES_MEDI', 'FLOORSMAX_MEDI', 'FLOORSMIN_MEDI', 'LANDAREA_MEDI',\n",
       "       'LIVINGAPARTMENTS_MEDI', 'LIVINGAREA_MEDI', 'NONLIVINGAPARTMENTS_MEDI',\n",
       "       'NONLIVINGAREA_MEDI', 'FONDKAPREMONT_MODE', 'HOUSETYPE_MODE',\n",
       "       'TOTALAREA_MODE', 'WALLSMATERIAL_MODE', 'EMERGENCYSTATE_MODE',\n",
       "       'OBS_30_CNT_SOCIAL_CIRCLE', 'DEF_30_CNT_SOCIAL_CIRCLE',\n",
       "       'OBS_60_CNT_SOCIAL_CIRCLE', 'DEF_60_CNT_SOCIAL_CIRCLE',\n",
       "       'DAYS_LAST_PHONE_CHANGE', 'AMT_REQ_CREDIT_BUREAU_HOUR',\n",
       "       'AMT_REQ_CREDIT_BUREAU_DAY', 'AMT_REQ_CREDIT_BUREAU_WEEK',\n",
       "       'AMT_REQ_CREDIT_BUREAU_MON', 'AMT_REQ_CREDIT_BUREAU_QRT',\n",
       "       'AMT_REQ_CREDIT_BUREAU_YEAR'],\n",
       "      dtype='object')"
      ]
     },
     "execution_count": 12,
     "metadata": {},
     "output_type": "execute_result"
    }
   ],
   "source": [
    "apli.columns[apli.isnull().any()]"
   ]
  },
  {
   "cell_type": "code",
   "execution_count": 13,
   "id": "d5ecbadd-fbec-438c-8f5b-7999cf83981d",
   "metadata": {},
   "outputs": [
    {
     "data": {
      "text/plain": [
       "67"
      ]
     },
     "execution_count": 13,
     "metadata": {},
     "output_type": "execute_result"
    }
   ],
   "source": [
    "len(apli.columns[apli.isnull().any()])"
   ]
  },
  {
   "cell_type": "markdown",
   "id": "58d5b3f3-afd5-4df1-8690-91c60154c7a1",
   "metadata": {},
   "source": [
    "Computing count and percentage of missing values"
   ]
  },
  {
   "cell_type": "code",
   "execution_count": 15,
   "id": "d2c0c214-197c-4415-a4b8-856a5a081eff",
   "metadata": {},
   "outputs": [],
   "source": [
    "null_count = apli.isnull().sum()"
   ]
  },
  {
   "cell_type": "code",
   "execution_count": 16,
   "id": "ea610b29-58e3-49af-a72a-9781dc73a554",
   "metadata": {},
   "outputs": [],
   "source": [
    "null_percentage = round((apli.isnull().sum()/apli.shape[0])*100, 2)"
   ]
  },
  {
   "cell_type": "code",
   "execution_count": 17,
   "id": "7046d2f1-df68-4e9b-ab64-64e07c0a72c0",
   "metadata": {},
   "outputs": [
    {
     "data": {
      "text/plain": [
       "SK_ID_CURR                     0.0\n",
       "TARGET                         0.0\n",
       "NAME_CONTRACT_TYPE             0.0\n",
       "CODE_GENDER                    0.0\n",
       "FLAG_OWN_CAR                   0.0\n",
       "                              ... \n",
       "AMT_REQ_CREDIT_BUREAU_DAY     13.5\n",
       "AMT_REQ_CREDIT_BUREAU_WEEK    13.5\n",
       "AMT_REQ_CREDIT_BUREAU_MON     13.5\n",
       "AMT_REQ_CREDIT_BUREAU_QRT     13.5\n",
       "AMT_REQ_CREDIT_BUREAU_YEAR    13.5\n",
       "Length: 122, dtype: float64"
      ]
     },
     "execution_count": 17,
     "metadata": {},
     "output_type": "execute_result"
    }
   ],
   "source": [
    "null_percentage"
   ]
  },
  {
   "cell_type": "code",
   "execution_count": 18,
   "id": "feb99e1e-d462-47b5-869e-e41a2bcd9d16",
   "metadata": {},
   "outputs": [],
   "source": [
    "null_df = pd.DataFrame({'column_name' : apli.columns,'null_count' : null_count,'null_percentage': null_percentage})\n",
    "null_df.reset_index(drop = True, inplace = True)"
   ]
  },
  {
   "cell_type": "code",
   "execution_count": 19,
   "id": "9626b6b0-8700-4a5e-b230-2d2f9763731d",
   "metadata": {},
   "outputs": [
    {
     "data": {
      "text/html": [
       "<div>\n",
       "<style scoped>\n",
       "    .dataframe tbody tr th:only-of-type {\n",
       "        vertical-align: middle;\n",
       "    }\n",
       "\n",
       "    .dataframe tbody tr th {\n",
       "        vertical-align: top;\n",
       "    }\n",
       "\n",
       "    .dataframe thead th {\n",
       "        text-align: right;\n",
       "    }\n",
       "</style>\n",
       "<table border=\"1\" class=\"dataframe\">\n",
       "  <thead>\n",
       "    <tr style=\"text-align: right;\">\n",
       "      <th></th>\n",
       "      <th>column_name</th>\n",
       "      <th>null_count</th>\n",
       "      <th>null_percentage</th>\n",
       "    </tr>\n",
       "  </thead>\n",
       "  <tbody>\n",
       "    <tr>\n",
       "      <th>76</th>\n",
       "      <td>COMMONAREA_MEDI</td>\n",
       "      <td>214865</td>\n",
       "      <td>69.87</td>\n",
       "    </tr>\n",
       "    <tr>\n",
       "      <th>48</th>\n",
       "      <td>COMMONAREA_AVG</td>\n",
       "      <td>214865</td>\n",
       "      <td>69.87</td>\n",
       "    </tr>\n",
       "    <tr>\n",
       "      <th>62</th>\n",
       "      <td>COMMONAREA_MODE</td>\n",
       "      <td>214865</td>\n",
       "      <td>69.87</td>\n",
       "    </tr>\n",
       "    <tr>\n",
       "      <th>70</th>\n",
       "      <td>NONLIVINGAPARTMENTS_MODE</td>\n",
       "      <td>213514</td>\n",
       "      <td>69.43</td>\n",
       "    </tr>\n",
       "    <tr>\n",
       "      <th>56</th>\n",
       "      <td>NONLIVINGAPARTMENTS_AVG</td>\n",
       "      <td>213514</td>\n",
       "      <td>69.43</td>\n",
       "    </tr>\n",
       "    <tr>\n",
       "      <th>...</th>\n",
       "      <td>...</td>\n",
       "      <td>...</td>\n",
       "      <td>...</td>\n",
       "    </tr>\n",
       "    <tr>\n",
       "      <th>14</th>\n",
       "      <td>NAME_FAMILY_STATUS</td>\n",
       "      <td>0</td>\n",
       "      <td>0.00</td>\n",
       "    </tr>\n",
       "    <tr>\n",
       "      <th>13</th>\n",
       "      <td>NAME_EDUCATION_TYPE</td>\n",
       "      <td>0</td>\n",
       "      <td>0.00</td>\n",
       "    </tr>\n",
       "    <tr>\n",
       "      <th>12</th>\n",
       "      <td>NAME_INCOME_TYPE</td>\n",
       "      <td>0</td>\n",
       "      <td>0.00</td>\n",
       "    </tr>\n",
       "    <tr>\n",
       "      <th>9</th>\n",
       "      <td>AMT_ANNUITY</td>\n",
       "      <td>12</td>\n",
       "      <td>0.00</td>\n",
       "    </tr>\n",
       "    <tr>\n",
       "      <th>0</th>\n",
       "      <td>SK_ID_CURR</td>\n",
       "      <td>0</td>\n",
       "      <td>0.00</td>\n",
       "    </tr>\n",
       "  </tbody>\n",
       "</table>\n",
       "<p>122 rows × 3 columns</p>\n",
       "</div>"
      ],
      "text/plain": [
       "                 column_name  null_count  null_percentage\n",
       "76           COMMONAREA_MEDI      214865            69.87\n",
       "48            COMMONAREA_AVG      214865            69.87\n",
       "62           COMMONAREA_MODE      214865            69.87\n",
       "70  NONLIVINGAPARTMENTS_MODE      213514            69.43\n",
       "56   NONLIVINGAPARTMENTS_AVG      213514            69.43\n",
       "..                       ...         ...              ...\n",
       "14        NAME_FAMILY_STATUS           0             0.00\n",
       "13       NAME_EDUCATION_TYPE           0             0.00\n",
       "12          NAME_INCOME_TYPE           0             0.00\n",
       "9                AMT_ANNUITY          12             0.00\n",
       "0                 SK_ID_CURR           0             0.00\n",
       "\n",
       "[122 rows x 3 columns]"
      ]
     },
     "execution_count": 19,
     "metadata": {},
     "output_type": "execute_result"
    }
   ],
   "source": [
    "null_df.sort_values(by = 'null_percentage', ascending = False)"
   ]
  },
  {
   "cell_type": "markdown",
   "id": "360da0da-ef0c-4f69-bea2-8c6f40ec8bb0",
   "metadata": {},
   "source": [
    "Removing columns with NULL values > 40%¶\n",
    "Getting list of columns with NULL values > 40% into a list. We will be removing these columns from the dataframe as there are too many missing values."
   ]
  },
  {
   "cell_type": "code",
   "execution_count": 21,
   "id": "bf04a39c-419f-4f92-b8e4-dff522311135",
   "metadata": {},
   "outputs": [
    {
     "data": {
      "text/plain": [
       "['OWN_CAR_AGE',\n",
       " 'EXT_SOURCE_1',\n",
       " 'APARTMENTS_AVG',\n",
       " 'BASEMENTAREA_AVG',\n",
       " 'YEARS_BEGINEXPLUATATION_AVG',\n",
       " 'YEARS_BUILD_AVG',\n",
       " 'COMMONAREA_AVG',\n",
       " 'ELEVATORS_AVG',\n",
       " 'ENTRANCES_AVG',\n",
       " 'FLOORSMAX_AVG',\n",
       " 'FLOORSMIN_AVG',\n",
       " 'LANDAREA_AVG',\n",
       " 'LIVINGAPARTMENTS_AVG',\n",
       " 'LIVINGAREA_AVG',\n",
       " 'NONLIVINGAPARTMENTS_AVG',\n",
       " 'NONLIVINGAREA_AVG',\n",
       " 'APARTMENTS_MODE',\n",
       " 'BASEMENTAREA_MODE',\n",
       " 'YEARS_BEGINEXPLUATATION_MODE',\n",
       " 'YEARS_BUILD_MODE',\n",
       " 'COMMONAREA_MODE',\n",
       " 'ELEVATORS_MODE',\n",
       " 'ENTRANCES_MODE',\n",
       " 'FLOORSMAX_MODE',\n",
       " 'FLOORSMIN_MODE',\n",
       " 'LANDAREA_MODE',\n",
       " 'LIVINGAPARTMENTS_MODE',\n",
       " 'LIVINGAREA_MODE',\n",
       " 'NONLIVINGAPARTMENTS_MODE',\n",
       " 'NONLIVINGAREA_MODE',\n",
       " 'APARTMENTS_MEDI',\n",
       " 'BASEMENTAREA_MEDI',\n",
       " 'YEARS_BEGINEXPLUATATION_MEDI',\n",
       " 'YEARS_BUILD_MEDI',\n",
       " 'COMMONAREA_MEDI',\n",
       " 'ELEVATORS_MEDI',\n",
       " 'ENTRANCES_MEDI',\n",
       " 'FLOORSMAX_MEDI',\n",
       " 'FLOORSMIN_MEDI',\n",
       " 'LANDAREA_MEDI',\n",
       " 'LIVINGAPARTMENTS_MEDI',\n",
       " 'LIVINGAREA_MEDI',\n",
       " 'NONLIVINGAPARTMENTS_MEDI',\n",
       " 'NONLIVINGAREA_MEDI',\n",
       " 'FONDKAPREMONT_MODE',\n",
       " 'HOUSETYPE_MODE',\n",
       " 'TOTALAREA_MODE',\n",
       " 'WALLSMATERIAL_MODE',\n",
       " 'EMERGENCYSTATE_MODE']"
      ]
     },
     "execution_count": 21,
     "metadata": {},
     "output_type": "execute_result"
    }
   ],
   "source": [
    "columns_to_be_deleted = null_df[null_df['null_percentage'] > 40].column_name.to_list()\n",
    "columns_to_be_deleted"
   ]
  },
  {
   "cell_type": "code",
   "execution_count": 22,
   "id": "4867a286-12f6-453e-9dc3-330df503fc68",
   "metadata": {},
   "outputs": [
    {
     "data": {
      "text/plain": [
       "49"
      ]
     },
     "execution_count": 22,
     "metadata": {},
     "output_type": "execute_result"
    }
   ],
   "source": [
    "len(columns_to_be_deleted)"
   ]
  },
  {
   "cell_type": "markdown",
   "id": "c3a36115-6450-4a05-b51f-8fe156af7cb5",
   "metadata": {},
   "source": [
    "there are totally 49 columns to be removed. Deleting them from main dataframe df"
   ]
  },
  {
   "cell_type": "code",
   "execution_count": 24,
   "id": "72150e00-778e-414a-a179-050163cfd786",
   "metadata": {},
   "outputs": [],
   "source": [
    "apli.drop(columns = columns_to_be_deleted, inplace = True)"
   ]
  },
  {
   "cell_type": "code",
   "execution_count": 25,
   "id": "6a773dac-ee6c-4a78-be74-aa2c3581a73e",
   "metadata": {},
   "outputs": [
    {
     "data": {
      "text/plain": [
       "(307511, 73)"
      ]
     },
     "execution_count": 25,
     "metadata": {},
     "output_type": "execute_result"
    }
   ],
   "source": [
    "apli.shape"
   ]
  },
  {
   "cell_type": "markdown",
   "id": "b39cec32-b9f4-44fe-9822-a17d85260ac0",
   "metadata": {},
   "source": [
    "Checking columns with NULL values < 40%"
   ]
  },
  {
   "cell_type": "markdown",
   "id": "3a54699f-7f68-4269-993f-797ad7931652",
   "metadata": {},
   "source": [
    "Creating dataframe null_df_under40 with missing column percentages under 40%"
   ]
  },
  {
   "cell_type": "code",
   "execution_count": 28,
   "id": "be6b8564-b7de-40df-ba65-f295f52d9c03",
   "metadata": {},
   "outputs": [],
   "source": [
    "\n",
    "# to get all data without turncating"
   ]
  },
  {
   "cell_type": "code",
   "execution_count": 29,
   "id": "a27940b8-74ae-447a-836f-68f881640667",
   "metadata": {},
   "outputs": [],
   "source": [
    "null_df_under40 = null_df[null_df['null_percentage'] < 40]"
   ]
  },
  {
   "cell_type": "code",
   "execution_count": 30,
   "id": "0e3d3259-1a20-4c45-ac81-aaa198be0f55",
   "metadata": {},
   "outputs": [
    {
     "data": {
      "text/html": [
       "<div>\n",
       "<style scoped>\n",
       "    .dataframe tbody tr th:only-of-type {\n",
       "        vertical-align: middle;\n",
       "    }\n",
       "\n",
       "    .dataframe tbody tr th {\n",
       "        vertical-align: top;\n",
       "    }\n",
       "\n",
       "    .dataframe thead th {\n",
       "        text-align: right;\n",
       "    }\n",
       "</style>\n",
       "<table border=\"1\" class=\"dataframe\">\n",
       "  <thead>\n",
       "    <tr style=\"text-align: right;\">\n",
       "      <th></th>\n",
       "      <th>column_name</th>\n",
       "      <th>null_count</th>\n",
       "      <th>null_percentage</th>\n",
       "    </tr>\n",
       "  </thead>\n",
       "  <tbody>\n",
       "    <tr>\n",
       "      <th>28</th>\n",
       "      <td>OCCUPATION_TYPE</td>\n",
       "      <td>96391</td>\n",
       "      <td>31.35</td>\n",
       "    </tr>\n",
       "    <tr>\n",
       "      <th>43</th>\n",
       "      <td>EXT_SOURCE_3</td>\n",
       "      <td>60965</td>\n",
       "      <td>19.83</td>\n",
       "    </tr>\n",
       "    <tr>\n",
       "      <th>121</th>\n",
       "      <td>AMT_REQ_CREDIT_BUREAU_YEAR</td>\n",
       "      <td>41519</td>\n",
       "      <td>13.50</td>\n",
       "    </tr>\n",
       "    <tr>\n",
       "      <th>120</th>\n",
       "      <td>AMT_REQ_CREDIT_BUREAU_QRT</td>\n",
       "      <td>41519</td>\n",
       "      <td>13.50</td>\n",
       "    </tr>\n",
       "    <tr>\n",
       "      <th>119</th>\n",
       "      <td>AMT_REQ_CREDIT_BUREAU_MON</td>\n",
       "      <td>41519</td>\n",
       "      <td>13.50</td>\n",
       "    </tr>\n",
       "    <tr>\n",
       "      <th>118</th>\n",
       "      <td>AMT_REQ_CREDIT_BUREAU_WEEK</td>\n",
       "      <td>41519</td>\n",
       "      <td>13.50</td>\n",
       "    </tr>\n",
       "    <tr>\n",
       "      <th>117</th>\n",
       "      <td>AMT_REQ_CREDIT_BUREAU_DAY</td>\n",
       "      <td>41519</td>\n",
       "      <td>13.50</td>\n",
       "    </tr>\n",
       "    <tr>\n",
       "      <th>116</th>\n",
       "      <td>AMT_REQ_CREDIT_BUREAU_HOUR</td>\n",
       "      <td>41519</td>\n",
       "      <td>13.50</td>\n",
       "    </tr>\n",
       "    <tr>\n",
       "      <th>11</th>\n",
       "      <td>NAME_TYPE_SUITE</td>\n",
       "      <td>1292</td>\n",
       "      <td>0.42</td>\n",
       "    </tr>\n",
       "    <tr>\n",
       "      <th>91</th>\n",
       "      <td>OBS_30_CNT_SOCIAL_CIRCLE</td>\n",
       "      <td>1021</td>\n",
       "      <td>0.33</td>\n",
       "    </tr>\n",
       "    <tr>\n",
       "      <th>92</th>\n",
       "      <td>DEF_30_CNT_SOCIAL_CIRCLE</td>\n",
       "      <td>1021</td>\n",
       "      <td>0.33</td>\n",
       "    </tr>\n",
       "    <tr>\n",
       "      <th>93</th>\n",
       "      <td>OBS_60_CNT_SOCIAL_CIRCLE</td>\n",
       "      <td>1021</td>\n",
       "      <td>0.33</td>\n",
       "    </tr>\n",
       "    <tr>\n",
       "      <th>94</th>\n",
       "      <td>DEF_60_CNT_SOCIAL_CIRCLE</td>\n",
       "      <td>1021</td>\n",
       "      <td>0.33</td>\n",
       "    </tr>\n",
       "    <tr>\n",
       "      <th>42</th>\n",
       "      <td>EXT_SOURCE_2</td>\n",
       "      <td>660</td>\n",
       "      <td>0.21</td>\n",
       "    </tr>\n",
       "    <tr>\n",
       "      <th>10</th>\n",
       "      <td>AMT_GOODS_PRICE</td>\n",
       "      <td>278</td>\n",
       "      <td>0.09</td>\n",
       "    </tr>\n",
       "    <tr>\n",
       "      <th>101</th>\n",
       "      <td>FLAG_DOCUMENT_7</td>\n",
       "      <td>0</td>\n",
       "      <td>0.00</td>\n",
       "    </tr>\n",
       "    <tr>\n",
       "      <th>95</th>\n",
       "      <td>DAYS_LAST_PHONE_CHANGE</td>\n",
       "      <td>1</td>\n",
       "      <td>0.00</td>\n",
       "    </tr>\n",
       "    <tr>\n",
       "      <th>96</th>\n",
       "      <td>FLAG_DOCUMENT_2</td>\n",
       "      <td>0</td>\n",
       "      <td>0.00</td>\n",
       "    </tr>\n",
       "  </tbody>\n",
       "</table>\n",
       "</div>"
      ],
      "text/plain": [
       "                    column_name  null_count  null_percentage\n",
       "28              OCCUPATION_TYPE       96391            31.35\n",
       "43                 EXT_SOURCE_3       60965            19.83\n",
       "121  AMT_REQ_CREDIT_BUREAU_YEAR       41519            13.50\n",
       "120   AMT_REQ_CREDIT_BUREAU_QRT       41519            13.50\n",
       "119   AMT_REQ_CREDIT_BUREAU_MON       41519            13.50\n",
       "118  AMT_REQ_CREDIT_BUREAU_WEEK       41519            13.50\n",
       "117   AMT_REQ_CREDIT_BUREAU_DAY       41519            13.50\n",
       "116  AMT_REQ_CREDIT_BUREAU_HOUR       41519            13.50\n",
       "11              NAME_TYPE_SUITE        1292             0.42\n",
       "91     OBS_30_CNT_SOCIAL_CIRCLE        1021             0.33\n",
       "92     DEF_30_CNT_SOCIAL_CIRCLE        1021             0.33\n",
       "93     OBS_60_CNT_SOCIAL_CIRCLE        1021             0.33\n",
       "94     DEF_60_CNT_SOCIAL_CIRCLE        1021             0.33\n",
       "42                 EXT_SOURCE_2         660             0.21\n",
       "10              AMT_GOODS_PRICE         278             0.09\n",
       "101             FLAG_DOCUMENT_7           0             0.00\n",
       "95       DAYS_LAST_PHONE_CHANGE           1             0.00\n",
       "96              FLAG_DOCUMENT_2           0             0.00"
      ]
     },
     "execution_count": 30,
     "metadata": {},
     "output_type": "execute_result"
    }
   ],
   "source": [
    "null_df_under40.sort_values(by = 'null_percentage', ascending = False).head(18)"
   ]
  },
  {
   "cell_type": "code",
   "execution_count": null,
   "id": "758aff5a-14dc-40b7-9f51-8de1f2c48ec8",
   "metadata": {},
   "outputs": [],
   "source": []
  },
  {
   "cell_type": "code",
   "execution_count": 32,
   "id": "a8b9a085-b1ec-42b9-996b-78a280f43f2f",
   "metadata": {},
   "outputs": [
    {
     "data": {
      "text/plain": [
       "18"
      ]
     },
     "execution_count": 32,
     "metadata": {},
     "output_type": "execute_result"
    }
   ],
   "source": [
    "len(apli.columns[apli.isnull().any()])"
   ]
  },
  {
   "cell_type": "markdown",
   "id": "ecf86a36-79af-42c7-ae69-6bb06a1df043",
   "metadata": {},
   "source": [
    "Analysis of OCCUPATION_TYPE column¶\n",
    "nullable values = 31.35%"
   ]
  },
  {
   "cell_type": "code",
   "execution_count": 34,
   "id": "b7f6ad25-c01e-426c-82ec-ac5fe7a69782",
   "metadata": {},
   "outputs": [
    {
     "data": {
      "text/plain": [
       "OCCUPATION_TYPE\n",
       "Laborers                 55186\n",
       "Sales staff              32102\n",
       "Core staff               27570\n",
       "Managers                 21371\n",
       "Drivers                  18603\n",
       "High skill tech staff    11380\n",
       "Accountants               9813\n",
       "Medicine staff            8537\n",
       "Security staff            6721\n",
       "Cooking staff             5946\n",
       "Cleaning staff            4653\n",
       "Private service staff     2652\n",
       "Low-skill Laborers        2093\n",
       "Waiters/barmen staff      1348\n",
       "Secretaries               1305\n",
       "Realty agents              751\n",
       "HR staff                   563\n",
       "IT staff                   526\n",
       "Name: count, dtype: int64"
      ]
     },
     "execution_count": 34,
     "metadata": {},
     "output_type": "execute_result"
    }
   ],
   "source": [
    "apli['OCCUPATION_TYPE'].value_counts()"
   ]
  },
  {
   "cell_type": "markdown",
   "id": "cc087178-3df1-4b67-b75b-e939dbcc3754",
   "metadata": {},
   "source": [
    "Observations\r\n",
    "\r\n",
    "Looking at the plot, Laborers has the highest number of loan applicants\r\n",
    "For imputation, it would be better to leave the data as is (missing values being 31.35%) and not impute to min/min/mode/median as it may bias the data in later computations"
   ]
  },
  {
   "cell_type": "markdown",
   "id": "6c55746e-5930-4fc2-b754-55cf09e1da5e",
   "metadata": {},
   "source": [
    "NULL values with Unknown category"
   ]
  },
  {
   "cell_type": "code",
   "execution_count": 37,
   "id": "2017dfc1-cb18-4e81-ab0a-755f3426c59e",
   "metadata": {},
   "outputs": [
    {
     "name": "stderr",
     "output_type": "stream",
     "text": [
      "C:\\Users\\Vishwaraj\\AppData\\Local\\Temp\\ipykernel_16580\\1976047373.py:1: FutureWarning: A value is trying to be set on a copy of a DataFrame or Series through chained assignment using an inplace method.\n",
      "The behavior will change in pandas 3.0. This inplace method will never work because the intermediate object on which we are setting values always behaves as a copy.\n",
      "\n",
      "For example, when doing 'df[col].method(value, inplace=True)', try using 'df.method({col: value}, inplace=True)' or df[col] = df[col].method(value) instead, to perform the operation inplace on the original object.\n",
      "\n",
      "\n",
      "  apli['OCCUPATION_TYPE'].fillna(value = 'Unknown', inplace = True)\n"
     ]
    }
   ],
   "source": [
    "apli['OCCUPATION_TYPE'].fillna(value = 'Unknown', inplace = True)"
   ]
  },
  {
   "cell_type": "code",
   "execution_count": 38,
   "id": "9844092e-abe2-47f9-a760-b0c8c3ce6796",
   "metadata": {},
   "outputs": [
    {
     "data": {
      "text/plain": [
       "0"
      ]
     },
     "execution_count": 38,
     "metadata": {},
     "output_type": "execute_result"
    }
   ],
   "source": [
    "apli['OCCUPATION_TYPE'].isnull().sum()"
   ]
  },
  {
   "cell_type": "markdown",
   "id": "4d515939-50f5-4671-95a4-0512ae6e3df1",
   "metadata": {},
   "source": [
    "the average AMT_INCOME_TOTAL (income amount) for each OCCUPATION_TYPE."
   ]
  },
  {
   "cell_type": "code",
   "execution_count": 41,
   "id": "4f5b5a22-b7b8-4a57-a91e-d79fb6cc1238",
   "metadata": {},
   "outputs": [
    {
     "data": {
      "text/plain": [
       "19"
      ]
     },
     "execution_count": 41,
     "metadata": {},
     "output_type": "execute_result"
    }
   ],
   "source": [
    "apli['OCCUPATION_TYPE'].nunique()\n"
   ]
  },
  {
   "cell_type": "markdown",
   "id": "808d5771-cdeb-4359-9bdb-107d274f9708",
   "metadata": {},
   "source": [
    "## AMT_GOODS_PRICE\n",
    "AMT_GOODS_PRICE: Meaning and Significance\n",
    "Definition:\n",
    "AMT_GOODS_PRICE represents the price of the goods or services for which the loan is being requested.\n",
    "It essentially reflects the cost of the item the applicant is financing, such as:\n",
    "A car in case of an auto loan.\n",
    "The cost of a house for a mortgage.\n",
    "Other goods like electronics, appliances, or personal purchases."
   ]
  },
  {
   "cell_type": "code",
   "execution_count": 45,
   "id": "abb66ec1-f8c5-4c9b-90fd-8bd2def11b97",
   "metadata": {},
   "outputs": [
    {
     "data": {
      "text/plain": [
       "0"
      ]
     },
     "execution_count": 45,
     "metadata": {},
     "output_type": "execute_result"
    }
   ],
   "source": [
    "apli['AMT_GOODS_PRICE'].median()\n",
    "apli['AMT_GOODS_PRICE'] = apli['AMT_GOODS_PRICE'].fillna(450000)\n",
    "apli[\"AMT_GOODS_PRICE\"].isnull().sum()"
   ]
  },
  {
   "cell_type": "code",
   "execution_count": null,
   "id": "a4d0749c-ec88-4107-9c6b-0272c4c24159",
   "metadata": {},
   "outputs": [],
   "source": []
  },
  {
   "cell_type": "markdown",
   "id": "2d995320-6350-4d8d-a799-84050b6faa01",
   "metadata": {},
   "source": [
    "## Analysis of six columns with 13.5% missing values\n",
    "\r",
    "AMT_REQ_CREDIT_BUREAU_YEAR: Number of credit inquiries in the last year (excluding the last 3 months). Reflects credit-seeking behavior over a longer period.\n",
    "AMT_REQ_CREDIT_BUREAU_QRT: Number of credit inquiries in the last 3 months. Indicates recent loan-seeking activity.\n",
    "AMT_REQ_CREDIT_BUREAU_MON: Number of credit inquiries in the last month. Shows very recent credit behavior.\n",
    "AMT_REQ_CREDIT_BUREAU_WEEK: Number of credit inquiries in the last week. Indicates immediate credit-seeking activity.\n",
    "AMT_REQ_CREDIT_BUREAU_DAY: Number of credit inquiries in the last day. Signals urgent financial needs.\n",
    "AMT_REQ_CREDIT_BUREAU_HOUR: Number of credit inquiries in the last hour. Rare but indicates extreme urgency.\n",
    "Missing Values (13.5%):\n",
    "Missing values could imply no inquiries. Consider imputing with 0 if data is missing randomly. \n",
    "\n",
    "#### For all these columns, the mode is 0, indicating that most clients have no recent credit inquiries.\n",
    "The mean is higher than the median for most columns, which suggests that there are some clients with a significantly higher number of inquiries, but they are outliers.\n",
    "Since the percentage of missing values is 13.5%, imputing with 0 is the safest option, but it is generally better not to impute to avoid distorting the analysis, especially when a substantial proportion of the data is missing.13.50%\n",
    "\n"
   ]
  },
  {
   "cell_type": "code",
   "execution_count": 48,
   "id": "85590705-6bb4-4241-af73-dd81749241ba",
   "metadata": {},
   "outputs": [
    {
     "data": {
      "text/html": [
       "<div>\n",
       "<style scoped>\n",
       "    .dataframe tbody tr th:only-of-type {\n",
       "        vertical-align: middle;\n",
       "    }\n",
       "\n",
       "    .dataframe tbody tr th {\n",
       "        vertical-align: top;\n",
       "    }\n",
       "\n",
       "    .dataframe thead th {\n",
       "        text-align: right;\n",
       "    }\n",
       "</style>\n",
       "<table border=\"1\" class=\"dataframe\">\n",
       "  <thead>\n",
       "    <tr style=\"text-align: right;\">\n",
       "      <th></th>\n",
       "      <th>AMT_REQ_CREDIT_BUREAU_YEAR</th>\n",
       "      <th>AMT_REQ_CREDIT_BUREAU_QRT</th>\n",
       "      <th>AMT_REQ_CREDIT_BUREAU_MON</th>\n",
       "      <th>AMT_REQ_CREDIT_BUREAU_WEEK</th>\n",
       "      <th>AMT_REQ_CREDIT_BUREAU_DAY</th>\n",
       "      <th>AMT_REQ_CREDIT_BUREAU_HOUR</th>\n",
       "    </tr>\n",
       "  </thead>\n",
       "  <tbody>\n",
       "    <tr>\n",
       "      <th>count</th>\n",
       "      <td>265992.000000</td>\n",
       "      <td>265992.000000</td>\n",
       "      <td>265992.000000</td>\n",
       "      <td>265992.000000</td>\n",
       "      <td>265992.000000</td>\n",
       "      <td>265992.000000</td>\n",
       "    </tr>\n",
       "    <tr>\n",
       "      <th>mean</th>\n",
       "      <td>1.899974</td>\n",
       "      <td>0.265474</td>\n",
       "      <td>0.267395</td>\n",
       "      <td>0.034362</td>\n",
       "      <td>0.007000</td>\n",
       "      <td>0.006402</td>\n",
       "    </tr>\n",
       "    <tr>\n",
       "      <th>std</th>\n",
       "      <td>1.869295</td>\n",
       "      <td>0.794056</td>\n",
       "      <td>0.916002</td>\n",
       "      <td>0.204685</td>\n",
       "      <td>0.110757</td>\n",
       "      <td>0.083849</td>\n",
       "    </tr>\n",
       "    <tr>\n",
       "      <th>min</th>\n",
       "      <td>0.000000</td>\n",
       "      <td>0.000000</td>\n",
       "      <td>0.000000</td>\n",
       "      <td>0.000000</td>\n",
       "      <td>0.000000</td>\n",
       "      <td>0.000000</td>\n",
       "    </tr>\n",
       "    <tr>\n",
       "      <th>25%</th>\n",
       "      <td>0.000000</td>\n",
       "      <td>0.000000</td>\n",
       "      <td>0.000000</td>\n",
       "      <td>0.000000</td>\n",
       "      <td>0.000000</td>\n",
       "      <td>0.000000</td>\n",
       "    </tr>\n",
       "    <tr>\n",
       "      <th>50%</th>\n",
       "      <td>1.000000</td>\n",
       "      <td>0.000000</td>\n",
       "      <td>0.000000</td>\n",
       "      <td>0.000000</td>\n",
       "      <td>0.000000</td>\n",
       "      <td>0.000000</td>\n",
       "    </tr>\n",
       "    <tr>\n",
       "      <th>75%</th>\n",
       "      <td>3.000000</td>\n",
       "      <td>0.000000</td>\n",
       "      <td>0.000000</td>\n",
       "      <td>0.000000</td>\n",
       "      <td>0.000000</td>\n",
       "      <td>0.000000</td>\n",
       "    </tr>\n",
       "    <tr>\n",
       "      <th>max</th>\n",
       "      <td>25.000000</td>\n",
       "      <td>261.000000</td>\n",
       "      <td>27.000000</td>\n",
       "      <td>8.000000</td>\n",
       "      <td>9.000000</td>\n",
       "      <td>4.000000</td>\n",
       "    </tr>\n",
       "  </tbody>\n",
       "</table>\n",
       "</div>"
      ],
      "text/plain": [
       "       AMT_REQ_CREDIT_BUREAU_YEAR  AMT_REQ_CREDIT_BUREAU_QRT  \\\n",
       "count               265992.000000              265992.000000   \n",
       "mean                     1.899974                   0.265474   \n",
       "std                      1.869295                   0.794056   \n",
       "min                      0.000000                   0.000000   \n",
       "25%                      0.000000                   0.000000   \n",
       "50%                      1.000000                   0.000000   \n",
       "75%                      3.000000                   0.000000   \n",
       "max                     25.000000                 261.000000   \n",
       "\n",
       "       AMT_REQ_CREDIT_BUREAU_MON  AMT_REQ_CREDIT_BUREAU_WEEK  \\\n",
       "count              265992.000000               265992.000000   \n",
       "mean                    0.267395                    0.034362   \n",
       "std                     0.916002                    0.204685   \n",
       "min                     0.000000                    0.000000   \n",
       "25%                     0.000000                    0.000000   \n",
       "50%                     0.000000                    0.000000   \n",
       "75%                     0.000000                    0.000000   \n",
       "max                    27.000000                    8.000000   \n",
       "\n",
       "       AMT_REQ_CREDIT_BUREAU_DAY  AMT_REQ_CREDIT_BUREAU_HOUR  \n",
       "count              265992.000000               265992.000000  \n",
       "mean                    0.007000                    0.006402  \n",
       "std                     0.110757                    0.083849  \n",
       "min                     0.000000                    0.000000  \n",
       "25%                     0.000000                    0.000000  \n",
       "50%                     0.000000                    0.000000  \n",
       "75%                     0.000000                    0.000000  \n",
       "max                     9.000000                    4.000000  "
      ]
     },
     "execution_count": 48,
     "metadata": {},
     "output_type": "execute_result"
    }
   ],
   "source": [
    "\n",
    "apli[['AMT_REQ_CREDIT_BUREAU_YEAR',\n",
    "    'AMT_REQ_CREDIT_BUREAU_QRT',\n",
    "    'AMT_REQ_CREDIT_BUREAU_MON',\n",
    "    'AMT_REQ_CREDIT_BUREAU_WEEK',\n",
    "    'AMT_REQ_CREDIT_BUREAU_DAY',\n",
    "    'AMT_REQ_CREDIT_BUREAU_HOUR']].describe()"
   ]
  },
  {
   "cell_type": "code",
   "execution_count": 49,
   "id": "11aa267d-7cd9-4d34-b849-c7a17c33e3f9",
   "metadata": {},
   "outputs": [
    {
     "name": "stdout",
     "output_type": "stream",
     "text": [
      "AMT_REQ_CREDIT_BUREAU_YEAR    0\n",
      "AMT_REQ_CREDIT_BUREAU_QRT     0\n",
      "AMT_REQ_CREDIT_BUREAU_MON     0\n",
      "AMT_REQ_CREDIT_BUREAU_WEEK    0\n",
      "AMT_REQ_CREDIT_BUREAU_DAY     0\n",
      "AMT_REQ_CREDIT_BUREAU_HOUR    0\n",
      "dtype: int64\n"
     ]
    }
   ],
   "source": [
    "columns_to_impute = [\n",
    "    'AMT_REQ_CREDIT_BUREAU_YEAR', \n",
    "    'AMT_REQ_CREDIT_BUREAU_QRT',\n",
    "    'AMT_REQ_CREDIT_BUREAU_MON',\n",
    "    'AMT_REQ_CREDIT_BUREAU_WEEK',\n",
    "    'AMT_REQ_CREDIT_BUREAU_DAY',\n",
    "    'AMT_REQ_CREDIT_BUREAU_HOUR'\n",
    "]\n",
    "\n",
    "# Imputing missing values with 0\n",
    "apli[columns_to_impute] = apli[columns_to_impute].fillna(0)\n",
    "\n",
    "# Check if imputation was successful\n",
    "print(apli[columns_to_impute].isnull().sum())\n"
   ]
  },
  {
   "cell_type": "markdown",
   "id": "cc3f168f-c23c-4c32-9d61-512612b90997",
   "metadata": {},
   "source": [
    "Analysis of \n",
    " OBS_30_CNT_SOCIAL_CIRCLE \n",
    "'DEF_30_CNT_SOCIAL_CIRCLE', \n",
    "'DEF_60_CNT_SOCIAL_CIRCLE',\n",
    "'OBS_60_CNT_SOCIAL_CIRCLE"
   ]
  },
  {
   "cell_type": "markdown",
   "id": "23b2e5a2-5796-4507-9a8a-97812107ec1d",
   "metadata": {},
   "source": [
    "OBS_30_CNT_SOCIAL_CIRCLE:\n",
    "\n",
    "Description: Represents the number of observations of the client's social circle where individuals have defaulted on payments in the last 30 days (30 DPD). This shows how many people in the client's social circle have missed payments in the last month.\n",
    "DEF_30_CNT_SOCIAL_CIRCLE:\n",
    "\n",
    "Description: Indicates the number of defaults within the client's social circle in the last 30 days. It tracks how many people in the client's social circle have defaulted on their loans in the past 30 days.\n",
    "DEF_60_CNT_SOCIAL_CIRCLE:\n",
    "\n",
    "Description: Represents the number of defaults within the client's social circle in the last 60 days. It shows how many people in the client's social circle have defaulted on their payments in the past two months.\n",
    "OBS_60_CNT_SOCIAL_CIRCLE:\n",
    "\n",
    "Description: Represents the number of observations of the client's social circle with observable 60 days past due defaults. It indicates how many individuals in the social circle have missed payments in the last 60 days.\n",
    "These columns offer valuable insights into the client's social circle and can be useful for understanding the client's potential risk based on the behavior of people around them.\n",
    "\n",
    "Given that missing data percentage is low, you can impute the missing values in these columns with 0, especially since it reflects no observed defaults or no defaults in the social circle (common for most clients)."
   ]
  },
  {
   "cell_type": "code",
   "execution_count": 52,
   "id": "04fd3f64-3a9c-4e99-9715-1c7ad1739475",
   "metadata": {},
   "outputs": [
    {
     "name": "stdout",
     "output_type": "stream",
     "text": [
      "OBS_30_CNT_SOCIAL_CIRCLE    0\n",
      "DEF_30_CNT_SOCIAL_CIRCLE    0\n",
      "DEF_60_CNT_SOCIAL_CIRCLE    0\n",
      "OBS_60_CNT_SOCIAL_CIRCLE    0\n",
      "dtype: int64\n"
     ]
    }
   ],
   "source": [
    "# Columns to impute\n",
    "columns_to_impute = [\n",
    "    'OBS_30_CNT_SOCIAL_CIRCLE', \n",
    "    'DEF_30_CNT_SOCIAL_CIRCLE', \n",
    "    'DEF_60_CNT_SOCIAL_CIRCLE',\n",
    "    'OBS_60_CNT_SOCIAL_CIRCLE' \n",
    "]\n",
    "\n",
    "# Imputing missing values with 0\n",
    "apli[columns_to_impute] = apli[columns_to_impute].fillna(0)\n",
    "\n",
    "# Check if imputation was successful\n",
    "print(apli[columns_to_impute].isnull().sum())\n"
   ]
  },
  {
   "cell_type": "markdown",
   "id": "d3cc0b3e-4316-4fb5-a2bd-284b83a9c442",
   "metadata": {},
   "source": [
    "Analysis of NAME_TYPE_SUITE\n",
    "Who was accompanying client when he was applying for the loan"
   ]
  },
  {
   "cell_type": "code",
   "execution_count": 54,
   "id": "67bf51cf-bfb3-40fb-b310-ce8c7c448d6e",
   "metadata": {},
   "outputs": [
    {
     "data": {
      "text/plain": [
       "NAME_TYPE_SUITE\n",
       "Unaccompanied      248526\n",
       "Family              40149\n",
       "Spouse, partner     11370\n",
       "Children             3267\n",
       "Other_B              1770\n",
       "Other_A               866\n",
       "Group of people       271\n",
       "Name: count, dtype: int64"
      ]
     },
     "execution_count": 54,
     "metadata": {},
     "output_type": "execute_result"
    }
   ],
   "source": [
    "apli[\"NAME_TYPE_SUITE\"].value_counts()"
   ]
  },
  {
   "cell_type": "code",
   "execution_count": 55,
   "id": "70645104-ad9b-42e1-98e8-3aa86f009031",
   "metadata": {},
   "outputs": [],
   "source": [
    "apli[\"NAME_TYPE_SUITE\"] = apli[\"NAME_TYPE_SUITE\"].fillna(\"Unaccompanied\")"
   ]
  },
  {
   "cell_type": "code",
   "execution_count": 56,
   "id": "5f32fc18-dd88-45cd-8c2a-9fb1cf62c3f9",
   "metadata": {},
   "outputs": [
    {
     "data": {
      "text/plain": [
       "0"
      ]
     },
     "execution_count": 56,
     "metadata": {},
     "output_type": "execute_result"
    }
   ],
   "source": [
    "apli['NAME_TYPE_SUITE'].isnull().sum()"
   ]
  },
  {
   "cell_type": "markdown",
   "id": "7e7d82b5-505b-4642-8830-ea94b194b92c",
   "metadata": {},
   "source": [
    "Analysis ofAMT_ANNUITY\n",
    "AMT_ANNUITY represents the annual or periodic repayment amount that a client is required to pay for a loan. It is essentially the loan installment amount, calculated based on the loan amount, interest rate, and repayment duration.\n",
    "\n",
    "### Significance:\n",
    "- Helps assess a client's repayment capacity.\n",
    "- High annuity values relative to income may indicate financial stress.\n",
    "- Used to calculate debt-to-income ratios for creditworthiness evaluation."
   ]
  },
  {
   "cell_type": "code",
   "execution_count": 58,
   "id": "e92b6138-8552-4cff-8cf5-70e5df21f3a8",
   "metadata": {},
   "outputs": [
    {
     "data": {
      "text/plain": [
       "12"
      ]
     },
     "execution_count": 58,
     "metadata": {},
     "output_type": "execute_result"
    }
   ],
   "source": [
    "# finding the number  of null values in AMT_ANNUITY column\n",
    "apli['AMT_ANNUITY'].isnull().sum()"
   ]
  },
  {
   "cell_type": "code",
   "execution_count": null,
   "id": "02e8cab6-9564-4637-a420-e5a033659544",
   "metadata": {},
   "outputs": [],
   "source": []
  },
  {
   "cell_type": "code",
   "execution_count": 60,
   "id": "90081a4f-13fb-4cf4-a490-fc8bae101e37",
   "metadata": {},
   "outputs": [
    {
     "data": {
      "text/plain": [
       "24903.0"
      ]
     },
     "execution_count": 60,
     "metadata": {},
     "output_type": "execute_result"
    }
   ],
   "source": [
    "apli[\"AMT_ANNUITY\"].median()"
   ]
  },
  {
   "cell_type": "code",
   "execution_count": 61,
   "id": "9a980454-70d3-4865-94dd-3c23bc79b396",
   "metadata": {},
   "outputs": [],
   "source": [
    "# there are only 12 null values so we are directly filling null values with median\n",
    "apli[\"AMT_ANNUITY\"] = apli[\"AMT_ANNUITY\"].fillna(24903.0)"
   ]
  },
  {
   "cell_type": "code",
   "execution_count": 62,
   "id": "547e67b9-9a62-4971-bddc-9ee8cc09898b",
   "metadata": {},
   "outputs": [
    {
     "data": {
      "text/plain": [
       "0"
      ]
     },
     "execution_count": 62,
     "metadata": {},
     "output_type": "execute_result"
    }
   ],
   "source": [
    "apli['AMT_ANNUITY'].isnull().sum()"
   ]
  },
  {
   "cell_type": "code",
   "execution_count": null,
   "id": "87024078-0fdc-4fbf-b148-d6766c0f53e5",
   "metadata": {},
   "outputs": [],
   "source": []
  },
  {
   "cell_type": "markdown",
   "id": "9d8ff099-f3e6-4763-992c-c55b6caa516f",
   "metadata": {},
   "source": [
    "Dropping unwanted columns (Columns that won't help in analysis)¶"
   ]
  },
  {
   "cell_type": "code",
   "execution_count": 65,
   "id": "3f6c75eb-0e5a-4d5a-be55-d77880657450",
   "metadata": {},
   "outputs": [],
   "source": [
    "apli.drop([\n",
    "    \"FLAG_MOBIL\", \"FLAG_EMP_PHONE\", \"FLAG_WORK_PHONE\", \"FLAG_CONT_MOBILE\", \"FLAG_PHONE\", \n",
    "    \"REGION_RATING_CLIENT\", \"REGION_RATING_CLIENT_W_CITY\", \"FLAG_EMAIL\", \n",
    "    \"DAYS_LAST_PHONE_CHANGE\", \"FLAG_DOCUMENT_2\", \"FLAG_DOCUMENT_3\", \"FLAG_DOCUMENT_4\", \n",
    "    \"FLAG_DOCUMENT_5\", \"FLAG_DOCUMENT_6\", \"FLAG_DOCUMENT_7\", \"FLAG_DOCUMENT_8\", \n",
    "    \"FLAG_DOCUMENT_9\", \"FLAG_DOCUMENT_10\", \"FLAG_DOCUMENT_11\", \"FLAG_DOCUMENT_12\", \n",
    "    \"FLAG_DOCUMENT_13\", \"FLAG_DOCUMENT_14\", \"FLAG_DOCUMENT_15\", \"FLAG_DOCUMENT_16\", \n",
    "    \"FLAG_DOCUMENT_17\", \"FLAG_DOCUMENT_18\", \"FLAG_DOCUMENT_19\", \"FLAG_DOCUMENT_20\", \n",
    "    \"FLAG_DOCUMENT_21\", \"EXT_SOURCE_2\", \"EXT_SOURCE_3\"\n",
    "], axis=1, inplace=True)\n"
   ]
  },
  {
   "cell_type": "code",
   "execution_count": 66,
   "id": "b293c7a3-5ed6-4392-8f60-57d8ffe4f29e",
   "metadata": {},
   "outputs": [
    {
     "name": "stdout",
     "output_type": "stream",
     "text": [
      "Index(['SK_ID_CURR', 'TARGET', 'NAME_CONTRACT_TYPE', 'CODE_GENDER',\n",
      "       'FLAG_OWN_CAR', 'FLAG_OWN_REALTY', 'CNT_CHILDREN', 'AMT_INCOME_TOTAL',\n",
      "       'AMT_CREDIT', 'AMT_ANNUITY', 'AMT_GOODS_PRICE', 'NAME_TYPE_SUITE',\n",
      "       'NAME_INCOME_TYPE', 'NAME_EDUCATION_TYPE', 'NAME_FAMILY_STATUS',\n",
      "       'NAME_HOUSING_TYPE', 'REGION_POPULATION_RELATIVE', 'DAYS_BIRTH',\n",
      "       'DAYS_EMPLOYED', 'DAYS_REGISTRATION', 'DAYS_ID_PUBLISH',\n",
      "       'OCCUPATION_TYPE', 'CNT_FAM_MEMBERS', 'WEEKDAY_APPR_PROCESS_START',\n",
      "       'HOUR_APPR_PROCESS_START', 'REG_REGION_NOT_LIVE_REGION',\n",
      "       'REG_REGION_NOT_WORK_REGION', 'LIVE_REGION_NOT_WORK_REGION',\n",
      "       'REG_CITY_NOT_LIVE_CITY', 'REG_CITY_NOT_WORK_CITY',\n",
      "       'LIVE_CITY_NOT_WORK_CITY', 'ORGANIZATION_TYPE',\n",
      "       'OBS_30_CNT_SOCIAL_CIRCLE', 'DEF_30_CNT_SOCIAL_CIRCLE',\n",
      "       'OBS_60_CNT_SOCIAL_CIRCLE', 'DEF_60_CNT_SOCIAL_CIRCLE',\n",
      "       'AMT_REQ_CREDIT_BUREAU_HOUR', 'AMT_REQ_CREDIT_BUREAU_DAY',\n",
      "       'AMT_REQ_CREDIT_BUREAU_WEEK', 'AMT_REQ_CREDIT_BUREAU_MON',\n",
      "       'AMT_REQ_CREDIT_BUREAU_QRT', 'AMT_REQ_CREDIT_BUREAU_YEAR'],\n",
      "      dtype='object')\n"
     ]
    }
   ],
   "source": [
    "print(apli.columns)\n"
   ]
  },
  {
   "cell_type": "code",
   "execution_count": 67,
   "id": "0bc43282-7e1a-4624-8d10-26f90ab7b92f",
   "metadata": {},
   "outputs": [
    {
     "data": {
      "text/plain": [
       "42"
      ]
     },
     "execution_count": 67,
     "metadata": {},
     "output_type": "execute_result"
    }
   ],
   "source": [
    "len(apli.columns)"
   ]
  },
  {
   "cell_type": "code",
   "execution_count": 68,
   "id": "8804582c-45c2-4cb2-af02-2298425b562b",
   "metadata": {},
   "outputs": [
    {
     "data": {
      "text/plain": [
       "SK_ID_CURR                     0\n",
       "TARGET                         0\n",
       "NAME_CONTRACT_TYPE             0\n",
       "CODE_GENDER                    0\n",
       "FLAG_OWN_CAR                   0\n",
       "FLAG_OWN_REALTY                0\n",
       "CNT_CHILDREN                   0\n",
       "AMT_INCOME_TOTAL               0\n",
       "AMT_CREDIT                     0\n",
       "AMT_ANNUITY                    0\n",
       "AMT_GOODS_PRICE                0\n",
       "NAME_TYPE_SUITE                0\n",
       "NAME_INCOME_TYPE               0\n",
       "NAME_EDUCATION_TYPE            0\n",
       "NAME_FAMILY_STATUS             0\n",
       "NAME_HOUSING_TYPE              0\n",
       "REGION_POPULATION_RELATIVE     0\n",
       "DAYS_BIRTH                     0\n",
       "DAYS_EMPLOYED                  0\n",
       "DAYS_REGISTRATION              0\n",
       "DAYS_ID_PUBLISH                0\n",
       "OCCUPATION_TYPE                0\n",
       "CNT_FAM_MEMBERS                2\n",
       "WEEKDAY_APPR_PROCESS_START     0\n",
       "HOUR_APPR_PROCESS_START        0\n",
       "REG_REGION_NOT_LIVE_REGION     0\n",
       "REG_REGION_NOT_WORK_REGION     0\n",
       "LIVE_REGION_NOT_WORK_REGION    0\n",
       "REG_CITY_NOT_LIVE_CITY         0\n",
       "REG_CITY_NOT_WORK_CITY         0\n",
       "LIVE_CITY_NOT_WORK_CITY        0\n",
       "ORGANIZATION_TYPE              0\n",
       "OBS_30_CNT_SOCIAL_CIRCLE       0\n",
       "DEF_30_CNT_SOCIAL_CIRCLE       0\n",
       "OBS_60_CNT_SOCIAL_CIRCLE       0\n",
       "DEF_60_CNT_SOCIAL_CIRCLE       0\n",
       "AMT_REQ_CREDIT_BUREAU_HOUR     0\n",
       "AMT_REQ_CREDIT_BUREAU_DAY      0\n",
       "AMT_REQ_CREDIT_BUREAU_WEEK     0\n",
       "AMT_REQ_CREDIT_BUREAU_MON      0\n",
       "AMT_REQ_CREDIT_BUREAU_QRT      0\n",
       "AMT_REQ_CREDIT_BUREAU_YEAR     0\n",
       "dtype: int64"
      ]
     },
     "execution_count": 68,
     "metadata": {},
     "output_type": "execute_result"
    }
   ],
   "source": [
    "apli.isnull().sum()"
   ]
  },
  {
   "cell_type": "code",
   "execution_count": null,
   "id": "66e74eac-e2fa-45cf-b45f-9a57a9d4d841",
   "metadata": {},
   "outputs": [],
   "source": []
  },
  {
   "cell_type": "markdown",
   "id": "f476aae6-6075-4f16-97fc-f59ca839c7e9",
   "metadata": {},
   "source": [
    "## Dealing with incorrect/unknown data values"
   ]
  },
  {
   "cell_type": "code",
   "execution_count": 71,
   "id": "1f49645f-d37c-4476-b965-234a57969b24",
   "metadata": {},
   "outputs": [
    {
     "data": {
      "text/plain": [
       "CODE_GENDER\n",
       "F      202448\n",
       "M      105059\n",
       "XNA         4\n",
       "Name: count, dtype: int64"
      ]
     },
     "execution_count": 71,
     "metadata": {},
     "output_type": "execute_result"
    }
   ],
   "source": [
    "apli['CODE_GENDER'].value_counts()"
   ]
  },
  {
   "cell_type": "markdown",
   "id": "3c7d2a2e-1675-448c-b48a-a21eb804e3d6",
   "metadata": {},
   "source": [
    "Gender should only be Male or Female. XNA value may indicate that the value was not provided by the loan applicant or missed by the loan officer verifying the application"
   ]
  },
  {
   "cell_type": "code",
   "execution_count": 73,
   "id": "b550fc4a-f8f8-4a5b-94b1-f2828d6f1f46",
   "metadata": {},
   "outputs": [
    {
     "data": {
      "text/html": [
       "<div>\n",
       "<style scoped>\n",
       "    .dataframe tbody tr th:only-of-type {\n",
       "        vertical-align: middle;\n",
       "    }\n",
       "\n",
       "    .dataframe tbody tr th {\n",
       "        vertical-align: top;\n",
       "    }\n",
       "\n",
       "    .dataframe thead th {\n",
       "        text-align: right;\n",
       "    }\n",
       "</style>\n",
       "<table border=\"1\" class=\"dataframe\">\n",
       "  <thead>\n",
       "    <tr style=\"text-align: right;\">\n",
       "      <th></th>\n",
       "      <th>SK_ID_CURR</th>\n",
       "      <th>TARGET</th>\n",
       "      <th>NAME_CONTRACT_TYPE</th>\n",
       "      <th>CODE_GENDER</th>\n",
       "      <th>FLAG_OWN_CAR</th>\n",
       "      <th>FLAG_OWN_REALTY</th>\n",
       "      <th>CNT_CHILDREN</th>\n",
       "      <th>AMT_INCOME_TOTAL</th>\n",
       "      <th>AMT_CREDIT</th>\n",
       "      <th>AMT_ANNUITY</th>\n",
       "      <th>...</th>\n",
       "      <th>OBS_30_CNT_SOCIAL_CIRCLE</th>\n",
       "      <th>DEF_30_CNT_SOCIAL_CIRCLE</th>\n",
       "      <th>OBS_60_CNT_SOCIAL_CIRCLE</th>\n",
       "      <th>DEF_60_CNT_SOCIAL_CIRCLE</th>\n",
       "      <th>AMT_REQ_CREDIT_BUREAU_HOUR</th>\n",
       "      <th>AMT_REQ_CREDIT_BUREAU_DAY</th>\n",
       "      <th>AMT_REQ_CREDIT_BUREAU_WEEK</th>\n",
       "      <th>AMT_REQ_CREDIT_BUREAU_MON</th>\n",
       "      <th>AMT_REQ_CREDIT_BUREAU_QRT</th>\n",
       "      <th>AMT_REQ_CREDIT_BUREAU_YEAR</th>\n",
       "    </tr>\n",
       "  </thead>\n",
       "  <tbody>\n",
       "    <tr>\n",
       "      <th>35657</th>\n",
       "      <td>141289</td>\n",
       "      <td>0</td>\n",
       "      <td>Revolving loans</td>\n",
       "      <td>XNA</td>\n",
       "      <td>Y</td>\n",
       "      <td>Y</td>\n",
       "      <td>0</td>\n",
       "      <td>207000.0</td>\n",
       "      <td>382500.0</td>\n",
       "      <td>19125.0</td>\n",
       "      <td>...</td>\n",
       "      <td>0.0</td>\n",
       "      <td>0.0</td>\n",
       "      <td>0.0</td>\n",
       "      <td>0.0</td>\n",
       "      <td>0.0</td>\n",
       "      <td>0.0</td>\n",
       "      <td>0.0</td>\n",
       "      <td>0.0</td>\n",
       "      <td>0.0</td>\n",
       "      <td>1.0</td>\n",
       "    </tr>\n",
       "    <tr>\n",
       "      <th>38566</th>\n",
       "      <td>144669</td>\n",
       "      <td>0</td>\n",
       "      <td>Revolving loans</td>\n",
       "      <td>XNA</td>\n",
       "      <td>N</td>\n",
       "      <td>Y</td>\n",
       "      <td>2</td>\n",
       "      <td>157500.0</td>\n",
       "      <td>270000.0</td>\n",
       "      <td>13500.0</td>\n",
       "      <td>...</td>\n",
       "      <td>0.0</td>\n",
       "      <td>0.0</td>\n",
       "      <td>0.0</td>\n",
       "      <td>0.0</td>\n",
       "      <td>0.0</td>\n",
       "      <td>0.0</td>\n",
       "      <td>0.0</td>\n",
       "      <td>3.0</td>\n",
       "      <td>0.0</td>\n",
       "      <td>4.0</td>\n",
       "    </tr>\n",
       "    <tr>\n",
       "      <th>83382</th>\n",
       "      <td>196708</td>\n",
       "      <td>0</td>\n",
       "      <td>Revolving loans</td>\n",
       "      <td>XNA</td>\n",
       "      <td>N</td>\n",
       "      <td>Y</td>\n",
       "      <td>1</td>\n",
       "      <td>135000.0</td>\n",
       "      <td>405000.0</td>\n",
       "      <td>20250.0</td>\n",
       "      <td>...</td>\n",
       "      <td>7.0</td>\n",
       "      <td>1.0</td>\n",
       "      <td>7.0</td>\n",
       "      <td>1.0</td>\n",
       "      <td>0.0</td>\n",
       "      <td>0.0</td>\n",
       "      <td>0.0</td>\n",
       "      <td>0.0</td>\n",
       "      <td>0.0</td>\n",
       "      <td>3.0</td>\n",
       "    </tr>\n",
       "    <tr>\n",
       "      <th>189640</th>\n",
       "      <td>319880</td>\n",
       "      <td>0</td>\n",
       "      <td>Revolving loans</td>\n",
       "      <td>XNA</td>\n",
       "      <td>Y</td>\n",
       "      <td>Y</td>\n",
       "      <td>0</td>\n",
       "      <td>247500.0</td>\n",
       "      <td>540000.0</td>\n",
       "      <td>27000.0</td>\n",
       "      <td>...</td>\n",
       "      <td>10.0</td>\n",
       "      <td>4.0</td>\n",
       "      <td>10.0</td>\n",
       "      <td>4.0</td>\n",
       "      <td>0.0</td>\n",
       "      <td>0.0</td>\n",
       "      <td>0.0</td>\n",
       "      <td>0.0</td>\n",
       "      <td>1.0</td>\n",
       "      <td>6.0</td>\n",
       "    </tr>\n",
       "  </tbody>\n",
       "</table>\n",
       "<p>4 rows × 42 columns</p>\n",
       "</div>"
      ],
      "text/plain": [
       "        SK_ID_CURR  TARGET NAME_CONTRACT_TYPE CODE_GENDER FLAG_OWN_CAR  \\\n",
       "35657       141289       0    Revolving loans         XNA            Y   \n",
       "38566       144669       0    Revolving loans         XNA            N   \n",
       "83382       196708       0    Revolving loans         XNA            N   \n",
       "189640      319880       0    Revolving loans         XNA            Y   \n",
       "\n",
       "       FLAG_OWN_REALTY  CNT_CHILDREN  AMT_INCOME_TOTAL  AMT_CREDIT  \\\n",
       "35657                Y             0          207000.0    382500.0   \n",
       "38566                Y             2          157500.0    270000.0   \n",
       "83382                Y             1          135000.0    405000.0   \n",
       "189640               Y             0          247500.0    540000.0   \n",
       "\n",
       "        AMT_ANNUITY  ...  OBS_30_CNT_SOCIAL_CIRCLE DEF_30_CNT_SOCIAL_CIRCLE  \\\n",
       "35657       19125.0  ...                       0.0                      0.0   \n",
       "38566       13500.0  ...                       0.0                      0.0   \n",
       "83382       20250.0  ...                       7.0                      1.0   \n",
       "189640      27000.0  ...                      10.0                      4.0   \n",
       "\n",
       "       OBS_60_CNT_SOCIAL_CIRCLE DEF_60_CNT_SOCIAL_CIRCLE  \\\n",
       "35657                       0.0                      0.0   \n",
       "38566                       0.0                      0.0   \n",
       "83382                       7.0                      1.0   \n",
       "189640                     10.0                      4.0   \n",
       "\n",
       "       AMT_REQ_CREDIT_BUREAU_HOUR AMT_REQ_CREDIT_BUREAU_DAY  \\\n",
       "35657                         0.0                       0.0   \n",
       "38566                         0.0                       0.0   \n",
       "83382                         0.0                       0.0   \n",
       "189640                        0.0                       0.0   \n",
       "\n",
       "        AMT_REQ_CREDIT_BUREAU_WEEK  AMT_REQ_CREDIT_BUREAU_MON  \\\n",
       "35657                          0.0                        0.0   \n",
       "38566                          0.0                        3.0   \n",
       "83382                          0.0                        0.0   \n",
       "189640                         0.0                        0.0   \n",
       "\n",
       "        AMT_REQ_CREDIT_BUREAU_QRT  AMT_REQ_CREDIT_BUREAU_YEAR  \n",
       "35657                         0.0                         1.0  \n",
       "38566                         0.0                         4.0  \n",
       "83382                         0.0                         3.0  \n",
       "189640                        1.0                         6.0  \n",
       "\n",
       "[4 rows x 42 columns]"
      ]
     },
     "execution_count": 73,
     "metadata": {},
     "output_type": "execute_result"
    }
   ],
   "source": [
    "apli[apli['CODE_GENDER'] == 'XNA']"
   ]
  },
  {
   "cell_type": "markdown",
   "id": "dd10f475-91be-431e-8f52-1a0b57505e5b",
   "metadata": {},
   "source": [
    "As data looks valid, we will go ahead and check for an imputation method.\r\n",
    "\r\n",
    "Female applicants are twice the number of Male applicants\r\n",
    "And so, we will go ahead and impute CODE_GENDER with 'F'"
   ]
  },
  {
   "cell_type": "code",
   "execution_count": 75,
   "id": "3341d8f3-c0c3-4478-8d45-6fc4ce36fb1e",
   "metadata": {},
   "outputs": [],
   "source": [
    "apli['CODE_GENDER'] = apli['CODE_GENDER'].apply(lambda x: 'F' if x == 'XNA' else x)\n",
    "#  or #Replacing XNA with most recurrent value i.e. 'F'.\n",
    "# df['CODE_GENDER'].replace('XNA', 'F', inplace = True)"
   ]
  },
  {
   "cell_type": "code",
   "execution_count": 76,
   "id": "a218fa4a-60f0-4a48-8201-f8de6ce038ac",
   "metadata": {},
   "outputs": [
    {
     "data": {
      "text/plain": [
       "CODE_GENDER\n",
       "F    202452\n",
       "M    105059\n",
       "Name: count, dtype: int64"
      ]
     },
     "execution_count": 76,
     "metadata": {},
     "output_type": "execute_result"
    }
   ],
   "source": [
    "apli['CODE_GENDER'].value_counts()"
   ]
  },
  {
   "cell_type": "markdown",
   "id": "d1c67a2b-d55e-493d-8dc2-b3664bf02d8a",
   "metadata": {},
   "source": [
    "Analysis of ORGANIZATION_TYPE column\n",
    "ORGANIZATION_TYPE Description\n",
    "The ORGANIZATION_TYPE column represents the type of organization where the client works or is associated with\n",
    "\n",
    "ANGE"
   ]
  },
  {
   "cell_type": "markdown",
   "id": "91a9f90a-aa3b-4be1-a0fa-9ece8738c583",
   "metadata": {},
   "source": [
    "XNA in ORGANIZATION_TYPE column has 55374 values which is higher amount of data  so we will replace it with Unknown for better understanding "
   ]
  },
  {
   "cell_type": "code",
   "execution_count": 79,
   "id": "d33ac51f-9eda-42eb-9a71-d112f9c30697",
   "metadata": {},
   "outputs": [
    {
     "name": "stderr",
     "output_type": "stream",
     "text": [
      "C:\\Users\\Vishwaraj\\AppData\\Local\\Temp\\ipykernel_16580\\810614120.py:2: FutureWarning: A value is trying to be set on a copy of a DataFrame or Series through chained assignment using an inplace method.\n",
      "The behavior will change in pandas 3.0. This inplace method will never work because the intermediate object on which we are setting values always behaves as a copy.\n",
      "\n",
      "For example, when doing 'df[col].method(value, inplace=True)', try using 'df.method({col: value}, inplace=True)' or df[col] = df[col].method(value) instead, to perform the operation inplace on the original object.\n",
      "\n",
      "\n",
      "  apli['ORGANIZATION_TYPE'].replace('XNA', 'Unknown', inplace=True)\n"
     ]
    }
   ],
   "source": [
    "# Replacing 'XNA' values with 'Unknown' for better understanding\n",
    "apli['ORGANIZATION_TYPE'].replace('XNA', 'Unknown', inplace=True)\n"
   ]
  },
  {
   "cell_type": "code",
   "execution_count": 80,
   "id": "4b988455-777f-4438-879d-c94425f30144",
   "metadata": {},
   "outputs": [
    {
     "data": {
      "text/plain": [
       "ORGANIZATION_TYPE\n",
       "Business Entity Type 3    67992\n",
       "Unknown                   55374\n",
       "Self-employed             38412\n",
       "Other                     16683\n",
       "Medicine                  11193\n",
       "Name: count, dtype: int64"
      ]
     },
     "execution_count": 80,
     "metadata": {},
     "output_type": "execute_result"
    }
   ],
   "source": [
    "apli['ORGANIZATION_TYPE'].value_counts().head()"
   ]
  },
  {
   "cell_type": "code",
   "execution_count": 81,
   "id": "18b095eb-c35a-4ce5-9b9f-dfd566e86bdb",
   "metadata": {},
   "outputs": [
    {
     "data": {
      "text/html": [
       "<div>\n",
       "<style scoped>\n",
       "    .dataframe tbody tr th:only-of-type {\n",
       "        vertical-align: middle;\n",
       "    }\n",
       "\n",
       "    .dataframe tbody tr th {\n",
       "        vertical-align: top;\n",
       "    }\n",
       "\n",
       "    .dataframe thead th {\n",
       "        text-align: right;\n",
       "    }\n",
       "</style>\n",
       "<table border=\"1\" class=\"dataframe\">\n",
       "  <thead>\n",
       "    <tr style=\"text-align: right;\">\n",
       "      <th></th>\n",
       "      <th>DAYS_EMPLOYED</th>\n",
       "      <th>DAYS_REGISTRATION</th>\n",
       "      <th>DAYS_ID_PUBLISH</th>\n",
       "      <th>DAYS_BIRTH</th>\n",
       "    </tr>\n",
       "  </thead>\n",
       "  <tbody>\n",
       "    <tr>\n",
       "      <th>0</th>\n",
       "      <td>-637</td>\n",
       "      <td>-3648.0</td>\n",
       "      <td>-2120</td>\n",
       "      <td>-9461</td>\n",
       "    </tr>\n",
       "    <tr>\n",
       "      <th>1</th>\n",
       "      <td>-1188</td>\n",
       "      <td>-1186.0</td>\n",
       "      <td>-291</td>\n",
       "      <td>-16765</td>\n",
       "    </tr>\n",
       "    <tr>\n",
       "      <th>2</th>\n",
       "      <td>-225</td>\n",
       "      <td>-4260.0</td>\n",
       "      <td>-2531</td>\n",
       "      <td>-19046</td>\n",
       "    </tr>\n",
       "    <tr>\n",
       "      <th>3</th>\n",
       "      <td>-3039</td>\n",
       "      <td>-9833.0</td>\n",
       "      <td>-2437</td>\n",
       "      <td>-19005</td>\n",
       "    </tr>\n",
       "    <tr>\n",
       "      <th>4</th>\n",
       "      <td>-3038</td>\n",
       "      <td>-4311.0</td>\n",
       "      <td>-3458</td>\n",
       "      <td>-19932</td>\n",
       "    </tr>\n",
       "  </tbody>\n",
       "</table>\n",
       "</div>"
      ],
      "text/plain": [
       "   DAYS_EMPLOYED  DAYS_REGISTRATION  DAYS_ID_PUBLISH  DAYS_BIRTH\n",
       "0           -637            -3648.0            -2120       -9461\n",
       "1          -1188            -1186.0             -291      -16765\n",
       "2           -225            -4260.0            -2531      -19046\n",
       "3          -3039            -9833.0            -2437      -19005\n",
       "4          -3038            -4311.0            -3458      -19932"
      ]
     },
     "execution_count": 81,
     "metadata": {},
     "output_type": "execute_result"
    }
   ],
   "source": [
    "columns_to_convert = [\n",
    "    'DAYS_EMPLOYED', \n",
    "    'DAYS_REGISTRATION', \n",
    "    'DAYS_ID_PUBLISH', \n",
    "    'DAYS_BIRTH'\n",
    "]\n",
    "\n",
    "# Display the values of the specified columns\n",
    "apli[columns_to_convert].head()\n"
   ]
  },
  {
   "cell_type": "markdown",
   "id": "152f7435-652f-4935-afb5-bddc1a6e0b84",
   "metadata": {},
   "source": [
    "Here we noticed that some variable has negative values which are supposed not to be negative.\n",
    "DAYS_EMPLOYED\n",
    "DAYS_REGISTRATION\n",
    "DAYS_ID_PUBLISH\n",
    "DAYS_LAST_PHONE_CHANGE"
   ]
  },
  {
   "cell_type": "code",
   "execution_count": null,
   "id": "ab8ccc2e-91da-4161-886b-897e96cd86be",
   "metadata": {},
   "outputs": [],
   "source": []
  },
  {
   "cell_type": "code",
   "execution_count": 84,
   "id": "96ba674d-0592-4089-9f60-a9efefc25062",
   "metadata": {},
   "outputs": [
    {
     "name": "stderr",
     "output_type": "stream",
     "text": [
      "C:\\Users\\Vishwaraj\\AppData\\Local\\Temp\\ipykernel_16580\\2661557016.py:8: FutureWarning: DataFrame.applymap has been deprecated. Use DataFrame.map instead.\n",
      "  apli[columns_to_convert] = apli[columns_to_convert].applymap(lambda x: abs(x))\n"
     ]
    }
   ],
   "source": [
    "columns_to_convert = [\n",
    "    'DAYS_EMPLOYED', \n",
    "    'DAYS_REGISTRATION', \n",
    "    'DAYS_ID_PUBLISH',\n",
    "    'DAYS_BIRTH'\n",
    "]\n",
    "# Apply the same transformation for all listed columns\n",
    "apli[columns_to_convert] = apli[columns_to_convert].applymap(lambda x: abs(x))\n"
   ]
  },
  {
   "cell_type": "code",
   "execution_count": 85,
   "id": "927a3c52-e16e-4cdd-86d8-7969b6d9ba65",
   "metadata": {},
   "outputs": [
    {
     "data": {
      "text/html": [
       "<div>\n",
       "<style scoped>\n",
       "    .dataframe tbody tr th:only-of-type {\n",
       "        vertical-align: middle;\n",
       "    }\n",
       "\n",
       "    .dataframe tbody tr th {\n",
       "        vertical-align: top;\n",
       "    }\n",
       "\n",
       "    .dataframe thead th {\n",
       "        text-align: right;\n",
       "    }\n",
       "</style>\n",
       "<table border=\"1\" class=\"dataframe\">\n",
       "  <thead>\n",
       "    <tr style=\"text-align: right;\">\n",
       "      <th></th>\n",
       "      <th>DAYS_EMPLOYED</th>\n",
       "      <th>DAYS_REGISTRATION</th>\n",
       "      <th>DAYS_ID_PUBLISH</th>\n",
       "      <th>DAYS_BIRTH</th>\n",
       "    </tr>\n",
       "  </thead>\n",
       "  <tbody>\n",
       "    <tr>\n",
       "      <th>0</th>\n",
       "      <td>637</td>\n",
       "      <td>3648.0</td>\n",
       "      <td>2120</td>\n",
       "      <td>9461</td>\n",
       "    </tr>\n",
       "    <tr>\n",
       "      <th>1</th>\n",
       "      <td>1188</td>\n",
       "      <td>1186.0</td>\n",
       "      <td>291</td>\n",
       "      <td>16765</td>\n",
       "    </tr>\n",
       "    <tr>\n",
       "      <th>2</th>\n",
       "      <td>225</td>\n",
       "      <td>4260.0</td>\n",
       "      <td>2531</td>\n",
       "      <td>19046</td>\n",
       "    </tr>\n",
       "    <tr>\n",
       "      <th>3</th>\n",
       "      <td>3039</td>\n",
       "      <td>9833.0</td>\n",
       "      <td>2437</td>\n",
       "      <td>19005</td>\n",
       "    </tr>\n",
       "    <tr>\n",
       "      <th>4</th>\n",
       "      <td>3038</td>\n",
       "      <td>4311.0</td>\n",
       "      <td>3458</td>\n",
       "      <td>19932</td>\n",
       "    </tr>\n",
       "  </tbody>\n",
       "</table>\n",
       "</div>"
      ],
      "text/plain": [
       "   DAYS_EMPLOYED  DAYS_REGISTRATION  DAYS_ID_PUBLISH  DAYS_BIRTH\n",
       "0            637             3648.0             2120        9461\n",
       "1           1188             1186.0              291       16765\n",
       "2            225             4260.0             2531       19046\n",
       "3           3039             9833.0             2437       19005\n",
       "4           3038             4311.0             3458       19932"
      ]
     },
     "execution_count": 85,
     "metadata": {},
     "output_type": "execute_result"
    }
   ],
   "source": [
    "columns_to_convert = [\n",
    "    'DAYS_EMPLOYED', \n",
    "    'DAYS_REGISTRATION', \n",
    "    'DAYS_ID_PUBLISH', \n",
    "    'DAYS_BIRTH'\n",
    "]\n",
    "\n",
    "# Display the values of the specified columns\n",
    "apli[columns_to_convert].head()"
   ]
  },
  {
   "cell_type": "markdown",
   "id": "de33aec6-b9bf-425e-8ed5-1accea3e2518",
   "metadata": {},
   "source": [
    "#### Creating a new column YEARS_BIRTH for ease of analysis\n",
    "#### Binning of continuous columns for analysis"
   ]
  },
  {
   "cell_type": "code",
   "execution_count": null,
   "id": "88d777ed-14e1-42b4-91ee-51ccccbc178d",
   "metadata": {},
   "outputs": [],
   "source": []
  },
  {
   "cell_type": "markdown",
   "id": "1ab5694f-3371-422d-9164-11a232555257",
   "metadata": {},
   "source": [
    "#### Categorizing YEARS_BIRTH column\n",
    "####  categorizing 'YEARS_BIRTH' instead of 'DAYS_BIRTH' as years are easier to interpret than days"
   ]
  },
  {
   "cell_type": "code",
   "execution_count": 89,
   "id": "51f5fae3-157a-455a-9359-494f72dafaf9",
   "metadata": {},
   "outputs": [],
   "source": [
    "apli['YEARS_BIRTH'] = apli['DAYS_BIRTH'].apply(lambda x: round(x/365))"
   ]
  },
  {
   "cell_type": "code",
   "execution_count": 90,
   "id": "0f440fb1-d90d-4d0a-a953-96848e39f256",
   "metadata": {},
   "outputs": [
    {
     "data": {
      "text/plain": [
       "YEARS_BIRTH\n",
       "39    9023\n",
       "38    8793\n",
       "37    8727\n",
       "40    8602\n",
       "41    8495\n",
       "Name: count, dtype: int64"
      ]
     },
     "execution_count": 90,
     "metadata": {},
     "output_type": "execute_result"
    }
   ],
   "source": [
    "apli['YEARS_BIRTH'].value_counts().sort_values(ascending = False).head()"
   ]
  },
  {
   "cell_type": "code",
   "execution_count": 91,
   "id": "b7a5957c-db35-4b90-b8ad-a3369f2a7c08",
   "metadata": {},
   "outputs": [],
   "source": [
    "### Creating a function age_cat to categorize YEARS_BIRTH\n",
    "def age_cat(years):\n",
    "    if years <= 20:\n",
    "        return '0-20'\n",
    "    elif years > 20 and years <= 30:\n",
    "        return '20-30'\n",
    "    elif years > 30 and years <= 40:\n",
    "        return '30-40'  \n",
    "    elif years > 40 and years <= 50:\n",
    "        return '40-50'\n",
    "    elif years > 50 and years <= 60:\n",
    "        return '50-60'\n",
    "    elif years > 60 and years <= 70:\n",
    "        return '60-70'\n",
    "    elif years > 70:\n",
    "        return '70+'"
   ]
  },
  {
   "cell_type": "code",
   "execution_count": 92,
   "id": "45ef7c29-2814-4476-bbab-ee0a37cbeef8",
   "metadata": {},
   "outputs": [],
   "source": [
    "apli['YEARS_BIRTH_CATEGORY'] = apli['YEARS_BIRTH'].apply(age_cat)"
   ]
  },
  {
   "cell_type": "code",
   "execution_count": 93,
   "id": "724bab5a-52a8-499c-a8b0-add5346d33f9",
   "metadata": {},
   "outputs": [
    {
     "data": {
      "text/plain": [
       "YEARS_BIRTH_CATEGORY\n",
       "30-40    82770\n",
       "40-50    75509\n",
       "50-60    67955\n",
       "20-30    48869\n",
       "60-70    32408\n",
       "Name: count, dtype: int64"
      ]
     },
     "execution_count": 93,
     "metadata": {},
     "output_type": "execute_result"
    }
   ],
   "source": [
    "apli['YEARS_BIRTH_CATEGORY'].value_counts().sort_values(ascending = False)"
   ]
  },
  {
   "cell_type": "code",
   "execution_count": null,
   "id": "902de60e-149f-420d-b92e-cb409d9480d9",
   "metadata": {},
   "outputs": [],
   "source": []
  },
  {
   "cell_type": "code",
   "execution_count": null,
   "id": "93400faf-3b36-4043-85b1-c2a36b2502c0",
   "metadata": {},
   "outputs": [],
   "source": []
  },
  {
   "cell_type": "code",
   "execution_count": 151,
   "id": "c9359a4e-d3d7-4ab9-806c-35cdc131d78b",
   "metadata": {},
   "outputs": [
    {
     "name": "stdout",
     "output_type": "stream",
     "text": [
      "Min value for AMT_ANNUITY before which outliers exist: -10584.0\n",
      "Max value for AMT_ANNUITY after which outliers exist: 61704.0\n"
     ]
    },
    {
     "data": {
      "image/png": "[encoded data removed]",
      "text/plain": [
       "<Figure size 640x480 with 1 Axes>"
      ]
     },
     "metadata": {},
     "output_type": "display_data"
    },
    {
     "name": "stdout",
     "output_type": "stream",
     "text": [
      "Min value for AMT_CREDIT before which outliers exist: -537975.0\n",
      "Max value for AMT_CREDIT after which outliers exist: 1616625.0\n"
     ]
    },
    {
     "data": {
      "image/png": "[encoded data removed]",
      "text/plain": [
       "<Figure size 640x480 with 1 Axes>"
      ]
     },
     "metadata": {},
     "output_type": "display_data"
    },
    {
     "name": "stdout",
     "output_type": "stream",
     "text": [
      "Min value for AMT_INCOME_TOTAL before which outliers exist: -22500.0\n",
      "Max value for AMT_INCOME_TOTAL after which outliers exist: 337500.0\n"
     ]
    },
    {
     "data": {
      "image/png": "[encoded data removed]",
      "text/plain": [
       "<Figure size 640x480 with 1 Axes>"
      ]
     },
     "metadata": {},
     "output_type": "display_data"
    }
   ],
   "source": [
    "# Function to calculate and visualize outliers using IQR\n",
    "def detect_outliers(column):\n",
    "    Q1 = apli[column].quantile(0.25)\n",
    "    Q3 = apli[column].quantile(0.75)\n",
    "    IQR = Q3 - Q1\n",
    "    Min_value = Q1 - 1.5 * IQR\n",
    "    Max_value = Q3 + 1.5 * IQR\n",
    "    print(f\"Min value for {column} before which outliers exist: {Min_value}\")\n",
    "    print(f\"Max value for {column} after which outliers exist: {Max_value}\")\n",
    "    \n",
    "    \n",
    "    plt.subplot(122)\n",
    "    sns.boxplot(apli[apli[column] <= Max_value][column])\n",
    "    plt.title(f'Boxplot of {column}')\n",
    "    \n",
    "    plt.tight_layout(pad=4)\n",
    "    plt.show()\n",
    "\n",
    "# Detecting outliers for each column\n",
    "detect_outliers('AMT_ANNUITY')\n",
    "detect_outliers('AMT_CREDIT')\n",
    "detect_outliers('AMT_INCOME_TOTAL')\n"
   ]
  },
  {
   "cell_type": "markdown",
   "id": "147df0fc-5d39-4a34-bdf1-994bd36c848a",
   "metadata": {},
   "source": []
  },
  {
   "cell_type": "code",
   "execution_count": null,
   "id": "88f235e8-2a0c-452f-8a5f-1e3070e64912",
   "metadata": {},
   "outputs": [],
   "source": []
  },
  {
   "cell_type": "markdown",
   "id": "ebf96487-4a13-4b3d-bc12-8d60436aad21",
   "metadata": {},
   "source": [
    "s."
   ]
  },
  {
   "cell_type": "markdown",
   "id": "bcf56f47-c31b-4a9c-aa16-eede67cda0a4",
   "metadata": {},
   "source": [
    "Checking Imbalance for target column `TARGET"
   ]
  },
  {
   "cell_type": "code",
   "execution_count": 153,
   "id": "6d3774fd-fc67-4ab3-92b7-5a6901df4a68",
   "metadata": {},
   "outputs": [
    {
     "data": {
      "text/plain": [
       "TARGET\n",
       "0    282686\n",
       "1     24825\n",
       "Name: count, dtype: int64"
      ]
     },
     "execution_count": 153,
     "metadata": {},
     "output_type": "execute_result"
    }
   ],
   "source": [
    "# Dividing the dataset into two dataset of  target=1(client with payment difficulties) and target=0(all other)\n",
    "\n",
    "apli['TARGET'].value_counts().sort_values(ascending = False)"
   ]
  },
  {
   "cell_type": "code",
   "execution_count": 155,
   "id": "7cbc9c63-ca52-408d-93ba-619ffd87e3bd",
   "metadata": {},
   "outputs": [
    {
     "data": {
      "text/plain": [
       "TARGET\n",
       "0    91.927118\n",
       "1     8.072882\n",
       "Name: proportion, dtype: float64"
      ]
     },
     "execution_count": 155,
     "metadata": {},
     "output_type": "execute_result"
    }
   ],
   "source": [
    "apli['TARGET'].value_counts(normalize = True).sort_values(ascending = False) * 100"
   ]
  },
  {
   "cell_type": "code",
   "execution_count": 157,
   "id": "9852e85c-0420-4ee4-8fca-4727361dfb1b",
   "metadata": {},
   "outputs": [
    {
     "data": {
      "image/png": "[encoded data removed]",
      "text/plain": [
       "<Figure size 1000x500 with 1 Axes>"
      ]
     },
     "metadata": {},
     "output_type": "display_data"
    }
   ],
   "source": [
    "plt.figure(figsize = (10,5))\n",
    "sns.countplot(x = apli['TARGET'], data = apli)\n",
    "plt.title('Checking imbalance ratio of TARGET variable')\n",
    "plt.show()"
   ]
  },
  {
   "cell_type": "markdown",
   "id": "d1291fd1-0b10-4c32-a292-8f12ef11524f",
   "metadata": {},
   "source": [
    "Observations\r\n",
    "\r\n",
    "We have imbalance isn TARGET variable based on the % of observations\r\n",
    "TARGET value 1 represents client with payment difficulties (he/she had late payment more than X days on at least one of the first Y installments of the loan). This is only 8.07% of the data\r\n",
    "TARGET value 0 represents all other cases than 1. This is 91.93% of the data"
   ]
  },
  {
   "cell_type": "markdown",
   "id": "3f86cb75-dea9-4d99-a4e2-5db3be3e73c9",
   "metadata": {},
   "source": [
    "## Data split based on TARGET"
   ]
  },
  {
   "cell_type": "code",
   "execution_count": 161,
   "id": "75f498dd-a37e-445a-bbf3-33094d0d01d9",
   "metadata": {},
   "outputs": [],
   "source": [
    "non_defaulters=apli[apli['TARGET'] == 0] # this is 91.927118 "
   ]
  },
  {
   "cell_type": "code",
   "execution_count": 163,
   "id": "0be2ccea-4900-44d7-9770-9ff01ef2d482",
   "metadata": {},
   "outputs": [
    {
     "data": {
      "text/plain": [
       "TARGET\n",
       "0    282686\n",
       "Name: count, dtype: int64"
      ]
     },
     "execution_count": 163,
     "metadata": {},
     "output_type": "execute_result"
    }
   ],
   "source": [
    "non_defaulters.TARGET.value_counts()  # this is 8"
   ]
  },
  {
   "cell_type": "code",
   "execution_count": 165,
   "id": "ba8447b2-f1ce-4c31-b609-434e16980595",
   "metadata": {},
   "outputs": [],
   "source": [
    "defaulters = apli[apli['TARGET'] == 1] #"
   ]
  },
  {
   "cell_type": "code",
   "execution_count": 167,
   "id": "c0adf9ff-5703-49ce-a60e-baa6fdd05218",
   "metadata": {},
   "outputs": [
    {
     "data": {
      "text/plain": [
       "TARGET\n",
       "1    24825\n",
       "Name: count, dtype: int64"
      ]
     },
     "execution_count": 167,
     "metadata": {},
     "output_type": "execute_result"
    }
   ],
   "source": [
    "defaulters.TARGET.value_counts()"
   ]
  },
  {
   "cell_type": "code",
   "execution_count": null,
   "id": "b375a2a1-3654-4de5-add1-aa9d8b35beb0",
   "metadata": {},
   "outputs": [],
   "source": []
  },
  {
   "cell_type": "markdown",
   "id": "64ac5e2e-064d-4886-b300-613613f4b9d4",
   "metadata": {},
   "source": [
    "### Analysis of CODE_GENDER"
   ]
  },
  {
   "cell_type": "code",
   "execution_count": 171,
   "id": "b9c4e09f-f938-4655-819b-afa867454d00",
   "metadata": {},
   "outputs": [
    {
     "data": {
      "text/plain": [
       "CODE_GENDER\n",
       "F    14170\n",
       "M    10655\n",
       "Name: count, dtype: int64"
      ]
     },
     "execution_count": 171,
     "metadata": {},
     "output_type": "execute_result"
    }
   ],
   "source": [
    "defaulters['CODE_GENDER'].value_counts().sort_values(ascending = False)"
   ]
  },
  {
   "cell_type": "code",
   "execution_count": 173,
   "id": "751a94f8-5f94-4ff9-bf09-ad9af2b8d529",
   "metadata": {},
   "outputs": [
    {
     "data": {
      "image/png": "[encoded data removed]",
      "text/plain": [
       "<Figure size 800x600 with 1 Axes>"
      ]
     },
     "metadata": {},
     "output_type": "display_data"
    },
    {
     "data": {
      "image/png": "[encoded data removed]",
      "text/plain": [
       "<Figure size 800x600 with 1 Axes>"
      ]
     },
     "metadata": {},
     "output_type": "display_data"
    }
   ],
   "source": [
    "# Bar plot for clients with payment difficulties (TARGET = 1)\n",
    "plt.figure(figsize=[8, 6])\n",
    "# Create the bar plot using value counts normalized to percentage\n",
    "(apli[apli['TARGET'] == 1]['CODE_GENDER'].value_counts(normalize=True) * 100).plot.bar(color=['blue', 'green'])\n",
    "plt.title('Gender Distribution of Clients with Payment Difficulties (TARGET = 1)')\n",
    "plt.xlabel('Gender')\n",
    "plt.ylabel('Percentage (%)')\n",
    "plt.xticks(rotation=0)  # Keep x-axis labels horizontal\n",
    "plt.show()\n",
    "\n",
    "# Bar plot for clients with on-time payments (TARGET = 0)\n",
    "plt.figure(figsize=[8, 6])\n",
    "# Create the bar plot using value counts normalized to percentage\n",
    "(apli[apli['TARGET'] == 0]['CODE_GENDER'].value_counts(normalize=True) * 100).plot.bar(color=['blue', 'green'])\n",
    "plt.title('Gender Distribution of Clients with On-time Payments (TARGET = 0)')\n",
    "plt.xlabel('Gender')\n",
    "plt.ylabel('Percentage (%)')\n",
    "plt.xticks(rotation=0)  # Keep x-axis labels horizontal\n",
    "plt.show()\n"
   ]
  },
  {
   "cell_type": "code",
   "execution_count": null,
   "id": "4b0dfa94-edc3-4646-ac61-d9591377ae8b",
   "metadata": {},
   "outputs": [],
   "source": [
    "\n"
   ]
  },
  {
   "cell_type": "code",
   "execution_count": 175,
   "id": "a4458ffc-95d3-4129-a61c-454215d13c94",
   "metadata": {},
   "outputs": [
    {
     "data": {
      "image/png": "[encoded data removed]",
      "text/plain": [
       "<Figure size 600x600 with 1 Axes>"
      ]
     },
     "metadata": {},
     "output_type": "display_data"
    },
    {
     "data": {
      "image/png": "[encoded data removed]",
      "text/plain": [
       "<Figure size 600x600 with 1 Axes>"
      ]
     },
     "metadata": {},
     "output_type": "display_data"
    }
   ],
   "source": [
    "# Pie chart for clients with payment difficulties (TARGET = 1)\n",
    "gender_dist_target_1 = apli[apli['TARGET'] == 1]['CODE_GENDER'].value_counts()\n",
    "plt.figure(figsize=[6,6])\n",
    "gender_dist_target_1.plot(kind='pie', autopct='%1.1f%%', colors=['#FF9999','#66B3FF','#99FF99'], startangle=90)\n",
    "plt.title('Gender Distribution of Clients with Payment Difficulties (TARGET = 1)')\n",
    "plt.ylabel('')  # Removes the label 'CODE_GENDER'\n",
    "plt.show()\n",
    "\n",
    "# Pie chart for clients with on-time payments (TARGET = 0)\n",
    "gender_dist_target_0 = apli[apli['TARGET'] == 0]['CODE_GENDER'].value_counts()\n",
    "plt.figure(figsize=[6,6])\n",
    "gender_dist_target_0.plot(kind='pie', autopct='%1.1f%%', colors=['#FF9999','#66B3FF','#99FF99'], startangle=90)\n",
    "plt.title('Gender Distribution of Clients with On-time Payments (TARGET = 0)')\n",
    "plt.ylabel('')  # Removes the label 'CODE_GENDER'\n",
    "plt.show()\n"
   ]
  },
  {
   "cell_type": "markdown",
   "id": "caeca230-5c21-46e6-a66b-b48002a9086c",
   "metadata": {},
   "source": [
    "Observations\n",
    "\n",
    "Looking at barplot and PieChart, there is a 9.5% decrease in \"Male\" values from CODE_GENDER b/w clients with payment difficulties to on-time payments. It's a weak correlation that Males have more payment difficulties.\n",
    "Conclusion\n",
    "CODE_GENDER column provides a weak colrtlation that \"Male\" clients have more payment difficulties"
   ]
  },
  {
   "cell_type": "markdown",
   "id": "1c60a484-87df-43ed-a6a3-fcb547ddda81",
   "metadata": {},
   "source": [
    "#### Analysis of NAME_INCOME_TYPE"
   ]
  },
  {
   "cell_type": "markdown",
   "id": "e37c8815-6d2a-4b31-a0cc-b42a3e80ee23",
   "metadata": {},
   "source": [
    "NAME_INCOME_TYPE with payment difficulties"
   ]
  },
  {
   "cell_type": "code",
   "execution_count": 180,
   "id": "30166742-7327-406e-bd9a-4a9439560310",
   "metadata": {},
   "outputs": [
    {
     "data": {
      "text/plain": [
       "NAME_INCOME_TYPE\n",
       "Working                 15224\n",
       "Commercial associate     5360\n",
       "Pensioner                2982\n",
       "State servant            1249\n",
       "Unemployed                  8\n",
       "Maternity leave             2\n",
       "Name: count, dtype: int64"
      ]
     },
     "execution_count": 180,
     "metadata": {},
     "output_type": "execute_result"
    }
   ],
   "source": [
    "defaulters['NAME_INCOME_TYPE'].value_counts().sort_values(ascending = False)"
   ]
  },
  {
   "cell_type": "markdown",
   "id": "8eed721f-a012-4dff-bcf3-e25896726270",
   "metadata": {},
   "source": [
    "NAME_INCOME_TYPE with on-time payments"
   ]
  },
  {
   "cell_type": "code",
   "execution_count": 184,
   "id": "7516d3ec-7f5f-40be-8606-2fafe7e64092",
   "metadata": {},
   "outputs": [
    {
     "data": {
      "text/plain": [
       "NAME_INCOME_TYPE\n",
       "Working                 143550\n",
       "Commercial associate     66257\n",
       "Pensioner                52380\n",
       "State servant            20454\n",
       "Student                     18\n",
       "Unemployed                  14\n",
       "Businessman                 10\n",
       "Maternity leave              3\n",
       "Name: count, dtype: int64"
      ]
     },
     "execution_count": 184,
     "metadata": {},
     "output_type": "execute_result"
    }
   ],
   "source": [
    "non_defaulters['NAME_INCOME_TYPE'].value_counts().sort_values(ascending = False)"
   ]
  },
  {
   "cell_type": "code",
   "execution_count": null,
   "id": "701ed1bc-5c14-4176-9faa-9581623bb385",
   "metadata": {},
   "outputs": [],
   "source": []
  },
  {
   "cell_type": "code",
   "execution_count": 187,
   "id": "5115bb02-3e46-4d1c-905a-595aed6a1da2",
   "metadata": {},
   "outputs": [
    {
     "data": {
      "image/png": "[encoded data removed]",
      "text/plain": [
       "<Figure size 1000x600 with 1 Axes>"
      ]
     },
     "metadata": {},
     "output_type": "display_data"
    },
    {
     "data": {
      "image/png": "[encoded data removed]",
      "text/plain": [
       "<Figure size 1000x600 with 1 Axes>"
      ]
     },
     "metadata": {},
     "output_type": "display_data"
    }
   ],
   "source": [
    "# Bar plot for income types of clients with payment difficulties\n",
    "plt.figure(figsize=[10,6])\n",
    "(apli[apli['TARGET'] == 1]['NAME_INCOME_TYPE'].value_counts(normalize=True) * 100).plot.bar(title = 'Income Type with Payment Difficulties (TARGET = 1)', color=['black', 'red', 'green', 'blue', 'cyan'])\n",
    "plt.xticks(rotation=90)\n",
    "plt.show()\n",
    "\n",
    "# Bar plot for income types of clients with on-time payments\n",
    "plt.figure(figsize=[10,6])\n",
    "(apli[apli['TARGET'] == 0]['NAME_INCOME_TYPE'].value_counts(normalize=True) * 100).plot.bar(title = 'Income Type with On-Time Payments (TARGET = 0)', color=['black', 'red', 'green', 'blue', 'cyan'])\n",
    "plt.xticks(rotation=90)\n",
    "plt.show()\n"
   ]
  },
  {
   "cell_type": "markdown",
   "id": "c724630c-62fd-4f32-aed4-8ce33bf29135",
   "metadata": {},
   "source": [
    "Observations:\n",
    "Pensioners have a higher proportion of on-time payments compared to other income types.\n",
    "Students do not exhibit payment difficulties (with only 18 records), which suggests this group is very small and not representative.\n",
    "Businessmen also do not have payment difficulties (with only 10 records), and should be treated as a small group that is not statistically significant.\n",
    "Conclusion:\n",
    "while pensioners seem to have better payment behavior, we can't fully attribute that behavior just to their income type without considering other potential influencing factors.\n",
    "\n",
    "Students and Businessmen are underrepresented in the dataset (with only 18 and 10 records, respectively). Their trends should be treated cautiously as weak correlations."
   ]
  },
  {
   "cell_type": "code",
   "execution_count": 189,
   "id": "b3601b3c-04a3-4887-b095-bd59d0a902e6",
   "metadata": {},
   "outputs": [
    {
     "data": {
      "text/html": [
       "<div>\n",
       "<style scoped>\n",
       "    .dataframe tbody tr th:only-of-type {\n",
       "        vertical-align: middle;\n",
       "    }\n",
       "\n",
       "    .dataframe tbody tr th {\n",
       "        vertical-align: top;\n",
       "    }\n",
       "\n",
       "    .dataframe thead th {\n",
       "        text-align: right;\n",
       "    }\n",
       "</style>\n",
       "<table border=\"1\" class=\"dataframe\">\n",
       "  <thead>\n",
       "    <tr style=\"text-align: right;\">\n",
       "      <th></th>\n",
       "      <th></th>\n",
       "      <th>count</th>\n",
       "      <th>mean</th>\n",
       "      <th>std</th>\n",
       "      <th>min</th>\n",
       "      <th>25%</th>\n",
       "      <th>50%</th>\n",
       "      <th>75%</th>\n",
       "      <th>max</th>\n",
       "    </tr>\n",
       "    <tr>\n",
       "      <th>YEARS_BIRTH_CATEGORY</th>\n",
       "      <th>NAME_HOUSING_TYPE</th>\n",
       "      <th></th>\n",
       "      <th></th>\n",
       "      <th></th>\n",
       "      <th></th>\n",
       "      <th></th>\n",
       "      <th></th>\n",
       "      <th></th>\n",
       "      <th></th>\n",
       "    </tr>\n",
       "  </thead>\n",
       "  <tbody>\n",
       "    <tr>\n",
       "      <th rowspan=\"5\" valign=\"top\">20-30</th>\n",
       "      <th>Co-op apartment</th>\n",
       "      <td>338.0</td>\n",
       "      <td>159670.970414</td>\n",
       "      <td>74429.366446</td>\n",
       "      <td>45000.0</td>\n",
       "      <td>112500.000</td>\n",
       "      <td>135000.0</td>\n",
       "      <td>202500.0</td>\n",
       "      <td>720000.0</td>\n",
       "    </tr>\n",
       "    <tr>\n",
       "      <th>House / apartment</th>\n",
       "      <td>37366.0</td>\n",
       "      <td>162589.945876</td>\n",
       "      <td>90237.077165</td>\n",
       "      <td>27000.0</td>\n",
       "      <td>112500.000</td>\n",
       "      <td>135000.0</td>\n",
       "      <td>202500.0</td>\n",
       "      <td>4500000.0</td>\n",
       "    </tr>\n",
       "    <tr>\n",
       "      <th>Municipal apartment</th>\n",
       "      <td>1252.0</td>\n",
       "      <td>164692.092652</td>\n",
       "      <td>87560.972489</td>\n",
       "      <td>45000.0</td>\n",
       "      <td>112500.000</td>\n",
       "      <td>144000.0</td>\n",
       "      <td>202500.0</td>\n",
       "      <td>1417500.0</td>\n",
       "    </tr>\n",
       "    <tr>\n",
       "      <th>Office apartment</th>\n",
       "      <td>495.0</td>\n",
       "      <td>175488.654545</td>\n",
       "      <td>112204.797758</td>\n",
       "      <td>36000.0</td>\n",
       "      <td>112500.000</td>\n",
       "      <td>157500.0</td>\n",
       "      <td>225000.0</td>\n",
       "      <td>1800000.0</td>\n",
       "    </tr>\n",
       "    <tr>\n",
       "      <th>Rented apartment</th>\n",
       "      <td>1764.0</td>\n",
       "      <td>151883.326531</td>\n",
       "      <td>69495.267084</td>\n",
       "      <td>29250.0</td>\n",
       "      <td>107188.875</td>\n",
       "      <td>135000.0</td>\n",
       "      <td>180000.0</td>\n",
       "      <td>742500.0</td>\n",
       "    </tr>\n",
       "  </tbody>\n",
       "</table>\n",
       "</div>"
      ],
      "text/plain": [
       "                                            count           mean  \\\n",
       "YEARS_BIRTH_CATEGORY NAME_HOUSING_TYPE                             \n",
       "20-30                Co-op apartment        338.0  159670.970414   \n",
       "                     House / apartment    37366.0  162589.945876   \n",
       "                     Municipal apartment   1252.0  164692.092652   \n",
       "                     Office apartment       495.0  175488.654545   \n",
       "                     Rented apartment      1764.0  151883.326531   \n",
       "\n",
       "                                                    std      min         25%  \\\n",
       "YEARS_BIRTH_CATEGORY NAME_HOUSING_TYPE                                         \n",
       "20-30                Co-op apartment       74429.366446  45000.0  112500.000   \n",
       "                     House / apartment     90237.077165  27000.0  112500.000   \n",
       "                     Municipal apartment   87560.972489  45000.0  112500.000   \n",
       "                     Office apartment     112204.797758  36000.0  112500.000   \n",
       "                     Rented apartment      69495.267084  29250.0  107188.875   \n",
       "\n",
       "                                               50%       75%        max  \n",
       "YEARS_BIRTH_CATEGORY NAME_HOUSING_TYPE                                   \n",
       "20-30                Co-op apartment      135000.0  202500.0   720000.0  \n",
       "                     House / apartment    135000.0  202500.0  4500000.0  \n",
       "                     Municipal apartment  144000.0  202500.0  1417500.0  \n",
       "                     Office apartment     157500.0  225000.0  1800000.0  \n",
       "                     Rented apartment     135000.0  180000.0   742500.0  "
      ]
     },
     "execution_count": 189,
     "metadata": {},
     "output_type": "execute_result"
    }
   ],
   "source": [
    "#Client with Payment difficulties\n",
    "apli.groupby(by = ['YEARS_BIRTH_CATEGORY','NAME_HOUSING_TYPE']).AMT_INCOME_TOTAL.describe().head()\n"
   ]
  },
  {
   "cell_type": "code",
   "execution_count": 190,
   "id": "ea1da0c2-c477-479f-8495-c4a0cf91e09e",
   "metadata": {},
   "outputs": [
    {
     "data": {
      "text/html": [
       "<div>\n",
       "<style scoped>\n",
       "    .dataframe tbody tr th:only-of-type {\n",
       "        vertical-align: middle;\n",
       "    }\n",
       "\n",
       "    .dataframe tbody tr th {\n",
       "        vertical-align: top;\n",
       "    }\n",
       "\n",
       "    .dataframe thead th {\n",
       "        text-align: right;\n",
       "    }\n",
       "</style>\n",
       "<table border=\"1\" class=\"dataframe\">\n",
       "  <thead>\n",
       "    <tr style=\"text-align: right;\">\n",
       "      <th></th>\n",
       "      <th></th>\n",
       "      <th>count</th>\n",
       "      <th>mean</th>\n",
       "      <th>std</th>\n",
       "      <th>min</th>\n",
       "      <th>25%</th>\n",
       "      <th>50%</th>\n",
       "      <th>75%</th>\n",
       "      <th>max</th>\n",
       "    </tr>\n",
       "    <tr>\n",
       "      <th>YEARS_BIRTH_CATEGORY</th>\n",
       "      <th>NAME_HOUSING_TYPE</th>\n",
       "      <th></th>\n",
       "      <th></th>\n",
       "      <th></th>\n",
       "      <th></th>\n",
       "      <th></th>\n",
       "      <th></th>\n",
       "      <th></th>\n",
       "      <th></th>\n",
       "    </tr>\n",
       "  </thead>\n",
       "  <tbody>\n",
       "    <tr>\n",
       "      <th rowspan=\"5\" valign=\"top\">20-30</th>\n",
       "      <th>Co-op apartment</th>\n",
       "      <td>338.0</td>\n",
       "      <td>159670.970414</td>\n",
       "      <td>74429.366446</td>\n",
       "      <td>45000.0</td>\n",
       "      <td>112500.000</td>\n",
       "      <td>135000.0</td>\n",
       "      <td>202500.0</td>\n",
       "      <td>720000.0</td>\n",
       "    </tr>\n",
       "    <tr>\n",
       "      <th>House / apartment</th>\n",
       "      <td>37366.0</td>\n",
       "      <td>162589.945876</td>\n",
       "      <td>90237.077165</td>\n",
       "      <td>27000.0</td>\n",
       "      <td>112500.000</td>\n",
       "      <td>135000.0</td>\n",
       "      <td>202500.0</td>\n",
       "      <td>4500000.0</td>\n",
       "    </tr>\n",
       "    <tr>\n",
       "      <th>Municipal apartment</th>\n",
       "      <td>1252.0</td>\n",
       "      <td>164692.092652</td>\n",
       "      <td>87560.972489</td>\n",
       "      <td>45000.0</td>\n",
       "      <td>112500.000</td>\n",
       "      <td>144000.0</td>\n",
       "      <td>202500.0</td>\n",
       "      <td>1417500.0</td>\n",
       "    </tr>\n",
       "    <tr>\n",
       "      <th>Office apartment</th>\n",
       "      <td>495.0</td>\n",
       "      <td>175488.654545</td>\n",
       "      <td>112204.797758</td>\n",
       "      <td>36000.0</td>\n",
       "      <td>112500.000</td>\n",
       "      <td>157500.0</td>\n",
       "      <td>225000.0</td>\n",
       "      <td>1800000.0</td>\n",
       "    </tr>\n",
       "    <tr>\n",
       "      <th>Rented apartment</th>\n",
       "      <td>1764.0</td>\n",
       "      <td>151883.326531</td>\n",
       "      <td>69495.267084</td>\n",
       "      <td>29250.0</td>\n",
       "      <td>107188.875</td>\n",
       "      <td>135000.0</td>\n",
       "      <td>180000.0</td>\n",
       "      <td>742500.0</td>\n",
       "    </tr>\n",
       "  </tbody>\n",
       "</table>\n",
       "</div>"
      ],
      "text/plain": [
       "                                            count           mean  \\\n",
       "YEARS_BIRTH_CATEGORY NAME_HOUSING_TYPE                             \n",
       "20-30                Co-op apartment        338.0  159670.970414   \n",
       "                     House / apartment    37366.0  162589.945876   \n",
       "                     Municipal apartment   1252.0  164692.092652   \n",
       "                     Office apartment       495.0  175488.654545   \n",
       "                     Rented apartment      1764.0  151883.326531   \n",
       "\n",
       "                                                    std      min         25%  \\\n",
       "YEARS_BIRTH_CATEGORY NAME_HOUSING_TYPE                                         \n",
       "20-30                Co-op apartment       74429.366446  45000.0  112500.000   \n",
       "                     House / apartment     90237.077165  27000.0  112500.000   \n",
       "                     Municipal apartment   87560.972489  45000.0  112500.000   \n",
       "                     Office apartment     112204.797758  36000.0  112500.000   \n",
       "                     Rented apartment      69495.267084  29250.0  107188.875   \n",
       "\n",
       "                                               50%       75%        max  \n",
       "YEARS_BIRTH_CATEGORY NAME_HOUSING_TYPE                                   \n",
       "20-30                Co-op apartment      135000.0  202500.0   720000.0  \n",
       "                     House / apartment    135000.0  202500.0  4500000.0  \n",
       "                     Municipal apartment  144000.0  202500.0  1417500.0  \n",
       "                     Office apartment     157500.0  225000.0  1800000.0  \n",
       "                     Rented apartment     135000.0  180000.0   742500.0  "
      ]
     },
     "execution_count": 190,
     "metadata": {},
     "output_type": "execute_result"
    }
   ],
   "source": [
    "##Client with On-Time Payments\n",
    "apli.groupby(by = ['YEARS_BIRTH_CATEGORY','NAME_HOUSING_TYPE']).AMT_INCOME_TOTAL.describe().head()"
   ]
  },
  {
   "cell_type": "code",
   "execution_count": 251,
   "id": "67500301-5574-4454-9fe1-58a824961c81",
   "metadata": {},
   "outputs": [
    {
     "name": "stderr",
     "output_type": "stream",
     "text": [
      "C:\\Users\\Vishwaraj\\AppData\\Local\\Temp\\ipykernel_16580\\484535042.py:3: FutureWarning: \n",
      "\n",
      "Passing `palette` without assigning `hue` is deprecated and will be removed in v0.14.0. Assign the `x` variable to `hue` and set `legend=False` for the same effect.\n",
      "\n",
      "  sns.barplot(\n"
     ]
    },
    {
     "data": {
      "image/png": "[encoded data removed]",
      "text/plain": [
       "<Figure size 1000x600 with 1 Axes>"
      ]
     },
     "metadata": {},
     "output_type": "display_data"
    }
   ],
   "source": [
    "#Bar Plot for Clients with Payment Difficulties\n",
    "plt.figure(figsize=(10, 6))\n",
    "sns.barplot(\n",
    "    x=defaulters['YEARS_BIRTH_CATEGORY'].value_counts().index,\n",
    "    y=defaulters['YEARS_BIRTH_CATEGORY'].value_counts().values,\n",
    "    palette=\"Reds\"\n",
    ")\n",
    "plt.title('Count of Clients with Payment Difficulties by Age Category')\n",
    "plt.xlabel('YEARS_BIRTH_CATEGORY')\n",
    "plt.ylabel('Count')\n",
    "plt.xticks(rotation=45)\n",
    "plt.show()"
   ]
  },
  {
   "cell_type": "code",
   "execution_count": 257,
   "id": "da7355ea-75c9-4964-9b46-f78188dbabd5",
   "metadata": {},
   "outputs": [
    {
     "name": "stderr",
     "output_type": "stream",
     "text": [
      "C:\\Users\\Vishwaraj\\AppData\\Local\\Temp\\ipykernel_16580\\4181296771.py:3: FutureWarning: \n",
      "\n",
      "Passing `palette` without assigning `hue` is deprecated and will be removed in v0.14.0. Assign the `x` variable to `hue` and set `legend=False` for the same effect.\n",
      "\n",
      "  sns.barplot(\n"
     ]
    },
    {
     "data": {
      "image/png": "[encoded data removed]",
      "text/plain": [
       "<Figure size 1000x600 with 1 Axes>"
      ]
     },
     "metadata": {},
     "output_type": "display_data"
    }
   ],
   "source": [
    "# Bar Plot for Clients with On-Time Payments\n",
    "plt.figure(figsize=(10, 6))\n",
    "sns.barplot(\n",
    "    x=non_defaulters['YEARS_BIRTH_CATEGORY'].value_counts().index,\n",
    "    y=non_defaulters['YEARS_BIRTH_CATEGORY'].value_counts().values,\n",
    "    palette=\"Greens\"\n",
    ")\n",
    "plt.title('Count of Clients with On-Time Payments by Age Category')\n",
    "plt.xlabel('YEARS_BIRTH_CATEGORY')\n",
    "plt.ylabel('Count')\n",
    "plt.xticks(rotation=45)\n",
    "plt.show()"
   ]
  },
  {
   "cell_type": "markdown",
   "id": "31646d28-a352-4a3e-accb-46fbc892e048",
   "metadata": {},
   "source": [
    "# WORKING ON PREVIOUS DATA "
   ]
  },
  {
   "cell_type": "code",
   "execution_count": 197,
   "id": "a157b7ff-dad4-4089-82a1-fb75a8b32866",
   "metadata": {},
   "outputs": [],
   "source": [
    "prev= pd.read_csv(r\"previous_application.csv\")"
   ]
  },
  {
   "cell_type": "code",
   "execution_count": 198,
   "id": "0f2a8cf0-549b-4d93-a15d-153a6a454a70",
   "metadata": {},
   "outputs": [
    {
     "data": {
      "text/html": [
       "<div>\n",
       "<style scoped>\n",
       "    .dataframe tbody tr th:only-of-type {\n",
       "        vertical-align: middle;\n",
       "    }\n",
       "\n",
       "    .dataframe tbody tr th {\n",
       "        vertical-align: top;\n",
       "    }\n",
       "\n",
       "    .dataframe thead th {\n",
       "        text-align: right;\n",
       "    }\n",
       "</style>\n",
       "<table border=\"1\" class=\"dataframe\">\n",
       "  <thead>\n",
       "    <tr style=\"text-align: right;\">\n",
       "      <th></th>\n",
       "      <th>SK_ID_PREV</th>\n",
       "      <th>SK_ID_CURR</th>\n",
       "      <th>NAME_CONTRACT_TYPE</th>\n",
       "      <th>AMT_ANNUITY</th>\n",
       "      <th>AMT_APPLICATION</th>\n",
       "      <th>AMT_CREDIT</th>\n",
       "      <th>AMT_DOWN_PAYMENT</th>\n",
       "      <th>AMT_GOODS_PRICE</th>\n",
       "      <th>WEEKDAY_APPR_PROCESS_START</th>\n",
       "      <th>HOUR_APPR_PROCESS_START</th>\n",
       "      <th>...</th>\n",
       "      <th>NAME_SELLER_INDUSTRY</th>\n",
       "      <th>CNT_PAYMENT</th>\n",
       "      <th>NAME_YIELD_GROUP</th>\n",
       "      <th>PRODUCT_COMBINATION</th>\n",
       "      <th>DAYS_FIRST_DRAWING</th>\n",
       "      <th>DAYS_FIRST_DUE</th>\n",
       "      <th>DAYS_LAST_DUE_1ST_VERSION</th>\n",
       "      <th>DAYS_LAST_DUE</th>\n",
       "      <th>DAYS_TERMINATION</th>\n",
       "      <th>NFLAG_INSURED_ON_APPROVAL</th>\n",
       "    </tr>\n",
       "  </thead>\n",
       "  <tbody>\n",
       "    <tr>\n",
       "      <th>0</th>\n",
       "      <td>2030495</td>\n",
       "      <td>271877</td>\n",
       "      <td>Consumer loans</td>\n",
       "      <td>1730.430</td>\n",
       "      <td>17145.0</td>\n",
       "      <td>17145.0</td>\n",
       "      <td>0.0</td>\n",
       "      <td>17145.0</td>\n",
       "      <td>SATURDAY</td>\n",
       "      <td>15</td>\n",
       "      <td>...</td>\n",
       "      <td>Connectivity</td>\n",
       "      <td>12.0</td>\n",
       "      <td>middle</td>\n",
       "      <td>POS mobile with interest</td>\n",
       "      <td>365243.0</td>\n",
       "      <td>-42.0</td>\n",
       "      <td>300.0</td>\n",
       "      <td>-42.0</td>\n",
       "      <td>-37.0</td>\n",
       "      <td>0.0</td>\n",
       "    </tr>\n",
       "    <tr>\n",
       "      <th>1</th>\n",
       "      <td>2802425</td>\n",
       "      <td>108129</td>\n",
       "      <td>Cash loans</td>\n",
       "      <td>25188.615</td>\n",
       "      <td>607500.0</td>\n",
       "      <td>679671.0</td>\n",
       "      <td>NaN</td>\n",
       "      <td>607500.0</td>\n",
       "      <td>THURSDAY</td>\n",
       "      <td>11</td>\n",
       "      <td>...</td>\n",
       "      <td>XNA</td>\n",
       "      <td>36.0</td>\n",
       "      <td>low_action</td>\n",
       "      <td>Cash X-Sell: low</td>\n",
       "      <td>365243.0</td>\n",
       "      <td>-134.0</td>\n",
       "      <td>916.0</td>\n",
       "      <td>365243.0</td>\n",
       "      <td>365243.0</td>\n",
       "      <td>1.0</td>\n",
       "    </tr>\n",
       "    <tr>\n",
       "      <th>2</th>\n",
       "      <td>2523466</td>\n",
       "      <td>122040</td>\n",
       "      <td>Cash loans</td>\n",
       "      <td>15060.735</td>\n",
       "      <td>112500.0</td>\n",
       "      <td>136444.5</td>\n",
       "      <td>NaN</td>\n",
       "      <td>112500.0</td>\n",
       "      <td>TUESDAY</td>\n",
       "      <td>11</td>\n",
       "      <td>...</td>\n",
       "      <td>XNA</td>\n",
       "      <td>12.0</td>\n",
       "      <td>high</td>\n",
       "      <td>Cash X-Sell: high</td>\n",
       "      <td>365243.0</td>\n",
       "      <td>-271.0</td>\n",
       "      <td>59.0</td>\n",
       "      <td>365243.0</td>\n",
       "      <td>365243.0</td>\n",
       "      <td>1.0</td>\n",
       "    </tr>\n",
       "    <tr>\n",
       "      <th>3</th>\n",
       "      <td>2819243</td>\n",
       "      <td>176158</td>\n",
       "      <td>Cash loans</td>\n",
       "      <td>47041.335</td>\n",
       "      <td>450000.0</td>\n",
       "      <td>470790.0</td>\n",
       "      <td>NaN</td>\n",
       "      <td>450000.0</td>\n",
       "      <td>MONDAY</td>\n",
       "      <td>7</td>\n",
       "      <td>...</td>\n",
       "      <td>XNA</td>\n",
       "      <td>12.0</td>\n",
       "      <td>middle</td>\n",
       "      <td>Cash X-Sell: middle</td>\n",
       "      <td>365243.0</td>\n",
       "      <td>-482.0</td>\n",
       "      <td>-152.0</td>\n",
       "      <td>-182.0</td>\n",
       "      <td>-177.0</td>\n",
       "      <td>1.0</td>\n",
       "    </tr>\n",
       "    <tr>\n",
       "      <th>4</th>\n",
       "      <td>1784265</td>\n",
       "      <td>202054</td>\n",
       "      <td>Cash loans</td>\n",
       "      <td>31924.395</td>\n",
       "      <td>337500.0</td>\n",
       "      <td>404055.0</td>\n",
       "      <td>NaN</td>\n",
       "      <td>337500.0</td>\n",
       "      <td>THURSDAY</td>\n",
       "      <td>9</td>\n",
       "      <td>...</td>\n",
       "      <td>XNA</td>\n",
       "      <td>24.0</td>\n",
       "      <td>high</td>\n",
       "      <td>Cash Street: high</td>\n",
       "      <td>NaN</td>\n",
       "      <td>NaN</td>\n",
       "      <td>NaN</td>\n",
       "      <td>NaN</td>\n",
       "      <td>NaN</td>\n",
       "      <td>NaN</td>\n",
       "    </tr>\n",
       "  </tbody>\n",
       "</table>\n",
       "<p>5 rows × 37 columns</p>\n",
       "</div>"
      ],
      "text/plain": [
       "   SK_ID_PREV  SK_ID_CURR NAME_CONTRACT_TYPE  AMT_ANNUITY  AMT_APPLICATION  \\\n",
       "0     2030495      271877     Consumer loans     1730.430          17145.0   \n",
       "1     2802425      108129         Cash loans    25188.615         607500.0   \n",
       "2     2523466      122040         Cash loans    15060.735         112500.0   \n",
       "3     2819243      176158         Cash loans    47041.335         450000.0   \n",
       "4     1784265      202054         Cash loans    31924.395         337500.0   \n",
       "\n",
       "   AMT_CREDIT  AMT_DOWN_PAYMENT  AMT_GOODS_PRICE WEEKDAY_APPR_PROCESS_START  \\\n",
       "0     17145.0               0.0          17145.0                   SATURDAY   \n",
       "1    679671.0               NaN         607500.0                   THURSDAY   \n",
       "2    136444.5               NaN         112500.0                    TUESDAY   \n",
       "3    470790.0               NaN         450000.0                     MONDAY   \n",
       "4    404055.0               NaN         337500.0                   THURSDAY   \n",
       "\n",
       "   HOUR_APPR_PROCESS_START  ... NAME_SELLER_INDUSTRY  CNT_PAYMENT  \\\n",
       "0                       15  ...         Connectivity         12.0   \n",
       "1                       11  ...                  XNA         36.0   \n",
       "2                       11  ...                  XNA         12.0   \n",
       "3                        7  ...                  XNA         12.0   \n",
       "4                        9  ...                  XNA         24.0   \n",
       "\n",
       "   NAME_YIELD_GROUP       PRODUCT_COMBINATION  DAYS_FIRST_DRAWING  \\\n",
       "0            middle  POS mobile with interest            365243.0   \n",
       "1        low_action          Cash X-Sell: low            365243.0   \n",
       "2              high         Cash X-Sell: high            365243.0   \n",
       "3            middle       Cash X-Sell: middle            365243.0   \n",
       "4              high         Cash Street: high                 NaN   \n",
       "\n",
       "  DAYS_FIRST_DUE DAYS_LAST_DUE_1ST_VERSION  DAYS_LAST_DUE DAYS_TERMINATION  \\\n",
       "0          -42.0                     300.0          -42.0            -37.0   \n",
       "1         -134.0                     916.0       365243.0         365243.0   \n",
       "2         -271.0                      59.0       365243.0         365243.0   \n",
       "3         -482.0                    -152.0         -182.0           -177.0   \n",
       "4            NaN                       NaN            NaN              NaN   \n",
       "\n",
       "  NFLAG_INSURED_ON_APPROVAL  \n",
       "0                       0.0  \n",
       "1                       1.0  \n",
       "2                       1.0  \n",
       "3                       1.0  \n",
       "4                       NaN  \n",
       "\n",
       "[5 rows x 37 columns]"
      ]
     },
     "execution_count": 198,
     "metadata": {},
     "output_type": "execute_result"
    }
   ],
   "source": [
    "prev.head()"
   ]
  },
  {
   "cell_type": "markdown",
   "id": "b4de2ef8-020d-489d-8a47-6418c6637787",
   "metadata": {},
   "source": [
    "## Dataset Description "
   ]
  },
  {
   "cell_type": "code",
   "execution_count": 200,
   "id": "c8c3b246-3058-45a6-9597-296687c2929a",
   "metadata": {},
   "outputs": [
    {
     "name": "stdout",
     "output_type": "stream",
     "text": [
      "<class 'pandas.core.frame.DataFrame'>\n",
      "RangeIndex: 1670214 entries, 0 to 1670213\n",
      "Data columns (total 37 columns):\n",
      " #   Column                       Non-Null Count    Dtype  \n",
      "---  ------                       --------------    -----  \n",
      " 0   SK_ID_PREV                   1670214 non-null  int64  \n",
      " 1   SK_ID_CURR                   1670214 non-null  int64  \n",
      " 2   NAME_CONTRACT_TYPE           1670214 non-null  object \n",
      " 3   AMT_ANNUITY                  1297979 non-null  float64\n",
      " 4   AMT_APPLICATION              1670214 non-null  float64\n",
      " 5   AMT_CREDIT                   1670213 non-null  float64\n",
      " 6   AMT_DOWN_PAYMENT             774370 non-null   float64\n",
      " 7   AMT_GOODS_PRICE              1284699 non-null  float64\n",
      " 8   WEEKDAY_APPR_PROCESS_START   1670214 non-null  object \n",
      " 9   HOUR_APPR_PROCESS_START      1670214 non-null  int64  \n",
      " 10  FLAG_LAST_APPL_PER_CONTRACT  1670214 non-null  object \n",
      " 11  NFLAG_LAST_APPL_IN_DAY       1670214 non-null  int64  \n",
      " 12  RATE_DOWN_PAYMENT            774370 non-null   float64\n",
      " 13  RATE_INTEREST_PRIMARY        5951 non-null     float64\n",
      " 14  RATE_INTEREST_PRIVILEGED     5951 non-null     float64\n",
      " 15  NAME_CASH_LOAN_PURPOSE       1670214 non-null  object \n",
      " 16  NAME_CONTRACT_STATUS         1670214 non-null  object \n",
      " 17  DAYS_DECISION                1670214 non-null  int64  \n",
      " 18  NAME_PAYMENT_TYPE            1670214 non-null  object \n",
      " 19  CODE_REJECT_REASON           1670214 non-null  object \n",
      " 20  NAME_TYPE_SUITE              849809 non-null   object \n",
      " 21  NAME_CLIENT_TYPE             1670214 non-null  object \n",
      " 22  NAME_GOODS_CATEGORY          1670214 non-null  object \n",
      " 23  NAME_PORTFOLIO               1670214 non-null  object \n",
      " 24  NAME_PRODUCT_TYPE            1670214 non-null  object \n",
      " 25  CHANNEL_TYPE                 1670214 non-null  object \n",
      " 26  SELLERPLACE_AREA             1670214 non-null  int64  \n",
      " 27  NAME_SELLER_INDUSTRY         1670214 non-null  object \n",
      " 28  CNT_PAYMENT                  1297984 non-null  float64\n",
      " 29  NAME_YIELD_GROUP             1670214 non-null  object \n",
      " 30  PRODUCT_COMBINATION          1669868 non-null  object \n",
      " 31  DAYS_FIRST_DRAWING           997149 non-null   float64\n",
      " 32  DAYS_FIRST_DUE               997149 non-null   float64\n",
      " 33  DAYS_LAST_DUE_1ST_VERSION    997149 non-null   float64\n",
      " 34  DAYS_LAST_DUE                997149 non-null   float64\n",
      " 35  DAYS_TERMINATION             997149 non-null   float64\n",
      " 36  NFLAG_INSURED_ON_APPROVAL    997149 non-null   float64\n",
      "dtypes: float64(15), int64(6), object(16)\n",
      "memory usage: 471.5+ MB\n"
     ]
    }
   ],
   "source": [
    "prev.info()"
   ]
  },
  {
   "cell_type": "code",
   "execution_count": 201,
   "id": "8f91e4ab-86ad-411f-ad01-8e4dc5f01a40",
   "metadata": {},
   "outputs": [
    {
     "data": {
      "text/html": [
       "<div>\n",
       "<style scoped>\n",
       "    .dataframe tbody tr th:only-of-type {\n",
       "        vertical-align: middle;\n",
       "    }\n",
       "\n",
       "    .dataframe tbody tr th {\n",
       "        vertical-align: top;\n",
       "    }\n",
       "\n",
       "    .dataframe thead th {\n",
       "        text-align: right;\n",
       "    }\n",
       "</style>\n",
       "<table border=\"1\" class=\"dataframe\">\n",
       "  <thead>\n",
       "    <tr style=\"text-align: right;\">\n",
       "      <th></th>\n",
       "      <th>SK_ID_PREV</th>\n",
       "      <th>SK_ID_CURR</th>\n",
       "      <th>AMT_ANNUITY</th>\n",
       "      <th>AMT_APPLICATION</th>\n",
       "      <th>AMT_CREDIT</th>\n",
       "      <th>AMT_DOWN_PAYMENT</th>\n",
       "      <th>AMT_GOODS_PRICE</th>\n",
       "      <th>HOUR_APPR_PROCESS_START</th>\n",
       "      <th>NFLAG_LAST_APPL_IN_DAY</th>\n",
       "      <th>RATE_DOWN_PAYMENT</th>\n",
       "      <th>...</th>\n",
       "      <th>RATE_INTEREST_PRIVILEGED</th>\n",
       "      <th>DAYS_DECISION</th>\n",
       "      <th>SELLERPLACE_AREA</th>\n",
       "      <th>CNT_PAYMENT</th>\n",
       "      <th>DAYS_FIRST_DRAWING</th>\n",
       "      <th>DAYS_FIRST_DUE</th>\n",
       "      <th>DAYS_LAST_DUE_1ST_VERSION</th>\n",
       "      <th>DAYS_LAST_DUE</th>\n",
       "      <th>DAYS_TERMINATION</th>\n",
       "      <th>NFLAG_INSURED_ON_APPROVAL</th>\n",
       "    </tr>\n",
       "  </thead>\n",
       "  <tbody>\n",
       "    <tr>\n",
       "      <th>count</th>\n",
       "      <td>1.670214e+06</td>\n",
       "      <td>1.670214e+06</td>\n",
       "      <td>1.297979e+06</td>\n",
       "      <td>1.670214e+06</td>\n",
       "      <td>1.670213e+06</td>\n",
       "      <td>7.743700e+05</td>\n",
       "      <td>1.284699e+06</td>\n",
       "      <td>1.670214e+06</td>\n",
       "      <td>1.670214e+06</td>\n",
       "      <td>774370.000000</td>\n",
       "      <td>...</td>\n",
       "      <td>5951.000000</td>\n",
       "      <td>1.670214e+06</td>\n",
       "      <td>1.670214e+06</td>\n",
       "      <td>1.297984e+06</td>\n",
       "      <td>997149.000000</td>\n",
       "      <td>997149.000000</td>\n",
       "      <td>997149.000000</td>\n",
       "      <td>997149.000000</td>\n",
       "      <td>997149.000000</td>\n",
       "      <td>997149.000000</td>\n",
       "    </tr>\n",
       "    <tr>\n",
       "      <th>mean</th>\n",
       "      <td>1.923089e+06</td>\n",
       "      <td>2.783572e+05</td>\n",
       "      <td>1.595512e+04</td>\n",
       "      <td>1.752339e+05</td>\n",
       "      <td>1.961140e+05</td>\n",
       "      <td>6.697402e+03</td>\n",
       "      <td>2.278473e+05</td>\n",
       "      <td>1.248418e+01</td>\n",
       "      <td>9.964675e-01</td>\n",
       "      <td>0.079637</td>\n",
       "      <td>...</td>\n",
       "      <td>0.773503</td>\n",
       "      <td>-8.806797e+02</td>\n",
       "      <td>3.139511e+02</td>\n",
       "      <td>1.605408e+01</td>\n",
       "      <td>342209.855039</td>\n",
       "      <td>13826.269337</td>\n",
       "      <td>33767.774054</td>\n",
       "      <td>76582.403064</td>\n",
       "      <td>81992.343838</td>\n",
       "      <td>0.332570</td>\n",
       "    </tr>\n",
       "    <tr>\n",
       "      <th>std</th>\n",
       "      <td>5.325980e+05</td>\n",
       "      <td>1.028148e+05</td>\n",
       "      <td>1.478214e+04</td>\n",
       "      <td>2.927798e+05</td>\n",
       "      <td>3.185746e+05</td>\n",
       "      <td>2.092150e+04</td>\n",
       "      <td>3.153966e+05</td>\n",
       "      <td>3.334028e+00</td>\n",
       "      <td>5.932963e-02</td>\n",
       "      <td>0.107823</td>\n",
       "      <td>...</td>\n",
       "      <td>0.100879</td>\n",
       "      <td>7.790997e+02</td>\n",
       "      <td>7.127443e+03</td>\n",
       "      <td>1.456729e+01</td>\n",
       "      <td>88916.115834</td>\n",
       "      <td>72444.869708</td>\n",
       "      <td>106857.034789</td>\n",
       "      <td>149647.415123</td>\n",
       "      <td>153303.516729</td>\n",
       "      <td>0.471134</td>\n",
       "    </tr>\n",
       "    <tr>\n",
       "      <th>min</th>\n",
       "      <td>1.000001e+06</td>\n",
       "      <td>1.000010e+05</td>\n",
       "      <td>0.000000e+00</td>\n",
       "      <td>0.000000e+00</td>\n",
       "      <td>0.000000e+00</td>\n",
       "      <td>-9.000000e-01</td>\n",
       "      <td>0.000000e+00</td>\n",
       "      <td>0.000000e+00</td>\n",
       "      <td>0.000000e+00</td>\n",
       "      <td>-0.000015</td>\n",
       "      <td>...</td>\n",
       "      <td>0.373150</td>\n",
       "      <td>-2.922000e+03</td>\n",
       "      <td>-1.000000e+00</td>\n",
       "      <td>0.000000e+00</td>\n",
       "      <td>-2922.000000</td>\n",
       "      <td>-2892.000000</td>\n",
       "      <td>-2801.000000</td>\n",
       "      <td>-2889.000000</td>\n",
       "      <td>-2874.000000</td>\n",
       "      <td>0.000000</td>\n",
       "    </tr>\n",
       "    <tr>\n",
       "      <th>25%</th>\n",
       "      <td>1.461857e+06</td>\n",
       "      <td>1.893290e+05</td>\n",
       "      <td>6.321780e+03</td>\n",
       "      <td>1.872000e+04</td>\n",
       "      <td>2.416050e+04</td>\n",
       "      <td>0.000000e+00</td>\n",
       "      <td>5.084100e+04</td>\n",
       "      <td>1.000000e+01</td>\n",
       "      <td>1.000000e+00</td>\n",
       "      <td>0.000000</td>\n",
       "      <td>...</td>\n",
       "      <td>0.715645</td>\n",
       "      <td>-1.300000e+03</td>\n",
       "      <td>-1.000000e+00</td>\n",
       "      <td>6.000000e+00</td>\n",
       "      <td>365243.000000</td>\n",
       "      <td>-1628.000000</td>\n",
       "      <td>-1242.000000</td>\n",
       "      <td>-1314.000000</td>\n",
       "      <td>-1270.000000</td>\n",
       "      <td>0.000000</td>\n",
       "    </tr>\n",
       "    <tr>\n",
       "      <th>50%</th>\n",
       "      <td>1.923110e+06</td>\n",
       "      <td>2.787145e+05</td>\n",
       "      <td>1.125000e+04</td>\n",
       "      <td>7.104600e+04</td>\n",
       "      <td>8.054100e+04</td>\n",
       "      <td>1.638000e+03</td>\n",
       "      <td>1.123200e+05</td>\n",
       "      <td>1.200000e+01</td>\n",
       "      <td>1.000000e+00</td>\n",
       "      <td>0.051605</td>\n",
       "      <td>...</td>\n",
       "      <td>0.835095</td>\n",
       "      <td>-5.810000e+02</td>\n",
       "      <td>3.000000e+00</td>\n",
       "      <td>1.200000e+01</td>\n",
       "      <td>365243.000000</td>\n",
       "      <td>-831.000000</td>\n",
       "      <td>-361.000000</td>\n",
       "      <td>-537.000000</td>\n",
       "      <td>-499.000000</td>\n",
       "      <td>0.000000</td>\n",
       "    </tr>\n",
       "    <tr>\n",
       "      <th>75%</th>\n",
       "      <td>2.384280e+06</td>\n",
       "      <td>3.675140e+05</td>\n",
       "      <td>2.065842e+04</td>\n",
       "      <td>1.803600e+05</td>\n",
       "      <td>2.164185e+05</td>\n",
       "      <td>7.740000e+03</td>\n",
       "      <td>2.340000e+05</td>\n",
       "      <td>1.500000e+01</td>\n",
       "      <td>1.000000e+00</td>\n",
       "      <td>0.108909</td>\n",
       "      <td>...</td>\n",
       "      <td>0.852537</td>\n",
       "      <td>-2.800000e+02</td>\n",
       "      <td>8.200000e+01</td>\n",
       "      <td>2.400000e+01</td>\n",
       "      <td>365243.000000</td>\n",
       "      <td>-411.000000</td>\n",
       "      <td>129.000000</td>\n",
       "      <td>-74.000000</td>\n",
       "      <td>-44.000000</td>\n",
       "      <td>1.000000</td>\n",
       "    </tr>\n",
       "    <tr>\n",
       "      <th>max</th>\n",
       "      <td>2.845382e+06</td>\n",
       "      <td>4.562550e+05</td>\n",
       "      <td>4.180581e+05</td>\n",
       "      <td>6.905160e+06</td>\n",
       "      <td>6.905160e+06</td>\n",
       "      <td>3.060045e+06</td>\n",
       "      <td>6.905160e+06</td>\n",
       "      <td>2.300000e+01</td>\n",
       "      <td>1.000000e+00</td>\n",
       "      <td>1.000000</td>\n",
       "      <td>...</td>\n",
       "      <td>1.000000</td>\n",
       "      <td>-1.000000e+00</td>\n",
       "      <td>4.000000e+06</td>\n",
       "      <td>8.400000e+01</td>\n",
       "      <td>365243.000000</td>\n",
       "      <td>365243.000000</td>\n",
       "      <td>365243.000000</td>\n",
       "      <td>365243.000000</td>\n",
       "      <td>365243.000000</td>\n",
       "      <td>1.000000</td>\n",
       "    </tr>\n",
       "  </tbody>\n",
       "</table>\n",
       "<p>8 rows × 21 columns</p>\n",
       "</div>"
      ],
      "text/plain": [
       "         SK_ID_PREV    SK_ID_CURR   AMT_ANNUITY  AMT_APPLICATION  \\\n",
       "count  1.670214e+06  1.670214e+06  1.297979e+06     1.670214e+06   \n",
       "mean   1.923089e+06  2.783572e+05  1.595512e+04     1.752339e+05   \n",
       "std    5.325980e+05  1.028148e+05  1.478214e+04     2.927798e+05   \n",
       "min    1.000001e+06  1.000010e+05  0.000000e+00     0.000000e+00   \n",
       "25%    1.461857e+06  1.893290e+05  6.321780e+03     1.872000e+04   \n",
       "50%    1.923110e+06  2.787145e+05  1.125000e+04     7.104600e+04   \n",
       "75%    2.384280e+06  3.675140e+05  2.065842e+04     1.803600e+05   \n",
       "max    2.845382e+06  4.562550e+05  4.180581e+05     6.905160e+06   \n",
       "\n",
       "         AMT_CREDIT  AMT_DOWN_PAYMENT  AMT_GOODS_PRICE  \\\n",
       "count  1.670213e+06      7.743700e+05     1.284699e+06   \n",
       "mean   1.961140e+05      6.697402e+03     2.278473e+05   \n",
       "std    3.185746e+05      2.092150e+04     3.153966e+05   \n",
       "min    0.000000e+00     -9.000000e-01     0.000000e+00   \n",
       "25%    2.416050e+04      0.000000e+00     5.084100e+04   \n",
       "50%    8.054100e+04      1.638000e+03     1.123200e+05   \n",
       "75%    2.164185e+05      7.740000e+03     2.340000e+05   \n",
       "max    6.905160e+06      3.060045e+06     6.905160e+06   \n",
       "\n",
       "       HOUR_APPR_PROCESS_START  NFLAG_LAST_APPL_IN_DAY  RATE_DOWN_PAYMENT  \\\n",
       "count             1.670214e+06            1.670214e+06      774370.000000   \n",
       "mean              1.248418e+01            9.964675e-01           0.079637   \n",
       "std               3.334028e+00            5.932963e-02           0.107823   \n",
       "min               0.000000e+00            0.000000e+00          -0.000015   \n",
       "25%               1.000000e+01            1.000000e+00           0.000000   \n",
       "50%               1.200000e+01            1.000000e+00           0.051605   \n",
       "75%               1.500000e+01            1.000000e+00           0.108909   \n",
       "max               2.300000e+01            1.000000e+00           1.000000   \n",
       "\n",
       "       ...  RATE_INTEREST_PRIVILEGED  DAYS_DECISION  SELLERPLACE_AREA  \\\n",
       "count  ...               5951.000000   1.670214e+06      1.670214e+06   \n",
       "mean   ...                  0.773503  -8.806797e+02      3.139511e+02   \n",
       "std    ...                  0.100879   7.790997e+02      7.127443e+03   \n",
       "min    ...                  0.373150  -2.922000e+03     -1.000000e+00   \n",
       "25%    ...                  0.715645  -1.300000e+03     -1.000000e+00   \n",
       "50%    ...                  0.835095  -5.810000e+02      3.000000e+00   \n",
       "75%    ...                  0.852537  -2.800000e+02      8.200000e+01   \n",
       "max    ...                  1.000000  -1.000000e+00      4.000000e+06   \n",
       "\n",
       "        CNT_PAYMENT  DAYS_FIRST_DRAWING  DAYS_FIRST_DUE  \\\n",
       "count  1.297984e+06       997149.000000   997149.000000   \n",
       "mean   1.605408e+01       342209.855039    13826.269337   \n",
       "std    1.456729e+01        88916.115834    72444.869708   \n",
       "min    0.000000e+00        -2922.000000    -2892.000000   \n",
       "25%    6.000000e+00       365243.000000    -1628.000000   \n",
       "50%    1.200000e+01       365243.000000     -831.000000   \n",
       "75%    2.400000e+01       365243.000000     -411.000000   \n",
       "max    8.400000e+01       365243.000000   365243.000000   \n",
       "\n",
       "       DAYS_LAST_DUE_1ST_VERSION  DAYS_LAST_DUE  DAYS_TERMINATION  \\\n",
       "count              997149.000000  997149.000000     997149.000000   \n",
       "mean                33767.774054   76582.403064      81992.343838   \n",
       "std                106857.034789  149647.415123     153303.516729   \n",
       "min                 -2801.000000   -2889.000000      -2874.000000   \n",
       "25%                 -1242.000000   -1314.000000      -1270.000000   \n",
       "50%                  -361.000000    -537.000000       -499.000000   \n",
       "75%                   129.000000     -74.000000        -44.000000   \n",
       "max                365243.000000  365243.000000     365243.000000   \n",
       "\n",
       "       NFLAG_INSURED_ON_APPROVAL  \n",
       "count              997149.000000  \n",
       "mean                    0.332570  \n",
       "std                     0.471134  \n",
       "min                     0.000000  \n",
       "25%                     0.000000  \n",
       "50%                     0.000000  \n",
       "75%                     1.000000  \n",
       "max                     1.000000  \n",
       "\n",
       "[8 rows x 21 columns]"
      ]
     },
     "execution_count": 201,
     "metadata": {},
     "output_type": "execute_result"
    }
   ],
   "source": [
    "#### # Descriptive Analysis \n",
    "numer= prev.describe()\n",
    "numerical= numer.columns\n",
    "numer"
   ]
  },
  {
   "cell_type": "code",
   "execution_count": 202,
   "id": "35188c89-b3ac-40a6-856e-e321d004c8eb",
   "metadata": {},
   "outputs": [
    {
     "data": {
      "text/plain": [
       "Index(['NAME_CONTRACT_TYPE', 'WEEKDAY_APPR_PROCESS_START',\n",
       "       'FLAG_LAST_APPL_PER_CONTRACT', 'NAME_CASH_LOAN_PURPOSE',\n",
       "       'NAME_CONTRACT_STATUS', 'NAME_PAYMENT_TYPE', 'CODE_REJECT_REASON',\n",
       "       'NAME_TYPE_SUITE', 'NAME_CLIENT_TYPE', 'NAME_GOODS_CATEGORY',\n",
       "       'NAME_PORTFOLIO', 'NAME_PRODUCT_TYPE', 'CHANNEL_TYPE',\n",
       "       'NAME_SELLER_INDUSTRY', 'NAME_YIELD_GROUP', 'PRODUCT_COMBINATION'],\n",
       "      dtype='object')"
      ]
     },
     "execution_count": 202,
     "metadata": {},
     "output_type": "execute_result"
    }
   ],
   "source": [
    "# Categorical Columns \n",
    "categorical = prev.select_dtypes(include = object).columns\n",
    "categorical"
   ]
  },
  {
   "cell_type": "code",
   "execution_count": 203,
   "id": "e87df266-9cd0-41c6-b2fe-813acc14e9ed",
   "metadata": {},
   "outputs": [
    {
     "data": {
      "text/plain": [
       "(1670214, 37)"
      ]
     },
     "execution_count": 203,
     "metadata": {},
     "output_type": "execute_result"
    }
   ],
   "source": [
    "# Number of Rows and Columns \n",
    "prev.shape"
   ]
  },
  {
   "cell_type": "code",
   "execution_count": 204,
   "id": "c3e785a6-d8c4-48ff-99a0-38a9edbe12e0",
   "metadata": {},
   "outputs": [
    {
     "data": {
      "text/plain": [
       "SK_ID_PREV                           0\n",
       "SK_ID_CURR                           0\n",
       "NAME_CONTRACT_TYPE                   0\n",
       "AMT_ANNUITY                     372235\n",
       "AMT_APPLICATION                      0\n",
       "AMT_CREDIT                           1\n",
       "AMT_DOWN_PAYMENT                895844\n",
       "AMT_GOODS_PRICE                 385515\n",
       "WEEKDAY_APPR_PROCESS_START           0\n",
       "HOUR_APPR_PROCESS_START              0\n",
       "FLAG_LAST_APPL_PER_CONTRACT          0\n",
       "NFLAG_LAST_APPL_IN_DAY               0\n",
       "RATE_DOWN_PAYMENT               895844\n",
       "RATE_INTEREST_PRIMARY          1664263\n",
       "RATE_INTEREST_PRIVILEGED       1664263\n",
       "NAME_CASH_LOAN_PURPOSE               0\n",
       "NAME_CONTRACT_STATUS                 0\n",
       "DAYS_DECISION                        0\n",
       "NAME_PAYMENT_TYPE                    0\n",
       "CODE_REJECT_REASON                   0\n",
       "NAME_TYPE_SUITE                 820405\n",
       "NAME_CLIENT_TYPE                     0\n",
       "NAME_GOODS_CATEGORY                  0\n",
       "NAME_PORTFOLIO                       0\n",
       "NAME_PRODUCT_TYPE                    0\n",
       "CHANNEL_TYPE                         0\n",
       "SELLERPLACE_AREA                     0\n",
       "NAME_SELLER_INDUSTRY                 0\n",
       "CNT_PAYMENT                     372230\n",
       "NAME_YIELD_GROUP                     0\n",
       "PRODUCT_COMBINATION                346\n",
       "DAYS_FIRST_DRAWING              673065\n",
       "DAYS_FIRST_DUE                  673065\n",
       "DAYS_LAST_DUE_1ST_VERSION       673065\n",
       "DAYS_LAST_DUE                   673065\n",
       "DAYS_TERMINATION                673065\n",
       "NFLAG_INSURED_ON_APPROVAL       673065\n",
       "dtype: int64"
      ]
     },
     "execution_count": 204,
     "metadata": {},
     "output_type": "execute_result"
    }
   ],
   "source": [
    "# Number of Null Values in Each Column \n",
    "prev.isnull().sum()"
   ]
  },
  {
   "cell_type": "code",
   "execution_count": 205,
   "id": "0ba44bb2-265d-4182-ad08-c39647fd4e02",
   "metadata": {},
   "outputs": [
    {
     "data": {
      "text/plain": [
       "SK_ID_PREV                      0.000000\n",
       "SK_ID_CURR                      0.000000\n",
       "NAME_CONTRACT_TYPE              0.000000\n",
       "AMT_ANNUITY                    22.286665\n",
       "AMT_APPLICATION                 0.000000\n",
       "AMT_CREDIT                      0.000060\n",
       "AMT_DOWN_PAYMENT               53.636480\n",
       "AMT_GOODS_PRICE                23.081773\n",
       "WEEKDAY_APPR_PROCESS_START      0.000000\n",
       "HOUR_APPR_PROCESS_START         0.000000\n",
       "FLAG_LAST_APPL_PER_CONTRACT     0.000000\n",
       "NFLAG_LAST_APPL_IN_DAY          0.000000\n",
       "RATE_DOWN_PAYMENT              53.636480\n",
       "RATE_INTEREST_PRIMARY          99.643698\n",
       "RATE_INTEREST_PRIVILEGED       99.643698\n",
       "NAME_CASH_LOAN_PURPOSE          0.000000\n",
       "NAME_CONTRACT_STATUS            0.000000\n",
       "DAYS_DECISION                   0.000000\n",
       "NAME_PAYMENT_TYPE               0.000000\n",
       "CODE_REJECT_REASON              0.000000\n",
       "NAME_TYPE_SUITE                49.119754\n",
       "NAME_CLIENT_TYPE                0.000000\n",
       "NAME_GOODS_CATEGORY             0.000000\n",
       "NAME_PORTFOLIO                  0.000000\n",
       "NAME_PRODUCT_TYPE               0.000000\n",
       "CHANNEL_TYPE                    0.000000\n",
       "SELLERPLACE_AREA                0.000000\n",
       "NAME_SELLER_INDUSTRY            0.000000\n",
       "CNT_PAYMENT                    22.286366\n",
       "NAME_YIELD_GROUP                0.000000\n",
       "PRODUCT_COMBINATION             0.020716\n",
       "DAYS_FIRST_DRAWING             40.298129\n",
       "DAYS_FIRST_DUE                 40.298129\n",
       "DAYS_LAST_DUE_1ST_VERSION      40.298129\n",
       "DAYS_LAST_DUE                  40.298129\n",
       "DAYS_TERMINATION               40.298129\n",
       "NFLAG_INSURED_ON_APPROVAL      40.298129\n",
       "dtype: float64"
      ]
     },
     "execution_count": 205,
     "metadata": {},
     "output_type": "execute_result"
    }
   ],
   "source": [
    "##percentage of missing values\n",
    "(prev.isnull().sum()/len(prev.index))*100"
   ]
  },
  {
   "cell_type": "markdown",
   "id": "5cadfc75-0f7b-4e5e-8004-eb770a2ba6c8",
   "metadata": {},
   "source": [
    "### Findings :\n",
    "-Way too many columns have missing data"
   ]
  },
  {
   "cell_type": "markdown",
   "id": "e9fb06e8-07cd-4102-b10b-9e89ad0d2fc2",
   "metadata": {},
   "source": [
    "### OPTIONS:\n",
    "- Impute values in columns having % of missing values < 40\n",
    "- Delete columns having more than %40 missing values as they cannot help in analysis."
   ]
  },
  {
   "cell_type": "code",
   "execution_count": 208,
   "id": "298cc706-a4ad-40b3-b533-620b0180b390",
   "metadata": {},
   "outputs": [],
   "source": [
    "#"
   ]
  },
  {
   "cell_type": "markdown",
   "id": "346a7146-46d0-4d2a-822d-a766f9fd0e7e",
   "metadata": {},
   "source": [
    "### Dealing with missing values¶"
   ]
  },
  {
   "cell_type": "code",
   "execution_count": 210,
   "id": "ac3a8707-e282-4710-8e37-8b850316d2c5",
   "metadata": {},
   "outputs": [
    {
     "data": {
      "text/plain": [
       "Index(['AMT_ANNUITY', 'AMT_CREDIT', 'AMT_DOWN_PAYMENT', 'AMT_GOODS_PRICE',\n",
       "       'RATE_DOWN_PAYMENT', 'RATE_INTEREST_PRIMARY',\n",
       "       'RATE_INTEREST_PRIVILEGED', 'NAME_TYPE_SUITE', 'CNT_PAYMENT',\n",
       "       'PRODUCT_COMBINATION', 'DAYS_FIRST_DRAWING', 'DAYS_FIRST_DUE',\n",
       "       'DAYS_LAST_DUE_1ST_VERSION', 'DAYS_LAST_DUE', 'DAYS_TERMINATION',\n",
       "       'NFLAG_INSURED_ON_APPROVAL'],\n",
       "      dtype='object')"
      ]
     },
     "execution_count": 210,
     "metadata": {},
     "output_type": "execute_result"
    }
   ],
   "source": [
    "prev.columns[prev.isnull().any()]"
   ]
  },
  {
   "cell_type": "code",
   "execution_count": 211,
   "id": "f3940574-8469-4ea4-971a-cf784980b0d0",
   "metadata": {},
   "outputs": [
    {
     "data": {
      "text/plain": [
       "11109336"
      ]
     },
     "execution_count": 211,
     "metadata": {},
     "output_type": "execute_result"
    }
   ],
   "source": [
    "prev.isnull().values.sum()"
   ]
  },
  {
   "cell_type": "code",
   "execution_count": 212,
   "id": "6b015c50-544b-4e76-8fd7-2655e4eee648",
   "metadata": {},
   "outputs": [
    {
     "data": {
      "text/plain": [
       "21"
      ]
     },
     "execution_count": 212,
     "metadata": {},
     "output_type": "execute_result"
    }
   ],
   "source": [
    "# Checking number of categorical variables\n",
    "len(prev.select_dtypes(include=[\"int64\",\"float64\"]).columns)"
   ]
  },
  {
   "cell_type": "code",
   "execution_count": 213,
   "id": "e67ca18b-66a9-4bc1-89b3-e0872fb1bb1c",
   "metadata": {},
   "outputs": [
    {
     "data": {
      "text/plain": [
       "16"
      ]
     },
     "execution_count": 213,
     "metadata": {},
     "output_type": "execute_result"
    }
   ],
   "source": [
    "len(prev.columns[prev.isnull().any()])"
   ]
  },
  {
   "cell_type": "markdown",
   "id": "93f758e0-b87a-4c95-a0e5-85bb28a45a84",
   "metadata": {},
   "source": [
    "Computing count and percentage of missing values"
   ]
  },
  {
   "cell_type": "code",
   "execution_count": 215,
   "id": "15cd749d-2cbe-4f56-9fda-0e26095fd249",
   "metadata": {},
   "outputs": [],
   "source": [
    "null_count = prev.isnull().sum()\n",
    "null_percentage = round((prev.isnull().sum()/prev.shape[0])*100, 2)"
   ]
  },
  {
   "cell_type": "code",
   "execution_count": 216,
   "id": "c99b4fc5-53ba-4dd1-83bc-69c91c054ba3",
   "metadata": {},
   "outputs": [],
   "source": [
    "null_df = pd.DataFrame({'column_name' : prev.columns,'null_count' : null_count,'null_percentage': null_percentage})\n",
    "null_df.reset_index(drop = True, inplace = True)"
   ]
  },
  {
   "cell_type": "code",
   "execution_count": 217,
   "id": "bf8f6f61-6ee0-45fb-b206-26e479d643eb",
   "metadata": {},
   "outputs": [
    {
     "data": {
      "text/html": [
       "<div>\n",
       "<style scoped>\n",
       "    .dataframe tbody tr th:only-of-type {\n",
       "        vertical-align: middle;\n",
       "    }\n",
       "\n",
       "    .dataframe tbody tr th {\n",
       "        vertical-align: top;\n",
       "    }\n",
       "\n",
       "    .dataframe thead th {\n",
       "        text-align: right;\n",
       "    }\n",
       "</style>\n",
       "<table border=\"1\" class=\"dataframe\">\n",
       "  <thead>\n",
       "    <tr style=\"text-align: right;\">\n",
       "      <th></th>\n",
       "      <th>column_name</th>\n",
       "      <th>null_count</th>\n",
       "      <th>null_percentage</th>\n",
       "    </tr>\n",
       "  </thead>\n",
       "  <tbody>\n",
       "    <tr>\n",
       "      <th>14</th>\n",
       "      <td>RATE_INTEREST_PRIVILEGED</td>\n",
       "      <td>1664263</td>\n",
       "      <td>99.64</td>\n",
       "    </tr>\n",
       "    <tr>\n",
       "      <th>13</th>\n",
       "      <td>RATE_INTEREST_PRIMARY</td>\n",
       "      <td>1664263</td>\n",
       "      <td>99.64</td>\n",
       "    </tr>\n",
       "    <tr>\n",
       "      <th>12</th>\n",
       "      <td>RATE_DOWN_PAYMENT</td>\n",
       "      <td>895844</td>\n",
       "      <td>53.64</td>\n",
       "    </tr>\n",
       "    <tr>\n",
       "      <th>6</th>\n",
       "      <td>AMT_DOWN_PAYMENT</td>\n",
       "      <td>895844</td>\n",
       "      <td>53.64</td>\n",
       "    </tr>\n",
       "    <tr>\n",
       "      <th>20</th>\n",
       "      <td>NAME_TYPE_SUITE</td>\n",
       "      <td>820405</td>\n",
       "      <td>49.12</td>\n",
       "    </tr>\n",
       "    <tr>\n",
       "      <th>36</th>\n",
       "      <td>NFLAG_INSURED_ON_APPROVAL</td>\n",
       "      <td>673065</td>\n",
       "      <td>40.30</td>\n",
       "    </tr>\n",
       "    <tr>\n",
       "      <th>31</th>\n",
       "      <td>DAYS_FIRST_DRAWING</td>\n",
       "      <td>673065</td>\n",
       "      <td>40.30</td>\n",
       "    </tr>\n",
       "    <tr>\n",
       "      <th>32</th>\n",
       "      <td>DAYS_FIRST_DUE</td>\n",
       "      <td>673065</td>\n",
       "      <td>40.30</td>\n",
       "    </tr>\n",
       "    <tr>\n",
       "      <th>33</th>\n",
       "      <td>DAYS_LAST_DUE_1ST_VERSION</td>\n",
       "      <td>673065</td>\n",
       "      <td>40.30</td>\n",
       "    </tr>\n",
       "    <tr>\n",
       "      <th>34</th>\n",
       "      <td>DAYS_LAST_DUE</td>\n",
       "      <td>673065</td>\n",
       "      <td>40.30</td>\n",
       "    </tr>\n",
       "    <tr>\n",
       "      <th>35</th>\n",
       "      <td>DAYS_TERMINATION</td>\n",
       "      <td>673065</td>\n",
       "      <td>40.30</td>\n",
       "    </tr>\n",
       "    <tr>\n",
       "      <th>7</th>\n",
       "      <td>AMT_GOODS_PRICE</td>\n",
       "      <td>385515</td>\n",
       "      <td>23.08</td>\n",
       "    </tr>\n",
       "    <tr>\n",
       "      <th>3</th>\n",
       "      <td>AMT_ANNUITY</td>\n",
       "      <td>372235</td>\n",
       "      <td>22.29</td>\n",
       "    </tr>\n",
       "    <tr>\n",
       "      <th>28</th>\n",
       "      <td>CNT_PAYMENT</td>\n",
       "      <td>372230</td>\n",
       "      <td>22.29</td>\n",
       "    </tr>\n",
       "    <tr>\n",
       "      <th>30</th>\n",
       "      <td>PRODUCT_COMBINATION</td>\n",
       "      <td>346</td>\n",
       "      <td>0.02</td>\n",
       "    </tr>\n",
       "    <tr>\n",
       "      <th>25</th>\n",
       "      <td>CHANNEL_TYPE</td>\n",
       "      <td>0</td>\n",
       "      <td>0.00</td>\n",
       "    </tr>\n",
       "    <tr>\n",
       "      <th>24</th>\n",
       "      <td>NAME_PRODUCT_TYPE</td>\n",
       "      <td>0</td>\n",
       "      <td>0.00</td>\n",
       "    </tr>\n",
       "    <tr>\n",
       "      <th>29</th>\n",
       "      <td>NAME_YIELD_GROUP</td>\n",
       "      <td>0</td>\n",
       "      <td>0.00</td>\n",
       "    </tr>\n",
       "    <tr>\n",
       "      <th>26</th>\n",
       "      <td>SELLERPLACE_AREA</td>\n",
       "      <td>0</td>\n",
       "      <td>0.00</td>\n",
       "    </tr>\n",
       "    <tr>\n",
       "      <th>27</th>\n",
       "      <td>NAME_SELLER_INDUSTRY</td>\n",
       "      <td>0</td>\n",
       "      <td>0.00</td>\n",
       "    </tr>\n",
       "    <tr>\n",
       "      <th>22</th>\n",
       "      <td>NAME_GOODS_CATEGORY</td>\n",
       "      <td>0</td>\n",
       "      <td>0.00</td>\n",
       "    </tr>\n",
       "    <tr>\n",
       "      <th>23</th>\n",
       "      <td>NAME_PORTFOLIO</td>\n",
       "      <td>0</td>\n",
       "      <td>0.00</td>\n",
       "    </tr>\n",
       "    <tr>\n",
       "      <th>0</th>\n",
       "      <td>SK_ID_PREV</td>\n",
       "      <td>0</td>\n",
       "      <td>0.00</td>\n",
       "    </tr>\n",
       "    <tr>\n",
       "      <th>21</th>\n",
       "      <td>NAME_CLIENT_TYPE</td>\n",
       "      <td>0</td>\n",
       "      <td>0.00</td>\n",
       "    </tr>\n",
       "    <tr>\n",
       "      <th>19</th>\n",
       "      <td>CODE_REJECT_REASON</td>\n",
       "      <td>0</td>\n",
       "      <td>0.00</td>\n",
       "    </tr>\n",
       "    <tr>\n",
       "      <th>1</th>\n",
       "      <td>SK_ID_CURR</td>\n",
       "      <td>0</td>\n",
       "      <td>0.00</td>\n",
       "    </tr>\n",
       "    <tr>\n",
       "      <th>17</th>\n",
       "      <td>DAYS_DECISION</td>\n",
       "      <td>0</td>\n",
       "      <td>0.00</td>\n",
       "    </tr>\n",
       "    <tr>\n",
       "      <th>16</th>\n",
       "      <td>NAME_CONTRACT_STATUS</td>\n",
       "      <td>0</td>\n",
       "      <td>0.00</td>\n",
       "    </tr>\n",
       "    <tr>\n",
       "      <th>15</th>\n",
       "      <td>NAME_CASH_LOAN_PURPOSE</td>\n",
       "      <td>0</td>\n",
       "      <td>0.00</td>\n",
       "    </tr>\n",
       "    <tr>\n",
       "      <th>11</th>\n",
       "      <td>NFLAG_LAST_APPL_IN_DAY</td>\n",
       "      <td>0</td>\n",
       "      <td>0.00</td>\n",
       "    </tr>\n",
       "    <tr>\n",
       "      <th>10</th>\n",
       "      <td>FLAG_LAST_APPL_PER_CONTRACT</td>\n",
       "      <td>0</td>\n",
       "      <td>0.00</td>\n",
       "    </tr>\n",
       "    <tr>\n",
       "      <th>9</th>\n",
       "      <td>HOUR_APPR_PROCESS_START</td>\n",
       "      <td>0</td>\n",
       "      <td>0.00</td>\n",
       "    </tr>\n",
       "    <tr>\n",
       "      <th>8</th>\n",
       "      <td>WEEKDAY_APPR_PROCESS_START</td>\n",
       "      <td>0</td>\n",
       "      <td>0.00</td>\n",
       "    </tr>\n",
       "    <tr>\n",
       "      <th>5</th>\n",
       "      <td>AMT_CREDIT</td>\n",
       "      <td>1</td>\n",
       "      <td>0.00</td>\n",
       "    </tr>\n",
       "    <tr>\n",
       "      <th>4</th>\n",
       "      <td>AMT_APPLICATION</td>\n",
       "      <td>0</td>\n",
       "      <td>0.00</td>\n",
       "    </tr>\n",
       "    <tr>\n",
       "      <th>2</th>\n",
       "      <td>NAME_CONTRACT_TYPE</td>\n",
       "      <td>0</td>\n",
       "      <td>0.00</td>\n",
       "    </tr>\n",
       "    <tr>\n",
       "      <th>18</th>\n",
       "      <td>NAME_PAYMENT_TYPE</td>\n",
       "      <td>0</td>\n",
       "      <td>0.00</td>\n",
       "    </tr>\n",
       "  </tbody>\n",
       "</table>\n",
       "</div>"
      ],
      "text/plain": [
       "                    column_name  null_count  null_percentage\n",
       "14     RATE_INTEREST_PRIVILEGED     1664263            99.64\n",
       "13        RATE_INTEREST_PRIMARY     1664263            99.64\n",
       "12            RATE_DOWN_PAYMENT      895844            53.64\n",
       "6              AMT_DOWN_PAYMENT      895844            53.64\n",
       "20              NAME_TYPE_SUITE      820405            49.12\n",
       "36    NFLAG_INSURED_ON_APPROVAL      673065            40.30\n",
       "31           DAYS_FIRST_DRAWING      673065            40.30\n",
       "32               DAYS_FIRST_DUE      673065            40.30\n",
       "33    DAYS_LAST_DUE_1ST_VERSION      673065            40.30\n",
       "34                DAYS_LAST_DUE      673065            40.30\n",
       "35             DAYS_TERMINATION      673065            40.30\n",
       "7               AMT_GOODS_PRICE      385515            23.08\n",
       "3                   AMT_ANNUITY      372235            22.29\n",
       "28                  CNT_PAYMENT      372230            22.29\n",
       "30          PRODUCT_COMBINATION         346             0.02\n",
       "25                 CHANNEL_TYPE           0             0.00\n",
       "24            NAME_PRODUCT_TYPE           0             0.00\n",
       "29             NAME_YIELD_GROUP           0             0.00\n",
       "26             SELLERPLACE_AREA           0             0.00\n",
       "27         NAME_SELLER_INDUSTRY           0             0.00\n",
       "22          NAME_GOODS_CATEGORY           0             0.00\n",
       "23               NAME_PORTFOLIO           0             0.00\n",
       "0                    SK_ID_PREV           0             0.00\n",
       "21             NAME_CLIENT_TYPE           0             0.00\n",
       "19           CODE_REJECT_REASON           0             0.00\n",
       "1                    SK_ID_CURR           0             0.00\n",
       "17                DAYS_DECISION           0             0.00\n",
       "16         NAME_CONTRACT_STATUS           0             0.00\n",
       "15       NAME_CASH_LOAN_PURPOSE           0             0.00\n",
       "11       NFLAG_LAST_APPL_IN_DAY           0             0.00\n",
       "10  FLAG_LAST_APPL_PER_CONTRACT           0             0.00\n",
       "9       HOUR_APPR_PROCESS_START           0             0.00\n",
       "8    WEEKDAY_APPR_PROCESS_START           0             0.00\n",
       "5                    AMT_CREDIT           1             0.00\n",
       "4               AMT_APPLICATION           0             0.00\n",
       "2            NAME_CONTRACT_TYPE           0             0.00\n",
       "18            NAME_PAYMENT_TYPE           0             0.00"
      ]
     },
     "execution_count": 217,
     "metadata": {},
     "output_type": "execute_result"
    }
   ],
   "source": [
    "null_df.sort_values(by = 'null_percentage', ascending = False)"
   ]
  },
  {
   "cell_type": "markdown",
   "id": "a2ae7477-ec0f-441e-b1ef-ed90be1a0206",
   "metadata": {},
   "source": [
    "### Removing columns with NULL values > 40%¶\r",
    "-\n",
    "Getting list of columns with NULL values > 40% into a list. We will be removing these columns from the dataframe as there are too many missing values."
   ]
  },
  {
   "cell_type": "code",
   "execution_count": 219,
   "id": "7582a107-874c-499e-bf3e-ecff692cd1ea",
   "metadata": {},
   "outputs": [],
   "source": [
    "columns_to_be_deleted = null_df[null_df['null_percentage'] > 40].column_name.to_list()"
   ]
  },
  {
   "cell_type": "code",
   "execution_count": 220,
   "id": "01a21de1-55e6-4d31-b554-15fa72450dab",
   "metadata": {},
   "outputs": [
    {
     "data": {
      "text/plain": [
       "['AMT_DOWN_PAYMENT',\n",
       " 'RATE_DOWN_PAYMENT',\n",
       " 'RATE_INTEREST_PRIMARY',\n",
       " 'RATE_INTEREST_PRIVILEGED',\n",
       " 'NAME_TYPE_SUITE',\n",
       " 'DAYS_FIRST_DRAWING',\n",
       " 'DAYS_FIRST_DUE',\n",
       " 'DAYS_LAST_DUE_1ST_VERSION',\n",
       " 'DAYS_LAST_DUE',\n",
       " 'DAYS_TERMINATION',\n",
       " 'NFLAG_INSURED_ON_APPROVAL']"
      ]
     },
     "execution_count": 220,
     "metadata": {},
     "output_type": "execute_result"
    }
   ],
   "source": [
    "columns_to_be_deleted"
   ]
  },
  {
   "cell_type": "code",
   "execution_count": 221,
   "id": "ba6cdfd5-0f67-4a27-b79a-a7c7b9687c55",
   "metadata": {},
   "outputs": [],
   "source": [
    "prev.drop(columns = columns_to_be_deleted, inplace = True)"
   ]
  },
  {
   "cell_type": "code",
   "execution_count": 222,
   "id": "84cc29f2-1683-40f6-ae1d-395e938aa75d",
   "metadata": {},
   "outputs": [
    {
     "data": {
      "text/plain": [
       "(1670214, 26)"
      ]
     },
     "execution_count": 222,
     "metadata": {},
     "output_type": "execute_result"
    }
   ],
   "source": [
    "prev.shape"
   ]
  },
  {
   "cell_type": "markdown",
   "id": "00e95676-efb5-418f-ac74-4fbb526c0b83",
   "metadata": {},
   "source": [
    "### Checking columns with NULL values < 40%"
   ]
  },
  {
   "cell_type": "code",
   "execution_count": 224,
   "id": "f1d27746-8783-404b-90e3-3c3ebc55e43b",
   "metadata": {},
   "outputs": [],
   "source": [
    "null_df_under40 = null_df[null_df['null_percentage'] < 40]"
   ]
  },
  {
   "cell_type": "code",
   "execution_count": 225,
   "id": "dda68a6a-352a-4b44-8cb0-aef0645a9d4a",
   "metadata": {},
   "outputs": [
    {
     "data": {
      "text/html": [
       "<div>\n",
       "<style scoped>\n",
       "    .dataframe tbody tr th:only-of-type {\n",
       "        vertical-align: middle;\n",
       "    }\n",
       "\n",
       "    .dataframe tbody tr th {\n",
       "        vertical-align: top;\n",
       "    }\n",
       "\n",
       "    .dataframe thead th {\n",
       "        text-align: right;\n",
       "    }\n",
       "</style>\n",
       "<table border=\"1\" class=\"dataframe\">\n",
       "  <thead>\n",
       "    <tr style=\"text-align: right;\">\n",
       "      <th></th>\n",
       "      <th>column_name</th>\n",
       "      <th>null_count</th>\n",
       "      <th>null_percentage</th>\n",
       "    </tr>\n",
       "  </thead>\n",
       "  <tbody>\n",
       "    <tr>\n",
       "      <th>7</th>\n",
       "      <td>AMT_GOODS_PRICE</td>\n",
       "      <td>385515</td>\n",
       "      <td>23.08</td>\n",
       "    </tr>\n",
       "    <tr>\n",
       "      <th>3</th>\n",
       "      <td>AMT_ANNUITY</td>\n",
       "      <td>372235</td>\n",
       "      <td>22.29</td>\n",
       "    </tr>\n",
       "    <tr>\n",
       "      <th>28</th>\n",
       "      <td>CNT_PAYMENT</td>\n",
       "      <td>372230</td>\n",
       "      <td>22.29</td>\n",
       "    </tr>\n",
       "    <tr>\n",
       "      <th>30</th>\n",
       "      <td>PRODUCT_COMBINATION</td>\n",
       "      <td>346</td>\n",
       "      <td>0.02</td>\n",
       "    </tr>\n",
       "    <tr>\n",
       "      <th>18</th>\n",
       "      <td>NAME_PAYMENT_TYPE</td>\n",
       "      <td>0</td>\n",
       "      <td>0.00</td>\n",
       "    </tr>\n",
       "    <tr>\n",
       "      <th>29</th>\n",
       "      <td>NAME_YIELD_GROUP</td>\n",
       "      <td>0</td>\n",
       "      <td>0.00</td>\n",
       "    </tr>\n",
       "    <tr>\n",
       "      <th>27</th>\n",
       "      <td>NAME_SELLER_INDUSTRY</td>\n",
       "      <td>0</td>\n",
       "      <td>0.00</td>\n",
       "    </tr>\n",
       "    <tr>\n",
       "      <th>26</th>\n",
       "      <td>SELLERPLACE_AREA</td>\n",
       "      <td>0</td>\n",
       "      <td>0.00</td>\n",
       "    </tr>\n",
       "    <tr>\n",
       "      <th>25</th>\n",
       "      <td>CHANNEL_TYPE</td>\n",
       "      <td>0</td>\n",
       "      <td>0.00</td>\n",
       "    </tr>\n",
       "    <tr>\n",
       "      <th>24</th>\n",
       "      <td>NAME_PRODUCT_TYPE</td>\n",
       "      <td>0</td>\n",
       "      <td>0.00</td>\n",
       "    </tr>\n",
       "    <tr>\n",
       "      <th>23</th>\n",
       "      <td>NAME_PORTFOLIO</td>\n",
       "      <td>0</td>\n",
       "      <td>0.00</td>\n",
       "    </tr>\n",
       "    <tr>\n",
       "      <th>22</th>\n",
       "      <td>NAME_GOODS_CATEGORY</td>\n",
       "      <td>0</td>\n",
       "      <td>0.00</td>\n",
       "    </tr>\n",
       "    <tr>\n",
       "      <th>21</th>\n",
       "      <td>NAME_CLIENT_TYPE</td>\n",
       "      <td>0</td>\n",
       "      <td>0.00</td>\n",
       "    </tr>\n",
       "    <tr>\n",
       "      <th>19</th>\n",
       "      <td>CODE_REJECT_REASON</td>\n",
       "      <td>0</td>\n",
       "      <td>0.00</td>\n",
       "    </tr>\n",
       "    <tr>\n",
       "      <th>0</th>\n",
       "      <td>SK_ID_PREV</td>\n",
       "      <td>0</td>\n",
       "      <td>0.00</td>\n",
       "    </tr>\n",
       "    <tr>\n",
       "      <th>1</th>\n",
       "      <td>SK_ID_CURR</td>\n",
       "      <td>0</td>\n",
       "      <td>0.00</td>\n",
       "    </tr>\n",
       "    <tr>\n",
       "      <th>16</th>\n",
       "      <td>NAME_CONTRACT_STATUS</td>\n",
       "      <td>0</td>\n",
       "      <td>0.00</td>\n",
       "    </tr>\n",
       "    <tr>\n",
       "      <th>15</th>\n",
       "      <td>NAME_CASH_LOAN_PURPOSE</td>\n",
       "      <td>0</td>\n",
       "      <td>0.00</td>\n",
       "    </tr>\n",
       "    <tr>\n",
       "      <th>11</th>\n",
       "      <td>NFLAG_LAST_APPL_IN_DAY</td>\n",
       "      <td>0</td>\n",
       "      <td>0.00</td>\n",
       "    </tr>\n",
       "    <tr>\n",
       "      <th>10</th>\n",
       "      <td>FLAG_LAST_APPL_PER_CONTRACT</td>\n",
       "      <td>0</td>\n",
       "      <td>0.00</td>\n",
       "    </tr>\n",
       "    <tr>\n",
       "      <th>9</th>\n",
       "      <td>HOUR_APPR_PROCESS_START</td>\n",
       "      <td>0</td>\n",
       "      <td>0.00</td>\n",
       "    </tr>\n",
       "    <tr>\n",
       "      <th>8</th>\n",
       "      <td>WEEKDAY_APPR_PROCESS_START</td>\n",
       "      <td>0</td>\n",
       "      <td>0.00</td>\n",
       "    </tr>\n",
       "    <tr>\n",
       "      <th>5</th>\n",
       "      <td>AMT_CREDIT</td>\n",
       "      <td>1</td>\n",
       "      <td>0.00</td>\n",
       "    </tr>\n",
       "    <tr>\n",
       "      <th>4</th>\n",
       "      <td>AMT_APPLICATION</td>\n",
       "      <td>0</td>\n",
       "      <td>0.00</td>\n",
       "    </tr>\n",
       "    <tr>\n",
       "      <th>2</th>\n",
       "      <td>NAME_CONTRACT_TYPE</td>\n",
       "      <td>0</td>\n",
       "      <td>0.00</td>\n",
       "    </tr>\n",
       "    <tr>\n",
       "      <th>17</th>\n",
       "      <td>DAYS_DECISION</td>\n",
       "      <td>0</td>\n",
       "      <td>0.00</td>\n",
       "    </tr>\n",
       "  </tbody>\n",
       "</table>\n",
       "</div>"
      ],
      "text/plain": [
       "                    column_name  null_count  null_percentage\n",
       "7               AMT_GOODS_PRICE      385515            23.08\n",
       "3                   AMT_ANNUITY      372235            22.29\n",
       "28                  CNT_PAYMENT      372230            22.29\n",
       "30          PRODUCT_COMBINATION         346             0.02\n",
       "18            NAME_PAYMENT_TYPE           0             0.00\n",
       "29             NAME_YIELD_GROUP           0             0.00\n",
       "27         NAME_SELLER_INDUSTRY           0             0.00\n",
       "26             SELLERPLACE_AREA           0             0.00\n",
       "25                 CHANNEL_TYPE           0             0.00\n",
       "24            NAME_PRODUCT_TYPE           0             0.00\n",
       "23               NAME_PORTFOLIO           0             0.00\n",
       "22          NAME_GOODS_CATEGORY           0             0.00\n",
       "21             NAME_CLIENT_TYPE           0             0.00\n",
       "19           CODE_REJECT_REASON           0             0.00\n",
       "0                    SK_ID_PREV           0             0.00\n",
       "1                    SK_ID_CURR           0             0.00\n",
       "16         NAME_CONTRACT_STATUS           0             0.00\n",
       "15       NAME_CASH_LOAN_PURPOSE           0             0.00\n",
       "11       NFLAG_LAST_APPL_IN_DAY           0             0.00\n",
       "10  FLAG_LAST_APPL_PER_CONTRACT           0             0.00\n",
       "9       HOUR_APPR_PROCESS_START           0             0.00\n",
       "8    WEEKDAY_APPR_PROCESS_START           0             0.00\n",
       "5                    AMT_CREDIT           1             0.00\n",
       "4               AMT_APPLICATION           0             0.00\n",
       "2            NAME_CONTRACT_TYPE           0             0.00\n",
       "17                DAYS_DECISION           0             0.00"
      ]
     },
     "execution_count": 225,
     "metadata": {},
     "output_type": "execute_result"
    }
   ],
   "source": [
    "null_df_under40.sort_values(by = 'null_percentage', ascending = False)"
   ]
  },
  {
   "cell_type": "markdown",
   "id": "782d4e70-c9ea-468f-89d6-f12255ec02db",
   "metadata": {},
   "source": [
    "### Analysis of AMT_GOODS_PRICE column\r",
    "-\n",
    "nullable values = 23.08%"
   ]
  },
  {
   "cell_type": "code",
   "execution_count": 227,
   "id": "2415c06f-6bbd-4890-83d9-346c28a400f9",
   "metadata": {},
   "outputs": [
    {
     "data": {
      "text/plain": [
       "AMT_GOODS_PRICE\n",
       "45000.0     47831\n",
       "225000.0    43549\n",
       "135000.0    40666\n",
       "450000.0    38926\n",
       "90000.0     29367\n",
       "Name: count, dtype: int64"
      ]
     },
     "execution_count": 227,
     "metadata": {},
     "output_type": "execute_result"
    }
   ],
   "source": [
    "prev.AMT_GOODS_PRICE.value_counts().head()"
   ]
  },
  {
   "cell_type": "code",
   "execution_count": 228,
   "id": "fae573e7-c21a-4e9f-b021-3637d39f5036",
   "metadata": {},
   "outputs": [
    {
     "data": {
      "text/plain": [
       "112320.0"
      ]
     },
     "execution_count": 228,
     "metadata": {},
     "output_type": "execute_result"
    }
   ],
   "source": [
    "prev.AMT_GOODS_PRICE.median()"
   ]
  },
  {
   "cell_type": "code",
   "execution_count": 229,
   "id": "eee94e80-3cd5-48fc-a93d-66b8a94d6cfd",
   "metadata": {},
   "outputs": [
    {
     "data": {
      "text/plain": [
       "227847.27928334562"
      ]
     },
     "execution_count": 229,
     "metadata": {},
     "output_type": "execute_result"
    }
   ],
   "source": [
    "prev.AMT_GOODS_PRICE.mean()"
   ]
  },
  {
   "cell_type": "code",
   "execution_count": 230,
   "id": "7bb08fa9-f7a5-4003-afa5-be22038c40c2",
   "metadata": {},
   "outputs": [
    {
     "data": {
      "text/plain": [
       "0    45000.0\n",
       "Name: AMT_GOODS_PRICE, dtype: float64"
      ]
     },
     "execution_count": 230,
     "metadata": {},
     "output_type": "execute_result"
    }
   ],
   "source": [
    "prev.AMT_GOODS_PRICE.mode()"
   ]
  },
  {
   "cell_type": "markdown",
   "id": "a3033963-b178-477b-a1f6-f03adb2e767b",
   "metadata": {},
   "source": [
    "### Obersavtion\n",
    "median is 112320.00\n",
    "Most recurring value is 45000.0\n",
    "Mean value is 227847.27928334344\n",
    "Since missing percentage value is higher (23.08%), it would be better to leave the data as it is and not perform imputations\n"
   ]
  },
  {
   "cell_type": "markdown",
   "id": "5671b956-e7bb-4b0a-8f4c-09c545a9ae39",
   "metadata": {},
   "source": [
    "### Analysis of AMT_ANNUITY column"
   ]
  },
  {
   "cell_type": "code",
   "execution_count": 233,
   "id": "d5680775-37e3-4dd5-b50d-e80d4cfdd3aa",
   "metadata": {},
   "outputs": [
    {
     "data": {
      "text/plain": [
       "AMT_ANNUITY\n",
       "2250.0     31865\n",
       "11250.0    13974\n",
       "6750.0     13442\n",
       "9000.0     12496\n",
       "22500.0    11903\n",
       "Name: count, dtype: int64"
      ]
     },
     "execution_count": 233,
     "metadata": {},
     "output_type": "execute_result"
    }
   ],
   "source": [
    "prev.AMT_ANNUITY.value_counts().head()"
   ]
  },
  {
   "cell_type": "code",
   "execution_count": 234,
   "id": "f6d1dcce-84c8-40b3-8898-6d637ed03448",
   "metadata": {},
   "outputs": [
    {
     "data": {
      "text/plain": [
       "11250.0"
      ]
     },
     "execution_count": 234,
     "metadata": {},
     "output_type": "execute_result"
    }
   ],
   "source": [
    "prev.AMT_ANNUITY.median()"
   ]
  },
  {
   "cell_type": "code",
   "execution_count": 235,
   "id": "265f75a6-4cf8-4460-9d2b-5ef1caa07188",
   "metadata": {},
   "outputs": [
    {
     "data": {
      "text/plain": [
       "0    2250.0\n",
       "Name: AMT_ANNUITY, dtype: float64"
      ]
     },
     "execution_count": 235,
     "metadata": {},
     "output_type": "execute_result"
    }
   ],
   "source": [
    "prev.AMT_ANNUITY.mode()"
   ]
  },
  {
   "cell_type": "code",
   "execution_count": 236,
   "id": "f6c4addb-5e20-4115-8e58-64cfdea858b6",
   "metadata": {},
   "outputs": [
    {
     "data": {
      "text/plain": [
       "11250.0"
      ]
     },
     "execution_count": 236,
     "metadata": {},
     "output_type": "execute_result"
    }
   ],
   "source": [
    "prev.AMT_ANNUITY.median()"
   ]
  },
  {
   "cell_type": "markdown",
   "id": "fdaef68e-dfd7-4a9c-a56a-172fd1ff4583",
   "metadata": {},
   "source": [
    "### Observations\n",
    "- , median is 11250.00\r\n",
    "Most recurring value is 2250.0\r\n",
    "Mean value is 15955.120659450406\r\n",
    "Since missing percentage value is higher (22.29%), it would be better to leave the data as it is and not perform imputations"
   ]
  },
  {
   "cell_type": "code",
   "execution_count": null,
   "id": "c9cd91d3-778e-4c7c-95f2-62753b26e20e",
   "metadata": {},
   "outputs": [],
   "source": []
  },
  {
   "cell_type": "markdown",
   "id": "25d66081-8a5d-4f54-95b5-9800e397cffe",
   "metadata": {},
   "source": [
    "### Merge datasets df and df_prev into df_merge¶"
   ]
  },
  {
   "cell_type": "code",
   "execution_count": 259,
   "id": "afbe8b84-3839-4add-a18c-225c28568248",
   "metadata": {},
   "outputs": [],
   "source": [
    "df_merg = pd.merge( left=apli, \n",
    "    right=prev, \n",
    "    how='inner', \n",
    "    on='SK_ID_CURR', \n",
    "    suffixes=('_x', '_y')  # Specify suffixes for overlapping column names\n",
    ")\n",
    "\n"
   ]
  },
  {
   "cell_type": "code",
   "execution_count": 261,
   "id": "35214b0b-eaaf-4079-96af-cc745bc2be26",
   "metadata": {},
   "outputs": [
    {
     "data": {
      "text/plain": [
       "(1413701, 69)"
      ]
     },
     "execution_count": 261,
     "metadata": {},
     "output_type": "execute_result"
    }
   ],
   "source": [
    "df_merg.shape"
   ]
  },
  {
   "cell_type": "code",
   "execution_count": 263,
   "id": "4c018d89-2589-4001-9226-390adf18802d",
   "metadata": {},
   "outputs": [
    {
     "name": "stdout",
     "output_type": "stream",
     "text": [
      "<class 'pandas.core.frame.DataFrame'>\n",
      "RangeIndex: 1413701 entries, 0 to 1413700\n",
      "Data columns (total 69 columns):\n",
      " #   Column                        Non-Null Count    Dtype  \n",
      "---  ------                        --------------    -----  \n",
      " 0   SK_ID_CURR                    1413701 non-null  int64  \n",
      " 1   TARGET                        1413701 non-null  int64  \n",
      " 2   NAME_CONTRACT_TYPE_x          1413701 non-null  object \n",
      " 3   CODE_GENDER                   1413701 non-null  object \n",
      " 4   FLAG_OWN_CAR                  1413701 non-null  object \n",
      " 5   FLAG_OWN_REALTY               1413701 non-null  object \n",
      " 6   CNT_CHILDREN                  1413701 non-null  int64  \n",
      " 7   AMT_INCOME_TOTAL              1413701 non-null  float64\n",
      " 8   AMT_CREDIT_x                  1413701 non-null  float64\n",
      " 9   AMT_ANNUITY_x                 1413701 non-null  float64\n",
      " 10  AMT_GOODS_PRICE_x             1413701 non-null  float64\n",
      " 11  NAME_TYPE_SUITE               1413701 non-null  object \n",
      " 12  NAME_INCOME_TYPE              1413701 non-null  object \n",
      " 13  NAME_EDUCATION_TYPE           1413701 non-null  object \n",
      " 14  NAME_FAMILY_STATUS            1413701 non-null  object \n",
      " 15  NAME_HOUSING_TYPE             1413701 non-null  object \n",
      " 16  REGION_POPULATION_RELATIVE    1413701 non-null  float64\n",
      " 17  DAYS_BIRTH                    1413701 non-null  int64  \n",
      " 18  DAYS_EMPLOYED                 1413701 non-null  int64  \n",
      " 19  DAYS_REGISTRATION             1413701 non-null  float64\n",
      " 20  DAYS_ID_PUBLISH               1413701 non-null  int64  \n",
      " 21  OCCUPATION_TYPE               1413701 non-null  object \n",
      " 22  CNT_FAM_MEMBERS               1413701 non-null  float64\n",
      " 23  WEEKDAY_APPR_PROCESS_START_x  1413701 non-null  object \n",
      " 24  HOUR_APPR_PROCESS_START_x     1413701 non-null  int64  \n",
      " 25  REG_REGION_NOT_LIVE_REGION    1413701 non-null  int64  \n",
      " 26  REG_REGION_NOT_WORK_REGION    1413701 non-null  int64  \n",
      " 27  LIVE_REGION_NOT_WORK_REGION   1413701 non-null  int64  \n",
      " 28  REG_CITY_NOT_LIVE_CITY        1413701 non-null  int64  \n",
      " 29  REG_CITY_NOT_WORK_CITY        1413701 non-null  int64  \n",
      " 30  LIVE_CITY_NOT_WORK_CITY       1413701 non-null  int64  \n",
      " 31  ORGANIZATION_TYPE             1413701 non-null  object \n",
      " 32  OBS_30_CNT_SOCIAL_CIRCLE      1413701 non-null  float64\n",
      " 33  DEF_30_CNT_SOCIAL_CIRCLE      1413701 non-null  float64\n",
      " 34  OBS_60_CNT_SOCIAL_CIRCLE      1413701 non-null  float64\n",
      " 35  DEF_60_CNT_SOCIAL_CIRCLE      1413701 non-null  float64\n",
      " 36  AMT_REQ_CREDIT_BUREAU_HOUR    1413701 non-null  float64\n",
      " 37  AMT_REQ_CREDIT_BUREAU_DAY     1413701 non-null  float64\n",
      " 38  AMT_REQ_CREDIT_BUREAU_WEEK    1413701 non-null  float64\n",
      " 39  AMT_REQ_CREDIT_BUREAU_MON     1413701 non-null  float64\n",
      " 40  AMT_REQ_CREDIT_BUREAU_QRT     1413701 non-null  float64\n",
      " 41  AMT_REQ_CREDIT_BUREAU_YEAR    1413701 non-null  float64\n",
      " 42  YEARS_BIRTH                   1413701 non-null  int64  \n",
      " 43  YEARS_BIRTH_CATEGORY          1413701 non-null  object \n",
      " 44  SK_ID_PREV                    1413701 non-null  int64  \n",
      " 45  NAME_CONTRACT_TYPE_y          1413701 non-null  object \n",
      " 46  AMT_ANNUITY_y                 1106483 non-null  float64\n",
      " 47  AMT_APPLICATION               1413701 non-null  float64\n",
      " 48  AMT_CREDIT_y                  1413700 non-null  float64\n",
      " 49  AMT_GOODS_PRICE_y             1094176 non-null  float64\n",
      " 50  WEEKDAY_APPR_PROCESS_START_y  1413701 non-null  object \n",
      " 51  HOUR_APPR_PROCESS_START_y     1413701 non-null  int64  \n",
      " 52  FLAG_LAST_APPL_PER_CONTRACT   1413701 non-null  object \n",
      " 53  NFLAG_LAST_APPL_IN_DAY        1413701 non-null  int64  \n",
      " 54  NAME_CASH_LOAN_PURPOSE        1413701 non-null  object \n",
      " 55  NAME_CONTRACT_STATUS          1413701 non-null  object \n",
      " 56  DAYS_DECISION                 1413701 non-null  int64  \n",
      " 57  NAME_PAYMENT_TYPE             1413701 non-null  object \n",
      " 58  CODE_REJECT_REASON            1413701 non-null  object \n",
      " 59  NAME_CLIENT_TYPE              1413701 non-null  object \n",
      " 60  NAME_GOODS_CATEGORY           1413701 non-null  object \n",
      " 61  NAME_PORTFOLIO                1413701 non-null  object \n",
      " 62  NAME_PRODUCT_TYPE             1413701 non-null  object \n",
      " 63  CHANNEL_TYPE                  1413701 non-null  object \n",
      " 64  SELLERPLACE_AREA              1413701 non-null  int64  \n",
      " 65  NAME_SELLER_INDUSTRY          1413701 non-null  object \n",
      " 66  CNT_PAYMENT                   1106488 non-null  float64\n",
      " 67  NAME_YIELD_GROUP              1413701 non-null  object \n",
      " 68  PRODUCT_COMBINATION           1413388 non-null  object \n",
      "dtypes: float64(22), int64(19), object(28)\n",
      "memory usage: 744.2+ MB\n"
     ]
    }
   ],
   "source": [
    "df_merg.info(verbose = True)"
   ]
  },
  {
   "cell_type": "code",
   "execution_count": 270,
   "id": "f234906e-3ab5-414b-b37d-24a538332617",
   "metadata": {},
   "outputs": [
    {
     "data": {
      "text/plain": [
       "(1413701, 69)"
      ]
     },
     "execution_count": 270,
     "metadata": {},
     "output_type": "execute_result"
    }
   ],
   "source": [
    "df_merg.shape"
   ]
  },
  {
   "cell_type": "code",
   "execution_count": 303,
   "id": "3b4a0bd0-3fa1-4651-8134-8e8f925fa914",
   "metadata": {},
   "outputs": [
    {
     "name": "stderr",
     "output_type": "stream",
     "text": [
      "C:\\Users\\Vishwaraj\\AppData\\Local\\Temp\\ipykernel_16580\\1440334868.py:1: FutureWarning: \n",
      "\n",
      "The `ci` parameter is deprecated. Use `errorbar=None` for the same effect.\n",
      "\n",
      "  sns.barplot(data = df_merg, x = \"OCCUPATION_TYPE\", y = \"AMT_INCOME_TOTAL\",ci=None)\n"
     ]
    },
    {
     "data": {
      "image/png": "[encoded data removed]",
      "text/plain": [
       "<Figure size 640x480 with 1 Axes>"
      ]
     },
     "metadata": {},
     "output_type": "display_data"
    }
   ],
   "source": [
    "sns.barplot(data = df_merg, x = \"OCCUPATION_TYPE\", y = \"AMT_INCOME_TOTAL\",ci=None)\n",
    "plt.xticks(rotation = 90)\n",
    "plt.show()"
   ]
  },
  {
   "cell_type": "code",
   "execution_count": 274,
   "id": "0a46689c-a3ae-4a7a-aaa5-9a3bb98a8f0d",
   "metadata": {},
   "outputs": [
    {
     "data": {
      "image/png": "[encoded data removed]",
      "text/plain": [
       "<Figure size 640x480 with 1 Axes>"
      ]
     },
     "metadata": {},
     "output_type": "display_data"
    }
   ],
   "source": [
    "sns.set_theme(style=\"whitegrid\", palette=\"pastel\")\n",
    "(df_merg['NAME_CONTRACT_STATUS'].value_counts(normalize = True) * 100.0).plot.bar()\n",
    "plt.title(\"Status of the loans of the applicants\")\n",
    "plt.show()"
   ]
  },
  {
   "cell_type": "markdown",
   "id": "48d46ec7-4912-4efc-9f64-0a449adf735d",
   "metadata": {},
   "source": [
    "### obersvation\n",
    "- About 58% loans were refused\n",
    "- About 39% loans were approved\n",
    "- About 2% loans were cancelled\n",
    "- About 1% loans were unused offe"
   ]
  },
  {
   "cell_type": "code",
   "execution_count": 281,
   "id": "2c00dcda-c32e-4821-b1a3-5a8ec134d073",
   "metadata": {},
   "outputs": [
    {
     "data": {
      "image/png": "[encoded data removed]",
      "text/plain": [
       "<Figure size 600x600 with 1 Axes>"
      ]
     },
     "metadata": {},
     "output_type": "display_data"
    }
   ],
   "source": [
    "plt.figure(figsize=(6,6))\n",
    "sns.countplot(data=df_merg,x=\"NAME_CONTRACT_STATUS\",hue=\"NAME_CLIENT_TYPE\")\n",
    "plt.show()"
   ]
  },
  {
   "cell_type": "code",
   "execution_count": 267,
   "id": "b8c1049c-f2b1-4d6b-9fd4-effaeac457ff",
   "metadata": {},
   "outputs": [
    {
     "data": {
      "image/png": "[encoded data removed]",
      "text/plain": [
       "<Figure size 2000x800 with 2 Axes>"
      ]
     },
     "metadata": {},
     "output_type": "display_data"
    }
   ],
   "source": [
    "corr_df = df_merg[['AMT_ANNUITY_x', 'AMT_APPLICATION','AMT_CREDIT_x', 'AMT_GOODS_PRICE_x',\n",
    "                    'AMT_ANNUITY_y', 'AMT_CREDIT_y', 'AMT_GOODS_PRICE_y', 'CNT_PAYMENT']].corr()\n",
    "\n",
    "\n",
    "plt.figure(figsize = (20,8))\n",
    "sns.heatmap(data = corr_df, annot = True, cmap = \"RdYlGn\", cbar = True, fmt='.2f')\n",
    "plt.show()"
   ]
  },
  {
   "cell_type": "markdown",
   "id": "586c8577-b46e-436a-9c13-3e6d6415112b",
   "metadata": {},
   "source": [
    "### Observations\n",
    "\r\n",
    "AMT_APPLICATION has a high correlation with AMT_ANNUITY_y,AMT_CREDIT_y,AMT_GOODS_PRICE_y and decent correlation with CNT_PAYMENT\r\n",
    "AMT_GOODS_PRICE_y has a high correlation with AMT_ANNUITY_y,AMT_CREDIT_y,AMT_APPLICATION and decent correlation with CNT_PAYMENT"
   ]
  },
  {
   "cell_type": "code",
   "execution_count": null,
   "id": "25366a34-97bd-4f11-919b-32899bfbd567",
   "metadata": {},
   "outputs": [],
   "source": []
  },
  {
   "cell_type": "markdown",
   "id": "bdc1e3b1-fac0-4575-8a8b-ec8c3ad74372",
   "metadata": {},
   "source": [
    "## Conclusion\n",
    "\n",
    "- Working, Commercial associates, pensioners and state servants are safest to give loans.\n",
    "- Default rate of female customers is lower then Males\n",
    "- Married people are safer to target.\n",
    "- Drivers and low skill labourers are most defaulters.\n",
    "- Enhance retention for Repeaters, attract New clients with offers, and analyze Canceled/Refused contracts to reduce churn.\n",
    "- \n"
   ]
  },
  {
   "cell_type": "code",
   "execution_count": null,
   "id": "0187fda0-3a06-4f9a-87da-cc18e47f4675",
   "metadata": {},
   "outputs": [],
   "source": []
  },
  {
   "cell_type": "code",
   "execution_count": null,
   "id": "1d48bc25-8e01-4e90-879a-54e601decd1b",
   "metadata": {},
   "outputs": [],
   "source": []
  },
  {
   "cell_type": "code",
   "execution_count": null,
   "id": "1979078f-c657-472d-909e-641e152b7e22",
   "metadata": {},
   "outputs": [],
   "source": []
  },
  {
   "cell_type": "code",
   "execution_count": null,
   "id": "516432de-9123-4940-b61f-e4548cfca431",
   "metadata": {},
   "outputs": [],
   "source": []
  },
  {
   "cell_type": "code",
   "execution_count": null,
   "id": "a5e03196-16df-4212-8ffc-0890315ae6a8",
   "metadata": {},
   "outputs": [],
   "source": []
  },
  {
   "cell_type": "code",
   "execution_count": null,
   "id": "69c15045-13cd-4fac-bf7e-96560f394ea5",
   "metadata": {},
   "outputs": [],
   "source": []
  },
  {
   "cell_type": "code",
   "execution_count": null,
   "id": "0d37aae7-ea8e-4a5b-98e9-10586e713d14",
   "metadata": {},
   "outputs": [],
   "source": []
  },
  {
   "cell_type": "code",
   "execution_count": null,
   "id": "18ab0567-4605-4c45-850b-ed4ed5762bc9",
   "metadata": {},
   "outputs": [],
   "source": []
  },
  {
   "cell_type": "code",
   "execution_count": null,
   "id": "ad82dfe5-b510-4f60-bc9b-5b5a75b0dc79",
   "metadata": {},
   "outputs": [],
   "source": []
  },
  {
   "cell_type": "code",
   "execution_count": null,
   "id": "13a9348f-0652-4dd7-96e5-301cbc54bb15",
   "metadata": {},
   "outputs": [],
   "source": []
  },
  {
   "cell_type": "code",
   "execution_count": null,
   "id": "b15ec2f7-8992-4ebf-a613-419a31e17586",
   "metadata": {},
   "outputs": [],
   "source": []
  },
  {
   "cell_type": "code",
   "execution_count": null,
   "id": "3d372d4b-9ea3-4ad3-b872-bd1f55ba1a12",
   "metadata": {},
   "outputs": [],
   "source": []
  },
  {
   "cell_type": "code",
   "execution_count": null,
   "id": "1051b0a4-a690-4aca-a0b8-b735a1c342ba",
   "metadata": {},
   "outputs": [],
   "source": []
  },
  {
   "cell_type": "code",
   "execution_count": null,
   "id": "03bbaa0d-b3d7-4797-9f5f-465380f2c396",
   "metadata": {},
   "outputs": [],
   "source": []
  },
  {
   "cell_type": "code",
   "execution_count": null,
   "id": "5f5dd5a6-047c-4f42-a299-4ce5012d4c2d",
   "metadata": {},
   "outputs": [],
   "source": []
  },
  {
   "cell_type": "code",
   "execution_count": null,
   "id": "e0d3e77c-c05e-4312-b615-84e2b4eb897b",
   "metadata": {},
   "outputs": [],
   "source": []
  }
 ],
 "metadata": {
  "kernelspec": {
   "display_name": "Python 3 (ipykernel)",
   "language": "python",
   "name": "python3"
  },
  "language_info": {
   "codemirror_mode": {
    "name": "ipython",
    "version": 3
   },
   "file_extension": ".py",
   "mimetype": "text/x-python",
   "name": "python",
   "nbconvert_exporter": "python",
   "pygments_lexer": "ipython3",
   "version": "3.12.4"
  }
 },
 "nbformat": 4,
 "nbformat_minor": 5
}
