{
  "nbformat": 4,
  "nbformat_minor": 0,
  "metadata": {
    "colab": {
      "provenance": [],
      "authorship_tag": "ABX9TyMghc+Qy3VAXcZ4tBQZlf2l",
      "include_colab_link": true
    },
    "kernelspec": {
      "name": "python3",
      "display_name": "Python 3"
    },
    "language_info": {
      "name": "python"
    }
  },
  "cells": [
    {
      "cell_type": "markdown",
      "metadata": {
        "id": "view-in-github",
        "colab_type": "text"
      },
      "source": [
        "<a href=\"https://colab.research.google.com/github/vishwaraj14/Pyhton/blob/main/PYSPARKJSON.ipynb\" target=\"_parent\"><img src=\"https://colab.research.google.com/assets/colab-badge.svg\" alt=\"Open In Colab\"/></a>"
      ]
    },
    {
      "cell_type": "code",
      "execution_count": 1,
      "metadata": {
        "id": "xpNb5H3SdSv_"
      },
      "outputs": [],
      "source": [
        "from pyspark.sql import SparkSession"
      ]
    },
    {
      "cell_type": "code",
      "source": [
        "spark = SparkSession.builder.appName('restaurant use case').getOrCreate()"
      ],
      "metadata": {
        "id": "4BVXobDDdoZB"
      },
      "execution_count": 4,
      "outputs": []
    },
    {
      "cell_type": "code",
      "source": [
        "restaurants = spark.read.json(\"/content/sample_data/restaurants.json\")"
      ],
      "metadata": {
        "id": "oO6AlCS0ePxG"
      },
      "execution_count": 5,
      "outputs": []
    },
    {
      "cell_type": "code",
      "source": [
        "restaurants.printSchema()"
      ],
      "metadata": {
        "colab": {
          "base_uri": "https://localhost:8080/"
        },
        "id": "DL2hCX3Nm5gL",
        "outputId": "156f0f38-5f6d-4702-df11-ef3989a588e4"
      },
      "execution_count": 37,
      "outputs": [
        {
          "output_type": "stream",
          "name": "stdout",
          "text": [
            "root\n",
            " |-- address: struct (nullable = true)\n",
            " |    |-- building: string (nullable = true)\n",
            " |    |-- coord: array (nullable = true)\n",
            " |    |    |-- element: double (containsNull = true)\n",
            " |    |-- street: string (nullable = true)\n",
            " |    |-- zipcode: string (nullable = true)\n",
            " |-- borough: string (nullable = true)\n",
            " |-- cuisine: string (nullable = true)\n",
            " |-- grades: array (nullable = true)\n",
            " |    |-- element: struct (containsNull = true)\n",
            " |    |    |-- date: struct (nullable = true)\n",
            " |    |    |    |-- $date: long (nullable = true)\n",
            " |    |    |-- grade: string (nullable = true)\n",
            " |    |    |-- score: long (nullable = true)\n",
            " |-- name: string (nullable = true)\n",
            " |-- restaurant_id: string (nullable = true)\n",
            "\n"
          ]
        }
      ]
    },
    {
      "cell_type": "code",
      "source": [
        "restaurants.show()"
      ],
      "metadata": {
        "colab": {
          "base_uri": "https://localhost:8080/"
        },
        "id": "rILlPYm_egbU",
        "outputId": "f2907ed0-44b3-45b5-b037-b99df2a187b8"
      },
      "execution_count": 6,
      "outputs": [
        {
          "output_type": "stream",
          "name": "stdout",
          "text": [
            "+--------------------+-------------+--------------------+--------------------+--------------------+-------------+\n",
            "|             address|      borough|             cuisine|              grades|                name|restaurant_id|\n",
            "+--------------------+-------------+--------------------+--------------------+--------------------+-------------+\n",
            "|{1007, [-73.85607...|        Bronx|              Bakery|[{{1393804800000}...|Morris Park Bake ...|     30075445|\n",
            "|{469, [-73.961704...|     Brooklyn|          Hamburgers|[{{1419897600000}...|             Wendy'S|     30112340|\n",
            "|{351, [-73.985135...|    Manhattan|               Irish|[{{1409961600000}...|Dj Reynolds Pub A...|     30191841|\n",
            "|{2780, [-73.98241...|     Brooklyn|           American |[{{1402358400000}...|     Riviera Caterer|     40356018|\n",
            "|{97-22, [-73.8601...|       Queens|       Jewish/Kosher|[{{1416787200000}...|  Tov Kosher Kitchen|     40356068|\n",
            "|{8825, [-73.88038...|       Queens|           American |[{{1416009600000}...|Brunos On The Bou...|     40356151|\n",
            "|{2206, [-74.13772...|Staten Island|       Jewish/Kosher|[{{1412553600000}...|       Kosher Island|     40356442|\n",
            "|{7114, [-73.90685...|     Brooklyn|        Delicatessen|[{{1401321600000}...|  Wilken'S Fine Food|     40356483|\n",
            "|{6409, [-74.00528...|     Brooklyn|           American |[{{1405641600000}...|     Regina Caterers|     40356649|\n",
            "|{1839, [-73.94826...|     Brooklyn|Ice Cream, Gelato...|[{{1405296000000}...|Taste The Tropics...|     40356731|\n",
            "|{2300, [-73.87861...|        Bronx|           American |[{{1401235200000}...|           Wild Asia|     40357217|\n",
            "|{7715, [-73.99733...|     Brooklyn|           American |[{{1397606400000}...|C & C Catering Se...|     40357437|\n",
            "|{1269, [-73.87119...|     Brooklyn|             Chinese|[{{1410825600000}...|     May May Kitchen|     40358429|\n",
            "|{1, [-73.96926909...|    Manhattan|           American |[{{1399420800000}...|1 East 66Th Stree...|     40359480|\n",
            "|{705, [-73.965396...|     Brooklyn|       Jewish/Kosher|[{{1415577600000}...|         Seuda Foods|     40360045|\n",
            "|{203, [-73.978220...|     Brooklyn|Ice Cream, Gelato...|[{{1391990400000}...|    Carvel Ice Cream|     40360076|\n",
            "|{265-15, [-73.703...|       Queens|Ice Cream, Gelato...|[{{1414454400000}...|    Carvel Ice Cream|     40361322|\n",
            "|{6909, [-74.02595...|     Brooklyn|        Delicatessen|[{{1408579200000}...|   Nordic Delicacies|     40361390|\n",
            "|{522, [-73.95171,...|    Manhattan|           American |[{{1409616000000}...|       Glorious Food|     40361521|\n",
            "|{284, [-73.982923...|     Brooklyn|           American |[{{1416355200000}...|   The Movable Feast|     40361606|\n",
            "+--------------------+-------------+--------------------+--------------------+--------------------+-------------+\n",
            "only showing top 20 rows\n",
            "\n"
          ]
        }
      ]
    },
    {
      "cell_type": "code",
      "source": [
        "restaurants.registerTempTable(\"restaurants\")"
      ],
      "metadata": {
        "colab": {
          "base_uri": "https://localhost:8080/"
        },
        "id": "koIaiRN2ew0Y",
        "outputId": "32c0140e-585f-4c00-f910-a58f585f6f0e"
      },
      "execution_count": 7,
      "outputs": [
        {
          "output_type": "stream",
          "name": "stderr",
          "text": [
            "/usr/local/lib/python3.10/dist-packages/pyspark/sql/dataframe.py:329: FutureWarning: Deprecated in 2.0, use createOrReplaceTempView instead.\n",
            "  warnings.warn(\"Deprecated in 2.0, use createOrReplaceTempView instead.\", FutureWarning)\n"
          ]
        }
      ]
    },
    {
      "cell_type": "code",
      "source": [
        "spark.sql(\"select cuisine ,count(restaurant_id) from restaurants group by cuisine\").count()"
      ],
      "metadata": {
        "colab": {
          "base_uri": "https://localhost:8080/"
        },
        "id": "wcrvudC3e-xC",
        "outputId": "d1d4369c-b307-4107-c531-f2a2c8db3472"
      },
      "execution_count": 10,
      "outputs": [
        {
          "output_type": "execute_result",
          "data": {
            "text/plain": [
              "70"
            ]
          },
          "metadata": {},
          "execution_count": 10
        }
      ]
    },
    {
      "cell_type": "code",
      "source": [
        "spark.sql(\"select cuisine ,count(restaurant_id) from restaurants group by cuisine order by cuisine\").show(70)\n",
        "\n"
      ],
      "metadata": {
        "colab": {
          "base_uri": "https://localhost:8080/"
        },
        "id": "uG2rrIcxfV0v",
        "outputId": "57edbd54-f261-4fb8-eded-4aef727c9c83"
      },
      "execution_count": 12,
      "outputs": [
        {
          "output_type": "stream",
          "name": "stdout",
          "text": [
            "+--------------------+--------------------+\n",
            "|             cuisine|count(restaurant_id)|\n",
            "+--------------------+--------------------+\n",
            "|              Afghan|                   4|\n",
            "|             African|                   4|\n",
            "|           American |                1255|\n",
            "|            Armenian|                   1|\n",
            "|               Asian|                  10|\n",
            "|     Bagels/Pretzels|                  34|\n",
            "|              Bakery|                 127|\n",
            "|         Bangladeshi|                   1|\n",
            "|            Barbecue|                   8|\n",
            "|Bottled beverages...|                  10|\n",
            "|           Brazilian|                   7|\n",
            "|    CafÃ©/Coffee/Tea|                   1|\n",
            "|     Café/Coffee/Tea|                 180|\n",
            "|           Caribbean|                  75|\n",
            "|             Chicken|                  32|\n",
            "|             Chinese|                 115|\n",
            "|       Chinese/Cuban|                   5|\n",
            "|    Chinese/Japanese|                   1|\n",
            "|         Continental|                   8|\n",
            "|               Czech|                   1|\n",
            "|        Delicatessen|                  78|\n",
            "|              Donuts|                  43|\n",
            "|    Eastern European|                   7|\n",
            "|            Egyptian|                   2|\n",
            "|             English|                   3|\n",
            "|           Ethiopian|                   3|\n",
            "|            Filipino|                   3|\n",
            "|              French|                  72|\n",
            "|              German|                   9|\n",
            "|               Greek|                  25|\n",
            "|          Hamburgers|                 159|\n",
            "|             Hotdogs|                   4|\n",
            "|Ice Cream, Gelato...|                  25|\n",
            "|              Indian|                  43|\n",
            "|          Indonesian|                   2|\n",
            "|               Irish|                  79|\n",
            "|             Italian|                 325|\n",
            "|            Japanese|                  80|\n",
            "|       Jewish/Kosher|                  60|\n",
            "|Juice, Smoothies,...|                  11|\n",
            "|              Korean|                  21|\n",
            "|Latin (Cuban, Dom...|                 115|\n",
            "|       Mediterranean|                  16|\n",
            "|             Mexican|                  73|\n",
            "|      Middle Eastern|                  11|\n",
            "|            Moroccan|                   1|\n",
            "|Not Listed/Not Ap...|                   1|\n",
            "|               Other|                   4|\n",
            "|           Pakistani|                   1|\n",
            "|    Pancakes/Waffles|                   7|\n",
            "|            Peruvian|                   2|\n",
            "|               Pizza|                 270|\n",
            "|       Pizza/Italian|                 106|\n",
            "|              Polish|                  10|\n",
            "|          Portuguese|                   2|\n",
            "|             Russian|                  13|\n",
            "|              Salads|                   1|\n",
            "|          Sandwiches|                  19|\n",
            "|Sandwiches/Salads...|                  19|\n",
            "|             Seafood|                  35|\n",
            "|           Soul Food|                   6|\n",
            "|  Soups & Sandwiches|                   8|\n",
            "|             Spanish|                  42|\n",
            "|               Steak|                  21|\n",
            "|               Tapas|                   4|\n",
            "|             Tex-Mex|                  13|\n",
            "|                Thai|                  14|\n",
            "|             Turkish|                  11|\n",
            "|          Vegetarian|                  10|\n",
            "|Vietnamese/Cambod...|                   4|\n",
            "+--------------------+--------------------+\n",
            "\n"
          ]
        }
      ]
    },
    {
      "cell_type": "code",
      "source": [
        "spark.sql(\"select borough ,count(restaurant_id) from restaurants where cuisine = 'Indian' group by borough\").show()\n"
      ],
      "metadata": {
        "colab": {
          "base_uri": "https://localhost:8080/"
        },
        "id": "XMUHdi6kfpr4",
        "outputId": "b50a4ade-36dc-4ccd-b8fe-1dde19529af9"
      },
      "execution_count": 13,
      "outputs": [
        {
          "output_type": "stream",
          "name": "stdout",
          "text": [
            "+-------------+--------------------+\n",
            "|      borough|count(restaurant_id)|\n",
            "+-------------+--------------------+\n",
            "|       Queens|                  14|\n",
            "|     Brooklyn|                   2|\n",
            "|Staten Island|                   1|\n",
            "|    Manhattan|                  26|\n",
            "+-------------+--------------------+\n",
            "\n"
          ]
        }
      ]
    },
    {
      "cell_type": "code",
      "source": [
        "spark.sql(\"select address.street ,count(restaurant_id) from restaurants where cuisine='Indian' group by address.street\").show()\n"
      ],
      "metadata": {
        "colab": {
          "base_uri": "https://localhost:8080/"
        },
        "id": "HO3glptrirub",
        "outputId": "183f7d3b-bac7-4ac5-ec7c-d23112211cfd"
      },
      "execution_count": 14,
      "outputs": [
        {
          "output_type": "stream",
          "name": "stdout",
          "text": [
            "+--------------------+--------------------+\n",
            "|              street|count(restaurant_id)|\n",
            "+--------------------+--------------------+\n",
            "|          Park Place|                   1|\n",
            "| Woodhaven Boulevard|                   1|\n",
            "|    Amsterdam Avenue|                   2|\n",
            "|       Nassau Street|                   1|\n",
            "|        Bowne Street|                   2|\n",
            "|       Austin Street|                   1|\n",
            "|           74 Street|                   2|\n",
            "|           37 Avenue|                   1|\n",
            "|    West   31 Street|                   1|\n",
            "|       East 6 Street|                   1|\n",
            "|Grand Central Ter...|                   1|\n",
            "|      West 46 Street|                   1|\n",
            "|   Parsons Boulevard|                   1|\n",
            "|       Prince Street|                   1|\n",
            "|      East 50 Street|                   1|\n",
            "|       - Jfk Airport|                   1|\n",
            "|    East    6 Street|                   2|\n",
            "|  Avenue Of Americas|                   1|\n",
            "|            Broadway|                   1|\n",
            "|           30 Avenue|                   1|\n",
            "+--------------------+--------------------+\n",
            "only showing top 20 rows\n",
            "\n"
          ]
        }
      ]
    },
    {
      "cell_type": "code",
      "source": [
        "spark.sql(\"select address.zipcode ,count(restaurant_id) from restaurants where cuisine='Indian' group by address.zipcode\").count()"
      ],
      "metadata": {
        "colab": {
          "base_uri": "https://localhost:8080/"
        },
        "id": "-5SZDtCgi83r",
        "outputId": "126ae39c-b085-4a50-ffed-91b40d0fd4a6"
      },
      "execution_count": 15,
      "outputs": [
        {
          "output_type": "execute_result",
          "data": {
            "text/plain": [
              "28"
            ]
          },
          "metadata": {},
          "execution_count": 15
        }
      ]
    },
    {
      "cell_type": "code",
      "source": [
        "spark.sql(\"select address.zipcode ,count(restaurant_id) from restaurants where cuisine='Indian' group by address.zipcode\").show(28)"
      ],
      "metadata": {
        "colab": {
          "base_uri": "https://localhost:8080/"
        },
        "id": "6dPez0E4jAcb",
        "outputId": "eacade47-3424-4b67-c67b-2cf70e2b3d54"
      },
      "execution_count": 16,
      "outputs": [
        {
          "output_type": "stream",
          "name": "stdout",
          "text": [
            "+-------+--------------------+\n",
            "|zipcode|count(restaurant_id)|\n",
            "+-------+--------------------+\n",
            "|  11106|                   1|\n",
            "|  10012|                   1|\n",
            "|  11367|                   1|\n",
            "|  11355|                   2|\n",
            "|  11004|                   1|\n",
            "|  10014|                   1|\n",
            "|  10001|                   1|\n",
            "|  10003|                   4|\n",
            "|  10023|                   2|\n",
            "|  10040|                   1|\n",
            "|  10022|                   2|\n",
            "|  11209|                   2|\n",
            "|  10065|                   1|\n",
            "|  11372|                   3|\n",
            "|  11430|                   1|\n",
            "|  11415|                   1|\n",
            "|  11432|                   2|\n",
            "|  10027|                   1|\n",
            "|  10036|                   2|\n",
            "|  11374|                   1|\n",
            "|  10025|                   1|\n",
            "|  10007|                   1|\n",
            "|  10019|                   1|\n",
            "|  11103|                   1|\n",
            "|  10005|                   2|\n",
            "|  10017|                   1|\n",
            "|  10306|                   1|\n",
            "|  10016|                   4|\n",
            "+-------+--------------------+\n",
            "\n"
          ]
        }
      ]
    },
    {
      "cell_type": "code",
      "source": [
        "spark.sql(\"select address.zipcode ,count(restaurant_id) from restaurants where cuisine='Indian' group by address.zipcode\").collect()"
      ],
      "metadata": {
        "colab": {
          "base_uri": "https://localhost:8080/"
        },
        "id": "7T00IbtKjEUX",
        "outputId": "cb3fc4e9-a472-4647-90aa-e1038e5507fa"
      },
      "execution_count": 17,
      "outputs": [
        {
          "output_type": "execute_result",
          "data": {
            "text/plain": [
              "[Row(zipcode='11106', count(restaurant_id)=1),\n",
              " Row(zipcode='10012', count(restaurant_id)=1),\n",
              " Row(zipcode='11367', count(restaurant_id)=1),\n",
              " Row(zipcode='11355', count(restaurant_id)=2),\n",
              " Row(zipcode='11004', count(restaurant_id)=1),\n",
              " Row(zipcode='10014', count(restaurant_id)=1),\n",
              " Row(zipcode='10001', count(restaurant_id)=1),\n",
              " Row(zipcode='10003', count(restaurant_id)=4),\n",
              " Row(zipcode='10023', count(restaurant_id)=2),\n",
              " Row(zipcode='10040', count(restaurant_id)=1),\n",
              " Row(zipcode='10022', count(restaurant_id)=2),\n",
              " Row(zipcode='11209', count(restaurant_id)=2),\n",
              " Row(zipcode='10065', count(restaurant_id)=1),\n",
              " Row(zipcode='11372', count(restaurant_id)=3),\n",
              " Row(zipcode='11430', count(restaurant_id)=1),\n",
              " Row(zipcode='11415', count(restaurant_id)=1),\n",
              " Row(zipcode='11432', count(restaurant_id)=2),\n",
              " Row(zipcode='10027', count(restaurant_id)=1),\n",
              " Row(zipcode='10036', count(restaurant_id)=2),\n",
              " Row(zipcode='11374', count(restaurant_id)=1),\n",
              " Row(zipcode='10025', count(restaurant_id)=1),\n",
              " Row(zipcode='10007', count(restaurant_id)=1),\n",
              " Row(zipcode='10019', count(restaurant_id)=1),\n",
              " Row(zipcode='11103', count(restaurant_id)=1),\n",
              " Row(zipcode='10005', count(restaurant_id)=2),\n",
              " Row(zipcode='10017', count(restaurant_id)=1),\n",
              " Row(zipcode='10306', count(restaurant_id)=1),\n",
              " Row(zipcode='10016', count(restaurant_id)=4)]"
            ]
          },
          "metadata": {},
          "execution_count": 17
        }
      ]
    },
    {
      "cell_type": "code",
      "source": [
        "# handling array"
      ],
      "metadata": {
        "id": "C0t9WYIUjayH"
      },
      "execution_count": 18,
      "outputs": []
    },
    {
      "cell_type": "code",
      "source": [
        "from pyspark.sql.functions import explode"
      ],
      "metadata": {
        "id": "zcU37LaSkLwq"
      },
      "execution_count": 19,
      "outputs": []
    },
    {
      "cell_type": "code",
      "source": [
        "df_arrayData = restaurants.select('restaurant_id', 'name', explode(restaurants.grades).alias('Grades'))"
      ],
      "metadata": {
        "id": "g-l0pccVkMnO"
      },
      "execution_count": 20,
      "outputs": []
    },
    {
      "cell_type": "code",
      "source": [
        "df2 = df_arrayData.select('restaurant_id', 'name', 'Grades.date', 'Grades.grade', 'Grades.score')"
      ],
      "metadata": {
        "id": "YoNprLHkkPWm"
      },
      "execution_count": 21,
      "outputs": []
    },
    {
      "cell_type": "code",
      "source": [
        "df2.count()"
      ],
      "metadata": {
        "colab": {
          "base_uri": "https://localhost:8080/"
        },
        "id": "8mXCNv_3kVC8",
        "outputId": "97fd110c-9db0-497c-a5a8-7cab9ea19136"
      },
      "execution_count": 22,
      "outputs": [
        {
          "output_type": "execute_result",
          "data": {
            "text/plain": [
              "18142"
            ]
          },
          "metadata": {},
          "execution_count": 22
        }
      ]
    },
    {
      "cell_type": "code",
      "source": [
        "\n",
        "df2.registerTempTable(\"grade\")"
      ],
      "metadata": {
        "id": "gKn-Sdmnkd6a"
      },
      "execution_count": 32,
      "outputs": []
    },
    {
      "cell_type": "code",
      "source": [
        "spark.sql(\"select restaurant_id, name, max(score) from grade group by restaurant_id, name\").show()\n"
      ],
      "metadata": {
        "colab": {
          "base_uri": "https://localhost:8080/"
        },
        "id": "ApUWrxaCkfhc",
        "outputId": "6eaf8bab-a8f0-4185-f8ad-65e17dfca5ce"
      },
      "execution_count": 35,
      "outputs": [
        {
          "output_type": "stream",
          "name": "stdout",
          "text": [
            "+-------------+--------------------+----------+\n",
            "|restaurant_id|                name|max(score)|\n",
            "+-------------+--------------------+----------+\n",
            "|     40363151|             Olive'S|        13|\n",
            "|     40363426|         Lexler Deli|        12|\n",
            "|     40365644|Joe Allen Restaurant|        13|\n",
            "|     40370519|         Divers Cove|        13|\n",
            "|     40373889|  Felidia Restaurant|        13|\n",
            "|     40375972|         Vegas Diner|        13|\n",
            "|     40390814|        Loui Seafood|        13|\n",
            "|     40391531|    Tea And Sympathy|        10|\n",
            "|     40402145|Bali Nusa Indones...|        25|\n",
            "|     40604740|     T.G.I. Friday'S|        18|\n",
            "|     40649463|La Boina Roja Ste...|        15|\n",
            "|     40698823|Union Cafe Restau...|        12|\n",
            "|     40852397|         Candies Bar|        25|\n",
            "|     40879245|Grand Hyatt New Y...|        40|\n",
            "|     40369017|            Palm Too|        12|\n",
            "|     40383799|        Jackson Hole|        14|\n",
            "|     40394957|       Tuscany Grill|        19|\n",
            "|     40397723|        White Castle|        13|\n",
            "|     40398910|         Joe'S Pizza|        30|\n",
            "|     40399285|Bangkok Grand Palace|        24|\n",
            "+-------------+--------------------+----------+\n",
            "only showing top 20 rows\n",
            "\n"
          ]
        }
      ]
    },
    {
      "cell_type": "code",
      "source": [
        "\n"
      ],
      "metadata": {
        "id": "6bs2-fKrkhrr"
      },
      "execution_count": 38,
      "outputs": []
    },
    {
      "cell_type": "code",
      "source": [],
      "metadata": {
        "id": "eL3EwxtBmwlq"
      },
      "execution_count": null,
      "outputs": []
    }
  ]
}