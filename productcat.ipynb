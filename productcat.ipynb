{
  "nbformat": 4,
  "nbformat_minor": 0,
  "metadata": {
    "colab": {
      "provenance": [],
      "authorship_tag": "ABX9TyNDZ5JeABKMBhFSQF+ZSGax",
      "include_colab_link": true
    },
    "kernelspec": {
      "name": "python3",
      "display_name": "Python 3"
    },
    "language_info": {
      "name": "python"
    }
  },
  "cells": [
    {
      "cell_type": "markdown",
      "metadata": {
        "id": "view-in-github",
        "colab_type": "text"
      },
      "source": [
        "<a href=\"https://colab.research.google.com/github/vishwaraj14/Pyhton/blob/main/productcat.ipynb\" target=\"_parent\"><img src=\"https://colab.research.google.com/assets/colab-badge.svg\" alt=\"Open In Colab\"/></a>"
      ]
    },
    {
      "cell_type": "code",
      "execution_count": 7,
      "metadata": {
        "id": "mTT7hK1JL_FP"
      },
      "outputs": [],
      "source": [
        "from pyspark.sql.types import StructType, StringType, IntegerType, DoubleType, LongType"
      ]
    },
    {
      "cell_type": "code",
      "source": [
        "from pyspark.sql import SparkSession  # for loading data schema"
      ],
      "metadata": {
        "id": "rFPPm5lDMZQr"
      },
      "execution_count": 8,
      "outputs": []
    },
    {
      "cell_type": "code",
      "source": [
        "spark = SparkSession.builder.appName('myAppName').getOrCreate()\n",
        "\n",
        "\n"
      ],
      "metadata": {
        "id": "siQvt_TMMfa5"
      },
      "execution_count": 9,
      "outputs": []
    },
    {
      "cell_type": "markdown",
      "source": [],
      "metadata": {
        "id": "4-q11KmmM802"
      }
    },
    {
      "cell_type": "code",
      "source": [
        "schematxn = StructType().add(\"txnid\",StringType(),True).add(\"txndate\",StringType(),True).add(\"custno\",IntegerType(),True).add(\"amt\",DoubleType(),True).add(\"category\",StringType(),True).add(\"product\",StringType(),True).add(\"city\",StringType(),True).add(\"state\",StringType(),True).add(\"spendby\",StringType(),True)"
      ],
      "metadata": {
        "id": "suXJbyQ2Mnre"
      },
      "execution_count": 10,
      "outputs": []
    },
    {
      "cell_type": "code",
      "source": [
        "df_with_schema = spark.read.format(\"csv\").option(\"header\",\"False\").schema(schematxn).load(\"/content/txns1.csv.txt\")"
      ],
      "metadata": {
        "id": "YHbrXelON1xr"
      },
      "execution_count": 12,
      "outputs": []
    },
    {
      "cell_type": "code",
      "source": [
        "df_with_schema.printSchema()"
      ],
      "metadata": {
        "colab": {
          "base_uri": "https://localhost:8080/"
        },
        "id": "1IccAApXPCqq",
        "outputId": "3d613090-6987-4bc5-a9ff-b067fe206017"
      },
      "execution_count": 13,
      "outputs": [
        {
          "output_type": "stream",
          "name": "stdout",
          "text": [
            "root\n",
            " |-- txnid: string (nullable = true)\n",
            " |-- txndate: string (nullable = true)\n",
            " |-- custno: integer (nullable = true)\n",
            " |-- amt: double (nullable = true)\n",
            " |-- category: string (nullable = true)\n",
            " |-- product: string (nullable = true)\n",
            " |-- city: string (nullable = true)\n",
            " |-- state: string (nullable = true)\n",
            " |-- spendby: string (nullable = true)\n",
            "\n"
          ]
        }
      ]
    },
    {
      "cell_type": "code",
      "source": [
        "df_with_schema.show(5)"
      ],
      "metadata": {
        "colab": {
          "base_uri": "https://localhost:8080/"
        },
        "id": "_mTKkawvQLkR",
        "outputId": "690332d9-8c29-45c4-e0da-aa6eca102a56"
      },
      "execution_count": 15,
      "outputs": [
        {
          "output_type": "stream",
          "name": "stdout",
          "text": [
            "+--------+----------+-------+------+------------------+--------------------+-----------+----------+-------+\n",
            "|   txnid|   txndate| custno|   amt|          category|             product|       city|     state|spendby|\n",
            "+--------+----------+-------+------+------------------+--------------------+-----------+----------+-------+\n",
            "|00000000|06-26-2011|4007024| 40.33|Exercise & Fitness|Cardio Machine Ac...|Clarksville| Tennessee| credit|\n",
            "|00000001|05-26-2011|4006742|198.44|Exercise & Fitness|Weightlifting Gloves| Long Beach|California| credit|\n",
            "|00000002|06-01-2011|4009775|  5.58|Exercise & Fitness|Weightlifting Mac...|    Anaheim|California| credit|\n",
            "|00000003|06-05-2011|4002199|198.19|        Gymnastics|    Gymnastics Rings|  Milwaukee| Wisconsin| credit|\n",
            "|00000004|12-17-2011|4002613| 98.81|       Team Sports|        Field Hockey|Nashville  | Tennessee| credit|\n",
            "+--------+----------+-------+------+------------------+--------------------+-----------+----------+-------+\n",
            "only showing top 5 rows\n",
            "\n"
          ]
        }
      ]
    },
    {
      "cell_type": "code",
      "source": [
        "df_with_schema.registerTempTable(\"txb\")\n"
      ],
      "metadata": {
        "colab": {
          "base_uri": "https://localhost:8080/"
        },
        "id": "YfY0UMbVQgCd",
        "outputId": "359530e1-01e2-427c-8b2c-76a576822952"
      },
      "execution_count": 16,
      "outputs": [
        {
          "output_type": "stream",
          "name": "stderr",
          "text": [
            "/usr/local/lib/python3.10/dist-packages/pyspark/sql/dataframe.py:329: FutureWarning: Deprecated in 2.0, use createOrReplaceTempView instead.\n",
            "  warnings.warn(\"Deprecated in 2.0, use createOrReplaceTempView instead.\", FutureWarning)\n"
          ]
        }
      ]
    },
    {
      "cell_type": "code",
      "source": [],
      "metadata": {
        "id": "HEz7ViceRV-k"
      },
      "execution_count": null,
      "outputs": []
    },
    {
      "cell_type": "code",
      "source": [],
      "metadata": {
        "id": "A-YwBCvwRyB3"
      },
      "execution_count": null,
      "outputs": []
    },
    {
      "cell_type": "code",
      "source": [
        "df_StockVol = spark.sql(\"select custno ,round(sum(amt),2) as total_amt,dense_rank() over(  order by sum(amt) desc) as rank from txb group by custno order by rank limit 5\")"
      ],
      "metadata": {
        "id": "LsZfHjhOQOUy"
      },
      "execution_count": 26,
      "outputs": []
    },
    {
      "cell_type": "code",
      "source": [
        "df_StockVol.show()"
      ],
      "metadata": {
        "colab": {
          "base_uri": "https://localhost:8080/"
        },
        "id": "m0uJY0K8RDZP",
        "outputId": "ebd4b14a-cb43-4e56-d124-00658b36a288"
      },
      "execution_count": 27,
      "outputs": [
        {
          "output_type": "stream",
          "name": "stdout",
          "text": [
            "+-------+---------+----+\n",
            "| custno|total_amt|rank|\n",
            "+-------+---------+----+\n",
            "|4009485|   1973.3|   1|\n",
            "|4006425|  1732.09|   2|\n",
            "|4000221|  1671.47|   3|\n",
            "|4003228|  1640.63|   4|\n",
            "|4006606|  1628.94|   5|\n",
            "+-------+---------+----+\n",
            "\n"
          ]
        }
      ]
    }
  ]
}