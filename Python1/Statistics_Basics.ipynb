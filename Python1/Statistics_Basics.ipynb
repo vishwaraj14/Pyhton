{
 "cells": [
  {
   "cell_type": "code",
   "execution_count": 374,
   "id": "920abe0b-5a12-4108-a572-b24b257c95cc",
   "metadata": {},
   "outputs": [],
   "source": [
    "import pandas as pd\n",
    "import numpy as np\n",
    "from  numpy import random"
   ]
  },
  {
   "cell_type": "code",
   "execution_count": 44,
   "id": "8aaf4fe6-c95c-4999-a679-fd6be7f5a4b6",
   "metadata": {},
   "outputs": [],
   "source": [
    "grades = np.repeat(['A','B','C','D'],[10,5,7,3])"
   ]
  },
  {
   "cell_type": "code",
   "execution_count": 46,
   "id": "329cb583-135b-41f8-b78d-3c42d6fc745a",
   "metadata": {},
   "outputs": [
    {
     "data": {
      "text/plain": [
       "array(['A', 'A', 'A', 'A', 'A', 'A', 'A', 'A', 'A', 'A', 'B', 'B', 'B',\n",
       "       'B', 'B', 'C', 'C', 'C', 'C', 'C', 'C', 'C', 'D', 'D', 'D'],\n",
       "      dtype='<U1')"
      ]
     },
     "execution_count": 46,
     "metadata": {},
     "output_type": "execute_result"
    }
   ],
   "source": [
    "grades"
   ]
  },
  {
   "cell_type": "code",
   "execution_count": 48,
   "id": "7ed67885-58f6-46ff-9d87-e67942e1384f",
   "metadata": {},
   "outputs": [],
   "source": [
    "np.random.shuffle(grades)"
   ]
  },
  {
   "cell_type": "code",
   "execution_count": 14,
   "id": "ac51be67-727b-4afb-96b2-ad15ea8b9b78",
   "metadata": {},
   "outputs": [
    {
     "data": {
      "text/plain": [
       "array(['D', 'A', 'A', 'B', 'C', 'C', 'C', 'A', 'B', 'A', 'A', 'B', 'A',\n",
       "       'D', 'C', 'D', 'A', 'B', 'A', 'C', 'C', 'A', 'C', 'B', 'A'],\n",
       "      dtype='<U1')"
      ]
     },
     "execution_count": 14,
     "metadata": {},
     "output_type": "execute_result"
    }
   ],
   "source": [
    "grades"
   ]
  },
  {
   "cell_type": "code",
   "execution_count": 16,
   "id": "e6ac7a6b-5621-4575-9e0e-1f6c6713c45d",
   "metadata": {},
   "outputs": [
    {
     "data": {
      "text/plain": [
       "25"
      ]
     },
     "execution_count": 16,
     "metadata": {},
     "output_type": "execute_result"
    }
   ],
   "source": [
    "len(grades)"
   ]
  },
  {
   "cell_type": "code",
   "execution_count": 18,
   "id": "bec9884a-497c-42d6-92fe-b183bdcc6ea7",
   "metadata": {},
   "outputs": [
    {
     "data": {
      "text/plain": [
       "(array(['A', 'B', 'C', 'D'], dtype='<U1'),\n",
       " array([10,  5,  7,  3], dtype=int64))"
      ]
     },
     "execution_count": 18,
     "metadata": {},
     "output_type": "execute_result"
    }
   ],
   "source": [
    "np.unique(grades,return_counts=True)\n"
   ]
  },
  {
   "cell_type": "code",
   "execution_count": 20,
   "id": "7dedba00-d355-4aff-89b7-6eff604acf86",
   "metadata": {},
   "outputs": [
    {
     "name": "stderr",
     "output_type": "stream",
     "text": [
      "C:\\Users\\Vishwaraj\\AppData\\Local\\Temp\\ipykernel_14420\\2947840055.py:1: FutureWarning: pandas.value_counts is deprecated and will be removed in a future version. Use pd.Series(obj).value_counts() instead.\n",
      "  pd.value_counts(grades)\n",
      "C:\\Users\\Vishwaraj\\AppData\\Local\\Temp\\ipykernel_14420\\2947840055.py:1: FutureWarning: The behavior of value_counts with object-dtype is deprecated. In a future version, this will *not* perform dtype inference on the resulting index. To retain the old behavior, use `result.index = result.index.infer_objects()`\n",
      "  pd.value_counts(grades)\n"
     ]
    },
    {
     "data": {
      "text/plain": [
       "A    10\n",
       "C     7\n",
       "B     5\n",
       "D     3\n",
       "Name: count, dtype: int64"
      ]
     },
     "execution_count": 20,
     "metadata": {},
     "output_type": "execute_result"
    }
   ],
   "source": [
    "pd.value_counts(grades)"
   ]
  },
  {
   "cell_type": "code",
   "execution_count": 22,
   "id": "120027db-d967-464c-a3de-8fc000ae63c2",
   "metadata": {},
   "outputs": [],
   "source": [
    "grades_count=np.unique(grades,return_counts=True)\n"
   ]
  },
  {
   "cell_type": "code",
   "execution_count": 24,
   "id": "1d26e9d6-916a-47ca-87d4-7fe28495b92d",
   "metadata": {},
   "outputs": [
    {
     "data": {
      "text/plain": [
       "array(['A', 'B', 'C', 'D'], dtype='<U1')"
      ]
     },
     "execution_count": 24,
     "metadata": {},
     "output_type": "execute_result"
    }
   ],
   "source": [
    "grades_count[0]"
   ]
  },
  {
   "cell_type": "code",
   "execution_count": 26,
   "id": "84dcf4b0-38e0-4e44-b5f5-ef9073a4d7c9",
   "metadata": {},
   "outputs": [
    {
     "data": {
      "text/plain": [
       "array([10,  5,  7,  3], dtype=int64)"
      ]
     },
     "execution_count": 26,
     "metadata": {},
     "output_type": "execute_result"
    }
   ],
   "source": [
    "grades_count[1]"
   ]
  },
  {
   "cell_type": "code",
   "execution_count": 28,
   "id": "ba183240-1725-4742-ade1-7ceb35db6067",
   "metadata": {},
   "outputs": [],
   "source": [
    "grades_proportion=grades_count[1]/len(grades)"
   ]
  },
  {
   "cell_type": "code",
   "execution_count": 30,
   "id": "7cbddd9c-a51f-430f-99e2-33148ca734e9",
   "metadata": {},
   "outputs": [
    {
     "data": {
      "text/plain": [
       "array([0.4 , 0.2 , 0.28, 0.12])"
      ]
     },
     "execution_count": 30,
     "metadata": {},
     "output_type": "execute_result"
    }
   ],
   "source": [
    "grades_proportion"
   ]
  },
  {
   "cell_type": "code",
   "execution_count": 32,
   "id": "29c89509-efc8-45bc-b274-639dcda716c3",
   "metadata": {},
   "outputs": [],
   "source": [
    "# how many got grade A and B"
   ]
  },
  {
   "cell_type": "code",
   "execution_count": 34,
   "id": "490981fd-63bb-4291-bb95-523f23049bd4",
   "metadata": {},
   "outputs": [
    {
     "data": {
      "text/plain": [
       "array([0.4 , 0.6 , 0.88, 1.  ])"
      ]
     },
     "execution_count": 34,
     "metadata": {},
     "output_type": "execute_result"
    }
   ],
   "source": [
    "np.cumsum(grades_proportion)"
   ]
  },
  {
   "cell_type": "code",
   "execution_count": 36,
   "id": "0999a69d-0635-4d0f-a58a-0093a322adf2",
   "metadata": {},
   "outputs": [],
   "source": [
    "grade_percent=grades_proportion*100"
   ]
  },
  {
   "cell_type": "code",
   "execution_count": 38,
   "id": "d55c0213-3e12-4602-bbeb-fb27d3ceadb8",
   "metadata": {},
   "outputs": [
    {
     "data": {
      "text/plain": [
       "array([0.4, 0.2, 0.3, 0.1])"
      ]
     },
     "execution_count": 38,
     "metadata": {},
     "output_type": "execute_result"
    }
   ],
   "source": [
    "np.round(grades_proportion,1)"
   ]
  },
  {
   "cell_type": "code",
   "execution_count": 40,
   "id": "0af690b2-0ddc-4cd7-9c95-7ed2257af118",
   "metadata": {},
   "outputs": [
    {
     "data": {
      "text/plain": [
       "[0.12, 0.2, 0.28, 0.4]"
      ]
     },
     "execution_count": 40,
     "metadata": {},
     "output_type": "execute_result"
    }
   ],
   "source": [
    "sorted(grades_proportion)"
   ]
  },
  {
   "cell_type": "code",
   "execution_count": 42,
   "id": "f7a707cb-22f7-4f89-b60a-342653233546",
   "metadata": {},
   "outputs": [
    {
     "data": {
      "text/plain": [
       "[0.4, 0.28, 0.2, 0.12]"
      ]
     },
     "execution_count": 42,
     "metadata": {},
     "output_type": "execute_result"
    }
   ],
   "source": [
    "sorted(grades_proportion,reverse=True)"
   ]
  },
  {
   "cell_type": "code",
   "execution_count": 44,
   "id": "00555912-de92-4d5a-bcd1-e97beddc3302",
   "metadata": {},
   "outputs": [
    {
     "data": {
      "text/plain": [
       "(array(['A', 'B', 'C', 'D'], dtype='<U1'),\n",
       " array([10,  5,  7,  3], dtype=int64))"
      ]
     },
     "execution_count": 44,
     "metadata": {},
     "output_type": "execute_result"
    }
   ],
   "source": [
    "grades_count"
   ]
  },
  {
   "cell_type": "code",
   "execution_count": 46,
   "id": "bbc21565-e3e5-42f1-9e04-ca881a92d6f1",
   "metadata": {},
   "outputs": [
    {
     "data": {
      "text/plain": [
       "array([3, 1, 2, 0], dtype=int64)"
      ]
     },
     "execution_count": 46,
     "metadata": {},
     "output_type": "execute_result"
    }
   ],
   "source": [
    "np.argsort(grades_count[1]) # increasing order of least number  by giving index of number"
   ]
  },
  {
   "cell_type": "code",
   "execution_count": 48,
   "id": "0f488ab4-3dde-4dc5-b9fa-8ed0c0904a6e",
   "metadata": {},
   "outputs": [],
   "source": [
    " ## ## mean vs medain\n",
    "# mean is only calculted when data is symmetric and does not have extreme values specially on one side"
   ]
  },
  {
   "cell_type": "code",
   "execution_count": 50,
   "id": "631f12c8-c12f-4c17-8a5b-75abea85bc34",
   "metadata": {},
   "outputs": [],
   "source": [
    "sal=[6,7,6,7,6,7,6,7,6,7,6,7,6,7,6,7,6,7,6,7,6,7]"
   ]
  },
  {
   "cell_type": "code",
   "execution_count": 52,
   "id": "12316ceb-d55c-4959-ac35-863d0ab434a8",
   "metadata": {},
   "outputs": [
    {
     "data": {
      "text/plain": [
       "6.5"
      ]
     },
     "execution_count": 52,
     "metadata": {},
     "output_type": "execute_result"
    }
   ],
   "source": [
    "sum(sal)/len(sal)"
   ]
  },
  {
   "cell_type": "code",
   "execution_count": 54,
   "id": "d3049638-f10f-4641-b352-ac4bec922ce3",
   "metadata": {},
   "outputs": [],
   "source": [
    "new_sal=[6,7,6,7,6,7,6,7,6,7,6,7,6,7,6,7,6,7,6,7,6,7,67,65,65,64]"
   ]
  },
  {
   "cell_type": "code",
   "execution_count": 56,
   "id": "9a9171a2-4f50-4ce6-a3b2-d000216184b6",
   "metadata": {},
   "outputs": [
    {
     "data": {
      "text/plain": [
       "15.538461538461538"
      ]
     },
     "execution_count": 56,
     "metadata": {},
     "output_type": "execute_result"
    }
   ],
   "source": [
    "sum(new_sal)/len(new_sal)"
   ]
  },
  {
   "cell_type": "code",
   "execution_count": 58,
   "id": "70e728dc-4786-4720-92d8-d253847bc4ca",
   "metadata": {},
   "outputs": [
    {
     "data": {
      "text/plain": [
       "6.5"
      ]
     },
     "execution_count": 58,
     "metadata": {},
     "output_type": "execute_result"
    }
   ],
   "source": [
    "np.median(sal)"
   ]
  },
  {
   "cell_type": "code",
   "execution_count": 60,
   "id": "058b9e50-2d9f-4c1e-a859-5f24d6f1e714",
   "metadata": {},
   "outputs": [
    {
     "data": {
      "text/plain": [
       "7.0"
      ]
     },
     "execution_count": 60,
     "metadata": {},
     "output_type": "execute_result"
    }
   ],
   "source": [
    "np.median(new_sal) "
   ]
  },
  {
   "cell_type": "code",
   "execution_count": 13,
   "id": "a3e65fd3-73b0-4a17-8e03-9df0360e7a9d",
   "metadata": {},
   "outputs": [],
   "source": [
    "import os"
   ]
  },
  {
   "cell_type": "code",
   "execution_count": 19,
   "id": "fd0afb31-9e50-4d6b-a6de-c09a478d59eb",
   "metadata": {},
   "outputs": [
    {
     "data": {
      "text/plain": [
       "'C:\\\\Users\\\\Vishwaraj\\\\Statistics'"
      ]
     },
     "execution_count": 19,
     "metadata": {},
     "output_type": "execute_result"
    }
   ],
   "source": [
    "os.getcwd()"
   ]
  },
  {
   "cell_type": "code",
   "execution_count": 23,
   "id": "747190ee-63ac-4b63-bab9-82de7c17985e",
   "metadata": {},
   "outputs": [],
   "source": [
    "# os.chdir(r'C:\\\\Users\\\\Vishwaraj\\\\Desktop') \"C:\\Users\\Vishwaraj\\OneDrive\\Desktop\\CDAC_DataBook.xlsx\""
   ]
  },
  {
   "cell_type": "code",
   "execution_count": 50,
   "id": "7492d7be-3305-4f66-bd47-07636eaebb68",
   "metadata": {},
   "outputs": [],
   "source": [
    "data = pd.read_excel(r\"C:\\Users\\Vishwaraj\\OneDrive\\Desktop\\CDAC_DataBook.xlsx\", sheet_name='faithful',)\n"
   ]
  },
  {
   "cell_type": "code",
   "execution_count": null,
   "id": "3fae6305-a186-4146-b509-5220db99f04f",
   "metadata": {},
   "outputs": [],
   "source": []
  },
  {
   "cell_type": "code",
   "execution_count": null,
   "id": "fc834253-5668-4da5-8924-e1f70ad92fb6",
   "metadata": {},
   "outputs": [],
   "source": []
  },
  {
   "cell_type": "code",
   "execution_count": 61,
   "id": "afde5d37-e025-4a0e-bcb2-6dafa2b1baa8",
   "metadata": {
    "scrolled": true
   },
   "outputs": [
    {
     "data": {
      "text/html": [
       "<div>\n",
       "<style scoped>\n",
       "    .dataframe tbody tr th:only-of-type {\n",
       "        vertical-align: middle;\n",
       "    }\n",
       "\n",
       "    .dataframe tbody tr th {\n",
       "        vertical-align: top;\n",
       "    }\n",
       "\n",
       "    .dataframe thead th {\n",
       "        text-align: right;\n",
       "    }\n",
       "</style>\n",
       "<table border=\"1\" class=\"dataframe\">\n",
       "  <thead>\n",
       "    <tr style=\"text-align: right;\">\n",
       "      <th></th>\n",
       "      <th>eruptions</th>\n",
       "      <th>waiting</th>\n",
       "    </tr>\n",
       "  </thead>\n",
       "  <tbody>\n",
       "    <tr>\n",
       "      <th>0</th>\n",
       "      <td>3.600</td>\n",
       "      <td>79</td>\n",
       "    </tr>\n",
       "    <tr>\n",
       "      <th>1</th>\n",
       "      <td>1.800</td>\n",
       "      <td>54</td>\n",
       "    </tr>\n",
       "    <tr>\n",
       "      <th>2</th>\n",
       "      <td>3.333</td>\n",
       "      <td>74</td>\n",
       "    </tr>\n",
       "    <tr>\n",
       "      <th>3</th>\n",
       "      <td>2.283</td>\n",
       "      <td>62</td>\n",
       "    </tr>\n",
       "    <tr>\n",
       "      <th>4</th>\n",
       "      <td>4.533</td>\n",
       "      <td>85</td>\n",
       "    </tr>\n",
       "  </tbody>\n",
       "</table>\n",
       "</div>"
      ],
      "text/plain": [
       "   eruptions  waiting\n",
       "0      3.600       79\n",
       "1      1.800       54\n",
       "2      3.333       74\n",
       "3      2.283       62\n",
       "4      4.533       85"
      ]
     },
     "execution_count": 61,
     "metadata": {},
     "output_type": "execute_result"
    }
   ],
   "source": [
    "data.head()"
   ]
  },
  {
   "cell_type": "code",
   "execution_count": 65,
   "id": "9582e817-091b-4326-a405-957cd0dda7a0",
   "metadata": {},
   "outputs": [],
   "source": [
    "erupt = data.eruptions"
   ]
  },
  {
   "cell_type": "code",
   "execution_count": 67,
   "id": "55824f99-a0cf-4e34-818d-8c599e942077",
   "metadata": {},
   "outputs": [
    {
     "data": {
      "text/plain": [
       "272"
      ]
     },
     "execution_count": 67,
     "metadata": {},
     "output_type": "execute_result"
    }
   ],
   "source": [
    "len(erupt)"
   ]
  },
  {
   "cell_type": "code",
   "execution_count": 69,
   "id": "d1bd5c19-2a23-4e20-972d-ba1b56288338",
   "metadata": {},
   "outputs": [
    {
     "data": {
      "text/plain": [
       "3.4877830882352936"
      ]
     },
     "execution_count": 69,
     "metadata": {},
     "output_type": "execute_result"
    }
   ],
   "source": [
    "np.mean(erupt)"
   ]
  },
  {
   "cell_type": "code",
   "execution_count": 71,
   "id": "eed838a4-11e9-40eb-b707-4405613fac97",
   "metadata": {},
   "outputs": [
    {
     "data": {
      "text/plain": [
       "3.487783088235294"
      ]
     },
     "execution_count": 71,
     "metadata": {},
     "output_type": "execute_result"
    }
   ],
   "source": [
    "sum(erupt)/len(erupt)"
   ]
  },
  {
   "cell_type": "code",
   "execution_count": 73,
   "id": "bf8c3dc3-426f-4798-b993-8c64dad71267",
   "metadata": {},
   "outputs": [
    {
     "data": {
      "text/plain": [
       "<function median at 0x0000021B61101230>"
      ]
     },
     "execution_count": 73,
     "metadata": {},
     "output_type": "execute_result"
    }
   ],
   "source": [
    "np.median"
   ]
  },
  {
   "cell_type": "code",
   "execution_count": 75,
   "id": "f1547a8a-1f19-47df-a807-32981aa54e5b",
   "metadata": {},
   "outputs": [
    {
     "data": {
      "text/plain": [
       "4.0"
      ]
     },
     "execution_count": 75,
     "metadata": {},
     "output_type": "execute_result"
    }
   ],
   "source": [
    "np.median(erupt)"
   ]
  },
  {
   "cell_type": "code",
   "execution_count": 77,
   "id": "48b19705-2b9e-4b97-8777-d43a120ad153",
   "metadata": {},
   "outputs": [],
   "source": [
    "erupt_asc = np.sort(erupt)  # chote se basa"
   ]
  },
  {
   "cell_type": "code",
   "execution_count": 79,
   "id": "6f31d5b3-4a0d-4298-8c3f-aa56b93fd391",
   "metadata": {},
   "outputs": [
    {
     "data": {
      "text/plain": [
       "array([1.6  , 1.667, 1.7  , 1.733, 1.75 , 1.75 , 1.75 , 1.75 , 1.75 ,\n",
       "       1.75 , 1.783, 1.783, 1.8  , 1.8  , 1.8  , 1.8  , 1.817, 1.817,\n",
       "       1.817, 1.833, 1.833, 1.833, 1.833, 1.833, 1.833, 1.833, 1.85 ,\n",
       "       1.85 , 1.867, 1.867, 1.867, 1.867, 1.867, 1.867, 1.867, 1.867,\n",
       "       1.883, 1.883, 1.883, 1.883, 1.917, 1.917, 1.933, 1.933, 1.95 ,\n",
       "       1.967, 1.967, 1.967, 1.983, 1.983, 1.983, 2.   , 2.   , 2.   ,\n",
       "       2.   , 2.017, 2.017, 2.017, 2.033, 2.033, 2.067, 2.083, 2.083,\n",
       "       2.1  , 2.1  , 2.1  , 2.133, 2.15 , 2.167, 2.167, 2.183, 2.2  ,\n",
       "       2.2  , 2.2  , 2.217, 2.233, 2.233, 2.25 , 2.25 , 2.267, 2.283,\n",
       "       2.3  , 2.317, 2.333, 2.35 , 2.367, 2.383, 2.4  , 2.4  , 2.417,\n",
       "       2.417, 2.483, 2.617, 2.633, 2.8  , 2.883, 2.9  , 3.067, 3.317,\n",
       "       3.333, 3.333, 3.367, 3.417, 3.45 , 3.5  , 3.5  , 3.567, 3.567,\n",
       "       3.6  , 3.6  , 3.6  , 3.6  , 3.683, 3.717, 3.733, 3.75 , 3.767,\n",
       "       3.767, 3.817, 3.833, 3.833, 3.833, 3.833, 3.833, 3.85 , 3.85 ,\n",
       "       3.883, 3.917, 3.917, 3.917, 3.95 , 3.95 , 3.966, 3.967, 4.   ,\n",
       "       4.   , 4.   , 4.   , 4.   , 4.   , 4.033, 4.033, 4.05 , 4.067,\n",
       "       4.067, 4.083, 4.083, 4.083, 4.083, 4.083, 4.1  , 4.1  , 4.117,\n",
       "       4.117, 4.133, 4.133, 4.15 , 4.15 , 4.15 , 4.15 , 4.167, 4.167,\n",
       "       4.167, 4.167, 4.183, 4.2  , 4.233, 4.233, 4.233, 4.25 , 4.25 ,\n",
       "       4.25 , 4.25 , 4.267, 4.267, 4.283, 4.283, 4.3  , 4.3  , 4.317,\n",
       "       4.333, 4.333, 4.333, 4.333, 4.333, 4.35 , 4.35 , 4.35 , 4.35 ,\n",
       "       4.366, 4.367, 4.367, 4.367, 4.383, 4.4  , 4.417, 4.417, 4.417,\n",
       "       4.417, 4.433, 4.433, 4.45 , 4.45 , 4.45 , 4.467, 4.467, 4.483,\n",
       "       4.5  , 4.5  , 4.5  , 4.5  , 4.5  , 4.5  , 4.5  , 4.5  , 4.517,\n",
       "       4.533, 4.533, 4.533, 4.533, 4.533, 4.55 , 4.567, 4.567, 4.567,\n",
       "       4.583, 4.583, 4.583, 4.583, 4.6  , 4.6  , 4.6  , 4.6  , 4.617,\n",
       "       4.633, 4.633, 4.633, 4.65 , 4.667, 4.667, 4.7  , 4.7  , 4.7  ,\n",
       "       4.7  , 4.7  , 4.7  , 4.716, 4.733, 4.75 , 4.767, 4.783, 4.8  ,\n",
       "       4.8  , 4.8  , 4.8  , 4.8  , 4.8  , 4.817, 4.817, 4.833, 4.833,\n",
       "       4.85 , 4.883, 4.9  , 4.9  , 4.933, 4.933, 4.933, 5.   , 5.033,\n",
       "       5.067, 5.1  ])"
      ]
     },
     "execution_count": 79,
     "metadata": {},
     "output_type": "execute_result"
    }
   ],
   "source": [
    "erupt_asc"
   ]
  },
  {
   "cell_type": "code",
   "execution_count": 81,
   "id": "cf36fc38-4807-48e6-b745-fd3b3d9fe57d",
   "metadata": {},
   "outputs": [
    {
     "data": {
      "text/plain": [
       "4.0"
      ]
     },
     "execution_count": 81,
     "metadata": {},
     "output_type": "execute_result"
    }
   ],
   "source": [
    "erupt_asc[135] # 136 value"
   ]
  },
  {
   "cell_type": "code",
   "execution_count": 83,
   "id": "60cb0a11-b589-4752-b055-b067538fb612",
   "metadata": {},
   "outputs": [
    {
     "data": {
      "text/plain": [
       "4.0"
      ]
     },
     "execution_count": 83,
     "metadata": {},
     "output_type": "execute_result"
    }
   ],
   "source": [
    "erupt_asc[136] # 137th value"
   ]
  },
  {
   "cell_type": "code",
   "execution_count": 85,
   "id": "aa18bbe0-7086-4f14-9fc4-6621d09959a1",
   "metadata": {},
   "outputs": [
    {
     "data": {
      "text/plain": [
       "4.0"
      ]
     },
     "execution_count": 85,
     "metadata": {},
     "output_type": "execute_result"
    }
   ],
   "source": [
    "np.median(erupt)"
   ]
  },
  {
   "cell_type": "code",
   "execution_count": 87,
   "id": "c45db1dc-3f07-4510-8aef-fe5385a11ade",
   "metadata": {},
   "outputs": [],
   "source": [
    "num =np.array([4,5,6,7,8,9])"
   ]
  },
  {
   "cell_type": "code",
   "execution_count": 89,
   "id": "ba59e95e-e3ef-4e46-8020-93f1eea2a3f4",
   "metadata": {},
   "outputs": [],
   "source": [
    "freq=np.array([20,35,42,38,17,10])"
   ]
  },
  {
   "cell_type": "code",
   "execution_count": 91,
   "id": "6f599c44-a3e4-4943-bb6f-be5e99702530",
   "metadata": {},
   "outputs": [
    {
     "data": {
      "text/plain": [
       "array([ 80, 175, 252, 266, 136,  90])"
      ]
     },
     "execution_count": 91,
     "metadata": {},
     "output_type": "execute_result"
    }
   ],
   "source": [
    "num* freq"
   ]
  },
  {
   "cell_type": "code",
   "execution_count": 93,
   "id": "571a3b18-449a-4cac-b922-552e965f1761",
   "metadata": {},
   "outputs": [
    {
     "data": {
      "text/plain": [
       "6.166666666666667"
      ]
     },
     "execution_count": 93,
     "metadata": {},
     "output_type": "execute_result"
    }
   ],
   "source": [
    "sum(num*freq)/sum(freq)"
   ]
  },
  {
   "cell_type": "code",
   "execution_count": 95,
   "id": "8515fe24-ed8d-421d-b12e-4d5496c8220b",
   "metadata": {},
   "outputs": [],
   "source": [
    "r1=np.repeat(np.array([4,5,6,7,8,9]),[20,35,42,38,17,10])"
   ]
  },
  {
   "cell_type": "code",
   "execution_count": 97,
   "id": "2374fa37-d204-4879-889c-ccfc86cf6a85",
   "metadata": {},
   "outputs": [
    {
     "data": {
      "text/plain": [
       "6.166666666666667"
      ]
     },
     "execution_count": 97,
     "metadata": {},
     "output_type": "execute_result"
    }
   ],
   "source": [
    "np.mean(r1)"
   ]
  },
  {
   "cell_type": "code",
   "execution_count": 99,
   "id": "c835059f-fe1c-47ba-ab67-0804608f38e7",
   "metadata": {},
   "outputs": [
    {
     "name": "stdout",
     "output_type": "stream",
     "text": [
      "Mode is: 3\n"
     ]
    }
   ],
   "source": [
    "from statistics import mode\n",
    "print(\"Mode is:\",mode([1, 1, 2, 3, 3, 3, 3, 4]))"
   ]
  },
  {
   "cell_type": "code",
   "execution_count": 101,
   "id": "b80e8326-097c-47fd-a8ff-622bea4545fd",
   "metadata": {},
   "outputs": [
    {
     "data": {
      "text/plain": [
       "0      3.600\n",
       "1      1.800\n",
       "2      3.333\n",
       "3      2.283\n",
       "4      4.533\n",
       "       ...  \n",
       "267    4.117\n",
       "268    2.150\n",
       "269    4.417\n",
       "270    1.817\n",
       "271    4.467\n",
       "Name: eruptions, Length: 272, dtype: float64"
      ]
     },
     "execution_count": 101,
     "metadata": {},
     "output_type": "execute_result"
    }
   ],
   "source": [
    "erupt"
   ]
  },
  {
   "cell_type": "code",
   "execution_count": 103,
   "id": "4e069fe7-9e11-4a19-b3ad-def70eec57fd",
   "metadata": {},
   "outputs": [],
   "source": [
    "from collections import Counter"
   ]
  },
  {
   "cell_type": "code",
   "execution_count": 105,
   "id": "c33bb704-fba4-4d18-abe0-cbf9678e411f",
   "metadata": {},
   "outputs": [],
   "source": [
    "cts = Counter(erupt)"
   ]
  },
  {
   "cell_type": "code",
   "execution_count": 107,
   "id": "f8c902ae-745b-4675-b6a8-fac42c98991e",
   "metadata": {},
   "outputs": [
    {
     "data": {
      "text/plain": [
       "[(1.867, 8),\n",
       " (4.5, 8),\n",
       " (1.833, 7),\n",
       " (4.7, 6),\n",
       " (1.75, 6),\n",
       " (4.8, 6),\n",
       " (4.0, 6),\n",
       " (4.533, 5),\n",
       " (4.083, 5),\n",
       " (3.833, 5),\n",
       " (4.333, 5),\n",
       " (3.6, 4),\n",
       " (1.8, 4),\n",
       " (4.35, 4),\n",
       " (4.25, 4),\n",
       " (1.883, 4),\n",
       " (2.0, 4),\n",
       " (4.167, 4),\n",
       " (4.417, 4),\n",
       " (4.6, 4),\n",
       " (4.15, 4),\n",
       " (4.583, 4),\n",
       " (3.917, 3),\n",
       " (1.967, 3),\n",
       " (2.017, 3),\n",
       " (4.567, 3),\n",
       " (2.1, 3),\n",
       " (4.633, 3),\n",
       " (1.817, 3),\n",
       " (1.983, 3),\n",
       " (4.933, 3),\n",
       " (2.2, 3),\n",
       " (4.367, 3),\n",
       " (4.233, 3),\n",
       " (4.45, 3),\n",
       " (3.333, 2),\n",
       " (2.167, 2),\n",
       " (3.85, 2),\n",
       " (4.433, 2),\n",
       " (4.3, 2),\n",
       " (4.467, 2),\n",
       " (4.033, 2),\n",
       " (4.833, 2),\n",
       " (2.233, 2),\n",
       " (4.133, 2),\n",
       " (4.1, 2),\n",
       " (4.067, 2),\n",
       " (3.95, 2),\n",
       " (4.817, 2),\n",
       " (4.667, 2),\n",
       " (4.9, 2),\n",
       " (1.783, 2),\n",
       " (3.767, 2),\n",
       " (1.917, 2),\n",
       " (2.033, 2),\n",
       " (2.4, 2),\n",
       " (3.567, 2),\n",
       " (3.5, 2),\n",
       " (1.933, 2),\n",
       " (2.083, 2),\n",
       " (2.417, 2),\n",
       " (2.25, 2),\n",
       " (4.267, 2),\n",
       " (4.117, 2),\n",
       " (1.85, 2),\n",
       " (4.283, 2),\n",
       " (2.283, 1),\n",
       " (2.883, 1),\n",
       " (1.95, 1),\n",
       " (4.2, 1),\n",
       " (1.6, 1),\n",
       " (3.45, 1),\n",
       " (3.067, 1),\n",
       " (3.367, 1),\n",
       " (4.783, 1),\n",
       " (3.317, 1),\n",
       " (4.716, 1),\n",
       " (1.733, 1),\n",
       " (4.883, 1),\n",
       " (3.717, 1),\n",
       " (1.667, 1),\n",
       " (4.317, 1),\n",
       " (4.4, 1),\n",
       " (2.067, 1),\n",
       " (5.067, 1),\n",
       " (3.883, 1),\n",
       " (2.633, 1),\n",
       " (4.517, 1),\n",
       " (3.75, 1),\n",
       " (2.483, 1),\n",
       " (4.05, 1),\n",
       " (4.85, 1),\n",
       " (3.683, 1),\n",
       " (4.733, 1),\n",
       " (2.3, 1),\n",
       " (1.7, 1),\n",
       " (2.317, 1),\n",
       " (2.617, 1),\n",
       " (2.267, 1),\n",
       " (4.65, 1),\n",
       " (2.8, 1),\n",
       " (4.383, 1),\n",
       " (3.733, 1),\n",
       " (5.1, 1),\n",
       " (5.033, 1),\n",
       " (3.967, 1),\n",
       " (2.367, 1),\n",
       " (5.0, 1),\n",
       " (4.617, 1),\n",
       " (2.183, 1),\n",
       " (3.966, 1),\n",
       " (4.366, 1),\n",
       " (2.383, 1),\n",
       " (3.417, 1),\n",
       " (4.483, 1),\n",
       " (4.55, 1),\n",
       " (4.183, 1),\n",
       " (2.217, 1),\n",
       " (2.333, 1),\n",
       " (2.35, 1),\n",
       " (2.9, 1),\n",
       " (2.133, 1),\n",
       " (3.817, 1),\n",
       " (4.767, 1),\n",
       " (4.75, 1),\n",
       " (2.15, 1)]"
      ]
     },
     "execution_count": 107,
     "metadata": {},
     "output_type": "execute_result"
    }
   ],
   "source": [
    "cts.most_common()"
   ]
  },
  {
   "cell_type": "code",
   "execution_count": 109,
   "id": "55815580-0e01-4257-b01c-ce83bdc32103",
   "metadata": {},
   "outputs": [
    {
     "data": {
      "text/plain": [
       "Counter({1.867: 8,\n",
       "         4.5: 8,\n",
       "         1.833: 7,\n",
       "         4.7: 6,\n",
       "         1.75: 6,\n",
       "         4.8: 6,\n",
       "         4.0: 6,\n",
       "         4.533: 5,\n",
       "         4.083: 5,\n",
       "         3.833: 5,\n",
       "         4.333: 5,\n",
       "         3.6: 4,\n",
       "         1.8: 4,\n",
       "         4.35: 4,\n",
       "         4.25: 4,\n",
       "         1.883: 4,\n",
       "         2.0: 4,\n",
       "         4.167: 4,\n",
       "         4.417: 4,\n",
       "         4.6: 4,\n",
       "         4.15: 4,\n",
       "         4.583: 4,\n",
       "         3.917: 3,\n",
       "         1.967: 3,\n",
       "         2.017: 3,\n",
       "         4.567: 3,\n",
       "         2.1: 3,\n",
       "         4.633: 3,\n",
       "         1.817: 3,\n",
       "         1.983: 3,\n",
       "         4.933: 3,\n",
       "         2.2: 3,\n",
       "         4.367: 3,\n",
       "         4.233: 3,\n",
       "         4.45: 3,\n",
       "         3.333: 2,\n",
       "         2.167: 2,\n",
       "         3.85: 2,\n",
       "         4.433: 2,\n",
       "         4.3: 2,\n",
       "         4.467: 2,\n",
       "         4.033: 2,\n",
       "         4.833: 2,\n",
       "         2.233: 2,\n",
       "         4.133: 2,\n",
       "         4.1: 2,\n",
       "         4.067: 2,\n",
       "         3.95: 2,\n",
       "         4.817: 2,\n",
       "         4.667: 2,\n",
       "         4.9: 2,\n",
       "         1.783: 2,\n",
       "         3.767: 2,\n",
       "         1.917: 2,\n",
       "         2.033: 2,\n",
       "         2.4: 2,\n",
       "         3.567: 2,\n",
       "         3.5: 2,\n",
       "         1.933: 2,\n",
       "         2.083: 2,\n",
       "         2.417: 2,\n",
       "         2.25: 2,\n",
       "         4.267: 2,\n",
       "         4.117: 2,\n",
       "         1.85: 2,\n",
       "         4.283: 2,\n",
       "         2.283: 1,\n",
       "         2.883: 1,\n",
       "         1.95: 1,\n",
       "         4.2: 1,\n",
       "         1.6: 1,\n",
       "         3.45: 1,\n",
       "         3.067: 1,\n",
       "         3.367: 1,\n",
       "         4.783: 1,\n",
       "         3.317: 1,\n",
       "         4.716: 1,\n",
       "         1.733: 1,\n",
       "         4.883: 1,\n",
       "         3.717: 1,\n",
       "         1.667: 1,\n",
       "         4.317: 1,\n",
       "         4.4: 1,\n",
       "         2.067: 1,\n",
       "         5.067: 1,\n",
       "         3.883: 1,\n",
       "         2.633: 1,\n",
       "         4.517: 1,\n",
       "         3.75: 1,\n",
       "         2.483: 1,\n",
       "         4.05: 1,\n",
       "         4.85: 1,\n",
       "         3.683: 1,\n",
       "         4.733: 1,\n",
       "         2.3: 1,\n",
       "         1.7: 1,\n",
       "         2.317: 1,\n",
       "         2.617: 1,\n",
       "         2.267: 1,\n",
       "         4.65: 1,\n",
       "         2.8: 1,\n",
       "         4.383: 1,\n",
       "         3.733: 1,\n",
       "         5.1: 1,\n",
       "         5.033: 1,\n",
       "         3.967: 1,\n",
       "         2.367: 1,\n",
       "         5.0: 1,\n",
       "         4.617: 1,\n",
       "         2.183: 1,\n",
       "         3.966: 1,\n",
       "         4.366: 1,\n",
       "         2.383: 1,\n",
       "         3.417: 1,\n",
       "         4.483: 1,\n",
       "         4.55: 1,\n",
       "         4.183: 1,\n",
       "         2.217: 1,\n",
       "         2.333: 1,\n",
       "         2.35: 1,\n",
       "         2.9: 1,\n",
       "         2.133: 1,\n",
       "         3.817: 1,\n",
       "         4.767: 1,\n",
       "         4.75: 1,\n",
       "         2.15: 1})"
      ]
     },
     "execution_count": 109,
     "metadata": {},
     "output_type": "execute_result"
    }
   ],
   "source": [
    "cts"
   ]
  },
  {
   "cell_type": "code",
   "execution_count": 111,
   "id": "a422cdea-ad3d-4b53-9148-c029e0b4b7d0",
   "metadata": {},
   "outputs": [],
   "source": [
    "#### measur of dispersion spread of data\n",
    "# range\n",
    "# iqr \n",
    "# "
   ]
  },
  {
   "cell_type": "code",
   "execution_count": 113,
   "id": "606111b6-2234-44d6-b0cd-8cd9af332450",
   "metadata": {},
   "outputs": [
    {
     "data": {
      "text/plain": [
       "3.4999999999999996"
      ]
     },
     "execution_count": 113,
     "metadata": {},
     "output_type": "execute_result"
    }
   ],
   "source": [
    "max(erupt)-min(erupt)"
   ]
  },
  {
   "cell_type": "code",
   "execution_count": 115,
   "id": "3712babe-97f8-4940-93c1-648337228410",
   "metadata": {},
   "outputs": [
    {
     "data": {
      "text/plain": [
       "3.5"
      ]
     },
     "execution_count": 115,
     "metadata": {},
     "output_type": "execute_result"
    }
   ],
   "source": [
    "np.round(max(erupt)-min(erupt),2)"
   ]
  },
  {
   "cell_type": "code",
   "execution_count": 117,
   "id": "c1c011dc-5854-403f-adcd-ec29e67fb349",
   "metadata": {},
   "outputs": [
    {
     "data": {
      "text/plain": [
       "3.4999999999999996"
      ]
     },
     "execution_count": 117,
     "metadata": {},
     "output_type": "execute_result"
    }
   ],
   "source": [
    "np.ptp(erupt)"
   ]
  },
  {
   "cell_type": "code",
   "execution_count": 119,
   "id": "0f15d130-e1c9-4eac-b6fa-8900c191ec0c",
   "metadata": {},
   "outputs": [],
   "source": [
    "# IQR INTER QUARTILE RANGE"
   ]
  },
  {
   "cell_type": "code",
   "execution_count": 121,
   "id": "204c68ed-28d2-4d11-91cf-1387378dd746",
   "metadata": {},
   "outputs": [
    {
     "data": {
      "text/plain": [
       "4.0"
      ]
     },
     "execution_count": 121,
     "metadata": {},
     "output_type": "execute_result"
    }
   ],
   "source": [
    "np.percentile(erupt,50)"
   ]
  },
  {
   "cell_type": "code",
   "execution_count": 123,
   "id": "ac52a928-9ff3-41d1-9909-a8fc90e3598c",
   "metadata": {},
   "outputs": [
    {
     "data": {
      "text/plain": [
       "0    3.600\n",
       "1    1.800\n",
       "2    3.333\n",
       "3    2.283\n",
       "4    4.533\n",
       "Name: eruptions, dtype: float64"
      ]
     },
     "execution_count": 123,
     "metadata": {},
     "output_type": "execute_result"
    }
   ],
   "source": [
    "erupt.head()"
   ]
  },
  {
   "cell_type": "code",
   "execution_count": 125,
   "id": "0a7d3193-feef-48c1-835e-d8a6510a333e",
   "metadata": {},
   "outputs": [
    {
     "data": {
      "text/plain": [
       "272"
      ]
     },
     "execution_count": 125,
     "metadata": {},
     "output_type": "execute_result"
    }
   ],
   "source": [
    "len(erupt)"
   ]
  },
  {
   "cell_type": "code",
   "execution_count": 127,
   "id": "af18f370-130a-4d16-b5f8-2af31e9d46ad",
   "metadata": {},
   "outputs": [
    {
     "data": {
      "text/plain": [
       "(272,)"
      ]
     },
     "execution_count": 127,
     "metadata": {},
     "output_type": "execute_result"
    }
   ],
   "source": [
    "erupt.shape"
   ]
  },
  {
   "cell_type": "code",
   "execution_count": 129,
   "id": "ea41e270-6ff6-4dce-b150-98205d7bdebf",
   "metadata": {},
   "outputs": [
    {
     "data": {
      "text/plain": [
       "136.5"
      ]
     },
     "execution_count": 129,
     "metadata": {},
     "output_type": "execute_result"
    }
   ],
   "source": [
    "# first sort then formula\n",
    "0.5*273   # (k/100)* n+1  136.5 position"
   ]
  },
  {
   "cell_type": "code",
   "execution_count": 131,
   "id": "f93da287-80b9-47a4-b032-3d61537d3e70",
   "metadata": {},
   "outputs": [
    {
     "data": {
      "text/plain": [
       "4.933"
      ]
     },
     "execution_count": 131,
     "metadata": {},
     "output_type": "execute_result"
    }
   ],
   "source": [
    "erupt[137]"
   ]
  },
  {
   "cell_type": "code",
   "execution_count": 133,
   "id": "426cbe4a-d07b-4a2f-a9e8-246978a31e72",
   "metadata": {},
   "outputs": [
    {
     "data": {
      "text/plain": [
       "1.883"
      ]
     },
     "execution_count": 133,
     "metadata": {},
     "output_type": "execute_result"
    }
   ],
   "source": [
    "erupt[136]"
   ]
  },
  {
   "cell_type": "code",
   "execution_count": 135,
   "id": "67cf9871-8946-431c-b793-c37fb068e162",
   "metadata": {},
   "outputs": [
    {
     "data": {
      "text/plain": [
       "3.05"
      ]
     },
     "execution_count": 135,
     "metadata": {},
     "output_type": "execute_result"
    }
   ],
   "source": [
    "4.933-1.883"
   ]
  },
  {
   "cell_type": "code",
   "execution_count": 137,
   "id": "975ceaf9-05b8-48f9-9d71-2c31c12e3ddd",
   "metadata": {},
   "outputs": [
    {
     "data": {
      "text/plain": [
       "4.3667"
      ]
     },
     "execution_count": 137,
     "metadata": {},
     "output_type": "execute_result"
    }
   ],
   "source": [
    "np.percentile(erupt,70)"
   ]
  },
  {
   "cell_type": "code",
   "execution_count": 139,
   "id": "daf0a37b-f75f-4173-b4c2-bcdabaa8b0c7",
   "metadata": {},
   "outputs": [
    {
     "data": {
      "text/plain": [
       "190"
      ]
     },
     "execution_count": 139,
     "metadata": {},
     "output_type": "execute_result"
    }
   ],
   "source": [
    "len(np.where(erupt<4.3667)[0])"
   ]
  },
  {
   "cell_type": "code",
   "execution_count": 141,
   "id": "602a10da-7f7b-421b-b5a4-bb2fb7cff4c2",
   "metadata": {},
   "outputs": [
    {
     "data": {
      "text/plain": [
       "190.39999999999998"
      ]
     },
     "execution_count": 141,
     "metadata": {},
     "output_type": "execute_result"
    }
   ],
   "source": [
    "272 * 0.7"
   ]
  },
  {
   "cell_type": "code",
   "execution_count": 143,
   "id": "51844c7c-8dec-4191-9811-9434dbc90f82",
   "metadata": {},
   "outputs": [
    {
     "data": {
      "text/plain": [
       "2.2915"
      ]
     },
     "execution_count": 143,
     "metadata": {},
     "output_type": "execute_result"
    }
   ],
   "source": [
    "q75,q25=np.percentile(erupt,[75,25])  # IQR\n",
    "q75-q25"
   ]
  },
  {
   "cell_type": "code",
   "execution_count": 145,
   "id": "5a93e3fe-c095-4bcc-923a-5342db735a44",
   "metadata": {},
   "outputs": [
    {
     "data": {
      "text/plain": [
       "3.4999999999999996"
      ]
     },
     "execution_count": 145,
     "metadata": {},
     "output_type": "execute_result"
    }
   ],
   "source": [
    "max(erupt)-min(erupt)  # ]"
   ]
  },
  {
   "cell_type": "code",
   "execution_count": 147,
   "id": "ab482146-7183-4e91-b947-d475b482dba9",
   "metadata": {},
   "outputs": [],
   "source": [
    "#   dispersion from the mean "
   ]
  },
  {
   "cell_type": "code",
   "execution_count": null,
   "id": "90c2f06e-02f0-440a-9f23-42d27175e6ff",
   "metadata": {},
   "outputs": [],
   "source": []
  },
  {
   "cell_type": "code",
   "execution_count": 150,
   "id": "4d9a0d35-fa08-4118-b7fa-a306f7987530",
   "metadata": {},
   "outputs": [],
   "source": [
    "x1 =[10,12,15,18,20,25,10,12,15,18,20,25]"
   ]
  },
  {
   "cell_type": "code",
   "execution_count": 152,
   "id": "b853a28a-5dc4-4af9-a169-0f3b4dee4161",
   "metadata": {},
   "outputs": [
    {
     "data": {
      "text/plain": [
       "25.222222222222218"
      ]
     },
     "execution_count": 152,
     "metadata": {},
     "output_type": "execute_result"
    }
   ],
   "source": [
    "np.var(x1)"
   ]
  },
  {
   "cell_type": "code",
   "execution_count": 154,
   "id": "346d3756-f080-49f4-916e-fd0b2627c7d3",
   "metadata": {},
   "outputs": [
    {
     "data": {
      "text/plain": [
       "27.515151515151512"
      ]
     },
     "execution_count": 154,
     "metadata": {},
     "output_type": "execute_result"
    }
   ],
   "source": [
    "np.var(x1,ddof=1) # sample varince # degree of freedom # ddof is used  for taking sample data n-1 whre n is all data point"
   ]
  },
  {
   "cell_type": "code",
   "execution_count": 156,
   "id": "cb2c1ef8-b9b3-4aa6-800f-6791389f123d",
   "metadata": {},
   "outputs": [
    {
     "data": {
      "text/plain": [
       "5.022173057773121"
      ]
     },
     "execution_count": 156,
     "metadata": {},
     "output_type": "execute_result"
    }
   ],
   "source": [
    "np.std(x1)  # population std deviation"
   ]
  },
  {
   "cell_type": "code",
   "execution_count": 158,
   "id": "0444d9f7-b2e8-4751-959a-707e3376d98e",
   "metadata": {},
   "outputs": [
    {
     "data": {
      "text/plain": [
       "5.245488682206026"
      ]
     },
     "execution_count": 158,
     "metadata": {},
     "output_type": "execute_result"
    }
   ],
   "source": [
    "np.std(x1,ddof=1)  # sample std deviation"
   ]
  },
  {
   "cell_type": "markdown",
   "id": "17c937ae-bc73-4cd2-b774-d391aef63d11",
   "metadata": {},
   "source": [
    "# Measure of shape \n",
    "## Skewness and kutorsis"
   ]
  },
  {
   "cell_type": "code",
   "execution_count": 161,
   "id": "6d17f664-1fe2-4bcf-abe3-c25b44f36af8",
   "metadata": {},
   "outputs": [],
   "source": [
    "import scipy"
   ]
  },
  {
   "cell_type": "code",
   "execution_count": 163,
   "id": "150e83b8-acc8-4ecc-88d1-90fdd9be6c80",
   "metadata": {},
   "outputs": [],
   "source": [
    "from scipy import stats"
   ]
  },
  {
   "cell_type": "code",
   "execution_count": 164,
   "id": "7f64541b-9ff8-42b9-92a6-a7743a75e341",
   "metadata": {},
   "outputs": [],
   "source": [
    "from matplotlib import pyplot as plt"
   ]
  },
  {
   "cell_type": "code",
   "execution_count": 165,
   "id": "f3647bfe-b3ed-4100-90e0-bbdbd33ed4cd",
   "metadata": {},
   "outputs": [],
   "source": [
    "x3=np.repeat([1,2,3,4,5,6,7,8,9],[2,5,10,20,30,20,10,5,2])"
   ]
  },
  {
   "cell_type": "code",
   "execution_count": 166,
   "id": "be6ad1b1-23f8-4a8e-8c9e-c6b8453c4dc2",
   "metadata": {},
   "outputs": [
    {
     "data": {
      "text/plain": [
       "(array([ 2.,  5., 10., 20.,  0., 30., 20., 10.,  5.,  2.]),\n",
       " array([1. , 1.8, 2.6, 3.4, 4.2, 5. , 5.8, 6.6, 7.4, 8.2, 9. ]),\n",
       " <BarContainer object of 10 artists>)"
      ]
     },
     "execution_count": 166,
     "metadata": {},
     "output_type": "execute_result"
    },
    {
     "data": {
      "image/png": "[encoded data removed]",
      "text/plain": [
       "<Figure size 640x480 with 1 Axes>"
      ]
     },
     "metadata": {},
     "output_type": "display_data"
    }
   ],
   "source": [
    "plt.hist(x3)"
   ]
  },
  {
   "cell_type": "code",
   "execution_count": null,
   "id": "8271ee0c-5976-43ee-a0b4-10cfa63d77be",
   "metadata": {},
   "outputs": [],
   "source": []
  },
  {
   "cell_type": "code",
   "execution_count": 199,
   "id": "0c07e3ca-7817-4834-a494-a79e04d463d2",
   "metadata": {},
   "outputs": [
    {
     "data": {
      "text/plain": [
       "0      3.600\n",
       "1      1.800\n",
       "2      3.333\n",
       "3      2.283\n",
       "4      4.533\n",
       "       ...  \n",
       "267    4.117\n",
       "268    2.150\n",
       "269    4.417\n",
       "270    1.817\n",
       "271    4.467\n",
       "Name: eruptions, Length: 272, dtype: float64"
      ]
     },
     "execution_count": 199,
     "metadata": {},
     "output_type": "execute_result"
    }
   ],
   "source": [
    "erupt"
   ]
  },
  {
   "cell_type": "code",
   "execution_count": 187,
   "id": "3e7807be-f303-4117-9c83-e9588fd05a64",
   "metadata": {},
   "outputs": [
    {
     "data": {
      "text/plain": [
       "-0.41354982142096436"
      ]
     },
     "execution_count": 187,
     "metadata": {},
     "output_type": "execute_result"
    }
   ],
   "source": [
    "sum((erupt-np.mean(erupt))**3)/((len(erupt-1)*(np.std(erupt,ddof=1)**3)))"
   ]
  },
  {
   "cell_type": "code",
   "execution_count": 189,
   "id": "4549daaf-da2e-4f9a-9c07-b9c1480f571b",
   "metadata": {},
   "outputs": [
    {
     "data": {
      "text/plain": [
       "-0.4158409529189896"
      ]
     },
     "execution_count": 189,
     "metadata": {},
     "output_type": "execute_result"
    }
   ],
   "source": [
    "scipy.stats.skew(erupt)"
   ]
  },
  {
   "cell_type": "code",
   "execution_count": 201,
   "id": "a3a91278-96c6-4e30-b473-635e06fb9f7a",
   "metadata": {},
   "outputs": [],
   "source": [
    "# kurtosis"
   ]
  },
  {
   "cell_type": "code",
   "execution_count": 247,
   "id": "7e2bb2da-4668-47ff-8481-18650eae6337",
   "metadata": {},
   "outputs": [],
   "source": [
    "x1 =np.repeat([1,2,3,4,5,6,7,8,9,10],[5,10,15,20,400,20,15,10,5,2])"
   ]
  },
  {
   "cell_type": "code",
   "execution_count": 249,
   "id": "9220066b-5120-4ebb-8206-5715409e28ee",
   "metadata": {},
   "outputs": [
    {
     "data": {
      "text/plain": [
       "(array([  5.,  10.,  15.,  20., 400.,  20.,  15.,  10.,   5.,   2.]),\n",
       " array([ 1. ,  1.9,  2.8,  3.7,  4.6,  5.5,  6.4,  7.3,  8.2,  9.1, 10. ]),\n",
       " <BarContainer object of 10 artists>)"
      ]
     },
     "execution_count": 249,
     "metadata": {},
     "output_type": "execute_result"
    },
    {
     "data": {
      "image/png": "[encoded data removed]",
      "text/plain": [
       "<Figure size 640x480 with 1 Axes>"
      ]
     },
     "metadata": {},
     "output_type": "display_data"
    }
   ],
   "source": [
    "plt.hist(x1)"
   ]
  },
  {
   "cell_type": "code",
   "execution_count": 237,
   "id": "1dca695d-a59b-4c9b-b3d1-0d27983fa42b",
   "metadata": {},
   "outputs": [],
   "source": [
    "x2=np.repeat([1,2,3,4,5,6,7,8,9,10],[20,25,25,30,35,30,25,25,20,20])"
   ]
  },
  {
   "cell_type": "code",
   "execution_count": 239,
   "id": "46ab2339-bc33-420a-8e10-fe0abb2c521a",
   "metadata": {},
   "outputs": [
    {
     "data": {
      "text/plain": [
       "(array([20., 25., 25., 30., 35., 30., 25., 25., 20., 20.]),\n",
       " array([ 1. ,  1.9,  2.8,  3.7,  4.6,  5.5,  6.4,  7.3,  8.2,  9.1, 10. ]),\n",
       " <BarContainer object of 10 artists>)"
      ]
     },
     "execution_count": 239,
     "metadata": {},
     "output_type": "execute_result"
    },
    {
     "data": {
      "image/png": "[encoded data removed]",
      "text/plain": [
       "<Figure size 640x480 with 1 Axes>"
      ]
     },
     "metadata": {},
     "output_type": "display_data"
    }
   ],
   "source": [
    "plt.hist(x2)"
   ]
  },
  {
   "cell_type": "code",
   "execution_count": 251,
   "id": "ce9eaf1e-7e24-4b3c-8936-4c93814eaf37",
   "metadata": {},
   "outputs": [],
   "source": [
    "x2=np.repeat([1,2,3,4,5,6,7,8,9],[2,5,10,20,30,20,10,5,2])"
   ]
  },
  {
   "cell_type": "code",
   "execution_count": 260,
   "id": "c3495dc0-5137-403c-ab11-1a64f45f7e9e",
   "metadata": {},
   "outputs": [
    {
     "data": {
      "text/plain": [
       "-85.45373960080018"
      ]
     },
     "execution_count": 260,
     "metadata": {},
     "output_type": "execute_result"
    }
   ],
   "source": [
    "sum((erupt-np.mean(erupt)**4))/((len(erupt)-1)*(np.std(erupt,ddof=1)**4))"
   ]
  },
  {
   "cell_type": "markdown",
   "id": "77090abd-b2c4-4d57-9345-b285cf126cfe",
   "metadata": {},
   "source": [
    "# probaility distributuinabs \n",
    "# binomial"
   ]
  },
  {
   "cell_type": "code",
   "execution_count": 328,
   "id": "bdba9844-48f9-4769-b088-e7ebad729eb7",
   "metadata": {},
   "outputs": [],
   "source": [
    "import scipy\n",
    "from  scipy import stats\n",
    "from scipy.stats import binom"
   ]
  },
  {
   "cell_type": "markdown",
   "id": "bbab850d-8214-4672-b481-d617ee21707b",
   "metadata": {},
   "source": [
    " prob of rain on any day =0.7\n",
    "\n",
    "1 Exactly 15 out of 20 days of rain\n",
    "2. max 15 out of 20 days (0-15,both inclusive)\n",
    "3. min 15 out of20 days (15-20,both inclusive)"
   ]
  },
  {
   "cell_type": "code",
   "execution_count": 331,
   "id": "a589fe5c-f9bb-4f9b-a8d6-cfe4370040da",
   "metadata": {},
   "outputs": [
    {
     "data": {
      "text/plain": [
       "0.17886305056987967"
      ]
     },
     "execution_count": 331,
     "metadata": {},
     "output_type": "execute_result"
    }
   ],
   "source": [
    "binom.pmf(15,20,0.7) #Exactly 15 out of 20 days of rain"
   ]
  },
  {
   "cell_type": "code",
   "execution_count": null,
   "id": "be5891c8-c7a0-461a-b03a-6a4d848e6945",
   "metadata": {},
   "outputs": [],
   "source": []
  },
  {
   "cell_type": "code",
   "execution_count": 334,
   "id": "bdb71d5b-48c4-433c-bb45-75658d2521e1",
   "metadata": {},
   "outputs": [
    {
     "data": {
      "text/plain": [
       "0.7624922211223986"
      ]
     },
     "execution_count": 334,
     "metadata": {},
     "output_type": "execute_result"
    }
   ],
   "source": [
    "binom.cdf(15,20,0.7)  # upto 0 t0 15 #max 15 out of 20 days # atmost # <=15"
   ]
  },
  {
   "cell_type": "code",
   "execution_count": null,
   "id": "c65a2897-5f8a-412e-9777-378c34c3c149",
   "metadata": {},
   "outputs": [],
   "source": []
  },
  {
   "cell_type": "code",
   "execution_count": 337,
   "id": "c5371695-4257-497e-8bb7-b9104378fd1a",
   "metadata": {},
   "outputs": [
    {
     "data": {
      "text/plain": [
       "0.4163708294474808"
      ]
     },
     "execution_count": 337,
     "metadata": {},
     "output_type": "execute_result"
    }
   ],
   "source": [
    "#min 15 out of20 days  # atleast # >=15\n",
    "binom.pmf(15,20,0.7)+binom.pmf(16,20,0.7)+binom.pmf(17,20,0.7)+binom.pmf(18,20,0.7)+binom.pmf(19,20,0.7)+binom.pmf(20,20,0.7)"
   ]
  },
  {
   "cell_type": "code",
   "execution_count": 339,
   "id": "8680e5ec-672a-4e4f-bc64-f024abfe4c74",
   "metadata": {},
   "outputs": [
    {
     "data": {
      "text/plain": [
       "0.41637082944748116"
      ]
     },
     "execution_count": 339,
     "metadata": {},
     "output_type": "execute_result"
    }
   ],
   "source": [
    "1-binom.cdf(14,20,0.7)  # alteat 15 using cdf p(<=15)=1-p(14)"
   ]
  },
  {
   "cell_type": "code",
   "execution_count": 341,
   "id": "c89fa263-68e8-4f99-81f5-7f10423c1d46",
   "metadata": {},
   "outputs": [
    {
     "data": {
      "text/plain": [
       "0.41637082944748116"
      ]
     },
     "execution_count": 341,
     "metadata": {},
     "output_type": "execute_result"
    }
   ],
   "source": [
    "# survival funcation # atleast \n",
    "binom.sf(14,20,0.7)"
   ]
  },
  {
   "cell_type": "code",
   "execution_count": null,
   "id": "c728608d-1a31-46b2-9e89-f6cb65494918",
   "metadata": {},
   "outputs": [],
   "source": []
  },
  {
   "cell_type": "code",
   "execution_count": 344,
   "id": "caa960b4-ba86-4ed6-bca8-8d7abbc2f187",
   "metadata": {},
   "outputs": [
    {
     "data": {
      "text/plain": [
       "0.20132659199999978"
      ]
     },
     "execution_count": 344,
     "metadata": {},
     "output_type": "execute_result"
    }
   ],
   "source": [
    "binom.pmf(7,10,0.8)# exactly 7"
   ]
  },
  {
   "cell_type": "code",
   "execution_count": 346,
   "id": "64bd0acf-b04f-4c73-88a7-1af0e11301fd",
   "metadata": {},
   "outputs": [
    {
     "data": {
      "text/plain": [
       "0.8791261184000001"
      ]
     },
     "execution_count": 346,
     "metadata": {},
     "output_type": "execute_result"
    }
   ],
   "source": [
    "binom.sf(6,10,0.8)"
   ]
  },
  {
   "cell_type": "markdown",
   "id": "c6de9196-cc40-432a-ba0a-2b1e4e2fab82",
   "metadata": {},
   "source": [
    "# poisson\n",
    "#probability of an event occuring for exact number of time      \n",
    "#on  average you get 30 sms in a day exactly 28 sms "
   ]
  },
  {
   "cell_type": "code",
   "execution_count": 352,
   "id": "9a25bfdd-112c-4678-92b4-ca2758f65127",
   "metadata": {},
   "outputs": [],
   "source": [
    "from scipy.stats import poisson"
   ]
  },
  {
   "cell_type": "code",
   "execution_count": 354,
   "id": "b252b1d6-7b1f-4704-ab30-99f934eb3302",
   "metadata": {},
   "outputs": [
    {
     "data": {
      "text/plain": [
       "0.07021337558920529"
      ]
     },
     "execution_count": 354,
     "metadata": {},
     "output_type": "execute_result"
    }
   ],
   "source": [
    "poisson.pmf(28,30) # eaxctly 28 sms when we get 30 on averAGE "
   ]
  },
  {
   "cell_type": "code",
   "execution_count": 360,
   "id": "215b9dac-a9b1-42f0-aea1-bba03ac56916",
   "metadata": {},
   "outputs": [
    {
     "data": {
      "text/plain": [
       "0.40308245963472844"
      ]
     },
     "execution_count": 360,
     "metadata": {},
     "output_type": "execute_result"
    }
   ],
   "source": [
    "poisson.cdf(28,30) # max28 when average is 30"
   ]
  },
  {
   "cell_type": "code",
   "execution_count": 364,
   "id": "0586f23d-7864-4a17-abf9-00b00d1156d6",
   "metadata": {},
   "outputs": [
    {
     "data": {
      "text/plain": [
       "0.6671309159544766"
      ]
     },
     "execution_count": 364,
     "metadata": {},
     "output_type": "execute_result"
    }
   ],
   "source": [
    "# min 28 sms atleast 28 \n",
    "1-poisson.cdf(27,30)"
   ]
  },
  {
   "cell_type": "code",
   "execution_count": 366,
   "id": "1e8a51b2-92a1-4fe8-b641-1107171e4228",
   "metadata": {},
   "outputs": [
    {
     "data": {
      "text/plain": [
       "0.6671309159544766"
      ]
     },
     "execution_count": 366,
     "metadata": {},
     "output_type": "execute_result"
    }
   ],
   "source": [
    "poisson.sf(27,30)"
   ]
  },
  {
   "cell_type": "code",
   "execution_count": null,
   "id": "e286fd9e-369b-476e-8528-a8630e89daf5",
   "metadata": {},
   "outputs": [],
   "source": []
  },
  {
   "cell_type": "markdown",
   "id": "fa343876-4a95-4767-918b-d694cdb21caf",
   "metadata": {},
   "source": [
    "# Standard NORMAL DISTRIBUTION"
   ]
  },
  {
   "cell_type": "code",
   "execution_count": 372,
   "id": "2892f42d-0c19-4115-b3e6-f8492169eca1",
   "metadata": {},
   "outputs": [],
   "source": [
    "import scipy\n",
    "from scipy import stats\n",
    "from scipy.stats import norm, t\n"
   ]
  },
  {
   "cell_type": "markdown",
   "id": "410fcef8-c018-4e9a-b177-bae6a29817a9",
   "metadata": {},
   "source": [
    "#### Avg time of travelling from pune to mumbai is 200 minutes with stdev value of 15 min.what is the probaility that today i will take less than 180min\n"
   ]
  },
  {
   "cell_type": "code",
   "execution_count": 396,
   "id": "e42ac927-20ea-4a17-ad86-0d076c970925",
   "metadata": {},
   "outputs": [
    {
     "data": {
      "text/plain": [
       "0.09121121972586788"
      ]
     },
     "execution_count": 396,
     "metadata": {},
     "output_type": "execute_result"
    }
   ],
   "source": [
    "norm.cdf(180,200,15) # (what to calculate,mean,std)"
   ]
  },
  {
   "cell_type": "code",
   "execution_count": 400,
   "id": "d3c8c45c-9f7c-4131-a7c0-b2812c144e26",
   "metadata": {},
   "outputs": [],
   "source": [
    "z = (180-200)/15"
   ]
  },
  {
   "cell_type": "code",
   "execution_count": 402,
   "id": "1ead24b5-bdc9-45b4-9851-ecf4298d365d",
   "metadata": {},
   "outputs": [
    {
     "data": {
      "text/plain": [
       "-1.3333333333333333"
      ]
     },
     "execution_count": 402,
     "metadata": {},
     "output_type": "execute_result"
    }
   ],
   "source": [
    "z"
   ]
  },
  {
   "cell_type": "code",
   "execution_count": 406,
   "id": "a8653ecd-e919-48bc-a2be-c3568d8c971d",
   "metadata": {},
   "outputs": [
    {
     "data": {
      "text/plain": [
       "0.09121121972586788"
      ]
     },
     "execution_count": 406,
     "metadata": {},
     "output_type": "execute_result"
    }
   ],
   "source": [
    "norm.cdf(z)"
   ]
  },
  {
   "cell_type": "code",
   "execution_count": 410,
   "id": "969659c4-a2cf-4ca8-9941-9d68efa1c5c5",
   "metadata": {},
   "outputs": [
    {
     "data": {
      "text/plain": [
       "0.9087887802741321"
      ]
     },
     "execution_count": 410,
     "metadata": {},
     "output_type": "execute_result"
    }
   ],
   "source": [
    "1-norm.cdf(z)"
   ]
  },
  {
   "cell_type": "code",
   "execution_count": 412,
   "id": "c4828e2b-06f8-4c57-af3f-a1c4aa994330",
   "metadata": {},
   "outputs": [
    {
     "data": {
      "text/plain": [
       "0.9087887802741321"
      ]
     },
     "execution_count": 412,
     "metadata": {},
     "output_type": "execute_result"
    }
   ],
   "source": [
    "norm.sf(z) # more than 1"
   ]
  },
  {
   "cell_type": "code",
   "execution_count": 428,
   "id": "cfd56af6-7f72-48ae-99c2-3564d8debfe0",
   "metadata": {},
   "outputs": [],
   "source": [
    "p =norm.cdf(155,150,12)-norm.cdf(140,150,12)"
   ]
  },
  {
   "cell_type": "code",
   "execution_count": 430,
   "id": "1cd5bc38-9a45-47e2-a86b-0edcce593a26",
   "metadata": {},
   "outputs": [
    {
     "data": {
      "text/plain": [
       "0.4592104995256672"
      ]
     },
     "execution_count": 430,
     "metadata": {},
     "output_type": "execute_result"
    }
   ],
   "source": [
    "p"
   ]
  },
  {
   "cell_type": "code",
   "execution_count": 438,
   "id": "2f54c243-5684-4d14-bfc2-f2d74b8f13f0",
   "metadata": {},
   "outputs": [],
   "source": [
    "z1=(155-150)/12"
   ]
  },
  {
   "cell_type": "code",
   "execution_count": 440,
   "id": "14840639-1321-4fba-8f99-2f89aaca1825",
   "metadata": {},
   "outputs": [],
   "source": [
    "z2=(140-150)/12"
   ]
  },
  {
   "cell_type": "code",
   "execution_count": 444,
   "id": "12280af0-c363-48f5-b593-7af58723ab61",
   "metadata": {},
   "outputs": [],
   "source": [
    "z3=norm.cdf(z1)-norm.cdf(z2)"
   ]
  },
  {
   "cell_type": "code",
   "execution_count": 446,
   "id": "cd81f0c8-e99b-439d-afee-a6e996706228",
   "metadata": {},
   "outputs": [
    {
     "data": {
      "text/plain": [
       "0.4592104995256672"
      ]
     },
     "execution_count": 446,
     "metadata": {},
     "output_type": "execute_result"
    }
   ],
   "source": [
    "z3"
   ]
  },
  {
   "cell_type": "code",
   "execution_count": 462,
   "id": "89bf4e25-cda0-4fdc-9775-51a755210b60",
   "metadata": {},
   "outputs": [],
   "source": []
  },
  {
   "cell_type": "markdown",
   "id": "aa8e6a1e-d40e-4e03-b611-73cde7004bac",
   "metadata": {},
   "source": [
    "# ken blac\n",
    "mean =30000\n",
    "std =9000\n",
    "total 23000"
   ]
  },
  {
   "cell_type": "code",
   "execution_count": 468,
   "id": "9dacc3bd-bd90-41db-b764-33b4125dc715",
   "metadata": {},
   "outputs": [],
   "source": [
    "p=norm.cdf(45000,30000,9000)-norm.cdf(15000,30000,9000)  # between 45000 to 15000"
   ]
  },
  {
   "cell_type": "code",
   "execution_count": 470,
   "id": "65a91ee4-fda0-482a-a55c-f0d8fd15d2b7",
   "metadata": {},
   "outputs": [
    {
     "data": {
      "text/plain": [
       "0.9044192954543706"
      ]
     },
     "execution_count": 470,
     "metadata": {},
     "output_type": "execute_result"
    }
   ],
   "source": [
    "p"
   ]
  },
  {
   "cell_type": "code",
   "execution_count": 487,
   "id": "17cc3c0e-eba7-4614-9c37-125891bb7565",
   "metadata": {},
   "outputs": [
    {
     "data": {
      "text/plain": [
       "-0.9044192954543706"
      ]
     },
     "execution_count": 487,
     "metadata": {},
     "output_type": "execute_result"
    }
   ],
   "source": [
    "norm.sf(45000,30000,9000)-norm.sf(15000,30000,9000)"
   ]
  },
  {
   "cell_type": "code",
   "execution_count": 489,
   "id": "0496166e-be58-4255-bf86-42edab3ad954",
   "metadata": {},
   "outputs": [
    {
     "data": {
      "text/plain": [
       "-0.9044192954543706"
      ]
     },
     "execution_count": 489,
     "metadata": {},
     "output_type": "execute_result"
    }
   ],
   "source": [
    "(1-norm.cdf(45000,30000,9000))-(1-norm.cdf(15000,30000,9000))"
   ]
  },
  {
   "cell_type": "code",
   "execution_count": 472,
   "id": "2be478e7-eee4-41fa-ac56-a519a6841692",
   "metadata": {},
   "outputs": [
    {
     "data": {
      "text/plain": [
       "0.9868658543089789"
      ]
     },
     "execution_count": 472,
     "metadata": {},
     "output_type": "execute_result"
    }
   ],
   "source": [
    "norm.cdf(50000,30000,9000)"
   ]
  },
  {
   "cell_type": "code",
   "execution_count": 474,
   "id": "491a9387-40bd-4b8d-bcc1-2b3962381f97",
   "metadata": {},
   "outputs": [
    {
     "data": {
      "text/plain": [
       "0.013134145691021115"
      ]
     },
     "execution_count": 474,
     "metadata": {},
     "output_type": "execute_result"
    }
   ],
   "source": [
    "1-norm.cdf(50000,30000,9000) # greater than 50000"
   ]
  },
  {
   "cell_type": "code",
   "execution_count": null,
   "id": "7668b9db-cebe-4eae-8ce2-73e94d262d2c",
   "metadata": {},
   "outputs": [],
   "source": []
  },
  {
   "cell_type": "code",
   "execution_count": 491,
   "id": "2a979f4f-45b8-4463-884f-91cdd7893253",
   "metadata": {},
   "outputs": [],
   "source": [
    "z=(23000-30000)/9000"
   ]
  },
  {
   "cell_type": "code",
   "execution_count": 493,
   "id": "4f896eab-3e43-48e3-9500-57f92bb65086",
   "metadata": {},
   "outputs": [
    {
     "data": {
      "text/plain": [
       "-0.7777777777777778"
      ]
     },
     "execution_count": 493,
     "metadata": {},
     "output_type": "execute_result"
    }
   ],
   "source": [
    "z"
   ]
  },
  {
   "cell_type": "code",
   "execution_count": 495,
   "id": "915a7212-51cf-4b67-8c7c-b4fba6783f27",
   "metadata": {},
   "outputs": [],
   "source": [
    "std =(7000-30000)/z"
   ]
  },
  {
   "cell_type": "code",
   "execution_count": 497,
   "id": "113aa7c5-f236-4a6a-91a3-719cfe882cdf",
   "metadata": {},
   "outputs": [
    {
     "data": {
      "text/plain": [
       "29571.428571428572"
      ]
     },
     "execution_count": 497,
     "metadata": {},
     "output_type": "execute_result"
    }
   ],
   "source": [
    "std"
   ]
  },
  {
   "cell_type": "markdown",
   "id": "ae0933dc-67c4-4842-8db7-ca2a4f2e5d58",
   "metadata": {},
   "source": [
    "## calculation standdard normal distribution vs operatioinal nd curve\n"
   ]
  },
  {
   "cell_type": "code",
   "execution_count": 500,
   "id": "26b4c843-3ee1-494c-b7d2-7f83b8e36416",
   "metadata": {},
   "outputs": [
    {
     "data": {
      "text/plain": [
       "0.6826894921370859"
      ]
     },
     "execution_count": 500,
     "metadata": {},
     "output_type": "execute_result"
    }
   ],
   "source": [
    "norm.cdf(1)-norm.cdf(-1)"
   ]
  },
  {
   "cell_type": "code",
   "execution_count": 526,
   "id": "ebe34a68-72d3-4bd7-aed3-11623519312a",
   "metadata": {},
   "outputs": [],
   "source": [
    "# for operationalab\n",
    "import numpy as np\n",
    "from  numpy import random"
   ]
  },
  {
   "cell_type": "code",
   "execution_count": 528,
   "id": "a5b55269-2faa-45b0-8701-0e8e000ea9f2",
   "metadata": {},
   "outputs": [
    {
     "data": {
      "text/plain": [
       "array([196.04702496, 188.79498828, 203.65420023, ..., 197.01418404,\n",
       "       183.05943457, 197.80726208])"
      ]
     },
     "execution_count": 528,
     "metadata": {},
     "output_type": "execute_result"
    }
   ],
   "source": [
    "x1=np.random.normal(200,20,3000)\n",
    "x1"
   ]
  },
  {
   "cell_type": "code",
   "execution_count": 530,
   "id": "02648604-bab7-42cf-bfa6-b4ccaea1c7a5",
   "metadata": {},
   "outputs": [
    {
     "data": {
      "text/plain": [
       "199.9561126187083"
      ]
     },
     "execution_count": 530,
     "metadata": {},
     "output_type": "execute_result"
    }
   ],
   "source": [
    "np.mean(x1)"
   ]
  },
  {
   "cell_type": "code",
   "execution_count": 534,
   "id": "59ac5892-ff9f-4e7a-b93d-ac57e1b7f27e",
   "metadata": {},
   "outputs": [
    {
     "data": {
      "text/plain": [
       "19.622874781179057"
      ]
     },
     "execution_count": 534,
     "metadata": {},
     "output_type": "execute_result"
    }
   ],
   "source": [
    "np.std(x1)"
   ]
  },
  {
   "cell_type": "code",
   "execution_count": 538,
   "id": "28eb0dd0-a986-449e-8699-d5ea54fb4d54",
   "metadata": {},
   "outputs": [
    {
     "data": {
      "text/plain": [
       "219.57898739988735"
      ]
     },
     "execution_count": 538,
     "metadata": {},
     "output_type": "execute_result"
    }
   ],
   "source": [
    "x1p=np.mean(x1)+np.std(x1)\n",
    "x1p"
   ]
  },
  {
   "cell_type": "code",
   "execution_count": 540,
   "id": "e1d506a2-aee6-460f-95dc-7405212ca2d8",
   "metadata": {},
   "outputs": [],
   "source": [
    "x1m=np.mean(x1)-np.std(x1)"
   ]
  },
  {
   "cell_type": "code",
   "execution_count": 551,
   "id": "47c6c95a-773e-4609-a9fe-ee1890529b6a",
   "metadata": {},
   "outputs": [
    {
     "data": {
      "text/plain": [
       "180.33323783752923"
      ]
     },
     "execution_count": 551,
     "metadata": {},
     "output_type": "execute_result"
    }
   ],
   "source": [
    "x1m"
   ]
  },
  {
   "cell_type": "code",
   "execution_count": 546,
   "id": "994a36cd-4dfc-4288-b20b-934db5542307",
   "metadata": {},
   "outputs": [],
   "source": [
    "ind=np.where((x1>x1m)&(x1<=x1p)) # values between x1p and x1m"
   ]
  },
  {
   "cell_type": "code",
   "execution_count": 548,
   "id": "dab380cc-26f2-42d7-831f-ce4765649a26",
   "metadata": {},
   "outputs": [
    {
     "data": {
      "text/plain": [
       "0.6846666666666666"
      ]
     },
     "execution_count": 548,
     "metadata": {},
     "output_type": "execute_result"
    }
   ],
   "source": [
    "len(ind[0])/3000"
   ]
  },
  {
   "cell_type": "markdown",
   "id": "883d3270-2c87-4f9d-95a7-64496640739d",
   "metadata": {},
   "source": [
    "\n"
   ]
  },
  {
   "cell_type": "markdown",
   "id": "46ebedfd-1835-4618-b134-0b684e1d3598",
   "metadata": {},
   "source": [
    "#### what is  --stdv NOTE - [(Mean - std.dev) and (mean + std.dev) ] 68.3% (approx) of total values will lie in this range "
   ]
  },
  {
   "cell_type": "code",
   "execution_count": null,
   "id": "7d3141fd-3922-4054-81b6-167bb06a7682",
   "metadata": {},
   "outputs": [],
   "source": []
  }
 ],
 "metadata": {
  "kernelspec": {
   "display_name": "Python 3 (ipykernel)",
   "language": "python",
   "name": "python3"
  },
  "language_info": {
   "codemirror_mode": {
    "name": "ipython",
    "version": 3
   },
   "file_extension": ".py",
   "mimetype": "text/x-python",
   "name": "python",
   "nbconvert_exporter": "python",
   "pygments_lexer": "ipython3",
   "version": "3.12.4"
  }
 },
 "nbformat": 4,
 "nbformat_minor": 5
}
