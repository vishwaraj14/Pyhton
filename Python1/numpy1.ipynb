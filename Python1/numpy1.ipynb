{
 "cells": [
  {
   "cell_type": "code",
   "execution_count": 2,
   "id": "a29dfaa9-66ed-438d-b77c-ab443b942058",
   "metadata": {},
   "outputs": [],
   "source": [
    "import numpy as np\n",
    "from numpy import random"
   ]
  },
  {
   "cell_type": "code",
   "execution_count": 12,
   "id": "9969367d-ab23-40f3-ad91-369e9fa70bf8",
   "metadata": {},
   "outputs": [
    {
     "data": {
      "text/plain": [
       "10"
      ]
     },
     "execution_count": 12,
     "metadata": {},
     "output_type": "execute_result"
    }
   ],
   "source": [
    "\n",
    "k1 = list(range(10))\n",
    "k1\n",
    "len(k1)"
   ]
  },
  {
   "cell_type": "code",
   "execution_count": 22,
   "id": "f70adf2a-25b6-4217-8327-c174b5ae9769",
   "metadata": {},
   "outputs": [
    {
     "data": {
      "text/plain": [
       "array([0, 1, 2, 3, 4, 5, 6, 7, 8, 9])"
      ]
     },
     "execution_count": 22,
     "metadata": {},
     "output_type": "execute_result"
    }
   ],
   "source": [
    "a1 = np.arange(10)\n",
    "a1\n"
   ]
  },
  {
   "cell_type": "code",
   "execution_count": 24,
   "id": "add1c29b-25ff-4851-8ccc-198d68cd5620",
   "metadata": {},
   "outputs": [
    {
     "data": {
      "text/plain": [
       "10"
      ]
     },
     "execution_count": 24,
     "metadata": {},
     "output_type": "execute_result"
    }
   ],
   "source": [
    "len(a1)"
   ]
  },
  {
   "cell_type": "code",
   "execution_count": 26,
   "id": "e3dc96da-ec55-4b02-8288-d457fb695f12",
   "metadata": {},
   "outputs": [
    {
     "data": {
      "text/plain": [
       "3"
      ]
     },
     "execution_count": 26,
     "metadata": {},
     "output_type": "execute_result"
    }
   ],
   "source": [
    "a1[3]"
   ]
  },
  {
   "cell_type": "code",
   "execution_count": 30,
   "id": "74502fe6-f4dc-49bf-876f-f57d6c905a83",
   "metadata": {},
   "outputs": [
    {
     "data": {
      "text/plain": [
       "array([ 4,  5,  6,  7,  8,  9, 10, 11, 12, 13, 14])"
      ]
     },
     "execution_count": 30,
     "metadata": {},
     "output_type": "execute_result"
    }
   ],
   "source": [
    "a2=np.arange(4,15)\n",
    "a2"
   ]
  },
  {
   "cell_type": "code",
   "execution_count": 63,
   "id": "f2af2e9d-ed42-4582-a858-03c080c0123d",
   "metadata": {},
   "outputs": [
    {
     "data": {
      "text/plain": [
       "array([ 4,  7, 10, 13, 16, 19, 22])"
      ]
     },
     "execution_count": 63,
     "metadata": {},
     "output_type": "execute_result"
    }
   ],
   "source": [
    "# last number of array would be <=24 (second input-1)\n",
    "a3=np.arange(4,25,3)\n",
    "a3"
   ]
  },
  {
   "cell_type": "code",
   "execution_count": 59,
   "id": "f1be728b-cb60-4e20-ad56-ae03386ac67b",
   "metadata": {},
   "outputs": [
    {
     "data": {
      "text/plain": [
       "array([40, 38, 36, 34, 32, 30, 28, 26, 24, 22, 20, 18, 16, 14, 12, 10,  8,\n",
       "        6])"
      ]
     },
     "execution_count": 59,
     "metadata": {},
     "output_type": "execute_result"
    }
   ],
   "source": [
    "a3=np.arange(40,5,-2)  #last number of the array would be >=6 (second input+1)\n",
    "a3"
   ]
  },
  {
   "cell_type": "code",
   "execution_count": 65,
   "id": "0c6ee0a6-05e3-4961-9ac6-8c0e2583cdf1",
   "metadata": {},
   "outputs": [],
   "source": [
    "k1=[6,4,7,9,8,2]"
   ]
  },
  {
   "cell_type": "code",
   "execution_count": 67,
   "id": "c5d2be7f-0b98-4162-8826-b29aecf80669",
   "metadata": {},
   "outputs": [],
   "source": [
    "a1=np.array(k1)"
   ]
  },
  {
   "cell_type": "code",
   "execution_count": 69,
   "id": "5f389261-95e7-46a2-bbc4-5ad2633ee5d7",
   "metadata": {},
   "outputs": [
    {
     "data": {
      "text/plain": [
       "array([6, 4, 7, 9, 8, 2])"
      ]
     },
     "execution_count": 69,
     "metadata": {},
     "output_type": "execute_result"
    }
   ],
   "source": [
    "a1"
   ]
  },
  {
   "cell_type": "code",
   "execution_count": 71,
   "id": "5d35339d-a960-49a8-a2e0-ae8da0dc6365",
   "metadata": {},
   "outputs": [
    {
     "data": {
      "text/plain": [
       "list"
      ]
     },
     "execution_count": 71,
     "metadata": {},
     "output_type": "execute_result"
    }
   ],
   "source": [
    "type(k1)"
   ]
  },
  {
   "cell_type": "code",
   "execution_count": 73,
   "id": "6660072b-0577-41f0-a498-86d1a6575959",
   "metadata": {},
   "outputs": [
    {
     "data": {
      "text/plain": [
       "numpy.ndarray"
      ]
     },
     "execution_count": 73,
     "metadata": {},
     "output_type": "execute_result"
    }
   ],
   "source": [
    "type(a1)"
   ]
  },
  {
   "cell_type": "code",
   "execution_count": 75,
   "id": "c4608cb1-3c73-4608-8d10-d7dce4f4a0da",
   "metadata": {},
   "outputs": [],
   "source": [
    "a1=np.append(a1,7) # appends the value at the last position "
   ]
  },
  {
   "cell_type": "code",
   "execution_count": 77,
   "id": "a2b06edb-93e6-4cf2-99bd-f335c22e6450",
   "metadata": {},
   "outputs": [
    {
     "data": {
      "text/plain": [
       "array([6, 4, 7, 9, 8, 2, 7])"
      ]
     },
     "execution_count": 77,
     "metadata": {},
     "output_type": "execute_result"
    }
   ],
   "source": [
    "a1"
   ]
  },
  {
   "cell_type": "code",
   "execution_count": 79,
   "id": "3ff5d14b-0d5e-4d4b-9a50-d18ab02029b1",
   "metadata": {},
   "outputs": [],
   "source": [
    "a2 = np.array([4,3,7,6])"
   ]
  },
  {
   "cell_type": "code",
   "execution_count": 83,
   "id": "82c79c9a-724c-4e62-89b4-02671f9ae4f7",
   "metadata": {},
   "outputs": [],
   "source": [
    "a1= np.concatenate((a1,a2))"
   ]
  },
  {
   "cell_type": "code",
   "execution_count": 85,
   "id": "edf3662d-f17e-439d-abe1-86c43c1e03b5",
   "metadata": {},
   "outputs": [
    {
     "data": {
      "text/plain": [
       "array([6, 4, 7, 9, 8, 2, 7, 4, 3, 7, 6])"
      ]
     },
     "execution_count": 85,
     "metadata": {},
     "output_type": "execute_result"
    }
   ],
   "source": [
    "a1"
   ]
  },
  {
   "cell_type": "code",
   "execution_count": 87,
   "id": "0e208764-db65-41bb-a054-dbfcf5fe3f24",
   "metadata": {},
   "outputs": [],
   "source": [
    "a1 = np.insert(a1,3,7) # insert at index 3"
   ]
  },
  {
   "cell_type": "code",
   "execution_count": 89,
   "id": "b55f33f4-e300-4a12-8f85-95064197f603",
   "metadata": {},
   "outputs": [
    {
     "data": {
      "text/plain": [
       "array([6, 4, 7, 7, 9, 8, 2, 7, 4, 3, 7, 6])"
      ]
     },
     "execution_count": 89,
     "metadata": {},
     "output_type": "execute_result"
    }
   ],
   "source": [
    "a1"
   ]
  },
  {
   "cell_type": "code",
   "execution_count": 91,
   "id": "2524fcd0-4d85-4bbd-8e8d-949d897c56ac",
   "metadata": {},
   "outputs": [
    {
     "data": {
      "text/plain": [
       "array([6, 4, 7, 7, 9, 2, 7, 4, 3, 7, 6])"
      ]
     },
     "execution_count": 91,
     "metadata": {},
     "output_type": "execute_result"
    }
   ],
   "source": [
    "a1=np.delete(a1,5) # delte value from index number 5 \n",
    "a1"
   ]
  },
  {
   "cell_type": "code",
   "execution_count": 99,
   "id": "0be6d3d4-6dcb-4773-a23f-be0c3d0f1651",
   "metadata": {},
   "outputs": [
    {
     "data": {
      "text/plain": [
       "[6, 8, 4, 3]"
      ]
     },
     "execution_count": 99,
     "metadata": {},
     "output_type": "execute_result"
    }
   ],
   "source": [
    "p1=[6,8,4,3]\n",
    "p1"
   ]
  },
  {
   "cell_type": "code",
   "execution_count": 103,
   "id": "6567ebd5-9fea-4706-8451-70eb97b4fd9a",
   "metadata": {},
   "outputs": [
    {
     "data": {
      "text/plain": [
       "[4, 5, 1, 7]"
      ]
     },
     "execution_count": 103,
     "metadata": {},
     "output_type": "execute_result"
    }
   ],
   "source": [
    "p2=[4,5,1,7]\n",
    "p2"
   ]
  },
  {
   "cell_type": "code",
   "execution_count": 119,
   "id": "a4bbbe47-27b4-4a1f-a19f-08f8dc57ec65",
   "metadata": {},
   "outputs": [
    {
     "data": {
      "text/plain": [
       "array([[6, 8, 4, 3],\n",
       "       [4, 5, 1, 7]])"
      ]
     },
     "execution_count": 119,
     "metadata": {},
     "output_type": "execute_result"
    }
   ],
   "source": [
    "a2=np.array([p1,p2])\n",
    "a2"
   ]
  },
  {
   "cell_type": "code",
   "execution_count": 111,
   "id": "08407d72-b87d-4a48-a361-bf3af579d6fc",
   "metadata": {},
   "outputs": [
    {
     "data": {
      "text/plain": [
       "array([4, 7, 5, 8, 9])"
      ]
     },
     "execution_count": 111,
     "metadata": {},
     "output_type": "execute_result"
    }
   ],
   "source": [
    "a3=np.array([4,7,5,8,9])\n",
    "a3"
   ]
  },
  {
   "cell_type": "code",
   "execution_count": 123,
   "id": "ceabb9f1-0081-492e-82ec-42708f1d6bd0",
   "metadata": {},
   "outputs": [
    {
     "data": {
      "text/plain": [
       "(5,)"
      ]
     },
     "execution_count": 123,
     "metadata": {},
     "output_type": "execute_result"
    }
   ],
   "source": [
    "a3.shape"
   ]
  },
  {
   "cell_type": "code",
   "execution_count": 125,
   "id": "101a0b49-11bc-4972-b2a7-ca8148a8855a",
   "metadata": {},
   "outputs": [
    {
     "data": {
      "text/plain": [
       "(2, 4)"
      ]
     },
     "execution_count": 125,
     "metadata": {},
     "output_type": "execute_result"
    }
   ],
   "source": [
    "a2.shape"
   ]
  },
  {
   "cell_type": "code",
   "execution_count": 143,
   "id": "d841ac82-8cb0-479b-97ad-21190d05dc5a",
   "metadata": {},
   "outputs": [],
   "source": [
    "a2 =np.array([[3,4,5,6,7],[3,4,5,6,8],[4,5,8,6,9]])"
   ]
  },
  {
   "cell_type": "code",
   "execution_count": 145,
   "id": "4d2b7f74-ac13-4f02-b0ad-47138f670d68",
   "metadata": {},
   "outputs": [
    {
     "data": {
      "text/plain": [
       "array([[3, 4, 5, 6, 7],\n",
       "       [3, 4, 5, 6, 8],\n",
       "       [4, 5, 8, 6, 9]])"
      ]
     },
     "execution_count": 145,
     "metadata": {},
     "output_type": "execute_result"
    }
   ],
   "source": [
    "a2"
   ]
  },
  {
   "cell_type": "code",
   "execution_count": 147,
   "id": "f5f3987e-b00e-48d6-a170-0ab79cbdb1ca",
   "metadata": {},
   "outputs": [
    {
     "data": {
      "text/plain": [
       "(3, 5)"
      ]
     },
     "execution_count": 147,
     "metadata": {},
     "output_type": "execute_result"
    }
   ],
   "source": [
    "a2.shape"
   ]
  },
  {
   "cell_type": "code",
   "execution_count": 10,
   "id": "bf53be2f-5946-403c-af2e-909ba3458401",
   "metadata": {},
   "outputs": [
    {
     "data": {
      "text/plain": [
       "array([3, 4, 5, 6, 8, 9, 2, 3, 4, 5, 6, 5])"
      ]
     },
     "execution_count": 10,
     "metadata": {},
     "output_type": "execute_result"
    }
   ],
   "source": [
    "a4 =np.array([3,4,5,6,8,9,2,3,4,5,6,5])\n",
    "a4"
   ]
  },
  {
   "cell_type": "code",
   "execution_count": 12,
   "id": "75860c05-34d4-4230-944e-3139f452e559",
   "metadata": {},
   "outputs": [
    {
     "data": {
      "text/plain": [
       "12"
      ]
     },
     "execution_count": 12,
     "metadata": {},
     "output_type": "execute_result"
    }
   ],
   "source": [
    "len(a4)"
   ]
  },
  {
   "cell_type": "code",
   "execution_count": 14,
   "id": "616b610d-b387-4f75-9a0d-d2406c540d11",
   "metadata": {},
   "outputs": [],
   "source": [
    "a5=a4.reshape(3,4)"
   ]
  },
  {
   "cell_type": "code",
   "execution_count": 16,
   "id": "508da293-84fa-42c8-af6f-ff9da35e9145",
   "metadata": {},
   "outputs": [
    {
     "data": {
      "text/plain": [
       "array([[3, 4, 5, 6],\n",
       "       [8, 9, 2, 3],\n",
       "       [4, 5, 6, 5]])"
      ]
     },
     "execution_count": 16,
     "metadata": {},
     "output_type": "execute_result"
    }
   ],
   "source": [
    "a5"
   ]
  },
  {
   "cell_type": "code",
   "execution_count": 20,
   "id": "00d2cbf0-0701-41e4-9c90-50d4eb2323ef",
   "metadata": {},
   "outputs": [
    {
     "data": {
      "text/plain": [
       "array([4, 5, 6, 5])"
      ]
     },
     "execution_count": 20,
     "metadata": {},
     "output_type": "execute_result"
    }
   ],
   "source": [
    "a5[2]"
   ]
  },
  {
   "cell_type": "code",
   "execution_count": 22,
   "id": "a7c729cb-a0e0-48bb-aeb1-ca640a8724fe",
   "metadata": {},
   "outputs": [
    {
     "data": {
      "text/plain": [
       "array([5, 2, 6])"
      ]
     },
     "execution_count": 22,
     "metadata": {},
     "output_type": "execute_result"
    }
   ],
   "source": [
    "a5[:,2] # for extracting column index 2 ot third column "
   ]
  },
  {
   "cell_type": "code",
   "execution_count": 24,
   "id": "f3f77662-dd44-48ad-ab8b-714983b6d460",
   "metadata": {},
   "outputs": [
    {
     "data": {
      "text/plain": [
       "2"
      ]
     },
     "execution_count": 24,
     "metadata": {},
     "output_type": "execute_result"
    }
   ],
   "source": [
    "a5[1][2] # extracts the values from 2nd row and 3rd column "
   ]
  },
  {
   "cell_type": "code",
   "execution_count": 26,
   "id": "ec7714a6-6ce5-4d7b-b0da-908f46269098",
   "metadata": {},
   "outputs": [
    {
     "data": {
      "text/plain": [
       "array([[3, 4, 5, 6],\n",
       "       [4, 5, 6, 5]])"
      ]
     },
     "execution_count": 26,
     "metadata": {},
     "output_type": "execute_result"
    }
   ],
   "source": [
    "a5[[0,2]] # multiple row "
   ]
  },
  {
   "cell_type": "code",
   "execution_count": 30,
   "id": "a4540ee3-8cef-4c2c-9e3b-1d823f15ca5a",
   "metadata": {},
   "outputs": [
    {
     "data": {
      "text/plain": [
       "array([[3, 5],\n",
       "       [8, 2],\n",
       "       [4, 6]])"
      ]
     },
     "execution_count": 30,
     "metadata": {},
     "output_type": "execute_result"
    }
   ],
   "source": [
    "a5[:,[0,2]]"
   ]
  },
  {
   "cell_type": "code",
   "execution_count": 60,
   "id": "4ce7ad26-884d-4579-9509-6ff5313a2423",
   "metadata": {},
   "outputs": [],
   "source": [
    "newr=np.array([5,6,7,2])"
   ]
  },
  {
   "cell_type": "code",
   "execution_count": 62,
   "id": "0861446c-aee2-4c1f-a24a-457c1f41821e",
   "metadata": {},
   "outputs": [],
   "source": [
    "# add new row  using vstack \n",
    "a5=np.vstack([a5,newa5])"
   ]
  },
  {
   "cell_type": "code",
   "execution_count": 64,
   "id": "c0f57390-e602-435e-8cf5-27068a4087b1",
   "metadata": {},
   "outputs": [
    {
     "data": {
      "text/plain": [
       "array([[3, 4, 5, 6],\n",
       "       [8, 9, 2, 3],\n",
       "       [4, 5, 6, 5],\n",
       "       [5, 6, 7, 2],\n",
       "       [5, 6, 7, 2]])"
      ]
     },
     "execution_count": 64,
     "metadata": {},
     "output_type": "execute_result"
    }
   ],
   "source": [
    "a5"
   ]
  },
  {
   "cell_type": "code",
   "execution_count": 68,
   "id": "9433d48f-5916-4b4c-bbbd-3e575b7d39a8",
   "metadata": {},
   "outputs": [],
   "source": [
    "# add new column \n",
    "newc1=np.array([4,8,7,1,2])"
   ]
  },
  {
   "cell_type": "code",
   "execution_count": 70,
   "id": "79cfa356-590b-4611-9a7e-507a9b70c8ab",
   "metadata": {},
   "outputs": [],
   "source": [
    "newc1=newc1.reshape(5,1)"
   ]
  },
  {
   "cell_type": "code",
   "execution_count": 72,
   "id": "bf10065b-438f-411d-b26e-7b6d48538da9",
   "metadata": {},
   "outputs": [
    {
     "data": {
      "text/plain": [
       "array([[4],\n",
       "       [8],\n",
       "       [7],\n",
       "       [1],\n",
       "       [2]])"
      ]
     },
     "execution_count": 72,
     "metadata": {},
     "output_type": "execute_result"
    }
   ],
   "source": [
    "newc1"
   ]
  },
  {
   "cell_type": "code",
   "execution_count": 76,
   "id": "cd71e3fc-e22b-4a19-9501-329268909214",
   "metadata": {},
   "outputs": [],
   "source": [
    "a5= np.hstack([a5,newc1])"
   ]
  },
  {
   "cell_type": "code",
   "execution_count": 78,
   "id": "48f77d6b-dc98-4a3a-83c6-3d105af3a7a8",
   "metadata": {},
   "outputs": [
    {
     "data": {
      "text/plain": [
       "array([[3, 4, 5, 6, 4],\n",
       "       [8, 9, 2, 3, 8],\n",
       "       [4, 5, 6, 5, 7],\n",
       "       [5, 6, 7, 2, 1],\n",
       "       [5, 6, 7, 2, 2]])"
      ]
     },
     "execution_count": 78,
     "metadata": {},
     "output_type": "execute_result"
    }
   ],
   "source": [
    "a5"
   ]
  },
  {
   "cell_type": "code",
   "execution_count": 80,
   "id": "76db0c7a-f298-4898-90a4-f58ce1ea6fa1",
   "metadata": {},
   "outputs": [
    {
     "data": {
      "text/plain": [
       "(5, 5)"
      ]
     },
     "execution_count": 80,
     "metadata": {},
     "output_type": "execute_result"
    }
   ],
   "source": [
    "a5.shape"
   ]
  },
  {
   "cell_type": "code",
   "execution_count": 88,
   "id": "1bc937c2-99a7-481c-bf56-a46ef2383057",
   "metadata": {},
   "outputs": [],
   "source": [
    "a5 = np.insert(a5,2,[3,6,7,5,9],axis=0)"
   ]
  },
  {
   "cell_type": "code",
   "execution_count": 96,
   "id": "3da655b5-bac2-4df2-83a6-e62a9eb1f93e",
   "metadata": {},
   "outputs": [
    {
     "data": {
      "text/plain": [
       "array([[3, 4, 5, 6, 4],\n",
       "       [8, 9, 2, 3, 8],\n",
       "       [3, 6, 7, 5, 9],\n",
       "       [3, 6, 7, 5, 9],\n",
       "       [4, 5, 6, 5, 7],\n",
       "       [5, 6, 7, 2, 1],\n",
       "       [5, 6, 7, 2, 2]])"
      ]
     },
     "execution_count": 96,
     "metadata": {},
     "output_type": "execute_result"
    }
   ],
   "source": [
    "a5"
   ]
  },
  {
   "cell_type": "code",
   "execution_count": 99,
   "id": "105cc7cb-2e44-49c0-9a18-4dbd1cbaaa0a",
   "metadata": {},
   "outputs": [],
   "source": [
    "a5=np.insert(a5,3,[3,4,5,6,8,9,5],axis=1)"
   ]
  },
  {
   "cell_type": "code",
   "execution_count": 101,
   "id": "d09cd87b-456f-4deb-916a-f740fe2b19a0",
   "metadata": {},
   "outputs": [
    {
     "data": {
      "text/plain": [
       "array([[3, 4, 5, 3, 6, 4],\n",
       "       [8, 9, 2, 4, 3, 8],\n",
       "       [3, 6, 7, 5, 5, 9],\n",
       "       [3, 6, 7, 6, 5, 9],\n",
       "       [4, 5, 6, 8, 5, 7],\n",
       "       [5, 6, 7, 9, 2, 1],\n",
       "       [5, 6, 7, 5, 2, 2]])"
      ]
     },
     "execution_count": 101,
     "metadata": {},
     "output_type": "execute_result"
    }
   ],
   "source": [
    "a5"
   ]
  },
  {
   "cell_type": "code",
   "execution_count": 103,
   "id": "ed017d31-31c2-460e-88b6-9f9cdc72caf5",
   "metadata": {},
   "outputs": [],
   "source": [
    "a5=np.delete(a5,(3,6),axis=0)"
   ]
  },
  {
   "cell_type": "code",
   "execution_count": 105,
   "id": "4222d0fa-9a0b-43b6-ac19-32e083e1fa5a",
   "metadata": {},
   "outputs": [
    {
     "data": {
      "text/plain": [
       "array([[3, 4, 5, 3, 6, 4],\n",
       "       [8, 9, 2, 4, 3, 8],\n",
       "       [3, 6, 7, 5, 5, 9],\n",
       "       [4, 5, 6, 8, 5, 7],\n",
       "       [5, 6, 7, 9, 2, 1]])"
      ]
     },
     "execution_count": 105,
     "metadata": {},
     "output_type": "execute_result"
    }
   ],
   "source": [
    "a5"
   ]
  },
  {
   "cell_type": "code",
   "execution_count": 107,
   "id": "8beb94cf-8ba1-4c96-884b-0a9831e4329c",
   "metadata": {},
   "outputs": [],
   "source": [
    "a5=np.delete(a5,(4),axis=1)"
   ]
  },
  {
   "cell_type": "code",
   "execution_count": 109,
   "id": "0a75c296-8571-468f-84d5-1cae6165f382",
   "metadata": {},
   "outputs": [
    {
     "data": {
      "text/plain": [
       "array([[3, 4, 5, 3, 4],\n",
       "       [8, 9, 2, 4, 8],\n",
       "       [3, 6, 7, 5, 9],\n",
       "       [4, 5, 6, 8, 7],\n",
       "       [5, 6, 7, 9, 1]])"
      ]
     },
     "execution_count": 109,
     "metadata": {},
     "output_type": "execute_result"
    }
   ],
   "source": [
    "a5"
   ]
  },
  {
   "cell_type": "code",
   "execution_count": 113,
   "id": "44987137-9af3-4397-aac5-4386e65dc0ac",
   "metadata": {},
   "outputs": [
    {
     "data": {
      "text/plain": [
       "5"
      ]
     },
     "execution_count": 113,
     "metadata": {},
     "output_type": "execute_result"
    }
   ],
   "source": [
    "a5.size\n",
    "len(a5)"
   ]
  },
  {
   "cell_type": "code",
   "execution_count": 115,
   "id": "701e269b-297c-4c46-8f05-f89c7cb6c766",
   "metadata": {},
   "outputs": [],
   "source": [
    "x2=np.arange(24)"
   ]
  },
  {
   "cell_type": "code",
   "execution_count": 117,
   "id": "57900dfe-55fa-4a5c-bf43-989e4578f075",
   "metadata": {},
   "outputs": [],
   "source": [
    "x2=x2.reshape(4,3,2)"
   ]
  },
  {
   "cell_type": "code",
   "execution_count": 119,
   "id": "2a558e9c-0006-4f26-92ca-9334eda716fd",
   "metadata": {},
   "outputs": [
    {
     "data": {
      "text/plain": [
       "array([[[ 0,  1],\n",
       "        [ 2,  3],\n",
       "        [ 4,  5]],\n",
       "\n",
       "       [[ 6,  7],\n",
       "        [ 8,  9],\n",
       "        [10, 11]],\n",
       "\n",
       "       [[12, 13],\n",
       "        [14, 15],\n",
       "        [16, 17]],\n",
       "\n",
       "       [[18, 19],\n",
       "        [20, 21],\n",
       "        [22, 23]]])"
      ]
     },
     "execution_count": 119,
     "metadata": {},
     "output_type": "execute_result"
    }
   ],
   "source": [
    "x2"
   ]
  },
  {
   "cell_type": "code",
   "execution_count": 125,
   "id": "eaf8957c-827a-40c7-843a-ac8f22ba065b",
   "metadata": {},
   "outputs": [],
   "source": [
    "x2=np.array([2,3,4,5,6,7,8,9,5,43,2,22,5])"
   ]
  },
  {
   "cell_type": "code",
   "execution_count": 127,
   "id": "05a64752-5786-4afa-8ebd-0a1c37fbb15d",
   "metadata": {},
   "outputs": [
    {
     "data": {
      "text/plain": [
       "array([ 2,  2,  3,  4,  5,  5,  5,  6,  7,  8,  9, 22, 43])"
      ]
     },
     "execution_count": 127,
     "metadata": {},
     "output_type": "execute_result"
    }
   ],
   "source": [
    "np.sort(x2)"
   ]
  },
  {
   "cell_type": "code",
   "execution_count": 129,
   "id": "aa69b84b-37bf-4d97-b25b-18c25e7c185e",
   "metadata": {},
   "outputs": [
    {
     "data": {
      "text/plain": [
       "array([ 2,  3,  4,  5,  6,  7,  8,  9,  5, 43,  2, 22,  5])"
      ]
     },
     "execution_count": 129,
     "metadata": {},
     "output_type": "execute_result"
    }
   ],
   "source": [
    "x2"
   ]
  },
  {
   "cell_type": "code",
   "execution_count": 135,
   "id": "bb8cb378-069b-4eeb-a6d2-439f800b5494",
   "metadata": {
    "scrolled": true
   },
   "outputs": [
    {
     "data": {
      "text/plain": [
       "array([[3, 4, 2, 3, 1],\n",
       "       [3, 5, 5, 4, 4],\n",
       "       [4, 6, 6, 5, 7],\n",
       "       [5, 6, 7, 8, 8],\n",
       "       [8, 9, 7, 9, 9]])"
      ]
     },
     "execution_count": 135,
     "metadata": {},
     "output_type": "execute_result"
    }
   ],
   "source": [
    "np.sort(a5,axis=0)  # top row will get leat value "
   ]
  },
  {
   "cell_type": "code",
   "execution_count": 136,
   "id": "86b278a3-471f-462b-bf1e-9b6b74205c2c",
   "metadata": {
    "scrolled": true
   },
   "outputs": [
    {
     "data": {
      "text/plain": [
       "array([[3, 4, 5, 3, 4],\n",
       "       [8, 9, 2, 4, 8],\n",
       "       [3, 6, 7, 5, 9],\n",
       "       [4, 5, 6, 8, 7],\n",
       "       [5, 6, 7, 9, 1]])"
      ]
     },
     "execution_count": 136,
     "metadata": {},
     "output_type": "execute_result"
    }
   ],
   "source": [
    "a5"
   ]
  },
  {
   "cell_type": "code",
   "execution_count": 161,
   "id": "f3acde35-de2d-4cfc-b4ec-89a7ab934a79",
   "metadata": {},
   "outputs": [],
   "source": [
    "# broadcasting  # same command broadcasted to all the value of array "
   ]
  },
  {
   "cell_type": "code",
   "execution_count": 143,
   "id": "353c82a5-77bf-4019-b1dd-cecf0219b32a",
   "metadata": {},
   "outputs": [
    {
     "data": {
      "text/plain": [
       "array([ 2,  3,  4,  5,  6,  7,  8,  9,  5, 43,  2, 22,  5])"
      ]
     },
     "execution_count": 143,
     "metadata": {},
     "output_type": "execute_result"
    }
   ],
   "source": [
    "x2"
   ]
  },
  {
   "cell_type": "code",
   "execution_count": 145,
   "id": "a47db293-5bc8-46b4-8b13-5f66f9ef6f29",
   "metadata": {},
   "outputs": [
    {
     "data": {
      "text/plain": [
       "array([3, 7, 9])"
      ]
     },
     "execution_count": 145,
     "metadata": {},
     "output_type": "execute_result"
    }
   ],
   "source": [
    "x2[[1,5,7]]"
   ]
  },
  {
   "cell_type": "code",
   "execution_count": 147,
   "id": "efad2c95-4ad8-4fab-b115-160c01e9c7cf",
   "metadata": {},
   "outputs": [],
   "source": [
    "x3=list(x2)"
   ]
  },
  {
   "cell_type": "code",
   "execution_count": 149,
   "id": "407893c7-026e-4027-82ed-fe8eb293387a",
   "metadata": {},
   "outputs": [
    {
     "data": {
      "text/plain": [
       "[2, 3, 4, 5, 6, 7, 8, 9, 5, 43, 2, 22, 5]"
      ]
     },
     "execution_count": 149,
     "metadata": {},
     "output_type": "execute_result"
    }
   ],
   "source": [
    "x3"
   ]
  },
  {
   "cell_type": "code",
   "execution_count": 151,
   "id": "d47f4189-0953-45da-beab-1a34fee31b92",
   "metadata": {},
   "outputs": [],
   "source": [
    "x4=np.array(x3)"
   ]
  },
  {
   "cell_type": "code",
   "execution_count": 153,
   "id": "ad008299-000f-49c2-869b-35ee4da9cbca",
   "metadata": {},
   "outputs": [
    {
     "data": {
      "text/plain": [
       "array([ 2,  3,  4,  5,  6,  7,  8,  9,  5, 43,  2, 22,  5])"
      ]
     },
     "execution_count": 153,
     "metadata": {},
     "output_type": "execute_result"
    }
   ],
   "source": [
    "x4"
   ]
  },
  {
   "cell_type": "code",
   "execution_count": 155,
   "id": "1973f326-82fe-416a-a9a0-e733d301532c",
   "metadata": {},
   "outputs": [],
   "source": [
    "t=[5,6,3]"
   ]
  },
  {
   "cell_type": "code",
   "execution_count": 157,
   "id": "d6b02e56-e74f-4cda-8caa-af427932f640",
   "metadata": {},
   "outputs": [
    {
     "data": {
      "text/plain": [
       "[5, 6, 3, 5, 6, 3]"
      ]
     },
     "execution_count": 157,
     "metadata": {},
     "output_type": "execute_result"
    }
   ],
   "source": [
    "t*2"
   ]
  },
  {
   "cell_type": "code",
   "execution_count": 159,
   "id": "3a07b5e1-7172-47bb-a478-8ad0614c2a4d",
   "metadata": {},
   "outputs": [
    {
     "data": {
      "text/plain": [
       "array([ 4,  6,  8, 10, 12, 14, 16, 18, 10, 86,  4, 44, 10])"
      ]
     },
     "execution_count": 159,
     "metadata": {},
     "output_type": "execute_result"
    }
   ],
   "source": [
    "x2*2"
   ]
  },
  {
   "cell_type": "code",
   "execution_count": 165,
   "id": "512f59d9-b64e-470d-b4d3-08993386286d",
   "metadata": {},
   "outputs": [
    {
     "data": {
      "text/plain": [
       "array([ 2,  3,  4,  5,  6,  7,  8,  9,  5, 43,  2, 22,  5])"
      ]
     },
     "execution_count": 165,
     "metadata": {},
     "output_type": "execute_result"
    }
   ],
   "source": [
    "x2"
   ]
  },
  {
   "cell_type": "code",
   "execution_count": 167,
   "id": "1c2b593a-122d-4c5d-94ab-48c30f3ac891",
   "metadata": {},
   "outputs": [
    {
     "data": {
      "text/plain": [
       "array([  6,   9,  12,  15,  18,  21,  24,  27,  15, 129,   6,  66,  15])"
      ]
     },
     "execution_count": 167,
     "metadata": {},
     "output_type": "execute_result"
    }
   ],
   "source": [
    "x2*3"
   ]
  },
  {
   "cell_type": "code",
   "execution_count": 169,
   "id": "2067812e-4fcd-4292-bbee-f5462041e5ee",
   "metadata": {},
   "outputs": [
    {
     "data": {
      "text/plain": [
       "array([ 5,  6,  7,  8,  9, 10, 11, 12,  8, 46,  5, 25,  8])"
      ]
     },
     "execution_count": 169,
     "metadata": {},
     "output_type": "execute_result"
    }
   ],
   "source": [
    "x2+3"
   ]
  },
  {
   "cell_type": "code",
   "execution_count": 171,
   "id": "69eb3e07-7634-4ca3-b78e-607d23293de4",
   "metadata": {},
   "outputs": [
    {
     "data": {
      "text/plain": [
       "array([[3, 4, 5, 3, 4],\n",
       "       [8, 9, 2, 4, 8],\n",
       "       [3, 6, 7, 5, 9],\n",
       "       [4, 5, 6, 8, 7],\n",
       "       [5, 6, 7, 9, 1]])"
      ]
     },
     "execution_count": 171,
     "metadata": {},
     "output_type": "execute_result"
    }
   ],
   "source": [
    "a5   "
   ]
  },
  {
   "cell_type": "code",
   "execution_count": 173,
   "id": "34dc7258-a117-4e59-aaaa-54ead1b468a2",
   "metadata": {},
   "outputs": [],
   "source": [
    "# to broadcast to 2d array \n",
    "x3=np.array([1,2,3,4,5])"
   ]
  },
  {
   "cell_type": "code",
   "execution_count": 175,
   "id": "b7b72797-f879-4bbc-beb6-cad9d70daca2",
   "metadata": {},
   "outputs": [
    {
     "data": {
      "text/plain": [
       "array([[ 4,  6,  8,  7,  9],\n",
       "       [ 9, 11,  5,  8, 13],\n",
       "       [ 4,  8, 10,  9, 14],\n",
       "       [ 5,  7,  9, 12, 12],\n",
       "       [ 6,  8, 10, 13,  6]])"
      ]
     },
     "execution_count": 175,
     "metadata": {},
     "output_type": "execute_result"
    }
   ],
   "source": [
    "x3+a5"
   ]
  },
  {
   "cell_type": "code",
   "execution_count": 177,
   "id": "f2565e83-97d9-4bce-b6b1-e8d7404c8297",
   "metadata": {},
   "outputs": [
    {
     "data": {
      "text/plain": [
       "array([[3, 4, 5, 3, 4],\n",
       "       [8, 9, 2, 4, 8],\n",
       "       [3, 6, 7, 5, 9],\n",
       "       [4, 5, 6, 8, 7],\n",
       "       [5, 6, 7, 9, 1]])"
      ]
     },
     "execution_count": 177,
     "metadata": {},
     "output_type": "execute_result"
    }
   ],
   "source": [
    "a5"
   ]
  },
  {
   "cell_type": "code",
   "execution_count": 179,
   "id": "0837d75f-0cb5-493c-ba72-235accadd3ba",
   "metadata": {},
   "outputs": [],
   "source": [
    "x4=np.array([1,2,3,4,5])"
   ]
  },
  {
   "cell_type": "code",
   "execution_count": 181,
   "id": "c57edf49-c1fa-4a9f-914c-dc208f0b2710",
   "metadata": {},
   "outputs": [],
   "source": [
    "x4=x4.reshape(5,1)"
   ]
  },
  {
   "cell_type": "code",
   "execution_count": 183,
   "id": "e069d461-49d1-450f-9ff3-2353fd1e816c",
   "metadata": {},
   "outputs": [
    {
     "data": {
      "text/plain": [
       "array([[1],\n",
       "       [2],\n",
       "       [3],\n",
       "       [4],\n",
       "       [5]])"
      ]
     },
     "execution_count": 183,
     "metadata": {},
     "output_type": "execute_result"
    }
   ],
   "source": [
    "x4   # broadcast columns values "
   ]
  },
  {
   "cell_type": "code",
   "execution_count": 187,
   "id": "f3e91269-08d9-4c6a-8807-31d73837cf14",
   "metadata": {},
   "outputs": [
    {
     "data": {
      "text/plain": [
       "array([[3, 4, 5, 3, 4],\n",
       "       [8, 9, 2, 4, 8],\n",
       "       [3, 6, 7, 5, 9],\n",
       "       [4, 5, 6, 8, 7],\n",
       "       [5, 6, 7, 9, 1]])"
      ]
     },
     "execution_count": 187,
     "metadata": {},
     "output_type": "execute_result"
    }
   ],
   "source": [
    "a5"
   ]
  },
  {
   "cell_type": "code",
   "execution_count": 189,
   "id": "fc0657aa-fc3d-4b5e-87a5-5a14e795731e",
   "metadata": {},
   "outputs": [
    {
     "data": {
      "text/plain": [
       "array([[ 4,  5,  6,  4,  5],\n",
       "       [10, 11,  4,  6, 10],\n",
       "       [ 6,  9, 10,  8, 12],\n",
       "       [ 8,  9, 10, 12, 11],\n",
       "       [10, 11, 12, 14,  6]])"
      ]
     },
     "execution_count": 189,
     "metadata": {},
     "output_type": "execute_result"
    }
   ],
   "source": [
    "a5+x4   # adding column ot column "
   ]
  },
  {
   "cell_type": "code",
   "execution_count": 191,
   "id": "7001f6be-1342-4d11-bd2a-82bdda1efa34",
   "metadata": {},
   "outputs": [
    {
     "data": {
      "text/plain": [
       "array([ 2,  3,  4,  5,  6,  7,  8,  9,  5, 43,  2, 22,  5])"
      ]
     },
     "execution_count": 191,
     "metadata": {},
     "output_type": "execute_result"
    }
   ],
   "source": [
    "x2"
   ]
  },
  {
   "cell_type": "code",
   "execution_count": 193,
   "id": "45b5dcaf-f3ae-4d59-9774-8671f87e5fa9",
   "metadata": {},
   "outputs": [],
   "source": [
    "# input to the np.where command is a condition to be check or logical array , ouput of np.where command is list of indice where condition is found to be true "
   ]
  },
  {
   "cell_type": "code",
   "execution_count": 195,
   "id": "cb156158-24ff-4942-b7cc-04016c2c15d6",
   "metadata": {},
   "outputs": [
    {
     "data": {
      "text/plain": [
       "array([ True,  True,  True, False, False, False, False, False, False,\n",
       "       False,  True, False, False])"
      ]
     },
     "execution_count": 195,
     "metadata": {},
     "output_type": "execute_result"
    }
   ],
   "source": [
    "x2<5"
   ]
  },
  {
   "cell_type": "code",
   "execution_count": 205,
   "id": "40f9d0fa-18db-4033-a21f-c748b64ff3d8",
   "metadata": {},
   "outputs": [
    {
     "data": {
      "text/plain": [
       "(array([ 0,  1,  2, 10], dtype=int64),)"
      ]
     },
     "execution_count": 205,
     "metadata": {},
     "output_type": "execute_result"
    }
   ],
   "source": [
    "t1=np.where(x2<5)\n",
    "t1"
   ]
  },
  {
   "cell_type": "code",
   "execution_count": 201,
   "id": "056799dc-ed2f-48d5-9502-19a7b48c086c",
   "metadata": {},
   "outputs": [
    {
     "data": {
      "text/plain": [
       "1"
      ]
     },
     "execution_count": 201,
     "metadata": {},
     "output_type": "execute_result"
    }
   ],
   "source": [
    "len(t1) # before  saving entire array as 1 enity , 2nd will come in 2d array "
   ]
  },
  {
   "cell_type": "code",
   "execution_count": 207,
   "id": "5018cd6a-13a4-4da8-8f99-0a8c599c9060",
   "metadata": {},
   "outputs": [
    {
     "data": {
      "text/plain": [
       "4"
      ]
     },
     "execution_count": 207,
     "metadata": {},
     "output_type": "execute_result"
    }
   ],
   "source": [
    "len(t1[0])"
   ]
  },
  {
   "cell_type": "code",
   "execution_count": 209,
   "id": "bb190d11-b7b9-49a1-8536-0bf071678d56",
   "metadata": {},
   "outputs": [],
   "source": [
    "x3=np.array([5,4,7,1,4,8,9,2,1,6,5])\n",
    "# how  many values fullfill the criteria \n",
    "# where are values written in the array x3 which fulfill the criteria \n",
    "# what are values in the array x3 which fulfil the criteria "
   ]
  },
  {
   "cell_type": "code",
   "execution_count": 211,
   "id": "35b80556-b1a8-4b7a-85fc-239d1fcb76bc",
   "metadata": {},
   "outputs": [
    {
     "data": {
      "text/plain": [
       "array([5, 4, 7, 1, 4, 8, 9, 2, 1, 6, 5])"
      ]
     },
     "execution_count": 211,
     "metadata": {},
     "output_type": "execute_result"
    }
   ],
   "source": [
    "x3"
   ]
  },
  {
   "cell_type": "code",
   "execution_count": 217,
   "id": "6a92da8b-d308-4076-96b6-9ceb8e5d2529",
   "metadata": {},
   "outputs": [
    {
     "data": {
      "text/plain": [
       "8"
      ]
     },
     "execution_count": 217,
     "metadata": {},
     "output_type": "execute_result"
    }
   ],
   "source": [
    "(x3>=4).sum()"
   ]
  },
  {
   "cell_type": "code",
   "execution_count": 238,
   "id": "fb74cb1f-6615-4a7d-bd84-313ede79fd95",
   "metadata": {},
   "outputs": [
    {
     "data": {
      "text/plain": [
       "array([ 0,  1,  2,  4,  5,  6,  9, 10], dtype=int64)"
      ]
     },
     "execution_count": 238,
     "metadata": {},
     "output_type": "execute_result"
    }
   ],
   "source": [
    "np.where(x3>=4)[0]\n"
   ]
  },
  {
   "cell_type": "code",
   "execution_count": 242,
   "id": "3bebc05d-8597-4b2f-baac-5c872c1b6a13",
   "metadata": {},
   "outputs": [
    {
     "data": {
      "text/plain": [
       "8"
      ]
     },
     "execution_count": 242,
     "metadata": {},
     "output_type": "execute_result"
    }
   ],
   "source": [
    "len(np.where(x3>=4)[0]) # how  many values fullfill the criteria "
   ]
  },
  {
   "cell_type": "code",
   "execution_count": 246,
   "id": "f583ae8d-7b6a-46cf-a43a-794943fd4c3d",
   "metadata": {},
   "outputs": [
    {
     "data": {
      "text/plain": [
       "array([ 0,  1,  2,  4,  5,  6,  9, 10], dtype=int64)"
      ]
     },
     "execution_count": 246,
     "metadata": {},
     "output_type": "execute_result"
    }
   ],
   "source": [
    "t1=np.where(x3>=4)[0] # where are values written in the array x3 which fulfill the criteria \n",
    "t1"
   ]
  },
  {
   "cell_type": "code",
   "execution_count": 254,
   "id": "dfc9fabc-e65c-45f3-b6ed-5d9141f5c0e3",
   "metadata": {},
   "outputs": [
    {
     "data": {
      "text/plain": [
       "array([5, 4, 7, 4, 8, 9, 6, 5])"
      ]
     },
     "execution_count": 254,
     "metadata": {},
     "output_type": "execute_result"
    }
   ],
   "source": [
    "x3\n",
    "x3[t1]\n"
   ]
  },
  {
   "cell_type": "code",
   "execution_count": 260,
   "id": "4df63864-33d1-4213-9a53-626951fdb4dc",
   "metadata": {},
   "outputs": [
    {
     "data": {
      "text/plain": [
       "array([3, 4, 5, 6, 7, 8, 2])"
      ]
     },
     "execution_count": 260,
     "metadata": {},
     "output_type": "execute_result"
    }
   ],
   "source": [
    "v=np.array([3,4,5,6,7,8,2])\n",
    "v"
   ]
  },
  {
   "cell_type": "code",
   "execution_count": 264,
   "id": "9f5c569a-423c-4c44-800c-1b9e19802d6f",
   "metadata": {},
   "outputs": [
    {
     "data": {
      "text/plain": [
       "array([1, 3, 5, 6], dtype=int64)"
      ]
     },
     "execution_count": 264,
     "metadata": {},
     "output_type": "execute_result"
    }
   ],
   "source": [
    "np.where(v%2==0)[0]"
   ]
  },
  {
   "cell_type": "code",
   "execution_count": 266,
   "id": "8a554d9d-5682-44ba-af15-828791432cdd",
   "metadata": {},
   "outputs": [
    {
     "data": {
      "text/plain": [
       "4"
      ]
     },
     "execution_count": 266,
     "metadata": {},
     "output_type": "execute_result"
    }
   ],
   "source": [
    "len(np.where(v%2==0)[0])"
   ]
  },
  {
   "cell_type": "code",
   "execution_count": 268,
   "id": "04a36b87-f9bc-4811-a7a4-6c7e6987d888",
   "metadata": {},
   "outputs": [],
   "source": [
    "t=np.where(v%2==0)[0]"
   ]
  },
  {
   "cell_type": "code",
   "execution_count": 272,
   "id": "0feb0490-4825-49cf-b639-0f585ba4fb89",
   "metadata": {},
   "outputs": [
    {
     "data": {
      "text/plain": [
       "array([4, 6, 8, 2])"
      ]
     },
     "execution_count": 272,
     "metadata": {},
     "output_type": "execute_result"
    }
   ],
   "source": [
    " v[t]"
   ]
  },
  {
   "cell_type": "code",
   "execution_count": 274,
   "id": "2dcf9301-69dc-4cc8-a9ea-78d7594f0630",
   "metadata": {},
   "outputs": [
    {
     "data": {
      "text/plain": [
       "array([[3, 4, 5, 6, 4],\n",
       "       [8, 9, 2, 3, 8],\n",
       "       [4, 5, 6, 5, 7],\n",
       "       [5, 6, 7, 2, 1],\n",
       "       [5, 6, 7, 2, 2]])"
      ]
     },
     "execution_count": 274,
     "metadata": {},
     "output_type": "execute_result"
    }
   ],
   "source": [
    "x1"
   ]
  },
  {
   "cell_type": "code",
   "execution_count": 276,
   "id": "38e18bac-e42b-406c-b79c-d30d9e683e56",
   "metadata": {},
   "outputs": [
    {
     "data": {
      "text/plain": [
       "(array([0, 0, 1, 1, 1, 2, 2, 2, 2, 3, 3, 3, 4, 4, 4], dtype=int64),\n",
       " array([2, 3, 0, 1, 4, 1, 2, 3, 4, 0, 1, 2, 0, 1, 2], dtype=int64))"
      ]
     },
     "execution_count": 276,
     "metadata": {},
     "output_type": "execute_result"
    }
   ],
   "source": [
    "np.where(x1>4)"
   ]
  },
  {
   "cell_type": "code",
   "execution_count": 290,
   "id": "ab6be649-509e-4e90-8ae2-29ea465acfdb",
   "metadata": {},
   "outputs": [
    {
     "data": {
      "text/plain": [
       "(array([0, 0, 1, 1, 1, 2, 2, 2, 2, 3, 3, 3, 4, 4, 4], dtype=int64),\n",
       " array([2, 3, 0, 1, 4, 1, 2, 3, 4, 0, 1, 2, 0, 1, 2], dtype=int64))"
      ]
     },
     "execution_count": 290,
     "metadata": {},
     "output_type": "execute_result"
    }
   ],
   "source": [
    "t1=np.where(x1>4)  # where are the values \n",
    "t1"
   ]
  },
  {
   "cell_type": "code",
   "execution_count": 284,
   "id": "eb693080-5526-4264-badd-4130aea8f229",
   "metadata": {},
   "outputs": [
    {
     "data": {
      "text/plain": [
       "array([5, 6, 8, 9, 8, 5, 6, 5, 7, 5, 6, 7, 5, 6, 7])"
      ]
     },
     "execution_count": 284,
     "metadata": {},
     "output_type": "execute_result"
    }
   ],
   "source": [
    "x1[t1] # what are the values "
   ]
  },
  {
   "cell_type": "code",
   "execution_count": 286,
   "id": "46dcc106-1b1e-45ff-8115-b4add1eb733b",
   "metadata": {},
   "outputs": [
    {
     "data": {
      "text/plain": [
       "2"
      ]
     },
     "execution_count": 286,
     "metadata": {},
     "output_type": "execute_result"
    }
   ],
   "source": [
    "len(t1)"
   ]
  },
  {
   "cell_type": "code",
   "execution_count": 288,
   "id": "12f05775-0874-4b3d-8914-feec02a8ff19",
   "metadata": {},
   "outputs": [
    {
     "data": {
      "text/plain": [
       "15"
      ]
     },
     "execution_count": 288,
     "metadata": {},
     "output_type": "execute_result"
    }
   ],
   "source": [
    "len(t1[0])  # how many values "
   ]
  },
  {
   "cell_type": "code",
   "execution_count": 294,
   "id": "707eb3e3-594c-47f1-a785-1a19f67951f6",
   "metadata": {},
   "outputs": [
    {
     "data": {
      "text/plain": [
       "[3, 4, 5, 3, 4, 5, 3, 4, 5]"
      ]
     },
     "execution_count": 294,
     "metadata": {},
     "output_type": "execute_result"
    }
   ],
   "source": [
    "[3,4,5]*3 #rep(c(3,4,5),times=3)"
   ]
  },
  {
   "cell_type": "code",
   "execution_count": 298,
   "id": "f3d1372f-b66b-423d-8cfb-070ec6e03ebb",
   "metadata": {},
   "outputs": [
    {
     "data": {
      "text/plain": [
       "array([3, 3, 4, 4, 4, 4, 5, 5, 5, 5, 5, 5])"
      ]
     },
     "execution_count": 298,
     "metadata": {},
     "output_type": "execute_result"
    }
   ],
   "source": [
    "np.repeat(np.array([3,4,5]),[2,4,6])  # rep(c(3,4,5),times=(2,4,6))"
   ]
  },
  {
   "cell_type": "code",
   "execution_count": 306,
   "id": "4c712af2-937d-4e25-9dac-767c23beb9ec",
   "metadata": {},
   "outputs": [],
   "source": [
    "x=np.array([5,8,3,6,9,3,2])"
   ]
  },
  {
   "cell_type": "code",
   "execution_count": 308,
   "id": "7c72ef79-d89a-4b54-bc7b-10de52d48ce7",
   "metadata": {},
   "outputs": [],
   "source": [
    "y =np.array([4,3,9,7,3,1])"
   ]
  },
  {
   "cell_type": "code",
   "execution_count": 312,
   "id": "1f53404f-6b76-4181-a04b-8fc22f86e6d2",
   "metadata": {},
   "outputs": [
    {
     "data": {
      "text/plain": [
       "array([3, 9])"
      ]
     },
     "execution_count": 312,
     "metadata": {},
     "output_type": "execute_result"
    }
   ],
   "source": [
    "np.intersect1d(x,y)"
   ]
  },
  {
   "cell_type": "code",
   "execution_count": 318,
   "id": "0a2837be-33b9-4769-b5e8-dce6f46ff42c",
   "metadata": {},
   "outputs": [
    {
     "data": {
      "text/plain": [
       "array([1, 2, 3, 4, 5, 6, 7, 8, 9])"
      ]
     },
     "execution_count": 318,
     "metadata": {},
     "output_type": "execute_result"
    }
   ],
   "source": [
    "np.union1d(x,y)"
   ]
  },
  {
   "cell_type": "code",
   "execution_count": 314,
   "id": "79abf6d9-9951-4fea-b459-25bf2534d056",
   "metadata": {},
   "outputs": [
    {
     "data": {
      "text/plain": [
       "array([False, False,  True, False,  True,  True, False])"
      ]
     },
     "execution_count": 314,
     "metadata": {},
     "output_type": "execute_result"
    }
   ],
   "source": [
    "np.in1d(x,y)"
   ]
  },
  {
   "cell_type": "code",
   "execution_count": 316,
   "id": "0d561ef5-28c3-4788-a8fd-d399b98452e6",
   "metadata": {},
   "outputs": [
    {
     "data": {
      "text/plain": [
       "(array([2, 4, 5], dtype=int64),)"
      ]
     },
     "execution_count": 316,
     "metadata": {},
     "output_type": "execute_result"
    }
   ],
   "source": [
    "np.where(np.in1d(x,y))"
   ]
  },
  {
   "cell_type": "code",
   "execution_count": 320,
   "id": "993aa023-1cff-4487-95f0-c7ed2e346d30",
   "metadata": {},
   "outputs": [
    {
     "data": {
      "text/plain": [
       "array([2, 5, 6, 8])"
      ]
     },
     "execution_count": 320,
     "metadata": {},
     "output_type": "execute_result"
    }
   ],
   "source": [
    "np.setdiff1d(x,y)"
   ]
  },
  {
   "cell_type": "code",
   "execution_count": 322,
   "id": "e618d822-e62d-4029-bc08-e063ce98544c",
   "metadata": {},
   "outputs": [
    {
     "data": {
      "text/plain": [
       "array([1, 4, 7])"
      ]
     },
     "execution_count": 322,
     "metadata": {},
     "output_type": "execute_result"
    }
   ],
   "source": [
    "np.setdiff1d(y,x)"
   ]
  },
  {
   "cell_type": "code",
   "execution_count": 324,
   "id": "c3431f82-39da-4a98-9020-2abd36b43637",
   "metadata": {},
   "outputs": [
    {
     "data": {
      "text/plain": [
       "array([1, 2, 4, 5, 6, 7, 8])"
      ]
     },
     "execution_count": 324,
     "metadata": {},
     "output_type": "execute_result"
    }
   ],
   "source": [
    "np.setxor1d(y,x)"
   ]
  },
  {
   "cell_type": "code",
   "execution_count": 4,
   "id": "8671fa0c-ddf8-413a-acfe-4f592ede4c51",
   "metadata": {},
   "outputs": [],
   "source": [
    "from numpy import random"
   ]
  },
  {
   "cell_type": "code",
   "execution_count": 332,
   "id": "3bde3cfb-2483-46b7-918e-cb65b42289b4",
   "metadata": {},
   "outputs": [],
   "source": [
    "p1=np.random.rand(10)"
   ]
  },
  {
   "cell_type": "code",
   "execution_count": 334,
   "id": "ff08a67b-1a3f-422a-8406-ec5e6c6ec6b7",
   "metadata": {},
   "outputs": [
    {
     "data": {
      "text/plain": [
       "array([0.0230641 , 0.91405784, 0.58832459, 0.47741037, 0.83964798,\n",
       "       0.7605179 , 0.68691282, 0.87886191, 0.3356887 , 0.87955898])"
      ]
     },
     "execution_count": 334,
     "metadata": {},
     "output_type": "execute_result"
    }
   ],
   "source": [
    "p1"
   ]
  },
  {
   "cell_type": "code",
   "execution_count": 336,
   "id": "304f236b-dc10-4de2-ab99-4f8621bf18c0",
   "metadata": {},
   "outputs": [
    {
     "data": {
      "text/plain": [
       "12.434"
      ]
     },
     "execution_count": 336,
     "metadata": {},
     "output_type": "execute_result"
    }
   ],
   "source": [
    "np.round(12.434334,3)"
   ]
  },
  {
   "cell_type": "code",
   "execution_count": 344,
   "id": "c193b045-3435-4218-ae95-e40a49f4ab2c",
   "metadata": {},
   "outputs": [],
   "source": [
    "p1=np.round(np.random.rand(10),3)"
   ]
  },
  {
   "cell_type": "code",
   "execution_count": 340,
   "id": "d4bdc9cc-d69f-41ac-b418-898abcb6c0c7",
   "metadata": {},
   "outputs": [
    {
     "data": {
      "text/plain": [
       "array([0., 0., 0., 0., 0., 0., 0., 1., 0., 0.])"
      ]
     },
     "execution_count": 340,
     "metadata": {},
     "output_type": "execute_result"
    }
   ],
   "source": [
    "p1"
   ]
  },
  {
   "cell_type": "code",
   "execution_count": 346,
   "id": "448b22d7-38d0-4e47-9912-214e00898159",
   "metadata": {},
   "outputs": [],
   "source": [
    "p2=np.random.randint(10,50)"
   ]
  },
  {
   "cell_type": "code",
   "execution_count": 348,
   "id": "0a46c3fa-dac2-4fe8-94b8-edb280e8dab7",
   "metadata": {},
   "outputs": [
    {
     "data": {
      "text/plain": [
       "22"
      ]
     },
     "execution_count": 348,
     "metadata": {},
     "output_type": "execute_result"
    }
   ],
   "source": [
    "p2"
   ]
  },
  {
   "cell_type": "code",
   "execution_count": 350,
   "id": "20e5d9c6-2040-4791-9b11-bb3f4ee5d9f8",
   "metadata": {},
   "outputs": [],
   "source": [
    "p2=np.random.randint(10,50,15)"
   ]
  },
  {
   "cell_type": "code",
   "execution_count": 352,
   "id": "03d8bca6-5ea9-403c-8ad4-51a306118aaa",
   "metadata": {},
   "outputs": [
    {
     "data": {
      "text/plain": [
       "array([14, 12, 48, 11, 41, 26, 34, 11, 37, 13, 24, 42, 45, 39, 33])"
      ]
     },
     "execution_count": 352,
     "metadata": {},
     "output_type": "execute_result"
    }
   ],
   "source": [
    "p2"
   ]
  },
  {
   "cell_type": "code",
   "execution_count": 378,
   "id": "54c692ff-8163-476f-aa5a-b14fedf915f5",
   "metadata": {},
   "outputs": [
    {
     "data": {
      "text/plain": [
       "15"
      ]
     },
     "execution_count": 378,
     "metadata": {},
     "output_type": "execute_result"
    }
   ],
   "source": [
    "len(p2)\n",
    "\n"
   ]
  },
  {
   "cell_type": "code",
   "execution_count": 418,
   "id": "8c2f8b72-1e6a-4482-854d-f7d7256215ba",
   "metadata": {},
   "outputs": [
    {
     "data": {
      "text/plain": [
       "array([89, 64, 98, 92, 63, 83, 95, 87, 63, 65, 87, 67, 71, 66, 94])"
      ]
     },
     "execution_count": 418,
     "metadata": {},
     "output_type": "execute_result"
    }
   ],
   "source": [
    "n=np.round(np.random.randint(60,99,15))\n",
    "n"
   ]
  },
  {
   "cell_type": "code",
   "execution_count": 420,
   "id": "eaa4c7e2-3c04-4780-9a0b-b125dc11e35a",
   "metadata": {},
   "outputs": [
    {
     "data": {
      "text/plain": [
       "array([0.26, 0.15, 0.18, 0.9 , 0.75, 0.08, 0.95, 0.42, 0.07, 0.49, 0.38,\n",
       "       0.94, 0.27, 0.55, 0.95])"
      ]
     },
     "execution_count": 420,
     "metadata": {},
     "output_type": "execute_result"
    }
   ],
   "source": [
    "p2=np.round(np.random.rand(15),2)\n",
    "p2"
   ]
  },
  {
   "cell_type": "code",
   "execution_count": 422,
   "id": "3b8cd2f5-07da-4e33-8ee8-b39086dcf627",
   "metadata": {},
   "outputs": [
    {
     "data": {
      "text/plain": [
       "array([89.26, 64.15, 98.18, 92.9 , 63.75, 83.08, 95.95, 87.42, 63.07,\n",
       "       65.49, 87.38, 67.94, 71.27, 66.55, 94.95])"
      ]
     },
     "execution_count": 422,
     "metadata": {},
     "output_type": "execute_result"
    }
   ],
   "source": [
    "n+p2"
   ]
  },
  {
   "cell_type": "code",
   "execution_count": 6,
   "id": "d53b4709-4d94-459e-ade8-88b9d1b423a8",
   "metadata": {},
   "outputs": [],
   "source": [
    "### \n",
    "from numpy import linalg\n"
   ]
  },
  {
   "cell_type": "code",
   "execution_count": 8,
   "id": "22629a9b-39f3-4b90-b561-a58ed2022d8f",
   "metadata": {},
   "outputs": [],
   "source": [
    "arr1=np.array([[1,0,2],[1,1,1],[2,1,3]])"
   ]
  },
  {
   "cell_type": "code",
   "execution_count": 10,
   "id": "201c3d35-d09a-47d8-ba2b-af853d96445c",
   "metadata": {},
   "outputs": [
    {
     "data": {
      "text/plain": [
       "array([[1, 0, 2],\n",
       "       [1, 1, 1],\n",
       "       [2, 1, 3]])"
      ]
     },
     "execution_count": 10,
     "metadata": {},
     "output_type": "execute_result"
    }
   ],
   "source": [
    "arr1"
   ]
  },
  {
   "cell_type": "code",
   "execution_count": 16,
   "id": "2ee792e9-5d81-4eeb-8ee7-a1049ce2c157",
   "metadata": {},
   "outputs": [
    {
     "data": {
      "text/plain": [
       "0.0"
      ]
     },
     "execution_count": 16,
     "metadata": {},
     "output_type": "execute_result"
    }
   ],
   "source": [
    "np.linalg.det(arr1)"
   ]
  },
  {
   "cell_type": "code",
   "execution_count": 58,
   "id": "8bfbb9f1-330c-4bee-adff-dc560d06c44f",
   "metadata": {},
   "outputs": [
    {
     "data": {
      "text/plain": [
       "array([[4, 1],\n",
       "       [1, 1],\n",
       "       [3, 4]])"
      ]
     },
     "execution_count": 58,
     "metadata": {},
     "output_type": "execute_result"
    }
   ],
   "source": [
    "ar1=np.random.randint(1,5,size=(3,2))\n",
    "ar1"
   ]
  },
  {
   "cell_type": "code",
   "execution_count": 66,
   "id": "d05b95e8-e2d0-4ac3-ae28-ce573da40646",
   "metadata": {},
   "outputs": [
    {
     "data": {
      "text/plain": [
       "array([[3, 2],\n",
       "       [4, 1],\n",
       "       [1, 2]])"
      ]
     },
     "execution_count": 66,
     "metadata": {},
     "output_type": "execute_result"
    }
   ],
   "source": [
    "ar2=np.random.randint(1,5,size=(3,2))\n",
    "ar2"
   ]
  },
  {
   "cell_type": "code",
   "execution_count": 78,
   "id": "c3476a34-a5a3-46f8-b931-a1908493c32b",
   "metadata": {},
   "outputs": [
    {
     "data": {
      "text/plain": [
       "array([[1, 3, 2],\n",
       "       [1, 2, 2]])"
      ]
     },
     "execution_count": 78,
     "metadata": {},
     "output_type": "execute_result"
    }
   ],
   "source": [
    "ar3=np.random.randint(1,5,size=(2,3))\n",
    "ar3\n"
   ]
  },
  {
   "cell_type": "code",
   "execution_count": 72,
   "id": "f2a9e4fc-dc9b-402c-be05-6996d00c7946",
   "metadata": {},
   "outputs": [
    {
     "ename": "ValueError",
     "evalue": "matmul: Input operand 1 has a mismatch in its core dimension 0, with gufunc signature (n?,k),(k,m?)->(n?,m?) (size 3 is different from 2)",
     "output_type": "error",
     "traceback": [
      "\u001b[1;31m---------------------------------------------------------------------------\u001b[0m",
      "\u001b[1;31mValueError\u001b[0m                                Traceback (most recent call last)",
      "Cell \u001b[1;32mIn[72], line 1\u001b[0m\n\u001b[1;32m----> 1\u001b[0m np\u001b[38;5;241m.\u001b[39mmatmul(ar1,ar2)\n",
      "\u001b[1;31mValueError\u001b[0m: matmul: Input operand 1 has a mismatch in its core dimension 0, with gufunc signature (n?,k),(k,m?)->(n?,m?) (size 3 is different from 2)"
     ]
    }
   ],
   "source": [
    "np.matmul(ar1,ar2)   #3x2 X 3x2 = 9  #as column of 1st matrix must be equal to row of 2nd matrix "
   ]
  },
  {
   "cell_type": "code",
   "execution_count": 80,
   "id": "75faef7c-6223-4caf-b359-98bc16ec1101",
   "metadata": {},
   "outputs": [
    {
     "data": {
      "text/plain": [
       "array([[ 5, 14, 10],\n",
       "       [ 2,  5,  4],\n",
       "       [ 7, 17, 14]])"
      ]
     },
     "execution_count": 80,
     "metadata": {},
     "output_type": "execute_result"
    }
   ],
   "source": [
    "np.matmul(ar1,ar3)  "
   ]
  },
  {
   "cell_type": "code",
   "execution_count": 96,
   "id": "bfd39f4f-9728-4bb0-8fe1-bf5e0b26d363",
   "metadata": {},
   "outputs": [],
   "source": [
    "a=np.array([[2,3,1],[0,1,-1],[1,2,-1]])"
   ]
  },
  {
   "cell_type": "code",
   "execution_count": 98,
   "id": "4ffec403-8ae8-4d43-a665-ef02ea67a530",
   "metadata": {},
   "outputs": [],
   "source": [
    "b=np.array([23,-3,3])"
   ]
  },
  {
   "cell_type": "code",
   "execution_count": 100,
   "id": "4548decd-7d6f-49fc-85c9-39f040f02549",
   "metadata": {},
   "outputs": [],
   "source": [
    "b=b.reshape(3,1)"
   ]
  },
  {
   "cell_type": "code",
   "execution_count": 102,
   "id": "b86c7a03-4aeb-4e49-89a7-9cb549e2c873",
   "metadata": {},
   "outputs": [
    {
     "data": {
      "text/plain": [
       "array([[ 2,  3,  1],\n",
       "       [ 0,  1, -1],\n",
       "       [ 1,  2, -1]])"
      ]
     },
     "execution_count": 102,
     "metadata": {},
     "output_type": "execute_result"
    }
   ],
   "source": [
    "a # 3x3\n"
   ]
  },
  {
   "cell_type": "code",
   "execution_count": 104,
   "id": "6771f087-1e55-40d7-8c92-b6d17efc185c",
   "metadata": {},
   "outputs": [
    {
     "data": {
      "text/plain": [
       "array([[23],\n",
       "       [-3],\n",
       "       [ 3]])"
      ]
     },
     "execution_count": 104,
     "metadata": {},
     "output_type": "execute_result"
    }
   ],
   "source": [
    "b #3x1  "
   ]
  },
  {
   "cell_type": "code",
   "execution_count": 108,
   "id": "ada478f2-7fb2-4040-a764-6ae2cc7d52e1",
   "metadata": {},
   "outputs": [],
   "source": [
    "a_inv = np.linalg.inv(a) "
   ]
  },
  {
   "cell_type": "code",
   "execution_count": 110,
   "id": "6ad2f711-3258-4ac5-a015-5b5004faf608",
   "metadata": {},
   "outputs": [
    {
     "data": {
      "text/plain": [
       "array([[-0.5, -2.5,  2. ],\n",
       "       [ 0.5,  1.5, -1. ],\n",
       "       [ 0.5,  0.5, -1. ]])"
      ]
     },
     "execution_count": 110,
     "metadata": {},
     "output_type": "execute_result"
    }
   ],
   "source": [
    "a_inv  # a_inverse is 3x3  x=A^-1   B    A 3x3  B 3x1 "
   ]
  },
  {
   "cell_type": "code",
   "execution_count": 112,
   "id": "b6d01230-cefb-405d-b6c6-280ab30e55d7",
   "metadata": {},
   "outputs": [
    {
     "data": {
      "text/plain": [
       "array([[2.],\n",
       "       [4.],\n",
       "       [7.]])"
      ]
     },
     "execution_count": 112,
     "metadata": {},
     "output_type": "execute_result"
    }
   ],
   "source": [
    "np.matmul(a_inv,b)   # 3x1"
   ]
  },
  {
   "cell_type": "code",
   "execution_count": null,
   "id": "a99a64af-15ad-4807-a84d-93eae4c60f37",
   "metadata": {},
   "outputs": [],
   "source": []
  }
 ],
 "metadata": {
  "kernelspec": {
   "display_name": "Python 3 (ipykernel)",
   "language": "python",
   "name": "python3"
  },
  "language_info": {
   "codemirror_mode": {
    "name": "ipython",
    "version": 3
   },
   "file_extension": ".py",
   "mimetype": "text/x-python",
   "name": "python",
   "nbconvert_exporter": "python",
   "pygments_lexer": "ipython3",
   "version": "3.12.4"
  }
 },
 "nbformat": 4,
 "nbformat_minor": 5
}
