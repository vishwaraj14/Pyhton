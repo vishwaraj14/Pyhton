{
  "nbformat": 4,
  "nbformat_minor": 0,
  "metadata": {
    "colab": {
      "provenance": [],
      "authorship_tag": "ABX9TyNzK69HTv+N3zJHhqCOn3p0",
      "include_colab_link": true
    },
    "kernelspec": {
      "name": "python3",
      "display_name": "Python 3"
    },
    "language_info": {
      "name": "python"
    }
  },
  "cells": [
    {
      "cell_type": "markdown",
      "metadata": {
        "id": "view-in-github",
        "colab_type": "text"
      },
      "source": [
        "<a href=\"https://colab.research.google.com/github/vishwaraj14/Pyhton/blob/main/nysspaksql.ipynb\" target=\"_parent\"><img src=\"https://colab.research.google.com/assets/colab-badge.svg\" alt=\"Open In Colab\"/></a>"
      ]
    },
    {
      "cell_type": "code",
      "execution_count": 1,
      "metadata": {
        "id": "EXHltR8I9eRl"
      },
      "outputs": [],
      "source": [
        "from pyspark.sql.types import StructType, StringType, IntegerType, DoubleType, LongType"
      ]
    },
    {
      "cell_type": "code",
      "source": [
        "from pyspark.sql import SparkSession\n"
      ],
      "metadata": {
        "id": "FJBbP8z-AWGM"
      },
      "execution_count": 25,
      "outputs": []
    },
    {
      "cell_type": "code",
      "source": [
        "spark = SparkSession.builder.appName('myAppName').getOrCreate()\n"
      ],
      "metadata": {
        "id": "FgYFCfBBAZPK"
      },
      "execution_count": 26,
      "outputs": []
    },
    {
      "cell_type": "code",
      "source": [
        "schema_nyse = StructType().add(\"exchange_name\",StringType(),True).add(\"stock_id\",StringType(),True).add(\"stock_dt\",StringType(),True).add(\"open\",DoubleType(),True).add(\"high\",DoubleType(),True).add(\"low\",DoubleType(),True).add(\"close\",DoubleType(),True).add(\"volume\",LongType(),True).add(\"adj_close\",DoubleType(),True)"
      ],
      "metadata": {
        "id": "YbryVuIUAiVY"
      },
      "execution_count": 27,
      "outputs": []
    },
    {
      "cell_type": "code",
      "source": [
        "print(schema_nyse)"
      ],
      "metadata": {
        "colab": {
          "base_uri": "https://localhost:8080/"
        },
        "id": "OGn2fcRKAov2",
        "outputId": "5a97a650-c22b-4244-e197-375ed2367986"
      },
      "execution_count": 28,
      "outputs": [
        {
          "output_type": "stream",
          "name": "stdout",
          "text": [
            "StructType([StructField('exchange_name', StringType(), True), StructField('stock_id', StringType(), True), StructField('stock_dt', StringType(), True), StructField('open', DoubleType(), True), StructField('high', DoubleType(), True), StructField('low', DoubleType(), True), StructField('close', DoubleType(), True), StructField('volume', LongType(), True), StructField('adj_close', DoubleType(), True)])\n"
          ]
        }
      ]
    },
    {
      "cell_type": "code",
      "source": [
        "df_with_schema = spark.read.format(\"csv\").option(\"header\",\"False\").schema(schema_nyse).load(\"/content/NYSE.csv\")"
      ],
      "metadata": {
        "id": "hDoZf06eAtaQ"
      },
      "execution_count": 40,
      "outputs": []
    },
    {
      "cell_type": "code",
      "source": [
        "df_with_schema.printSchema()"
      ],
      "metadata": {
        "colab": {
          "base_uri": "https://localhost:8080/"
        },
        "id": "Z-8aVpysCIRF",
        "outputId": "27bdaeb8-0901-435b-e227-9d9a794a2009"
      },
      "execution_count": 41,
      "outputs": [
        {
          "output_type": "stream",
          "name": "stdout",
          "text": [
            "root\n",
            " |-- exchange_name: string (nullable = true)\n",
            " |-- stock_id: string (nullable = true)\n",
            " |-- stock_dt: string (nullable = true)\n",
            " |-- open: double (nullable = true)\n",
            " |-- high: double (nullable = true)\n",
            " |-- low: double (nullable = true)\n",
            " |-- close: double (nullable = true)\n",
            " |-- volume: long (nullable = true)\n",
            " |-- adj_close: double (nullable = true)\n",
            "\n"
          ]
        }
      ]
    },
    {
      "cell_type": "code",
      "source": [
        "df_with_schema.count()"
      ],
      "metadata": {
        "colab": {
          "base_uri": "https://localhost:8080/"
        },
        "id": "2XJwGxGUDJ1-",
        "outputId": "c2f97fe7-c49c-4a3c-863e-a237297d331b"
      },
      "execution_count": 42,
      "outputs": [
        {
          "output_type": "execute_result",
          "data": {
            "text/plain": [
              "735026"
            ]
          },
          "metadata": {},
          "execution_count": 42
        }
      ]
    },
    {
      "cell_type": "code",
      "source": [
        "df_with_schema.show()"
      ],
      "metadata": {
        "colab": {
          "base_uri": "https://localhost:8080/"
        },
        "id": "_3Aqz4ylDg0C",
        "outputId": "87449ed6-4147-4574-96eb-30740cc6da27"
      },
      "execution_count": 43,
      "outputs": [
        {
          "output_type": "stream",
          "name": "stdout",
          "text": [
            "+-------------+--------+----------+----+----+----+-----+------+---------+\n",
            "|exchange_name|stock_id|  stock_dt|open|high| low|close|volume|adj_close|\n",
            "+-------------+--------+----------+----+----+----+-----+------+---------+\n",
            "|         NYSE|     AEA|2010-02-08|4.42|4.42|4.21| 4.24|205500|     4.24|\n",
            "|         NYSE|     AEA|2010-02-05|4.42|4.54|4.22| 4.41|194300|     4.41|\n",
            "|         NYSE|     AEA|2010-02-04|4.55|4.69|4.39| 4.42|233800|     4.42|\n",
            "|         NYSE|     AEA|2010-02-03|4.65|4.69| 4.5| 4.55|182100|     4.55|\n",
            "|         NYSE|     AEA|2010-02-02|4.74| 5.0|4.62| 4.66|222700|     4.66|\n",
            "|         NYSE|     AEA|2010-02-01|4.84|4.92|4.68| 4.75|194800|     4.75|\n",
            "|         NYSE|     AEA|2010-01-29|4.97|5.05|4.76| 4.83|222900|     4.83|\n",
            "|         NYSE|     AEA|2010-01-28|5.12|5.22|4.81| 4.98|283100|     4.98|\n",
            "|         NYSE|     AEA|2010-01-27|4.82|5.16|4.79| 5.09|243500|     5.09|\n",
            "|         NYSE|     AEA|2010-01-26|5.18|5.18|4.81| 4.84|554800|     4.84|\n",
            "|         NYSE|     AEA|2010-01-25|5.42|5.48| 5.2| 5.22|257300|     5.22|\n",
            "|         NYSE|     AEA|2010-01-22|5.52|5.59|5.31| 5.37|260800|     5.37|\n",
            "|         NYSE|     AEA|2010-01-21|5.67|5.74|5.37| 5.51|264300|     5.51|\n",
            "|         NYSE|     AEA|2010-01-20|5.65| 5.7|5.53| 5.66|244600|     5.66|\n",
            "|         NYSE|     AEA|2010-01-19|5.54| 5.7|5.54| 5.69|368000|     5.69|\n",
            "|         NYSE|     AEA|2010-01-15|5.48|5.55|5.33| 5.54|435500|     5.54|\n",
            "|         NYSE|     AEA|2010-01-14|5.41| 5.5|5.39| 5.41|272200|     5.41|\n",
            "|         NYSE|     AEA|2010-01-13| 5.5| 5.5|5.41| 5.45|176400|     5.45|\n",
            "|         NYSE|     AEA|2010-01-12|5.47|5.51|5.41| 5.46|233100|     5.46|\n",
            "|         NYSE|     AEA|2010-01-11|5.64|5.64|5.49| 5.55|178900|     5.55|\n",
            "+-------------+--------+----------+----+----+----+-----+------+---------+\n",
            "only showing top 20 rows\n",
            "\n"
          ]
        }
      ]
    },
    {
      "cell_type": "code",
      "source": [
        "df_with_schema.registerTempTable(\"nyse\")"
      ],
      "metadata": {
        "colab": {
          "base_uri": "https://localhost:8080/"
        },
        "id": "YabQhWYkEMVI",
        "outputId": "87ac9372-1395-4e6e-94d8-50638eebf7ce"
      },
      "execution_count": 44,
      "outputs": [
        {
          "output_type": "stream",
          "name": "stderr",
          "text": [
            "/usr/local/lib/python3.10/dist-packages/pyspark/sql/dataframe.py:329: FutureWarning: Deprecated in 2.0, use createOrReplaceTempView instead.\n",
            "  warnings.warn(\"Deprecated in 2.0, use createOrReplaceTempView instead.\", FutureWarning)\n"
          ]
        }
      ]
    },
    {
      "cell_type": "code",
      "source": [
        "\n",
        "df_StockVol = spark.sql(\"select stock_id, sum(volume) from nyse group by stock_id\")\n"
      ],
      "metadata": {
        "id": "7pgh4IM_G3or"
      },
      "execution_count": 45,
      "outputs": []
    },
    {
      "cell_type": "code",
      "source": [
        "df_StockVol.count()"
      ],
      "metadata": {
        "colab": {
          "base_uri": "https://localhost:8080/"
        },
        "id": "4PXg1hjRG5YO",
        "outputId": "bd388de0-ee8a-4bbf-dfd7-12b0e0859562"
      },
      "execution_count": 46,
      "outputs": [
        {
          "output_type": "execute_result",
          "data": {
            "text/plain": [
              "203"
            ]
          },
          "metadata": {},
          "execution_count": 46
        }
      ]
    },
    {
      "cell_type": "code",
      "source": [
        "df_StockVol.show()"
      ],
      "metadata": {
        "colab": {
          "base_uri": "https://localhost:8080/"
        },
        "id": "24P6cw4KHErc",
        "outputId": "b521c0c4-e6b2-415f-ee55-e4ce1883cd50"
      },
      "execution_count": 47,
      "outputs": [
        {
          "output_type": "stream",
          "name": "stdout",
          "text": [
            "+--------+-----------+\n",
            "|stock_id|sum(volume)|\n",
            "+--------+-----------+\n",
            "|     AXP|40263020300|\n",
            "|     AAV|  834246600|\n",
            "|     ARM| 2087366800|\n",
            "|     ASH| 2717488700|\n",
            "|     AEB|   53273300|\n",
            "|     ALE|  465167800|\n",
            "|     ACH| 1448279800|\n",
            "|     ASF|  848352700|\n",
            "|     ABK|11899868300|\n",
            "|     ATU| 1226088700|\n",
            "|      AM| 2963437400|\n",
            "|      AA|42061448400|\n",
            "|     ALL|11492379500|\n",
            "|     ADI|14597316000|\n",
            "|     AKP|   34156700|\n",
            "|     ARK|  408851300|\n",
            "|     ANN| 4892554900|\n",
            "|     ABM|  675519400|\n",
            "|     AOS|  601422200|\n",
            "|     ABX|16691172100|\n",
            "+--------+-----------+\n",
            "only showing top 20 rows\n",
            "\n"
          ]
        }
      ]
    },
    {
      "cell_type": "code",
      "source": [
        "df_StockVol.rdd.getNumPartitions()"
      ],
      "metadata": {
        "colab": {
          "base_uri": "https://localhost:8080/"
        },
        "id": "Vw93ZTXSHLSM",
        "outputId": "068c5926-70eb-44df-e970-c3e67917ce14"
      },
      "execution_count": 48,
      "outputs": [
        {
          "output_type": "execute_result",
          "data": {
            "text/plain": [
              "1"
            ]
          },
          "metadata": {},
          "execution_count": 48
        }
      ]
    },
    {
      "cell_type": "code",
      "source": [
        "# df_new = df_StockVol.repartition(1)\n",
        "df_StockVol.write.csv(\"/content/pyspark8\")\n"
      ],
      "metadata": {
        "id": "jNTiq7MHHXd4"
      },
      "execution_count": 53,
      "outputs": []
    },
    {
      "cell_type": "code",
      "source": [
        "for line in df_StockVol.collect():\n",
        "  print(line)"
      ],
      "metadata": {
        "colab": {
          "base_uri": "https://localhost:8080/"
        },
        "id": "RtuQQFPCHrEu",
        "outputId": "0ecbd929-cdff-409a-ff9f-350f6c1ec348"
      },
      "execution_count": 55,
      "outputs": [
        {
          "output_type": "stream",
          "name": "stdout",
          "text": [
            "Row(stock_id='AXP', sum(volume)=40263020300)\n",
            "Row(stock_id='AAV', sum(volume)=834246600)\n",
            "Row(stock_id='ARM', sum(volume)=2087366800)\n",
            "Row(stock_id='ASH', sum(volume)=2717488700)\n",
            "Row(stock_id='AEB', sum(volume)=53273300)\n",
            "Row(stock_id='ALE', sum(volume)=465167800)\n",
            "Row(stock_id='ACH', sum(volume)=1448279800)\n",
            "Row(stock_id='ASF', sum(volume)=848352700)\n",
            "Row(stock_id='ABK', sum(volume)=11899868300)\n",
            "Row(stock_id='ATU', sum(volume)=1226088700)\n",
            "Row(stock_id='AM', sum(volume)=2963437400)\n",
            "Row(stock_id='AA', sum(volume)=42061448400)\n",
            "Row(stock_id='ALL', sum(volume)=11492379500)\n",
            "Row(stock_id='ADI', sum(volume)=14597316000)\n",
            "Row(stock_id='AKP', sum(volume)=34156700)\n",
            "Row(stock_id='ARK', sum(volume)=408851300)\n",
            "Row(stock_id='ANN', sum(volume)=4892554900)\n",
            "Row(stock_id='ABM', sum(volume)=675519400)\n",
            "Row(stock_id='AOS', sum(volume)=601422200)\n",
            "Row(stock_id='ABX', sum(volume)=16691172100)\n",
            "Row(stock_id='ADX', sum(volume)=323399200)\n",
            "Row(stock_id='ATE', sum(volume)=38969400)\n",
            "Row(stock_id='ACO', sum(volume)=519620500)\n",
            "Row(stock_id='AGD', sum(volume)=100765300)\n",
            "Row(stock_id='ACC', sum(volume)=495415800)\n",
            "Row(stock_id='ARE', sum(volume)=759981300)\n",
            "Row(stock_id='AIG', sum(volume)=7062693700)\n",
            "Row(stock_id='APH', sum(volume)=3807963100)\n",
            "Row(stock_id='AAP', sum(volume)=2802701500)\n",
            "Row(stock_id='ADM', sum(volume)=15354593500)\n",
            "Row(stock_id='AFG', sum(volume)=1815621200)\n",
            "Row(stock_id='AU', sum(volume)=3143678800)\n",
            "Row(stock_id='AOL', sum(volume)=147580700)\n",
            "Row(stock_id='AVB', sum(volume)=1870368200)\n",
            "Row(stock_id='AZN', sum(volume)=3418077300)\n",
            "Row(stock_id='AIZ', sum(volume)=1676102800)\n",
            "Row(stock_id='AHC', sum(volume)=78301600)\n",
            "Row(stock_id='APC', sum(volume)=15555731900)\n",
            "Row(stock_id='ANW', sum(volume)=327122100)\n",
            "Row(stock_id='APL', sum(volume)=364876100)\n",
            "Row(stock_id='AVT', sum(volume)=3427089600)\n",
            "Row(stock_id='AHD', sum(volume)=102449600)\n",
            "Row(stock_id='AIN', sum(volume)=609794300)\n",
            "Row(stock_id='ACM', sum(volume)=699547300)\n",
            "Row(stock_id='AEM', sum(volume)=4338054800)\n",
            "Row(stock_id='AYN', sum(volume)=17421600)\n",
            "Row(stock_id='ABG', sum(volume)=458850900)\n",
            "Row(stock_id='ACF', sum(volume)=5453798000)\n",
            "Row(stock_id='AVD', sum(volume)=227437900)\n",
            "Row(stock_id='ANF', sum(volume)=6513209000)\n",
            "Row(stock_id='ANR', sum(volume)=2846725700)\n",
            "Row(stock_id='AIB', sum(volume)=1208134500)\n",
            "Row(stock_id='ARO', sum(volume)=4092001300)\n",
            "Row(stock_id='ATV', sum(volume)=69038900)\n",
            "Row(stock_id='AWK', sum(volume)=449445900)\n",
            "Row(stock_id='AAI', sum(volume)=5246821400)\n",
            "Row(stock_id='AHT', sum(volume)=1060047600)\n",
            "Row(stock_id='ART', sum(volume)=42012600)\n",
            "Row(stock_id='ALV', sum(volume)=1339964100)\n",
            "Row(stock_id='APF', sum(volume)=499342800)\n",
            "Row(stock_id='ATO', sum(volume)=873201100)\n",
            "Row(stock_id='AWF', sum(volume)=790875600)\n",
            "Row(stock_id='ATR', sum(volume)=874445500)\n",
            "Row(stock_id='ABV', sum(volume)=1579314800)\n",
            "Row(stock_id='AHL', sum(volume)=794405100)\n",
            "Row(stock_id='AAN', sum(volume)=817567400)\n",
            "Row(stock_id='AEA', sum(volume)=483117300)\n",
            "Row(stock_id='AIT', sum(volume)=842036900)\n",
            "Row(stock_id='AMP', sum(volume)=2564267600)\n",
            "Row(stock_id='ACI', sum(volume)=7219904300)\n",
            "Row(stock_id='ANH', sum(volume)=1407062000)\n",
            "Row(stock_id='AB', sum(volume)=1125446300)\n",
            "Row(stock_id='AVK', sum(volume)=123961500)\n",
            "Row(stock_id='AMG', sum(volume)=1377892200)\n",
            "Row(stock_id='AEO', sum(volume)=14731442100)\n",
            "Row(stock_id='ALZ', sum(volume)=19964700)\n",
            "Row(stock_id='AEL', sum(volume)=683272700)\n",
            "Row(stock_id='ARG', sum(volume)=1713739100)\n",
            "Row(stock_id='AFF', sum(volume)=87791300)\n",
            "Row(stock_id='AMX', sum(volume)=11000819500)\n",
            "Row(stock_id='AOD', sum(volume)=538957600)\n",
            "Row(stock_id='ASI', sum(volume)=58295700)\n",
            "Row(stock_id='ASA', sum(volume)=674549000)\n",
            "Row(stock_id='ABB', sum(volume)=4532301800)\n",
            "Row(stock_id='AXE', sum(volume)=1503508400)\n",
            "Row(stock_id='ADY', sum(volume)=93691400)\n",
            "Row(stock_id='AHS', sum(volume)=615786600)\n",
            "Row(stock_id='ALQ', sum(volume)=8098900)\n",
            "Row(stock_id='AVP', sum(volume)=20750196700)\n",
            "Row(stock_id='ALD', sum(volume)=2556923500)\n",
            "Row(stock_id='ATT', sum(volume)=99347600)\n",
            "Row(stock_id='APD', sum(volume)=5601186900)\n",
            "Row(stock_id='AFE', sum(volume)=10805200)\n",
            "Row(stock_id='AWH', sum(volume)=241105700)\n",
            "Row(stock_id='AKT', sum(volume)=41654000)\n",
            "Row(stock_id='AFB', sum(volume)=98894100)\n",
            "Row(stock_id='ASP', sum(volume)=42257700)\n",
            "Row(stock_id='ARD', sum(volume)=691227500)\n",
            "Row(stock_id='AN', sum(volume)=6153959200)\n",
            "Row(stock_id='APB', sum(volume)=270705600)\n",
            "Row(stock_id='AEE', sum(volume)=2402481500)\n",
            "Row(stock_id='AGM', sum(volume)=270396200)\n",
            "Row(stock_id='ALK', sum(volume)=1800717700)\n",
            "Row(stock_id='AMR', sum(volume)=22505621700)\n",
            "Row(stock_id='AEG', sum(volume)=1753381400)\n",
            "Row(stock_id='AP', sum(volume)=158385300)\n",
            "Row(stock_id='AVA', sum(volume)=990505000)\n",
            "Row(stock_id='ASG', sum(volume)=239830100)\n",
            "Row(stock_id='AKF', sum(volume)=49757200)\n",
            "Row(stock_id='ACE', sum(volume)=5224896200)\n",
            "Row(stock_id='APX', sum(volume)=140637400)\n",
            "Row(stock_id='AIV', sum(volume)=2922335500)\n",
            "Row(stock_id='AVY', sum(volume)=2597060500)\n",
            "Row(stock_id='AVX', sum(volume)=1347876500)\n",
            "Row(stock_id='ARL', sum(volume)=46445200)\n",
            "Row(stock_id='AOB', sum(volume)=1597133000)\n",
            "Row(stock_id='ABA', sum(volume)=11686500)\n",
            "Row(stock_id='ALG', sum(volume)=64657600)\n",
            "Row(stock_id='AXA', sum(volume)=1240615500)\n",
            "Row(stock_id='ACS', sum(volume)=3425004600)\n",
            "Row(stock_id='ARB', sum(volume)=502288800)\n",
            "Row(stock_id='AZZ', sum(volume)=323604700)\n",
            "Row(stock_id='AEF', sum(volume)=71458600)\n",
            "Row(stock_id='AGN', sum(volume)=7391686500)\n",
            "Row(stock_id='AMB', sum(volume)=2093952900)\n",
            "Row(stock_id='ABD', sum(volume)=469354400)\n",
            "Row(stock_id='AER', sum(volume)=346989800)\n",
            "Row(stock_id='AV', sum(volume)=2295800)\n",
            "Row(stock_id='ALU', sum(volume)=12804053900)\n",
            "Row(stock_id='AGU', sum(volume)=3564417500)\n",
            "Row(stock_id='AIR', sum(volume)=1041626000)\n",
            "Row(stock_id='ALX', sum(volume)=41840100)\n",
            "Row(stock_id='ARP', sum(volume)=382744400)\n",
            "Row(stock_id='ACN', sum(volume)=6578886300)\n",
            "Row(stock_id='AFL', sum(volume)=8624168700)\n",
            "Row(stock_id='AEC', sum(volume)=291003000)\n",
            "Row(stock_id='AEH', sum(volume)=113363800)\n",
            "Row(stock_id='AME', sum(volume)=1858864400)\n",
            "Row(stock_id='ASR', sum(volume)=241465300)\n",
            "Row(stock_id='ALY', sum(volume)=480412000)\n",
            "Row(stock_id='ADP', sum(volume)=11358284900)\n",
            "Row(stock_id='AFC', sum(volume)=20584200)\n",
            "Row(stock_id='ATW', sum(volume)=2650897000)\n",
            "Row(stock_id='AEV', sum(volume)=54542900)\n",
            "Row(stock_id='AED', sum(volume)=69436400)\n",
            "Row(stock_id='AMT', sum(volume)=6785453000)\n",
            "Row(stock_id='ALC', sum(volume)=64387900)\n",
            "Row(stock_id='AGL', sum(volume)=1050227500)\n",
            "Row(stock_id='ALEX', sum(volume)=104640400)\n",
            "Row(stock_id='AES', sum(volume)=11884945300)\n",
            "Row(stock_id='AYE', sum(volume)=4285531900)\n",
            "Row(stock_id='AXL', sum(volume)=2904393700)\n",
            "Row(stock_id='AKR', sum(volume)=430730400)\n",
            "Row(stock_id='AI', sum(volume)=133066800)\n",
            "Row(stock_id='AGCO', sum(volume)=3699642100)\n",
            "Row(stock_id='ALB', sum(volume)=1575714100)\n",
            "Row(stock_id='AKS', sum(volume)=7720966200)\n",
            "Row(stock_id='ARI', sum(volume)=13758200)\n",
            "Row(stock_id='AYI', sum(volume)=715313300)\n",
            "Row(stock_id='ALF', sum(volume)=12404300)\n",
            "Row(stock_id='AEP', sum(volume)=7175043900)\n",
            "Row(stock_id='ADS', sum(volume)=2098398000)\n",
            "Row(stock_id='AUO', sum(volume)=4642900600)\n",
            "Row(stock_id='ACV', sum(volume)=1668185800)\n",
            "Row(stock_id='AON', sum(volume)=5817971400)\n",
            "Row(stock_id='AWR', sum(volume)=213545100)\n",
            "Row(stock_id='AWP', sum(volume)=285215800)\n",
            "Row(stock_id='APA', sum(volume)=11482389600)\n",
            "Row(stock_id='ABR', sum(volume)=268351700)\n",
            "Row(stock_id='AYR', sum(volume)=472431800)\n",
            "Row(stock_id='AMN', sum(volume)=192500700)\n",
            "Row(stock_id='AMD', sum(volume)=47252808500)\n",
            "Row(stock_id='AET', sum(volume)=30218027200)\n",
            "Row(stock_id='APU', sum(volume)=224190500)\n",
            "Row(stock_id='AFN', sum(volume)=601246500)\n",
            "Row(stock_id='AGC', sum(volume)=78965000)\n",
            "Row(stock_id='AOI', sum(volume)=997663000)\n",
            "Row(stock_id='ADC', sum(volume)=84477600)\n",
            "Row(stock_id='ARW', sum(volume)=2958506000)\n",
            "Row(stock_id='AAR', sum(volume)=49882000)\n",
            "Row(stock_id='ABVT', sum(volume)=49839000)\n",
            "Row(stock_id='AXS', sum(volume)=1236174900)\n",
            "Row(stock_id='ABT', sum(volume)=25664130200)\n",
            "Row(stock_id='AWI', sum(volume)=246435700)\n",
            "Row(stock_id='ATI', sum(volume)=3633566200)\n",
            "Row(stock_id='AJG', sum(volume)=1741323700)\n",
            "Row(stock_id='ALM', sum(volume)=20421200)\n",
            "Row(stock_id='ACL', sum(volume)=1176516200)\n",
            "Row(stock_id='AGO', sum(volume)=1356870600)\n",
            "Row(stock_id='ARJ', sum(volume)=289810600)\n",
            "Row(stock_id='ACG', sum(volume)=1481168200)\n",
            "Row(stock_id='AXR', sum(volume)=107629900)\n",
            "Row(stock_id='ATK', sum(volume)=933991800)\n",
            "Row(stock_id='ASX', sum(volume)=1045139800)\n",
            "Row(stock_id='ALJ', sum(volume)=428456900)\n",
            "Row(stock_id='ABC', sum(volume)=11439581700)\n",
            "Row(stock_id='AGP', sum(volume)=1425712200)\n",
            "Row(stock_id='AZO', sum(volume)=3366821200)\n",
            "Row(stock_id='AUY', sum(volume)=11034706100)\n",
            "Row(stock_id='AWC', sum(volume)=259152600)\n",
            "Row(stock_id='AVF', sum(volume)=129141600)\n",
            "Row(stock_id='AIQ', sum(volume)=387333900)\n",
            "Row(stock_id='AF', sum(volume)=2789196400)\n"
          ]
        }
      ]
    },
    {
      "cell_type": "code",
      "source": [],
      "metadata": {
        "id": "SI9B3nXLJN0R"
      },
      "execution_count": null,
      "outputs": []
    }
  ]
}